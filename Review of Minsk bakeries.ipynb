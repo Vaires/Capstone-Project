{
 "cells": [
  {
   "cell_type": "markdown",
   "metadata": {},
   "source": [
    "## This notebook is belong to my research bakeries of Minsk"
   ]
  },
  {
   "cell_type": "code",
   "execution_count": 2,
   "metadata": {
    "ExecuteTime": {
     "end_time": "2020-07-09T18:36:02.472005Z",
     "start_time": "2020-07-09T18:36:02.468043Z"
    }
   },
   "outputs": [],
   "source": [
    "# !pip install geopy\n",
    "# !pip install folium\n",
    "# !pip install transliterate"
   ]
  },
  {
   "cell_type": "code",
   "execution_count": 3,
   "metadata": {
    "ExecuteTime": {
     "end_time": "2020-07-09T18:36:19.920688Z",
     "start_time": "2020-07-09T18:36:02.931459Z"
    }
   },
   "outputs": [],
   "source": [
    "import numpy as np\n",
    "import pandas as pd\n",
    "from geopy.geocoders import Nominatim\n",
    "from geopy.distance import geodesic\n",
    "import folium\n",
    "import json\n",
    "from pandas.io.json import json_normalize\n",
    "import requests\n",
    "from sklearn.cluster import KMeans\n",
    "import matplotlib.cm as cm\n",
    "import matplotlib.colors as colors\n",
    "import plotly.express as px\n",
    "import plotly.graph_objects as go\n",
    "from transliterate import translit"
   ]
  },
  {
   "cell_type": "markdown",
   "metadata": {},
   "source": [
    "### Introduction"
   ]
  },
  {
   "cell_type": "markdown",
   "metadata": {},
   "source": [
    "    When I was looking about topics of researches I really want to use my native town at this task and I chose the topic \"Which Minsk district really need more bakeries?\". \n",
    "    This topic I decided to research also because I really like morning's croissant with fresh coffee and the same time I'm planning to move and I'll know which district have enough it now.  "
   ]
  },
  {
   "cell_type": "markdown",
   "metadata": {},
   "source": [
    "##### Target audience of this research:\n",
    "    It's definitely people who interested in opening bakery and looking for district to open place. In my mind this person should consider how many bakeries Minsk has now and how peoples rated it. Opening hours in my opinion also important because I and my colleagues and friends really likes to buy fresh croissant and morning coffee when we're going to work. "
   ]
  },
  {
   "cell_type": "markdown",
   "metadata": {},
   "source": [
    "##### Plan of my research:\n",
    "    1. Download the data – this part is concluding creating of data frame with information about districts of Minsk and it coordinates. \n",
    "    2. Using API Foursquare I should to know id of bakeries category for searching all company  this type and full their information. *\n",
    "    3. Join all data into one data frame including information about each company and it’s district. \n",
    "    4. Deleting duplicate rows, transforming columns.\n",
    "    5. Analyze it and appending on map. \n",
    "    6. Using K-Means create model and fit it on data frame. \n",
    "    7. Give a conclusion.  \n",
    "    \n",
    " \n",
    "    * Because the free part of API service is limited by calls."
   ]
  },
  {
   "cell_type": "markdown",
   "metadata": {},
   "source": [
    "### Data "
   ]
  },
  {
   "cell_type": "markdown",
   "metadata": {},
   "source": [
    "##### Data description of research:\n",
    "    Open source data about Minsk districts from yandex map.\n",
    "    API foursquare to find all bakeries of Minsk.    "
   ]
  },
  {
   "cell_type": "markdown",
   "metadata": {},
   "source": [
    "### Methodology section"
   ]
  },
  {
   "cell_type": "markdown",
   "metadata": {},
   "source": [
    "    Here we become to adding the main data about our research including list of bakeries and information about every place which we'll be analysing. \n",
    "    I will use pandas library and it's methods to analysing the data. And also I'll use K-means technique to separate my data to different clusters."
   ]
  },
  {
   "cell_type": "markdown",
   "metadata": {},
   "source": [
    "    Using libraries: pandas, numpy, requests, json, geodesic, translit etc.\n",
    "    Machine learning techniques: K-means for clustering data."
   ]
  },
  {
   "cell_type": "markdown",
   "metadata": {},
   "source": [
    "##### Add Minsk and its districts"
   ]
  },
  {
   "cell_type": "code",
   "execution_count": 4,
   "metadata": {
    "ExecuteTime": {
     "end_time": "2020-07-09T18:36:44.512092Z",
     "start_time": "2020-07-09T18:36:42.817852Z"
    }
   },
   "outputs": [
    {
     "name": "stdout",
     "output_type": "stream",
     "text": [
      "The geograpical coordinate of Minsk are 53.902334, 27.5618791.\n"
     ]
    },
    {
     "data": {
      "text/html": [
       "<div>\n",
       "<style scoped>\n",
       "    .dataframe tbody tr th:only-of-type {\n",
       "        vertical-align: middle;\n",
       "    }\n",
       "\n",
       "    .dataframe tbody tr th {\n",
       "        vertical-align: top;\n",
       "    }\n",
       "\n",
       "    .dataframe thead th {\n",
       "        text-align: right;\n",
       "    }\n",
       "</style>\n",
       "<table border=\"1\" class=\"dataframe\">\n",
       "  <thead>\n",
       "    <tr style=\"text-align: right;\">\n",
       "      <th></th>\n",
       "      <th>district</th>\n",
       "      <th>dist_lat</th>\n",
       "      <th>dist_lng</th>\n",
       "    </tr>\n",
       "  </thead>\n",
       "  <tbody>\n",
       "    <tr>\n",
       "      <th>0</th>\n",
       "      <td>Центральный район</td>\n",
       "      <td>53.935766</td>\n",
       "      <td>27.521649</td>\n",
       "    </tr>\n",
       "    <tr>\n",
       "      <th>1</th>\n",
       "      <td>Советский район</td>\n",
       "      <td>53.940933</td>\n",
       "      <td>27.585951</td>\n",
       "    </tr>\n",
       "    <tr>\n",
       "      <th>2</th>\n",
       "      <td>Первомайский район</td>\n",
       "      <td>53.940165</td>\n",
       "      <td>27.646695</td>\n",
       "    </tr>\n",
       "    <tr>\n",
       "      <th>3</th>\n",
       "      <td>Партизанский район</td>\n",
       "      <td>53.902873</td>\n",
       "      <td>27.634289</td>\n",
       "    </tr>\n",
       "    <tr>\n",
       "      <th>4</th>\n",
       "      <td>Заводской район</td>\n",
       "      <td>53.869370</td>\n",
       "      <td>27.647405</td>\n",
       "    </tr>\n",
       "    <tr>\n",
       "      <th>5</th>\n",
       "      <td>Ленинский район</td>\n",
       "      <td>53.859626</td>\n",
       "      <td>27.585654</td>\n",
       "    </tr>\n",
       "    <tr>\n",
       "      <th>6</th>\n",
       "      <td>Фрунзенский район</td>\n",
       "      <td>53.906236</td>\n",
       "      <td>27.453907</td>\n",
       "    </tr>\n",
       "    <tr>\n",
       "      <th>7</th>\n",
       "      <td>Октябрьский район</td>\n",
       "      <td>53.858930</td>\n",
       "      <td>27.538223</td>\n",
       "    </tr>\n",
       "    <tr>\n",
       "      <th>8</th>\n",
       "      <td>Московский район</td>\n",
       "      <td>53.871021</td>\n",
       "      <td>27.492966</td>\n",
       "    </tr>\n",
       "  </tbody>\n",
       "</table>\n",
       "</div>"
      ],
      "text/plain": [
       "             district   dist_lat   dist_lng\n",
       "0   Центральный район  53.935766  27.521649\n",
       "1     Советский район  53.940933  27.585951\n",
       "2  Первомайский район  53.940165  27.646695\n",
       "3  Партизанский район  53.902873  27.634289\n",
       "4     Заводской район  53.869370  27.647405\n",
       "5     Ленинский район  53.859626  27.585654\n",
       "6   Фрунзенский район  53.906236  27.453907\n",
       "7   Октябрьский район  53.858930  27.538223\n",
       "8    Московский район  53.871021  27.492966"
      ]
     },
     "execution_count": 4,
     "metadata": {},
     "output_type": "execute_result"
    }
   ],
   "source": [
    "address = 'Minsk, Belarus'\n",
    "\n",
    "geolocator = Nominatim(user_agent=\"ny_explorer\")\n",
    "location = geolocator.geocode(address)\n",
    "latitude = location.latitude\n",
    "longitude = location.longitude\n",
    "print('The geograpical coordinate of Minsk are {}, {}.'.format(latitude, longitude))\n",
    "\n",
    "minsk_districts = [\n",
    "     ['Центральный район', 53.935766, 27.521649],\n",
    "     ['Советский район', 53.940933, 27.585951], \n",
    "     ['Первомайский район', 53.940165, 27.646695],\n",
    "     ['Партизанский район', 53.902873, 27.634289],\n",
    "     ['Заводской район', 53.869370, 27.647405],\n",
    "     ['Ленинский район', 53.859626, 27.585654],\n",
    "     ['Фрунзенский район', 53.906236, 27.453907],\n",
    "     ['Октябрьский район', 53.858930, 27.538223],\n",
    "     ['Московский район', 53.871021, 27.492966],\n",
    "]\n",
    "minsk_districts_df = pd.DataFrame(minsk_districts, columns = ['district','dist_lat','dist_lng' ])\n",
    "minsk_districts_df"
   ]
  },
  {
   "cell_type": "markdown",
   "metadata": {},
   "source": [
    "##### Create a map of Minsk with districts superimposed on top"
   ]
  },
  {
   "cell_type": "code",
   "execution_count": 37,
   "metadata": {
    "ExecuteTime": {
     "end_time": "2020-07-10T07:18:47.225389Z",
     "start_time": "2020-07-10T07:18:46.832315Z"
    }
   },
   "outputs": [
    {
     "data": {
      "text/html": [
       "<div style=\"width:100%;\"><div style=\"position:relative;width:100%;height:0;padding-bottom:60%;\"><span style=\"color:#565656\">Make this Notebook Trusted to load map: File -> Trust Notebook</span><iframe src=\"about:blank\" style=\"position:absolute;width:100%;height:100%;left:0;top:0;border:none !important;\" data-html=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 onload=\"this.contentDocument.open();this.contentDocument.write(atob(this.getAttribute('data-html')));this.contentDocument.close();\" allowfullscreen webkitallowfullscreen mozallowfullscreen></iframe></div></div>"
      ],
      "text/plain": [
       "<folium.folium.Map at 0x1b3ca84d438>"
      ]
     },
     "execution_count": 37,
     "metadata": {},
     "output_type": "execute_result"
    }
   ],
   "source": [
    "# create map of Minsk using latitude and longitude values\n",
    "map_minsk = folium.Map(location=[latitude, longitude], zoom_start=10)\n",
    "\n",
    "\n",
    "# add markers to map\n",
    "for lat, lng, name in zip(minsk_districts_df['dist_lat'], minsk_districts_df['dist_lng'], minsk_districts_df['district']):\n",
    "    label = '{}'.format(name)\n",
    "    label = folium.Popup(label, parse_html=True)\n",
    "    folium.CircleMarker(\n",
    "        [lat, lng],\n",
    "        radius=5,\n",
    "        popup=label,\n",
    "        color='red',\n",
    "        fill=True,\n",
    "        fill_color='#FF1818',\n",
    "        fill_opacity=0.9,\n",
    "        parse_html=False).add_to(map_minsk)  \n",
    "    \n",
    "map_minsk"
   ]
  },
  {
   "cell_type": "markdown",
   "metadata": {},
   "source": [
    "##### Connecting API  Foursquare"
   ]
  },
  {
   "cell_type": "code",
   "execution_count": 18,
   "metadata": {
    "ExecuteTime": {
     "end_time": "2020-07-09T18:42:00.872405Z",
     "start_time": "2020-07-09T18:42:00.868375Z"
    }
   },
   "outputs": [
    {
     "name": "stdout",
     "output_type": "stream",
     "text": [
      "Your credentails:\n",
      "CLIENT_ID: ZHOP3QTSLXALEWARFJW44311ULGDBQCZHSASBS52XKCPLXHW\n",
      "CLIENT_SECRET:D1XBVOX34ISMLWKH5UDKFQIJPCHBKYHQOFORO50K0G5ZHOMX\n"
     ]
    }
   ],
   "source": [
    "CLIENT_ID = '*****' \n",
    "CLIENT_SECRET = '********' \n",
    "VERSION = '20180605' "
   ]
  },
  {
   "cell_type": "markdown",
   "metadata": {},
   "source": [
    "##### Getting category for our research"
   ]
  },
  {
   "cell_type": "code",
   "execution_count": 7,
   "metadata": {
    "ExecuteTime": {
     "end_time": "2020-07-09T18:37:59.462873Z",
     "start_time": "2020-07-09T18:37:59.458851Z"
    }
   },
   "outputs": [],
   "source": [
    "url = 'https://api.foursquare.com/v2/venues/categories?&client_id={}&client_secret={}&v={}'.format(\n",
    "    CLIENT_ID, \n",
    "    CLIENT_SECRET, \n",
    "    VERSION)"
   ]
  },
  {
   "cell_type": "code",
   "execution_count": 8,
   "metadata": {
    "ExecuteTime": {
     "end_time": "2020-07-09T18:38:01.967777Z",
     "start_time": "2020-07-09T18:38:01.471617Z"
    }
   },
   "outputs": [
    {
     "data": {
      "text/html": [
       "<div>\n",
       "<style scoped>\n",
       "    .dataframe tbody tr th:only-of-type {\n",
       "        vertical-align: middle;\n",
       "    }\n",
       "\n",
       "    .dataframe tbody tr th {\n",
       "        vertical-align: top;\n",
       "    }\n",
       "\n",
       "    .dataframe thead th {\n",
       "        text-align: right;\n",
       "    }\n",
       "</style>\n",
       "<table border=\"1\" class=\"dataframe\">\n",
       "  <thead>\n",
       "    <tr style=\"text-align: right;\">\n",
       "      <th></th>\n",
       "      <th>id</th>\n",
       "      <th>name</th>\n",
       "      <th>pluralName</th>\n",
       "      <th>shortName</th>\n",
       "      <th>icon</th>\n",
       "      <th>categories</th>\n",
       "    </tr>\n",
       "  </thead>\n",
       "  <tbody>\n",
       "    <tr>\n",
       "      <th>0</th>\n",
       "      <td>503288ae91d4c4b30a586d67</td>\n",
       "      <td>Afghan Restaurant</td>\n",
       "      <td>Afghan Restaurants</td>\n",
       "      <td>Afghan</td>\n",
       "      <td>{'prefix': 'https://ss3.4sqi.net/img/categorie...</td>\n",
       "      <td>[]</td>\n",
       "    </tr>\n",
       "    <tr>\n",
       "      <th>1</th>\n",
       "      <td>4bf58dd8d48988d1c8941735</td>\n",
       "      <td>African Restaurant</td>\n",
       "      <td>African Restaurants</td>\n",
       "      <td>African</td>\n",
       "      <td>{'prefix': 'https://ss3.4sqi.net/img/categorie...</td>\n",
       "      <td>[{'id': '4bf58dd8d48988d10a941735', 'name': 'E...</td>\n",
       "    </tr>\n",
       "    <tr>\n",
       "      <th>2</th>\n",
       "      <td>4bf58dd8d48988d14e941735</td>\n",
       "      <td>American Restaurant</td>\n",
       "      <td>American Restaurants</td>\n",
       "      <td>American</td>\n",
       "      <td>{'prefix': 'https://ss3.4sqi.net/img/categorie...</td>\n",
       "      <td>[{'id': '4bf58dd8d48988d157941735', 'name': 'N...</td>\n",
       "    </tr>\n",
       "    <tr>\n",
       "      <th>3</th>\n",
       "      <td>4bf58dd8d48988d142941735</td>\n",
       "      <td>Asian Restaurant</td>\n",
       "      <td>Asian Restaurants</td>\n",
       "      <td>Asian</td>\n",
       "      <td>{'prefix': 'https://ss3.4sqi.net/img/categorie...</td>\n",
       "      <td>[{'id': '56aa371be4b08b9a8d573568', 'name': 'B...</td>\n",
       "    </tr>\n",
       "    <tr>\n",
       "      <th>4</th>\n",
       "      <td>4bf58dd8d48988d169941735</td>\n",
       "      <td>Australian Restaurant</td>\n",
       "      <td>Australian Restaurants</td>\n",
       "      <td>Australian</td>\n",
       "      <td>{'prefix': 'https://ss3.4sqi.net/img/categorie...</td>\n",
       "      <td>[]</td>\n",
       "    </tr>\n",
       "  </tbody>\n",
       "</table>\n",
       "</div>"
      ],
      "text/plain": [
       "                         id                   name              pluralName  \\\n",
       "0  503288ae91d4c4b30a586d67      Afghan Restaurant      Afghan Restaurants   \n",
       "1  4bf58dd8d48988d1c8941735     African Restaurant     African Restaurants   \n",
       "2  4bf58dd8d48988d14e941735    American Restaurant    American Restaurants   \n",
       "3  4bf58dd8d48988d142941735       Asian Restaurant       Asian Restaurants   \n",
       "4  4bf58dd8d48988d169941735  Australian Restaurant  Australian Restaurants   \n",
       "\n",
       "    shortName                                               icon  \\\n",
       "0      Afghan  {'prefix': 'https://ss3.4sqi.net/img/categorie...   \n",
       "1     African  {'prefix': 'https://ss3.4sqi.net/img/categorie...   \n",
       "2    American  {'prefix': 'https://ss3.4sqi.net/img/categorie...   \n",
       "3       Asian  {'prefix': 'https://ss3.4sqi.net/img/categorie...   \n",
       "4  Australian  {'prefix': 'https://ss3.4sqi.net/img/categorie...   \n",
       "\n",
       "                                          categories  \n",
       "0                                                 []  \n",
       "1  [{'id': '4bf58dd8d48988d10a941735', 'name': 'E...  \n",
       "2  [{'id': '4bf58dd8d48988d157941735', 'name': 'N...  \n",
       "3  [{'id': '56aa371be4b08b9a8d573568', 'name': 'B...  \n",
       "4                                                 []  "
      ]
     },
     "execution_count": 8,
     "metadata": {},
     "output_type": "execute_result"
    }
   ],
   "source": [
    "categories = requests.get(url).json()\n",
    "food_category = pd.DataFrame(categories['response']['categories'][3]['categories'])\n",
    "id_bakery = food_category.loc[food_category['name'] == 'Bakery'].values[0][0]"
   ]
  },
  {
   "cell_type": "markdown",
   "metadata": {},
   "source": [
    "##### Getting list of Minsk's bakeries"
   ]
  },
  {
   "cell_type": "code",
   "execution_count": 10,
   "metadata": {
    "ExecuteTime": {
     "end_time": "2020-07-09T18:38:44.293809Z",
     "start_time": "2020-07-09T18:38:44.288856Z"
    }
   },
   "outputs": [],
   "source": [
    "def create_url(lat,lng):\n",
    "    url = 'https://api.foursquare.com/v2/venues/explore?&client_id={}&client_secret={}&v={}&ll={},{}&categoryId={}&limit={}'.format(\n",
    "    CLIENT_ID, \n",
    "    CLIENT_SECRET, \n",
    "    VERSION, \n",
    "    lat, \n",
    "    lng, \n",
    "    id_bakery, \n",
    "    100)\n",
    "    return url"
   ]
  },
  {
   "cell_type": "code",
   "execution_count": 11,
   "metadata": {
    "ExecuteTime": {
     "end_time": "2020-07-09T18:38:58.887183Z",
     "start_time": "2020-07-09T18:38:51.967834Z"
    }
   },
   "outputs": [
    {
     "data": {
      "text/html": [
       "<div>\n",
       "<style scoped>\n",
       "    .dataframe tbody tr th:only-of-type {\n",
       "        vertical-align: middle;\n",
       "    }\n",
       "\n",
       "    .dataframe tbody tr th {\n",
       "        vertical-align: top;\n",
       "    }\n",
       "\n",
       "    .dataframe thead th {\n",
       "        text-align: right;\n",
       "    }\n",
       "</style>\n",
       "<table border=\"1\" class=\"dataframe\">\n",
       "  <thead>\n",
       "    <tr style=\"text-align: right;\">\n",
       "      <th></th>\n",
       "      <th>district</th>\n",
       "      <th>summary</th>\n",
       "      <th>id</th>\n",
       "      <th>name</th>\n",
       "      <th>lat</th>\n",
       "      <th>lng</th>\n",
       "      <th>categories</th>\n",
       "      <th>dist_lat</th>\n",
       "      <th>dist_lng</th>\n",
       "    </tr>\n",
       "  </thead>\n",
       "  <tbody>\n",
       "    <tr>\n",
       "      <th>0</th>\n",
       "      <td>Центральный район</td>\n",
       "      <td>This spot is popular</td>\n",
       "      <td>5473097b498e2d4d05afda1b</td>\n",
       "      <td>Пан Круассан</td>\n",
       "      <td>53.929749</td>\n",
       "      <td>27.541323</td>\n",
       "      <td>Bakery</td>\n",
       "      <td>53.935766</td>\n",
       "      <td>27.521649</td>\n",
       "    </tr>\n",
       "    <tr>\n",
       "      <th>1</th>\n",
       "      <td>Центральный район</td>\n",
       "      <td>This spot is popular</td>\n",
       "      <td>59ee1ae8d0a1496688e63150</td>\n",
       "      <td>Brioche Bistro</td>\n",
       "      <td>53.939274</td>\n",
       "      <td>27.478426</td>\n",
       "      <td>Bakery</td>\n",
       "      <td>53.935766</td>\n",
       "      <td>27.521649</td>\n",
       "    </tr>\n",
       "    <tr>\n",
       "      <th>2</th>\n",
       "      <td>Центральный район</td>\n",
       "      <td>This spot is popular</td>\n",
       "      <td>58ba97964bc2f1632a353e04</td>\n",
       "      <td>Stories</td>\n",
       "      <td>53.900877</td>\n",
       "      <td>27.552514</td>\n",
       "      <td>Bakery</td>\n",
       "      <td>53.935766</td>\n",
       "      <td>27.521649</td>\n",
       "    </tr>\n",
       "    <tr>\n",
       "      <th>3</th>\n",
       "      <td>Центральный район</td>\n",
       "      <td>This spot is popular</td>\n",
       "      <td>522dc5b311d2920f2460d44c</td>\n",
       "      <td>Cakes.by</td>\n",
       "      <td>53.900149</td>\n",
       "      <td>27.522044</td>\n",
       "      <td>Bakery</td>\n",
       "      <td>53.935766</td>\n",
       "      <td>27.521649</td>\n",
       "    </tr>\n",
       "    <tr>\n",
       "      <th>4</th>\n",
       "      <td>Центральный район</td>\n",
       "      <td>This spot is popular</td>\n",
       "      <td>4f7afb6ae4b02579039ddc3f</td>\n",
       "      <td>Зерно</td>\n",
       "      <td>53.912388</td>\n",
       "      <td>27.580818</td>\n",
       "      <td>Bakery</td>\n",
       "      <td>53.935766</td>\n",
       "      <td>27.521649</td>\n",
       "    </tr>\n",
       "  </tbody>\n",
       "</table>\n",
       "</div>"
      ],
      "text/plain": [
       "            district               summary                        id  \\\n",
       "0  Центральный район  This spot is popular  5473097b498e2d4d05afda1b   \n",
       "1  Центральный район  This spot is popular  59ee1ae8d0a1496688e63150   \n",
       "2  Центральный район  This spot is popular  58ba97964bc2f1632a353e04   \n",
       "3  Центральный район  This spot is popular  522dc5b311d2920f2460d44c   \n",
       "4  Центральный район  This spot is popular  4f7afb6ae4b02579039ddc3f   \n",
       "\n",
       "             name        lat        lng categories   dist_lat   dist_lng  \n",
       "0    Пан Круассан  53.929749  27.541323     Bakery  53.935766  27.521649  \n",
       "1  Brioche Bistro  53.939274  27.478426     Bakery  53.935766  27.521649  \n",
       "2         Stories  53.900877  27.552514     Bakery  53.935766  27.521649  \n",
       "3        Cakes.by  53.900149  27.522044     Bakery  53.935766  27.521649  \n",
       "4           Зерно  53.912388  27.580818     Bakery  53.935766  27.521649  "
      ]
     },
     "execution_count": 11,
     "metadata": {},
     "output_type": "execute_result"
    }
   ],
   "source": [
    "baker_list = []\n",
    "for index, row in minsk_districts_df.iterrows():\n",
    "    url = create_url(row['dist_lat'],row['dist_lng'])\n",
    "    district_bakeries = requests.get(url).json()\n",
    "\n",
    "    for item in district_bakeries['response']['groups'][0]['items']:\n",
    "        baker_list.append({\n",
    "        'district': row['district'],\n",
    "        'summary': item['reasons']['items'][0]['summary'],\n",
    "        'id': item['venue']['id'],\n",
    "        'name': item['venue']['name'],\n",
    "        'lat': item['venue']['location']['lat'],\n",
    "        'lng': item['venue']['location']['lng'],\n",
    "        'categories': item['venue']['categories'][0]['name']\n",
    "        })\n",
    "        \n",
    "baker_df = pd.DataFrame(baker_list)\n",
    "baker_df = baker_df.join(minsk_districts_df.set_index('district'), on='district')\n",
    "baker_df.head()"
   ]
  },
  {
   "cell_type": "markdown",
   "metadata": {
    "ExecuteTime": {
     "end_time": "2020-07-08T11:12:05.079924Z",
     "start_time": "2020-07-08T11:12:05.075934Z"
    }
   },
   "source": [
    "##### Exclude from our df duplicated rows through by district and id of bakery"
   ]
  },
  {
   "cell_type": "code",
   "execution_count": 12,
   "metadata": {
    "ExecuteTime": {
     "end_time": "2020-07-09T18:38:59.008821Z",
     "start_time": "2020-07-09T18:38:58.890139Z"
    }
   },
   "outputs": [],
   "source": [
    "distance = []\n",
    "for index, row in baker_df.iterrows():\n",
    "    dist = geodesic([row['lat'],row['lng']], [row['dist_lat'],row['dist_lng']], ellipsoid='WGS-84').m\n",
    "    distance.append(dist)\n",
    "    \n",
    "baker_df['distance'] = distance\n"
   ]
  },
  {
   "cell_type": "code",
   "execution_count": 14,
   "metadata": {
    "ExecuteTime": {
     "end_time": "2020-07-09T18:39:07.876723Z",
     "start_time": "2020-07-09T18:39:07.864735Z"
    }
   },
   "outputs": [],
   "source": [
    "baker_df.sort_values([\"id\",'distance'], inplace = True)\n",
    "baker_df.drop_duplicates(subset =\"id\", keep = 'first', inplace = True)\n",
    "baker_df.reset_index(drop=True, inplace=True)"
   ]
  },
  {
   "cell_type": "markdown",
   "metadata": {},
   "source": [
    "##### Append to our df latin names of our bakeries because folium doesn't work correct with cyrillic words"
   ]
  },
  {
   "cell_type": "code",
   "execution_count": 13,
   "metadata": {
    "ExecuteTime": {
     "end_time": "2020-07-09T18:39:07.317365Z",
     "start_time": "2020-07-09T18:39:06.951300Z"
    }
   },
   "outputs": [],
   "source": [
    "latin_name = []\n",
    "for index, row in baker_df.iterrows():\n",
    "    latin = translit(row['name'], \"ru\", reversed=True)\n",
    "    latin_name.append(latin)\n",
    "    \n",
    "baker_df['latin_name'] = latin_name"
   ]
  },
  {
   "cell_type": "markdown",
   "metadata": {},
   "source": [
    "##### Add to the map our bakeries"
   ]
  },
  {
   "cell_type": "code",
   "execution_count": 38,
   "metadata": {
    "ExecuteTime": {
     "end_time": "2020-07-10T07:20:13.480782Z",
     "start_time": "2020-07-10T07:20:13.307246Z"
    }
   },
   "outputs": [
    {
     "data": {
      "text/html": [
       "<div style=\"width:100%;\"><div style=\"position:relative;width:100%;height:0;padding-bottom:60%;\"><span style=\"color:#565656\">Make this Notebook Trusted to load map: File -> Trust Notebook</span><iframe src=\"about:blank\" style=\"position:absolute;width:100%;height:100%;left:0;top:0;border:none !important;\" data-html=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 onload=\"this.contentDocument.open();this.contentDocument.write(atob(this.getAttribute('data-html')));this.contentDocument.close();\" allowfullscreen webkitallowfullscreen mozallowfullscreen></iframe></div></div>"
      ],
      "text/plain": [
       "<folium.folium.Map at 0x1b3cb848860>"
      ]
     },
     "execution_count": 38,
     "metadata": {},
     "output_type": "execute_result"
    }
   ],
   "source": [
    "map_minsk = folium.Map(location=[latitude, longitude], zoom_start=12) \n",
    "\n",
    "\n",
    "# add markers to map\n",
    "for lat, lng, name in zip(minsk_districts_df['dist_lat'], minsk_districts_df['dist_lng'], minsk_districts_df['district']):\n",
    "    label = '{}'.format(name)\n",
    "    label = folium.Popup(label, parse_html=True)\n",
    "    folium.CircleMarker(\n",
    "        [lat, lng],\n",
    "        radius=5,\n",
    "        popup=label,\n",
    "        color='red',\n",
    "        fill=True,\n",
    "        fill_color='#FF1818',\n",
    "        fill_opacity=0.9,\n",
    "        parse_html=False).add_to(map_minsk)  \n",
    "\n",
    "\n",
    "# add markers to map\n",
    "for lat, lng, name in zip(baker_df['lat'], baker_df['lng'], baker_df['latin_name']):\n",
    "    label = '{}'.format(name)\n",
    "    label = folium.Popup(label, parse_html=True)\n",
    "    folium.CircleMarker(\n",
    "        [lat, lng],\n",
    "        radius=5,\n",
    "        popup=label,\n",
    "        color='blue',\n",
    "        fill=True,\n",
    "        fill_color='#3186cc',\n",
    "        fill_opacity=0.7,\n",
    "        parse_html=False).add_to(map_minsk)  \n",
    "    \n",
    "map_minsk"
   ]
  },
  {
   "cell_type": "markdown",
   "metadata": {},
   "source": [
    "##### Add info about each bakery like 'rating', 'price','likes' etc."
   ]
  },
  {
   "cell_type": "code",
   "execution_count": 42,
   "metadata": {
    "ExecuteTime": {
     "end_time": "2020-07-10T07:23:50.992124Z",
     "start_time": "2020-07-10T07:23:38.438563Z"
    }
   },
   "outputs": [],
   "source": [
    "#bakery_full = []\n",
    "for bakery_id in baker_df['id'].unique():\n",
    "    if bakery_id not in bakery_full_df['id'].unique():\n",
    "        url = 'https://api.foursquare.com/v2/venues/{}?&client_id={}&client_secret={}&v={}'.format(\n",
    "        bakery_id,   \n",
    "        CLIENT_ID, \n",
    "        CLIENT_SECRET, \n",
    "        VERSION)\n",
    "        full_inf_bakeries = requests.get(url).json()   \n",
    "        item = full_inf_bakeries['response']['venue']\n",
    "        bakery_full.append({\n",
    "        'id': bakery_id,\n",
    "        'likes': item['likes']['count'],\n",
    "        'dislike': item['dislike'],\n",
    "        'rating': item['rating'] if 'rating' in item else '',        \n",
    "        'url': item['url'] if 'url' in item else '',\n",
    "        'price': item['price']['tier'] if 'price' in item else '',\n",
    "        'ok': item['ok'],\n",
    "        'ratingSignals': item['ratingSignals'] if 'ratingSignals' in item else '',\n",
    "        'specials': item['specials']['count'],\n",
    "        'tips': item['tips']['count'],\n",
    "        'listed': item['listed']['count']\n",
    "            }) "
   ]
  },
  {
   "cell_type": "code",
   "execution_count": 51,
   "metadata": {
    "ExecuteTime": {
     "end_time": "2020-07-10T07:27:53.026385Z",
     "start_time": "2020-07-10T07:27:53.021399Z"
    }
   },
   "outputs": [
    {
     "name": "stdout",
     "output_type": "stream",
     "text": [
      "(88, 21)\n"
     ]
    }
   ],
   "source": [
    "bakery_full_df = pd.DataFrame(bakery_full)\n",
    "bakery_full_df = bakery_full_df.join(baker_df.set_index('id'), on='id')\n",
    "bakery_full_df.replace(\"\", 0, inplace = True)\n",
    "print(bakery_full_df.shape)"
   ]
  },
  {
   "cell_type": "markdown",
   "metadata": {},
   "source": [
    "##### Looking at the part of data frame with some columns to analyze"
   ]
  },
  {
   "cell_type": "code",
   "execution_count": 59,
   "metadata": {
    "ExecuteTime": {
     "end_time": "2020-07-10T07:34:20.067887Z",
     "start_time": "2020-07-10T07:34:20.049968Z"
    }
   },
   "outputs": [
    {
     "data": {
      "text/html": [
       "<div>\n",
       "<style scoped>\n",
       "    .dataframe tbody tr th:only-of-type {\n",
       "        vertical-align: middle;\n",
       "    }\n",
       "\n",
       "    .dataframe tbody tr th {\n",
       "        vertical-align: top;\n",
       "    }\n",
       "\n",
       "    .dataframe thead th {\n",
       "        text-align: right;\n",
       "    }\n",
       "</style>\n",
       "<table border=\"1\" class=\"dataframe\">\n",
       "  <thead>\n",
       "    <tr style=\"text-align: right;\">\n",
       "      <th></th>\n",
       "      <th>name</th>\n",
       "      <th>district</th>\n",
       "      <th>categories</th>\n",
       "      <th>rating</th>\n",
       "      <th>price</th>\n",
       "      <th>tips</th>\n",
       "    </tr>\n",
       "  </thead>\n",
       "  <tbody>\n",
       "    <tr>\n",
       "      <th>12</th>\n",
       "      <td>Горячий хлеб</td>\n",
       "      <td>Центральный район</td>\n",
       "      <td>Bakery</td>\n",
       "      <td>0.0</td>\n",
       "      <td>0</td>\n",
       "      <td>1</td>\n",
       "    </tr>\n",
       "    <tr>\n",
       "      <th>13</th>\n",
       "      <td>Блинная</td>\n",
       "      <td>Первомайский район</td>\n",
       "      <td>Bakery</td>\n",
       "      <td>0.0</td>\n",
       "      <td>0</td>\n",
       "      <td>1</td>\n",
       "    </tr>\n",
       "    <tr>\n",
       "      <th>15</th>\n",
       "      <td>Магазин-кафетерий</td>\n",
       "      <td>Центральный район</td>\n",
       "      <td>Dessert Shop</td>\n",
       "      <td>0.0</td>\n",
       "      <td>0</td>\n",
       "      <td>1</td>\n",
       "    </tr>\n",
       "    <tr>\n",
       "      <th>16</th>\n",
       "      <td>Дольче</td>\n",
       "      <td>Московский район</td>\n",
       "      <td>Bakery</td>\n",
       "      <td>0.0</td>\n",
       "      <td>0</td>\n",
       "      <td>1</td>\n",
       "    </tr>\n",
       "    <tr>\n",
       "      <th>17</th>\n",
       "      <td>Свежий хлеб</td>\n",
       "      <td>Октябрьский район</td>\n",
       "      <td>Bakery</td>\n",
       "      <td>0.0</td>\n",
       "      <td>0</td>\n",
       "      <td>2</td>\n",
       "    </tr>\n",
       "    <tr>\n",
       "      <th>...</th>\n",
       "      <td>...</td>\n",
       "      <td>...</td>\n",
       "      <td>...</td>\n",
       "      <td>...</td>\n",
       "      <td>...</td>\n",
       "      <td>...</td>\n",
       "    </tr>\n",
       "    <tr>\n",
       "      <th>32</th>\n",
       "      <td>Пан Круассан</td>\n",
       "      <td>Центральный район</td>\n",
       "      <td>Bakery</td>\n",
       "      <td>8.4</td>\n",
       "      <td>0</td>\n",
       "      <td>13</td>\n",
       "    </tr>\n",
       "    <tr>\n",
       "      <th>84</th>\n",
       "      <td>Территория Кофе</td>\n",
       "      <td>Советский район</td>\n",
       "      <td>Coffee Shop</td>\n",
       "      <td>8.4</td>\n",
       "      <td>0</td>\n",
       "      <td>5</td>\n",
       "    </tr>\n",
       "    <tr>\n",
       "      <th>55</th>\n",
       "      <td>Stories</td>\n",
       "      <td>Центральный район</td>\n",
       "      <td>Bakery</td>\n",
       "      <td>8.5</td>\n",
       "      <td>0</td>\n",
       "      <td>81</td>\n",
       "    </tr>\n",
       "    <tr>\n",
       "      <th>57</th>\n",
       "      <td>Brø Bakery</td>\n",
       "      <td>Партизанский район</td>\n",
       "      <td>Bakery</td>\n",
       "      <td>8.7</td>\n",
       "      <td>0</td>\n",
       "      <td>26</td>\n",
       "    </tr>\n",
       "    <tr>\n",
       "      <th>19</th>\n",
       "      <td>Moulin</td>\n",
       "      <td>Московский район</td>\n",
       "      <td>Bakery</td>\n",
       "      <td>8.7</td>\n",
       "      <td>2</td>\n",
       "      <td>131</td>\n",
       "    </tr>\n",
       "  </tbody>\n",
       "</table>\n",
       "<p>88 rows × 6 columns</p>\n",
       "</div>"
      ],
      "text/plain": [
       "                 name            district    categories  rating  price  tips\n",
       "12       Горячий хлеб   Центральный район        Bakery     0.0      0     1\n",
       "13            Блинная  Первомайский район        Bakery     0.0      0     1\n",
       "15  Магазин-кафетерий   Центральный район  Dessert Shop     0.0      0     1\n",
       "16             Дольче    Московский район        Bakery     0.0      0     1\n",
       "17        Свежий хлеб   Октябрьский район        Bakery     0.0      0     2\n",
       "..                ...                 ...           ...     ...    ...   ...\n",
       "32       Пан Круассан   Центральный район        Bakery     8.4      0    13\n",
       "84    Территория Кофе     Советский район   Coffee Shop     8.4      0     5\n",
       "55            Stories   Центральный район        Bakery     8.5      0    81\n",
       "57         Brø Bakery  Партизанский район        Bakery     8.7      0    26\n",
       "19             Moulin    Московский район        Bakery     8.7      2   131\n",
       "\n",
       "[88 rows x 6 columns]"
      ]
     },
     "execution_count": 59,
     "metadata": {},
     "output_type": "execute_result"
    }
   ],
   "source": [
    "bakery_full_df[['name','district','categories','rating','price','tips']]"
   ]
  },
  {
   "cell_type": "markdown",
   "metadata": {},
   "source": [
    "##### And now we're prepared our data to analyze"
   ]
  },
  {
   "cell_type": "markdown",
   "metadata": {},
   "source": [
    "Let's first look how many bakeries we have from each district and how many types of bakeries we have from each categories."
   ]
  },
  {
   "cell_type": "code",
   "execution_count": 52,
   "metadata": {
    "ExecuteTime": {
     "end_time": "2020-07-10T07:28:07.536618Z",
     "start_time": "2020-07-10T07:28:07.490704Z"
    },
    "cell_style": "split"
   },
   "outputs": [
    {
     "data": {
      "application/vnd.plotly.v1+json": {
       "config": {
        "plotlyServerURL": "https://plot.ly"
       },
       "data": [
        {
         "domain": {
          "x": [
           0,
           1
          ],
          "y": [
           0,
           1
          ]
         },
         "hovertemplate": "label=%{label}<br>value=%{value}<extra></extra>",
         "labels": [
          "Bakery",
          "Coffee Shop",
          "Dessert Shop",
          "Food Court"
         ],
         "legendgroup": "",
         "name": "",
         "showlegend": true,
         "type": "pie",
         "values": [
          82,
          3,
          2,
          1
         ]
        }
       ],
       "layout": {
        "legend": {
         "tracegroupgap": 0
        },
        "margin": {
         "t": 60
        },
        "piecolorway": [
         "rgb(247, 254, 174)",
         "rgb(183, 230, 165)",
         "rgb(124, 203, 162)",
         "rgb(70, 174, 160)",
         "rgb(8, 144, 153)",
         "rgb(0, 113, 139)",
         "rgb(4, 82, 117)"
        ],
        "template": {
         "data": {
          "bar": [
           {
            "error_x": {
             "color": "#2a3f5f"
            },
            "error_y": {
             "color": "#2a3f5f"
            },
            "marker": {
             "line": {
              "color": "#E5ECF6",
              "width": 0.5
             }
            },
            "type": "bar"
           }
          ],
          "barpolar": [
           {
            "marker": {
             "line": {
              "color": "#E5ECF6",
              "width": 0.5
             }
            },
            "type": "barpolar"
           }
          ],
          "carpet": [
           {
            "aaxis": {
             "endlinecolor": "#2a3f5f",
             "gridcolor": "white",
             "linecolor": "white",
             "minorgridcolor": "white",
             "startlinecolor": "#2a3f5f"
            },
            "baxis": {
             "endlinecolor": "#2a3f5f",
             "gridcolor": "white",
             "linecolor": "white",
             "minorgridcolor": "white",
             "startlinecolor": "#2a3f5f"
            },
            "type": "carpet"
           }
          ],
          "choropleth": [
           {
            "colorbar": {
             "outlinewidth": 0,
             "ticks": ""
            },
            "type": "choropleth"
           }
          ],
          "contour": [
           {
            "colorbar": {
             "outlinewidth": 0,
             "ticks": ""
            },
            "colorscale": [
             [
              0,
              "#0d0887"
             ],
             [
              0.1111111111111111,
              "#46039f"
             ],
             [
              0.2222222222222222,
              "#7201a8"
             ],
             [
              0.3333333333333333,
              "#9c179e"
             ],
             [
              0.4444444444444444,
              "#bd3786"
             ],
             [
              0.5555555555555556,
              "#d8576b"
             ],
             [
              0.6666666666666666,
              "#ed7953"
             ],
             [
              0.7777777777777778,
              "#fb9f3a"
             ],
             [
              0.8888888888888888,
              "#fdca26"
             ],
             [
              1,
              "#f0f921"
             ]
            ],
            "type": "contour"
           }
          ],
          "contourcarpet": [
           {
            "colorbar": {
             "outlinewidth": 0,
             "ticks": ""
            },
            "type": "contourcarpet"
           }
          ],
          "heatmap": [
           {
            "colorbar": {
             "outlinewidth": 0,
             "ticks": ""
            },
            "colorscale": [
             [
              0,
              "#0d0887"
             ],
             [
              0.1111111111111111,
              "#46039f"
             ],
             [
              0.2222222222222222,
              "#7201a8"
             ],
             [
              0.3333333333333333,
              "#9c179e"
             ],
             [
              0.4444444444444444,
              "#bd3786"
             ],
             [
              0.5555555555555556,
              "#d8576b"
             ],
             [
              0.6666666666666666,
              "#ed7953"
             ],
             [
              0.7777777777777778,
              "#fb9f3a"
             ],
             [
              0.8888888888888888,
              "#fdca26"
             ],
             [
              1,
              "#f0f921"
             ]
            ],
            "type": "heatmap"
           }
          ],
          "heatmapgl": [
           {
            "colorbar": {
             "outlinewidth": 0,
             "ticks": ""
            },
            "colorscale": [
             [
              0,
              "#0d0887"
             ],
             [
              0.1111111111111111,
              "#46039f"
             ],
             [
              0.2222222222222222,
              "#7201a8"
             ],
             [
              0.3333333333333333,
              "#9c179e"
             ],
             [
              0.4444444444444444,
              "#bd3786"
             ],
             [
              0.5555555555555556,
              "#d8576b"
             ],
             [
              0.6666666666666666,
              "#ed7953"
             ],
             [
              0.7777777777777778,
              "#fb9f3a"
             ],
             [
              0.8888888888888888,
              "#fdca26"
             ],
             [
              1,
              "#f0f921"
             ]
            ],
            "type": "heatmapgl"
           }
          ],
          "histogram": [
           {
            "marker": {
             "colorbar": {
              "outlinewidth": 0,
              "ticks": ""
             }
            },
            "type": "histogram"
           }
          ],
          "histogram2d": [
           {
            "colorbar": {
             "outlinewidth": 0,
             "ticks": ""
            },
            "colorscale": [
             [
              0,
              "#0d0887"
             ],
             [
              0.1111111111111111,
              "#46039f"
             ],
             [
              0.2222222222222222,
              "#7201a8"
             ],
             [
              0.3333333333333333,
              "#9c179e"
             ],
             [
              0.4444444444444444,
              "#bd3786"
             ],
             [
              0.5555555555555556,
              "#d8576b"
             ],
             [
              0.6666666666666666,
              "#ed7953"
             ],
             [
              0.7777777777777778,
              "#fb9f3a"
             ],
             [
              0.8888888888888888,
              "#fdca26"
             ],
             [
              1,
              "#f0f921"
             ]
            ],
            "type": "histogram2d"
           }
          ],
          "histogram2dcontour": [
           {
            "colorbar": {
             "outlinewidth": 0,
             "ticks": ""
            },
            "colorscale": [
             [
              0,
              "#0d0887"
             ],
             [
              0.1111111111111111,
              "#46039f"
             ],
             [
              0.2222222222222222,
              "#7201a8"
             ],
             [
              0.3333333333333333,
              "#9c179e"
             ],
             [
              0.4444444444444444,
              "#bd3786"
             ],
             [
              0.5555555555555556,
              "#d8576b"
             ],
             [
              0.6666666666666666,
              "#ed7953"
             ],
             [
              0.7777777777777778,
              "#fb9f3a"
             ],
             [
              0.8888888888888888,
              "#fdca26"
             ],
             [
              1,
              "#f0f921"
             ]
            ],
            "type": "histogram2dcontour"
           }
          ],
          "mesh3d": [
           {
            "colorbar": {
             "outlinewidth": 0,
             "ticks": ""
            },
            "type": "mesh3d"
           }
          ],
          "parcoords": [
           {
            "line": {
             "colorbar": {
              "outlinewidth": 0,
              "ticks": ""
             }
            },
            "type": "parcoords"
           }
          ],
          "pie": [
           {
            "automargin": true,
            "type": "pie"
           }
          ],
          "scatter": [
           {
            "marker": {
             "colorbar": {
              "outlinewidth": 0,
              "ticks": ""
             }
            },
            "type": "scatter"
           }
          ],
          "scatter3d": [
           {
            "line": {
             "colorbar": {
              "outlinewidth": 0,
              "ticks": ""
             }
            },
            "marker": {
             "colorbar": {
              "outlinewidth": 0,
              "ticks": ""
             }
            },
            "type": "scatter3d"
           }
          ],
          "scattercarpet": [
           {
            "marker": {
             "colorbar": {
              "outlinewidth": 0,
              "ticks": ""
             }
            },
            "type": "scattercarpet"
           }
          ],
          "scattergeo": [
           {
            "marker": {
             "colorbar": {
              "outlinewidth": 0,
              "ticks": ""
             }
            },
            "type": "scattergeo"
           }
          ],
          "scattergl": [
           {
            "marker": {
             "colorbar": {
              "outlinewidth": 0,
              "ticks": ""
             }
            },
            "type": "scattergl"
           }
          ],
          "scattermapbox": [
           {
            "marker": {
             "colorbar": {
              "outlinewidth": 0,
              "ticks": ""
             }
            },
            "type": "scattermapbox"
           }
          ],
          "scatterpolar": [
           {
            "marker": {
             "colorbar": {
              "outlinewidth": 0,
              "ticks": ""
             }
            },
            "type": "scatterpolar"
           }
          ],
          "scatterpolargl": [
           {
            "marker": {
             "colorbar": {
              "outlinewidth": 0,
              "ticks": ""
             }
            },
            "type": "scatterpolargl"
           }
          ],
          "scatterternary": [
           {
            "marker": {
             "colorbar": {
              "outlinewidth": 0,
              "ticks": ""
             }
            },
            "type": "scatterternary"
           }
          ],
          "surface": [
           {
            "colorbar": {
             "outlinewidth": 0,
             "ticks": ""
            },
            "colorscale": [
             [
              0,
              "#0d0887"
             ],
             [
              0.1111111111111111,
              "#46039f"
             ],
             [
              0.2222222222222222,
              "#7201a8"
             ],
             [
              0.3333333333333333,
              "#9c179e"
             ],
             [
              0.4444444444444444,
              "#bd3786"
             ],
             [
              0.5555555555555556,
              "#d8576b"
             ],
             [
              0.6666666666666666,
              "#ed7953"
             ],
             [
              0.7777777777777778,
              "#fb9f3a"
             ],
             [
              0.8888888888888888,
              "#fdca26"
             ],
             [
              1,
              "#f0f921"
             ]
            ],
            "type": "surface"
           }
          ],
          "table": [
           {
            "cells": {
             "fill": {
              "color": "#EBF0F8"
             },
             "line": {
              "color": "white"
             }
            },
            "header": {
             "fill": {
              "color": "#C8D4E3"
             },
             "line": {
              "color": "white"
             }
            },
            "type": "table"
           }
          ]
         },
         "layout": {
          "annotationdefaults": {
           "arrowcolor": "#2a3f5f",
           "arrowhead": 0,
           "arrowwidth": 1
          },
          "coloraxis": {
           "colorbar": {
            "outlinewidth": 0,
            "ticks": ""
           }
          },
          "colorscale": {
           "diverging": [
            [
             0,
             "#8e0152"
            ],
            [
             0.1,
             "#c51b7d"
            ],
            [
             0.2,
             "#de77ae"
            ],
            [
             0.3,
             "#f1b6da"
            ],
            [
             0.4,
             "#fde0ef"
            ],
            [
             0.5,
             "#f7f7f7"
            ],
            [
             0.6,
             "#e6f5d0"
            ],
            [
             0.7,
             "#b8e186"
            ],
            [
             0.8,
             "#7fbc41"
            ],
            [
             0.9,
             "#4d9221"
            ],
            [
             1,
             "#276419"
            ]
           ],
           "sequential": [
            [
             0,
             "#0d0887"
            ],
            [
             0.1111111111111111,
             "#46039f"
            ],
            [
             0.2222222222222222,
             "#7201a8"
            ],
            [
             0.3333333333333333,
             "#9c179e"
            ],
            [
             0.4444444444444444,
             "#bd3786"
            ],
            [
             0.5555555555555556,
             "#d8576b"
            ],
            [
             0.6666666666666666,
             "#ed7953"
            ],
            [
             0.7777777777777778,
             "#fb9f3a"
            ],
            [
             0.8888888888888888,
             "#fdca26"
            ],
            [
             1,
             "#f0f921"
            ]
           ],
           "sequentialminus": [
            [
             0,
             "#0d0887"
            ],
            [
             0.1111111111111111,
             "#46039f"
            ],
            [
             0.2222222222222222,
             "#7201a8"
            ],
            [
             0.3333333333333333,
             "#9c179e"
            ],
            [
             0.4444444444444444,
             "#bd3786"
            ],
            [
             0.5555555555555556,
             "#d8576b"
            ],
            [
             0.6666666666666666,
             "#ed7953"
            ],
            [
             0.7777777777777778,
             "#fb9f3a"
            ],
            [
             0.8888888888888888,
             "#fdca26"
            ],
            [
             1,
             "#f0f921"
            ]
           ]
          },
          "colorway": [
           "#636efa",
           "#EF553B",
           "#00cc96",
           "#ab63fa",
           "#FFA15A",
           "#19d3f3",
           "#FF6692",
           "#B6E880",
           "#FF97FF",
           "#FECB52"
          ],
          "font": {
           "color": "#2a3f5f"
          },
          "geo": {
           "bgcolor": "white",
           "lakecolor": "white",
           "landcolor": "#E5ECF6",
           "showlakes": true,
           "showland": true,
           "subunitcolor": "white"
          },
          "hoverlabel": {
           "align": "left"
          },
          "hovermode": "closest",
          "mapbox": {
           "style": "light"
          },
          "paper_bgcolor": "white",
          "plot_bgcolor": "#E5ECF6",
          "polar": {
           "angularaxis": {
            "gridcolor": "white",
            "linecolor": "white",
            "ticks": ""
           },
           "bgcolor": "#E5ECF6",
           "radialaxis": {
            "gridcolor": "white",
            "linecolor": "white",
            "ticks": ""
           }
          },
          "scene": {
           "xaxis": {
            "backgroundcolor": "#E5ECF6",
            "gridcolor": "white",
            "gridwidth": 2,
            "linecolor": "white",
            "showbackground": true,
            "ticks": "",
            "zerolinecolor": "white"
           },
           "yaxis": {
            "backgroundcolor": "#E5ECF6",
            "gridcolor": "white",
            "gridwidth": 2,
            "linecolor": "white",
            "showbackground": true,
            "ticks": "",
            "zerolinecolor": "white"
           },
           "zaxis": {
            "backgroundcolor": "#E5ECF6",
            "gridcolor": "white",
            "gridwidth": 2,
            "linecolor": "white",
            "showbackground": true,
            "ticks": "",
            "zerolinecolor": "white"
           }
          },
          "shapedefaults": {
           "line": {
            "color": "#2a3f5f"
           }
          },
          "ternary": {
           "aaxis": {
            "gridcolor": "white",
            "linecolor": "white",
            "ticks": ""
           },
           "baxis": {
            "gridcolor": "white",
            "linecolor": "white",
            "ticks": ""
           },
           "bgcolor": "#E5ECF6",
           "caxis": {
            "gridcolor": "white",
            "linecolor": "white",
            "ticks": ""
           }
          },
          "title": {
           "x": 0.05
          },
          "xaxis": {
           "automargin": true,
           "gridcolor": "white",
           "linecolor": "white",
           "ticks": "",
           "title": {
            "standoff": 15
           },
           "zerolinecolor": "white",
           "zerolinewidth": 2
          },
          "yaxis": {
           "automargin": true,
           "gridcolor": "white",
           "linecolor": "white",
           "ticks": "",
           "title": {
            "standoff": 15
           },
           "zerolinecolor": "white",
           "zerolinewidth": 2
          }
         }
        },
        "title": {
         "text": "Count of places by categories"
        }
       }
      },
      "text/html": [
       "<div>\n",
       "        \n",
       "        \n",
       "            <div id=\"3e7d077a-a7ca-4bb5-a60e-79033996c1f6\" class=\"plotly-graph-div\" style=\"height:525px; width:100%;\"></div>\n",
       "            <script type=\"text/javascript\">\n",
       "                require([\"plotly\"], function(Plotly) {\n",
       "                    window.PLOTLYENV=window.PLOTLYENV || {};\n",
       "                    \n",
       "                if (document.getElementById(\"3e7d077a-a7ca-4bb5-a60e-79033996c1f6\")) {\n",
       "                    Plotly.newPlot(\n",
       "                        '3e7d077a-a7ca-4bb5-a60e-79033996c1f6',\n",
       "                        [{\"domain\": {\"x\": [0.0, 1.0], \"y\": [0.0, 1.0]}, \"hovertemplate\": \"label=%{label}<br>value=%{value}<extra></extra>\", \"labels\": [\"Bakery\", \"Coffee Shop\", \"Dessert Shop\", \"Food Court\"], \"legendgroup\": \"\", \"name\": \"\", \"showlegend\": true, \"type\": \"pie\", \"values\": [82, 3, 2, 1]}],\n",
       "                        {\"legend\": {\"tracegroupgap\": 0}, \"margin\": {\"t\": 60}, \"piecolorway\": [\"rgb(247, 254, 174)\", \"rgb(183, 230, 165)\", \"rgb(124, 203, 162)\", \"rgb(70, 174, 160)\", \"rgb(8, 144, 153)\", \"rgb(0, 113, 139)\", \"rgb(4, 82, 117)\"], \"template\": {\"data\": {\"bar\": [{\"error_x\": {\"color\": \"#2a3f5f\"}, \"error_y\": {\"color\": \"#2a3f5f\"}, \"marker\": {\"line\": {\"color\": \"#E5ECF6\", \"width\": 0.5}}, \"type\": \"bar\"}], \"barpolar\": [{\"marker\": {\"line\": {\"color\": \"#E5ECF6\", \"width\": 0.5}}, \"type\": \"barpolar\"}], \"carpet\": [{\"aaxis\": {\"endlinecolor\": \"#2a3f5f\", \"gridcolor\": \"white\", \"linecolor\": \"white\", \"minorgridcolor\": \"white\", \"startlinecolor\": \"#2a3f5f\"}, \"baxis\": {\"endlinecolor\": \"#2a3f5f\", \"gridcolor\": \"white\", \"linecolor\": \"white\", \"minorgridcolor\": \"white\", \"startlinecolor\": \"#2a3f5f\"}, \"type\": \"carpet\"}], \"choropleth\": [{\"colorbar\": {\"outlinewidth\": 0, \"ticks\": \"\"}, \"type\": \"choropleth\"}], \"contour\": [{\"colorbar\": {\"outlinewidth\": 0, \"ticks\": \"\"}, \"colorscale\": [[0.0, \"#0d0887\"], [0.1111111111111111, \"#46039f\"], [0.2222222222222222, \"#7201a8\"], [0.3333333333333333, \"#9c179e\"], [0.4444444444444444, \"#bd3786\"], [0.5555555555555556, \"#d8576b\"], [0.6666666666666666, \"#ed7953\"], [0.7777777777777778, \"#fb9f3a\"], [0.8888888888888888, \"#fdca26\"], [1.0, \"#f0f921\"]], \"type\": \"contour\"}], \"contourcarpet\": [{\"colorbar\": {\"outlinewidth\": 0, \"ticks\": \"\"}, \"type\": \"contourcarpet\"}], \"heatmap\": [{\"colorbar\": {\"outlinewidth\": 0, \"ticks\": \"\"}, \"colorscale\": [[0.0, \"#0d0887\"], [0.1111111111111111, \"#46039f\"], [0.2222222222222222, \"#7201a8\"], [0.3333333333333333, \"#9c179e\"], [0.4444444444444444, \"#bd3786\"], [0.5555555555555556, \"#d8576b\"], [0.6666666666666666, \"#ed7953\"], [0.7777777777777778, \"#fb9f3a\"], [0.8888888888888888, \"#fdca26\"], [1.0, \"#f0f921\"]], \"type\": \"heatmap\"}], \"heatmapgl\": [{\"colorbar\": {\"outlinewidth\": 0, \"ticks\": \"\"}, \"colorscale\": [[0.0, \"#0d0887\"], [0.1111111111111111, \"#46039f\"], [0.2222222222222222, \"#7201a8\"], [0.3333333333333333, \"#9c179e\"], [0.4444444444444444, \"#bd3786\"], [0.5555555555555556, \"#d8576b\"], [0.6666666666666666, \"#ed7953\"], [0.7777777777777778, \"#fb9f3a\"], [0.8888888888888888, \"#fdca26\"], [1.0, \"#f0f921\"]], \"type\": \"heatmapgl\"}], \"histogram\": [{\"marker\": {\"colorbar\": {\"outlinewidth\": 0, \"ticks\": \"\"}}, \"type\": \"histogram\"}], \"histogram2d\": [{\"colorbar\": {\"outlinewidth\": 0, \"ticks\": \"\"}, \"colorscale\": [[0.0, \"#0d0887\"], [0.1111111111111111, \"#46039f\"], [0.2222222222222222, \"#7201a8\"], [0.3333333333333333, \"#9c179e\"], [0.4444444444444444, \"#bd3786\"], [0.5555555555555556, \"#d8576b\"], [0.6666666666666666, \"#ed7953\"], [0.7777777777777778, \"#fb9f3a\"], [0.8888888888888888, \"#fdca26\"], [1.0, \"#f0f921\"]], \"type\": \"histogram2d\"}], \"histogram2dcontour\": [{\"colorbar\": {\"outlinewidth\": 0, \"ticks\": \"\"}, \"colorscale\": [[0.0, \"#0d0887\"], [0.1111111111111111, \"#46039f\"], [0.2222222222222222, \"#7201a8\"], [0.3333333333333333, \"#9c179e\"], [0.4444444444444444, \"#bd3786\"], [0.5555555555555556, \"#d8576b\"], [0.6666666666666666, \"#ed7953\"], [0.7777777777777778, \"#fb9f3a\"], [0.8888888888888888, \"#fdca26\"], [1.0, \"#f0f921\"]], \"type\": \"histogram2dcontour\"}], \"mesh3d\": [{\"colorbar\": {\"outlinewidth\": 0, \"ticks\": \"\"}, \"type\": \"mesh3d\"}], \"parcoords\": [{\"line\": {\"colorbar\": {\"outlinewidth\": 0, \"ticks\": \"\"}}, \"type\": \"parcoords\"}], \"pie\": [{\"automargin\": true, \"type\": \"pie\"}], \"scatter\": [{\"marker\": {\"colorbar\": {\"outlinewidth\": 0, \"ticks\": \"\"}}, \"type\": \"scatter\"}], \"scatter3d\": [{\"line\": {\"colorbar\": {\"outlinewidth\": 0, \"ticks\": \"\"}}, \"marker\": {\"colorbar\": {\"outlinewidth\": 0, \"ticks\": \"\"}}, \"type\": \"scatter3d\"}], \"scattercarpet\": [{\"marker\": {\"colorbar\": {\"outlinewidth\": 0, \"ticks\": \"\"}}, \"type\": \"scattercarpet\"}], \"scattergeo\": [{\"marker\": {\"colorbar\": {\"outlinewidth\": 0, \"ticks\": \"\"}}, \"type\": \"scattergeo\"}], \"scattergl\": [{\"marker\": {\"colorbar\": {\"outlinewidth\": 0, \"ticks\": \"\"}}, \"type\": \"scattergl\"}], \"scattermapbox\": [{\"marker\": {\"colorbar\": {\"outlinewidth\": 0, \"ticks\": \"\"}}, \"type\": \"scattermapbox\"}], \"scatterpolar\": [{\"marker\": {\"colorbar\": {\"outlinewidth\": 0, \"ticks\": \"\"}}, \"type\": \"scatterpolar\"}], \"scatterpolargl\": [{\"marker\": {\"colorbar\": {\"outlinewidth\": 0, \"ticks\": \"\"}}, \"type\": \"scatterpolargl\"}], \"scatterternary\": [{\"marker\": {\"colorbar\": {\"outlinewidth\": 0, \"ticks\": \"\"}}, \"type\": \"scatterternary\"}], \"surface\": [{\"colorbar\": {\"outlinewidth\": 0, \"ticks\": \"\"}, \"colorscale\": [[0.0, \"#0d0887\"], [0.1111111111111111, \"#46039f\"], [0.2222222222222222, \"#7201a8\"], [0.3333333333333333, \"#9c179e\"], [0.4444444444444444, \"#bd3786\"], [0.5555555555555556, \"#d8576b\"], [0.6666666666666666, \"#ed7953\"], [0.7777777777777778, \"#fb9f3a\"], [0.8888888888888888, \"#fdca26\"], [1.0, \"#f0f921\"]], \"type\": \"surface\"}], \"table\": [{\"cells\": {\"fill\": {\"color\": \"#EBF0F8\"}, \"line\": {\"color\": \"white\"}}, \"header\": {\"fill\": {\"color\": \"#C8D4E3\"}, \"line\": {\"color\": \"white\"}}, \"type\": \"table\"}]}, \"layout\": {\"annotationdefaults\": {\"arrowcolor\": \"#2a3f5f\", \"arrowhead\": 0, \"arrowwidth\": 1}, \"coloraxis\": {\"colorbar\": {\"outlinewidth\": 0, \"ticks\": \"\"}}, \"colorscale\": {\"diverging\": [[0, \"#8e0152\"], [0.1, \"#c51b7d\"], [0.2, \"#de77ae\"], [0.3, \"#f1b6da\"], [0.4, \"#fde0ef\"], [0.5, \"#f7f7f7\"], [0.6, \"#e6f5d0\"], [0.7, \"#b8e186\"], [0.8, \"#7fbc41\"], [0.9, \"#4d9221\"], [1, \"#276419\"]], \"sequential\": [[0.0, \"#0d0887\"], [0.1111111111111111, \"#46039f\"], [0.2222222222222222, \"#7201a8\"], [0.3333333333333333, \"#9c179e\"], [0.4444444444444444, \"#bd3786\"], [0.5555555555555556, \"#d8576b\"], [0.6666666666666666, \"#ed7953\"], [0.7777777777777778, \"#fb9f3a\"], [0.8888888888888888, \"#fdca26\"], [1.0, \"#f0f921\"]], \"sequentialminus\": [[0.0, \"#0d0887\"], [0.1111111111111111, \"#46039f\"], [0.2222222222222222, \"#7201a8\"], [0.3333333333333333, \"#9c179e\"], [0.4444444444444444, \"#bd3786\"], [0.5555555555555556, \"#d8576b\"], [0.6666666666666666, \"#ed7953\"], [0.7777777777777778, \"#fb9f3a\"], [0.8888888888888888, \"#fdca26\"], [1.0, \"#f0f921\"]]}, \"colorway\": [\"#636efa\", \"#EF553B\", \"#00cc96\", \"#ab63fa\", \"#FFA15A\", \"#19d3f3\", \"#FF6692\", \"#B6E880\", \"#FF97FF\", \"#FECB52\"], \"font\": {\"color\": \"#2a3f5f\"}, \"geo\": {\"bgcolor\": \"white\", \"lakecolor\": \"white\", \"landcolor\": \"#E5ECF6\", \"showlakes\": true, \"showland\": true, \"subunitcolor\": \"white\"}, \"hoverlabel\": {\"align\": \"left\"}, \"hovermode\": \"closest\", \"mapbox\": {\"style\": \"light\"}, \"paper_bgcolor\": \"white\", \"plot_bgcolor\": \"#E5ECF6\", \"polar\": {\"angularaxis\": {\"gridcolor\": \"white\", \"linecolor\": \"white\", \"ticks\": \"\"}, \"bgcolor\": \"#E5ECF6\", \"radialaxis\": {\"gridcolor\": \"white\", \"linecolor\": \"white\", \"ticks\": \"\"}}, \"scene\": {\"xaxis\": {\"backgroundcolor\": \"#E5ECF6\", \"gridcolor\": \"white\", \"gridwidth\": 2, \"linecolor\": \"white\", \"showbackground\": true, \"ticks\": \"\", \"zerolinecolor\": \"white\"}, \"yaxis\": {\"backgroundcolor\": \"#E5ECF6\", \"gridcolor\": \"white\", \"gridwidth\": 2, \"linecolor\": \"white\", \"showbackground\": true, \"ticks\": \"\", \"zerolinecolor\": \"white\"}, \"zaxis\": {\"backgroundcolor\": \"#E5ECF6\", \"gridcolor\": \"white\", \"gridwidth\": 2, \"linecolor\": \"white\", \"showbackground\": true, \"ticks\": \"\", \"zerolinecolor\": \"white\"}}, \"shapedefaults\": {\"line\": {\"color\": \"#2a3f5f\"}}, \"ternary\": {\"aaxis\": {\"gridcolor\": \"white\", \"linecolor\": \"white\", \"ticks\": \"\"}, \"baxis\": {\"gridcolor\": \"white\", \"linecolor\": \"white\", \"ticks\": \"\"}, \"bgcolor\": \"#E5ECF6\", \"caxis\": {\"gridcolor\": \"white\", \"linecolor\": \"white\", \"ticks\": \"\"}}, \"title\": {\"x\": 0.05}, \"xaxis\": {\"automargin\": true, \"gridcolor\": \"white\", \"linecolor\": \"white\", \"ticks\": \"\", \"title\": {\"standoff\": 15}, \"zerolinecolor\": \"white\", \"zerolinewidth\": 2}, \"yaxis\": {\"automargin\": true, \"gridcolor\": \"white\", \"linecolor\": \"white\", \"ticks\": \"\", \"title\": {\"standoff\": 15}, \"zerolinecolor\": \"white\", \"zerolinewidth\": 2}}}, \"title\": {\"text\": \"Count of places by categories\"}},\n",
       "                        {\"responsive\": true}\n",
       "                    ).then(function(){\n",
       "                            \n",
       "var gd = document.getElementById('3e7d077a-a7ca-4bb5-a60e-79033996c1f6');\n",
       "var x = new MutationObserver(function (mutations, observer) {{\n",
       "        var display = window.getComputedStyle(gd).display;\n",
       "        if (!display || display === 'none') {{\n",
       "            console.log([gd, 'removed!']);\n",
       "            Plotly.purge(gd);\n",
       "            observer.disconnect();\n",
       "        }}\n",
       "}});\n",
       "\n",
       "// Listen for the removal of the full notebook cells\n",
       "var notebookContainer = gd.closest('#notebook-container');\n",
       "if (notebookContainer) {{\n",
       "    x.observe(notebookContainer, {childList: true});\n",
       "}}\n",
       "\n",
       "// Listen for the clearing of the current output cell\n",
       "var outputEl = gd.closest('.output');\n",
       "if (outputEl) {{\n",
       "    x.observe(outputEl, {childList: true});\n",
       "}}\n",
       "\n",
       "                        })\n",
       "                };\n",
       "                });\n",
       "            </script>\n",
       "        </div>"
      ]
     },
     "metadata": {},
     "output_type": "display_data"
    }
   ],
   "source": [
    "categories_labels = bakery_full_df['categories'].value_counts().index\n",
    "categories_values = bakery_full_df['categories'].value_counts().values\n",
    "\n",
    "fig = px.pie(bakery_full_df, values=categories_values, names=categories_labels,\n",
    "            color_discrete_sequence=px.colors.sequential.Bluyl)\n",
    "fig.update_layout(\n",
    "    title = 'Count of places by categories')\n",
    "fig.show()"
   ]
  },
  {
   "cell_type": "code",
   "execution_count": 53,
   "metadata": {
    "ExecuteTime": {
     "end_time": "2020-07-10T07:28:11.288631Z",
     "start_time": "2020-07-10T07:28:11.246736Z"
    },
    "cell_style": "split"
   },
   "outputs": [
    {
     "data": {
      "application/vnd.plotly.v1+json": {
       "config": {
        "plotlyServerURL": "https://plot.ly"
       },
       "data": [
        {
         "domain": {
          "x": [
           0,
           1
          ],
          "y": [
           0,
           1
          ]
         },
         "hovertemplate": "label=%{label}<br>value=%{value}<extra></extra>",
         "labels": [
          "Центральный район",
          "Советский район",
          "Первомайский район",
          "Партизанский район",
          "Октябрьский район",
          "Московский район",
          "Заводской район",
          "Фрунзенский район"
         ],
         "legendgroup": "",
         "name": "",
         "showlegend": true,
         "type": "pie",
         "values": [
          26,
          23,
          9,
          9,
          8,
          5,
          4,
          4
         ]
        }
       ],
       "layout": {
        "legend": {
         "tracegroupgap": 0
        },
        "margin": {
         "t": 60
        },
        "piecolorway": [
         "rgb(247, 254, 174)",
         "rgb(183, 230, 165)",
         "rgb(124, 203, 162)",
         "rgb(70, 174, 160)",
         "rgb(8, 144, 153)",
         "rgb(0, 113, 139)",
         "rgb(4, 82, 117)"
        ],
        "template": {
         "data": {
          "bar": [
           {
            "error_x": {
             "color": "#2a3f5f"
            },
            "error_y": {
             "color": "#2a3f5f"
            },
            "marker": {
             "line": {
              "color": "#E5ECF6",
              "width": 0.5
             }
            },
            "type": "bar"
           }
          ],
          "barpolar": [
           {
            "marker": {
             "line": {
              "color": "#E5ECF6",
              "width": 0.5
             }
            },
            "type": "barpolar"
           }
          ],
          "carpet": [
           {
            "aaxis": {
             "endlinecolor": "#2a3f5f",
             "gridcolor": "white",
             "linecolor": "white",
             "minorgridcolor": "white",
             "startlinecolor": "#2a3f5f"
            },
            "baxis": {
             "endlinecolor": "#2a3f5f",
             "gridcolor": "white",
             "linecolor": "white",
             "minorgridcolor": "white",
             "startlinecolor": "#2a3f5f"
            },
            "type": "carpet"
           }
          ],
          "choropleth": [
           {
            "colorbar": {
             "outlinewidth": 0,
             "ticks": ""
            },
            "type": "choropleth"
           }
          ],
          "contour": [
           {
            "colorbar": {
             "outlinewidth": 0,
             "ticks": ""
            },
            "colorscale": [
             [
              0,
              "#0d0887"
             ],
             [
              0.1111111111111111,
              "#46039f"
             ],
             [
              0.2222222222222222,
              "#7201a8"
             ],
             [
              0.3333333333333333,
              "#9c179e"
             ],
             [
              0.4444444444444444,
              "#bd3786"
             ],
             [
              0.5555555555555556,
              "#d8576b"
             ],
             [
              0.6666666666666666,
              "#ed7953"
             ],
             [
              0.7777777777777778,
              "#fb9f3a"
             ],
             [
              0.8888888888888888,
              "#fdca26"
             ],
             [
              1,
              "#f0f921"
             ]
            ],
            "type": "contour"
           }
          ],
          "contourcarpet": [
           {
            "colorbar": {
             "outlinewidth": 0,
             "ticks": ""
            },
            "type": "contourcarpet"
           }
          ],
          "heatmap": [
           {
            "colorbar": {
             "outlinewidth": 0,
             "ticks": ""
            },
            "colorscale": [
             [
              0,
              "#0d0887"
             ],
             [
              0.1111111111111111,
              "#46039f"
             ],
             [
              0.2222222222222222,
              "#7201a8"
             ],
             [
              0.3333333333333333,
              "#9c179e"
             ],
             [
              0.4444444444444444,
              "#bd3786"
             ],
             [
              0.5555555555555556,
              "#d8576b"
             ],
             [
              0.6666666666666666,
              "#ed7953"
             ],
             [
              0.7777777777777778,
              "#fb9f3a"
             ],
             [
              0.8888888888888888,
              "#fdca26"
             ],
             [
              1,
              "#f0f921"
             ]
            ],
            "type": "heatmap"
           }
          ],
          "heatmapgl": [
           {
            "colorbar": {
             "outlinewidth": 0,
             "ticks": ""
            },
            "colorscale": [
             [
              0,
              "#0d0887"
             ],
             [
              0.1111111111111111,
              "#46039f"
             ],
             [
              0.2222222222222222,
              "#7201a8"
             ],
             [
              0.3333333333333333,
              "#9c179e"
             ],
             [
              0.4444444444444444,
              "#bd3786"
             ],
             [
              0.5555555555555556,
              "#d8576b"
             ],
             [
              0.6666666666666666,
              "#ed7953"
             ],
             [
              0.7777777777777778,
              "#fb9f3a"
             ],
             [
              0.8888888888888888,
              "#fdca26"
             ],
             [
              1,
              "#f0f921"
             ]
            ],
            "type": "heatmapgl"
           }
          ],
          "histogram": [
           {
            "marker": {
             "colorbar": {
              "outlinewidth": 0,
              "ticks": ""
             }
            },
            "type": "histogram"
           }
          ],
          "histogram2d": [
           {
            "colorbar": {
             "outlinewidth": 0,
             "ticks": ""
            },
            "colorscale": [
             [
              0,
              "#0d0887"
             ],
             [
              0.1111111111111111,
              "#46039f"
             ],
             [
              0.2222222222222222,
              "#7201a8"
             ],
             [
              0.3333333333333333,
              "#9c179e"
             ],
             [
              0.4444444444444444,
              "#bd3786"
             ],
             [
              0.5555555555555556,
              "#d8576b"
             ],
             [
              0.6666666666666666,
              "#ed7953"
             ],
             [
              0.7777777777777778,
              "#fb9f3a"
             ],
             [
              0.8888888888888888,
              "#fdca26"
             ],
             [
              1,
              "#f0f921"
             ]
            ],
            "type": "histogram2d"
           }
          ],
          "histogram2dcontour": [
           {
            "colorbar": {
             "outlinewidth": 0,
             "ticks": ""
            },
            "colorscale": [
             [
              0,
              "#0d0887"
             ],
             [
              0.1111111111111111,
              "#46039f"
             ],
             [
              0.2222222222222222,
              "#7201a8"
             ],
             [
              0.3333333333333333,
              "#9c179e"
             ],
             [
              0.4444444444444444,
              "#bd3786"
             ],
             [
              0.5555555555555556,
              "#d8576b"
             ],
             [
              0.6666666666666666,
              "#ed7953"
             ],
             [
              0.7777777777777778,
              "#fb9f3a"
             ],
             [
              0.8888888888888888,
              "#fdca26"
             ],
             [
              1,
              "#f0f921"
             ]
            ],
            "type": "histogram2dcontour"
           }
          ],
          "mesh3d": [
           {
            "colorbar": {
             "outlinewidth": 0,
             "ticks": ""
            },
            "type": "mesh3d"
           }
          ],
          "parcoords": [
           {
            "line": {
             "colorbar": {
              "outlinewidth": 0,
              "ticks": ""
             }
            },
            "type": "parcoords"
           }
          ],
          "pie": [
           {
            "automargin": true,
            "type": "pie"
           }
          ],
          "scatter": [
           {
            "marker": {
             "colorbar": {
              "outlinewidth": 0,
              "ticks": ""
             }
            },
            "type": "scatter"
           }
          ],
          "scatter3d": [
           {
            "line": {
             "colorbar": {
              "outlinewidth": 0,
              "ticks": ""
             }
            },
            "marker": {
             "colorbar": {
              "outlinewidth": 0,
              "ticks": ""
             }
            },
            "type": "scatter3d"
           }
          ],
          "scattercarpet": [
           {
            "marker": {
             "colorbar": {
              "outlinewidth": 0,
              "ticks": ""
             }
            },
            "type": "scattercarpet"
           }
          ],
          "scattergeo": [
           {
            "marker": {
             "colorbar": {
              "outlinewidth": 0,
              "ticks": ""
             }
            },
            "type": "scattergeo"
           }
          ],
          "scattergl": [
           {
            "marker": {
             "colorbar": {
              "outlinewidth": 0,
              "ticks": ""
             }
            },
            "type": "scattergl"
           }
          ],
          "scattermapbox": [
           {
            "marker": {
             "colorbar": {
              "outlinewidth": 0,
              "ticks": ""
             }
            },
            "type": "scattermapbox"
           }
          ],
          "scatterpolar": [
           {
            "marker": {
             "colorbar": {
              "outlinewidth": 0,
              "ticks": ""
             }
            },
            "type": "scatterpolar"
           }
          ],
          "scatterpolargl": [
           {
            "marker": {
             "colorbar": {
              "outlinewidth": 0,
              "ticks": ""
             }
            },
            "type": "scatterpolargl"
           }
          ],
          "scatterternary": [
           {
            "marker": {
             "colorbar": {
              "outlinewidth": 0,
              "ticks": ""
             }
            },
            "type": "scatterternary"
           }
          ],
          "surface": [
           {
            "colorbar": {
             "outlinewidth": 0,
             "ticks": ""
            },
            "colorscale": [
             [
              0,
              "#0d0887"
             ],
             [
              0.1111111111111111,
              "#46039f"
             ],
             [
              0.2222222222222222,
              "#7201a8"
             ],
             [
              0.3333333333333333,
              "#9c179e"
             ],
             [
              0.4444444444444444,
              "#bd3786"
             ],
             [
              0.5555555555555556,
              "#d8576b"
             ],
             [
              0.6666666666666666,
              "#ed7953"
             ],
             [
              0.7777777777777778,
              "#fb9f3a"
             ],
             [
              0.8888888888888888,
              "#fdca26"
             ],
             [
              1,
              "#f0f921"
             ]
            ],
            "type": "surface"
           }
          ],
          "table": [
           {
            "cells": {
             "fill": {
              "color": "#EBF0F8"
             },
             "line": {
              "color": "white"
             }
            },
            "header": {
             "fill": {
              "color": "#C8D4E3"
             },
             "line": {
              "color": "white"
             }
            },
            "type": "table"
           }
          ]
         },
         "layout": {
          "annotationdefaults": {
           "arrowcolor": "#2a3f5f",
           "arrowhead": 0,
           "arrowwidth": 1
          },
          "coloraxis": {
           "colorbar": {
            "outlinewidth": 0,
            "ticks": ""
           }
          },
          "colorscale": {
           "diverging": [
            [
             0,
             "#8e0152"
            ],
            [
             0.1,
             "#c51b7d"
            ],
            [
             0.2,
             "#de77ae"
            ],
            [
             0.3,
             "#f1b6da"
            ],
            [
             0.4,
             "#fde0ef"
            ],
            [
             0.5,
             "#f7f7f7"
            ],
            [
             0.6,
             "#e6f5d0"
            ],
            [
             0.7,
             "#b8e186"
            ],
            [
             0.8,
             "#7fbc41"
            ],
            [
             0.9,
             "#4d9221"
            ],
            [
             1,
             "#276419"
            ]
           ],
           "sequential": [
            [
             0,
             "#0d0887"
            ],
            [
             0.1111111111111111,
             "#46039f"
            ],
            [
             0.2222222222222222,
             "#7201a8"
            ],
            [
             0.3333333333333333,
             "#9c179e"
            ],
            [
             0.4444444444444444,
             "#bd3786"
            ],
            [
             0.5555555555555556,
             "#d8576b"
            ],
            [
             0.6666666666666666,
             "#ed7953"
            ],
            [
             0.7777777777777778,
             "#fb9f3a"
            ],
            [
             0.8888888888888888,
             "#fdca26"
            ],
            [
             1,
             "#f0f921"
            ]
           ],
           "sequentialminus": [
            [
             0,
             "#0d0887"
            ],
            [
             0.1111111111111111,
             "#46039f"
            ],
            [
             0.2222222222222222,
             "#7201a8"
            ],
            [
             0.3333333333333333,
             "#9c179e"
            ],
            [
             0.4444444444444444,
             "#bd3786"
            ],
            [
             0.5555555555555556,
             "#d8576b"
            ],
            [
             0.6666666666666666,
             "#ed7953"
            ],
            [
             0.7777777777777778,
             "#fb9f3a"
            ],
            [
             0.8888888888888888,
             "#fdca26"
            ],
            [
             1,
             "#f0f921"
            ]
           ]
          },
          "colorway": [
           "#636efa",
           "#EF553B",
           "#00cc96",
           "#ab63fa",
           "#FFA15A",
           "#19d3f3",
           "#FF6692",
           "#B6E880",
           "#FF97FF",
           "#FECB52"
          ],
          "font": {
           "color": "#2a3f5f"
          },
          "geo": {
           "bgcolor": "white",
           "lakecolor": "white",
           "landcolor": "#E5ECF6",
           "showlakes": true,
           "showland": true,
           "subunitcolor": "white"
          },
          "hoverlabel": {
           "align": "left"
          },
          "hovermode": "closest",
          "mapbox": {
           "style": "light"
          },
          "paper_bgcolor": "white",
          "plot_bgcolor": "#E5ECF6",
          "polar": {
           "angularaxis": {
            "gridcolor": "white",
            "linecolor": "white",
            "ticks": ""
           },
           "bgcolor": "#E5ECF6",
           "radialaxis": {
            "gridcolor": "white",
            "linecolor": "white",
            "ticks": ""
           }
          },
          "scene": {
           "xaxis": {
            "backgroundcolor": "#E5ECF6",
            "gridcolor": "white",
            "gridwidth": 2,
            "linecolor": "white",
            "showbackground": true,
            "ticks": "",
            "zerolinecolor": "white"
           },
           "yaxis": {
            "backgroundcolor": "#E5ECF6",
            "gridcolor": "white",
            "gridwidth": 2,
            "linecolor": "white",
            "showbackground": true,
            "ticks": "",
            "zerolinecolor": "white"
           },
           "zaxis": {
            "backgroundcolor": "#E5ECF6",
            "gridcolor": "white",
            "gridwidth": 2,
            "linecolor": "white",
            "showbackground": true,
            "ticks": "",
            "zerolinecolor": "white"
           }
          },
          "shapedefaults": {
           "line": {
            "color": "#2a3f5f"
           }
          },
          "ternary": {
           "aaxis": {
            "gridcolor": "white",
            "linecolor": "white",
            "ticks": ""
           },
           "baxis": {
            "gridcolor": "white",
            "linecolor": "white",
            "ticks": ""
           },
           "bgcolor": "#E5ECF6",
           "caxis": {
            "gridcolor": "white",
            "linecolor": "white",
            "ticks": ""
           }
          },
          "title": {
           "x": 0.05
          },
          "xaxis": {
           "automargin": true,
           "gridcolor": "white",
           "linecolor": "white",
           "ticks": "",
           "title": {
            "standoff": 15
           },
           "zerolinecolor": "white",
           "zerolinewidth": 2
          },
          "yaxis": {
           "automargin": true,
           "gridcolor": "white",
           "linecolor": "white",
           "ticks": "",
           "title": {
            "standoff": 15
           },
           "zerolinecolor": "white",
           "zerolinewidth": 2
          }
         }
        },
        "title": {
         "text": "Count of places by district"
        }
       }
      },
      "text/html": [
       "<div>\n",
       "        \n",
       "        \n",
       "            <div id=\"d327faaa-4d54-4b2e-b9e3-711d788bdbac\" class=\"plotly-graph-div\" style=\"height:525px; width:100%;\"></div>\n",
       "            <script type=\"text/javascript\">\n",
       "                require([\"plotly\"], function(Plotly) {\n",
       "                    window.PLOTLYENV=window.PLOTLYENV || {};\n",
       "                    \n",
       "                if (document.getElementById(\"d327faaa-4d54-4b2e-b9e3-711d788bdbac\")) {\n",
       "                    Plotly.newPlot(\n",
       "                        'd327faaa-4d54-4b2e-b9e3-711d788bdbac',\n",
       "                        [{\"domain\": {\"x\": [0.0, 1.0], \"y\": [0.0, 1.0]}, \"hovertemplate\": \"label=%{label}<br>value=%{value}<extra></extra>\", \"labels\": [\"\\u0426\\u0435\\u043d\\u0442\\u0440\\u0430\\u043b\\u044c\\u043d\\u044b\\u0439 \\u0440\\u0430\\u0439\\u043e\\u043d\", \"\\u0421\\u043e\\u0432\\u0435\\u0442\\u0441\\u043a\\u0438\\u0439 \\u0440\\u0430\\u0439\\u043e\\u043d\", \"\\u041f\\u0435\\u0440\\u0432\\u043e\\u043c\\u0430\\u0439\\u0441\\u043a\\u0438\\u0439 \\u0440\\u0430\\u0439\\u043e\\u043d\", \"\\u041f\\u0430\\u0440\\u0442\\u0438\\u0437\\u0430\\u043d\\u0441\\u043a\\u0438\\u0439 \\u0440\\u0430\\u0439\\u043e\\u043d\", \"\\u041e\\u043a\\u0442\\u044f\\u0431\\u0440\\u044c\\u0441\\u043a\\u0438\\u0439 \\u0440\\u0430\\u0439\\u043e\\u043d\", \"\\u041c\\u043e\\u0441\\u043a\\u043e\\u0432\\u0441\\u043a\\u0438\\u0439 \\u0440\\u0430\\u0439\\u043e\\u043d\", \"\\u0417\\u0430\\u0432\\u043e\\u0434\\u0441\\u043a\\u043e\\u0439 \\u0440\\u0430\\u0439\\u043e\\u043d\", \"\\u0424\\u0440\\u0443\\u043d\\u0437\\u0435\\u043d\\u0441\\u043a\\u0438\\u0439 \\u0440\\u0430\\u0439\\u043e\\u043d\"], \"legendgroup\": \"\", \"name\": \"\", \"showlegend\": true, \"type\": \"pie\", \"values\": [26, 23, 9, 9, 8, 5, 4, 4]}],\n",
       "                        {\"legend\": {\"tracegroupgap\": 0}, \"margin\": {\"t\": 60}, \"piecolorway\": [\"rgb(247, 254, 174)\", \"rgb(183, 230, 165)\", \"rgb(124, 203, 162)\", \"rgb(70, 174, 160)\", \"rgb(8, 144, 153)\", \"rgb(0, 113, 139)\", \"rgb(4, 82, 117)\"], \"template\": {\"data\": {\"bar\": [{\"error_x\": {\"color\": \"#2a3f5f\"}, \"error_y\": {\"color\": \"#2a3f5f\"}, \"marker\": {\"line\": {\"color\": \"#E5ECF6\", \"width\": 0.5}}, \"type\": \"bar\"}], \"barpolar\": [{\"marker\": {\"line\": {\"color\": \"#E5ECF6\", \"width\": 0.5}}, \"type\": \"barpolar\"}], \"carpet\": [{\"aaxis\": {\"endlinecolor\": \"#2a3f5f\", \"gridcolor\": \"white\", \"linecolor\": \"white\", \"minorgridcolor\": \"white\", \"startlinecolor\": \"#2a3f5f\"}, \"baxis\": {\"endlinecolor\": \"#2a3f5f\", \"gridcolor\": \"white\", \"linecolor\": \"white\", \"minorgridcolor\": \"white\", \"startlinecolor\": \"#2a3f5f\"}, \"type\": \"carpet\"}], \"choropleth\": [{\"colorbar\": {\"outlinewidth\": 0, \"ticks\": \"\"}, \"type\": \"choropleth\"}], \"contour\": [{\"colorbar\": {\"outlinewidth\": 0, \"ticks\": \"\"}, \"colorscale\": [[0.0, \"#0d0887\"], [0.1111111111111111, \"#46039f\"], [0.2222222222222222, \"#7201a8\"], [0.3333333333333333, \"#9c179e\"], [0.4444444444444444, \"#bd3786\"], [0.5555555555555556, \"#d8576b\"], [0.6666666666666666, \"#ed7953\"], [0.7777777777777778, \"#fb9f3a\"], [0.8888888888888888, \"#fdca26\"], [1.0, \"#f0f921\"]], \"type\": \"contour\"}], \"contourcarpet\": [{\"colorbar\": {\"outlinewidth\": 0, \"ticks\": \"\"}, \"type\": \"contourcarpet\"}], \"heatmap\": [{\"colorbar\": {\"outlinewidth\": 0, \"ticks\": \"\"}, \"colorscale\": [[0.0, \"#0d0887\"], [0.1111111111111111, \"#46039f\"], [0.2222222222222222, \"#7201a8\"], [0.3333333333333333, \"#9c179e\"], [0.4444444444444444, \"#bd3786\"], [0.5555555555555556, \"#d8576b\"], [0.6666666666666666, \"#ed7953\"], [0.7777777777777778, \"#fb9f3a\"], [0.8888888888888888, \"#fdca26\"], [1.0, \"#f0f921\"]], \"type\": \"heatmap\"}], \"heatmapgl\": [{\"colorbar\": {\"outlinewidth\": 0, \"ticks\": \"\"}, \"colorscale\": [[0.0, \"#0d0887\"], [0.1111111111111111, \"#46039f\"], [0.2222222222222222, \"#7201a8\"], [0.3333333333333333, \"#9c179e\"], [0.4444444444444444, \"#bd3786\"], [0.5555555555555556, \"#d8576b\"], [0.6666666666666666, \"#ed7953\"], [0.7777777777777778, \"#fb9f3a\"], [0.8888888888888888, \"#fdca26\"], [1.0, \"#f0f921\"]], \"type\": \"heatmapgl\"}], \"histogram\": [{\"marker\": {\"colorbar\": {\"outlinewidth\": 0, \"ticks\": \"\"}}, \"type\": \"histogram\"}], \"histogram2d\": [{\"colorbar\": {\"outlinewidth\": 0, \"ticks\": \"\"}, \"colorscale\": [[0.0, \"#0d0887\"], [0.1111111111111111, \"#46039f\"], [0.2222222222222222, \"#7201a8\"], [0.3333333333333333, \"#9c179e\"], [0.4444444444444444, \"#bd3786\"], [0.5555555555555556, \"#d8576b\"], [0.6666666666666666, \"#ed7953\"], [0.7777777777777778, \"#fb9f3a\"], [0.8888888888888888, \"#fdca26\"], [1.0, \"#f0f921\"]], \"type\": \"histogram2d\"}], \"histogram2dcontour\": [{\"colorbar\": {\"outlinewidth\": 0, \"ticks\": \"\"}, \"colorscale\": [[0.0, \"#0d0887\"], [0.1111111111111111, \"#46039f\"], [0.2222222222222222, \"#7201a8\"], [0.3333333333333333, \"#9c179e\"], [0.4444444444444444, \"#bd3786\"], [0.5555555555555556, \"#d8576b\"], [0.6666666666666666, \"#ed7953\"], [0.7777777777777778, \"#fb9f3a\"], [0.8888888888888888, \"#fdca26\"], [1.0, \"#f0f921\"]], \"type\": \"histogram2dcontour\"}], \"mesh3d\": [{\"colorbar\": {\"outlinewidth\": 0, \"ticks\": \"\"}, \"type\": \"mesh3d\"}], \"parcoords\": [{\"line\": {\"colorbar\": {\"outlinewidth\": 0, \"ticks\": \"\"}}, \"type\": \"parcoords\"}], \"pie\": [{\"automargin\": true, \"type\": \"pie\"}], \"scatter\": [{\"marker\": {\"colorbar\": {\"outlinewidth\": 0, \"ticks\": \"\"}}, \"type\": \"scatter\"}], \"scatter3d\": [{\"line\": {\"colorbar\": {\"outlinewidth\": 0, \"ticks\": \"\"}}, \"marker\": {\"colorbar\": {\"outlinewidth\": 0, \"ticks\": \"\"}}, \"type\": \"scatter3d\"}], \"scattercarpet\": [{\"marker\": {\"colorbar\": {\"outlinewidth\": 0, \"ticks\": \"\"}}, \"type\": \"scattercarpet\"}], \"scattergeo\": [{\"marker\": {\"colorbar\": {\"outlinewidth\": 0, \"ticks\": \"\"}}, \"type\": \"scattergeo\"}], \"scattergl\": [{\"marker\": {\"colorbar\": {\"outlinewidth\": 0, \"ticks\": \"\"}}, \"type\": \"scattergl\"}], \"scattermapbox\": [{\"marker\": {\"colorbar\": {\"outlinewidth\": 0, \"ticks\": \"\"}}, \"type\": \"scattermapbox\"}], \"scatterpolar\": [{\"marker\": {\"colorbar\": {\"outlinewidth\": 0, \"ticks\": \"\"}}, \"type\": \"scatterpolar\"}], \"scatterpolargl\": [{\"marker\": {\"colorbar\": {\"outlinewidth\": 0, \"ticks\": \"\"}}, \"type\": \"scatterpolargl\"}], \"scatterternary\": [{\"marker\": {\"colorbar\": {\"outlinewidth\": 0, \"ticks\": \"\"}}, \"type\": \"scatterternary\"}], \"surface\": [{\"colorbar\": {\"outlinewidth\": 0, \"ticks\": \"\"}, \"colorscale\": [[0.0, \"#0d0887\"], [0.1111111111111111, \"#46039f\"], [0.2222222222222222, \"#7201a8\"], [0.3333333333333333, \"#9c179e\"], [0.4444444444444444, \"#bd3786\"], [0.5555555555555556, \"#d8576b\"], [0.6666666666666666, \"#ed7953\"], [0.7777777777777778, \"#fb9f3a\"], [0.8888888888888888, \"#fdca26\"], [1.0, \"#f0f921\"]], \"type\": \"surface\"}], \"table\": [{\"cells\": {\"fill\": {\"color\": \"#EBF0F8\"}, \"line\": {\"color\": \"white\"}}, \"header\": {\"fill\": {\"color\": \"#C8D4E3\"}, \"line\": {\"color\": \"white\"}}, \"type\": \"table\"}]}, \"layout\": {\"annotationdefaults\": {\"arrowcolor\": \"#2a3f5f\", \"arrowhead\": 0, \"arrowwidth\": 1}, \"coloraxis\": {\"colorbar\": {\"outlinewidth\": 0, \"ticks\": \"\"}}, \"colorscale\": {\"diverging\": [[0, \"#8e0152\"], [0.1, \"#c51b7d\"], [0.2, \"#de77ae\"], [0.3, \"#f1b6da\"], [0.4, \"#fde0ef\"], [0.5, \"#f7f7f7\"], [0.6, \"#e6f5d0\"], [0.7, \"#b8e186\"], [0.8, \"#7fbc41\"], [0.9, \"#4d9221\"], [1, \"#276419\"]], \"sequential\": [[0.0, \"#0d0887\"], [0.1111111111111111, \"#46039f\"], [0.2222222222222222, \"#7201a8\"], [0.3333333333333333, \"#9c179e\"], [0.4444444444444444, \"#bd3786\"], [0.5555555555555556, \"#d8576b\"], [0.6666666666666666, \"#ed7953\"], [0.7777777777777778, \"#fb9f3a\"], [0.8888888888888888, \"#fdca26\"], [1.0, \"#f0f921\"]], \"sequentialminus\": [[0.0, \"#0d0887\"], [0.1111111111111111, \"#46039f\"], [0.2222222222222222, \"#7201a8\"], [0.3333333333333333, \"#9c179e\"], [0.4444444444444444, \"#bd3786\"], [0.5555555555555556, \"#d8576b\"], [0.6666666666666666, \"#ed7953\"], [0.7777777777777778, \"#fb9f3a\"], [0.8888888888888888, \"#fdca26\"], [1.0, \"#f0f921\"]]}, \"colorway\": [\"#636efa\", \"#EF553B\", \"#00cc96\", \"#ab63fa\", \"#FFA15A\", \"#19d3f3\", \"#FF6692\", \"#B6E880\", \"#FF97FF\", \"#FECB52\"], \"font\": {\"color\": \"#2a3f5f\"}, \"geo\": {\"bgcolor\": \"white\", \"lakecolor\": \"white\", \"landcolor\": \"#E5ECF6\", \"showlakes\": true, \"showland\": true, \"subunitcolor\": \"white\"}, \"hoverlabel\": {\"align\": \"left\"}, \"hovermode\": \"closest\", \"mapbox\": {\"style\": \"light\"}, \"paper_bgcolor\": \"white\", \"plot_bgcolor\": \"#E5ECF6\", \"polar\": {\"angularaxis\": {\"gridcolor\": \"white\", \"linecolor\": \"white\", \"ticks\": \"\"}, \"bgcolor\": \"#E5ECF6\", \"radialaxis\": {\"gridcolor\": \"white\", \"linecolor\": \"white\", \"ticks\": \"\"}}, \"scene\": {\"xaxis\": {\"backgroundcolor\": \"#E5ECF6\", \"gridcolor\": \"white\", \"gridwidth\": 2, \"linecolor\": \"white\", \"showbackground\": true, \"ticks\": \"\", \"zerolinecolor\": \"white\"}, \"yaxis\": {\"backgroundcolor\": \"#E5ECF6\", \"gridcolor\": \"white\", \"gridwidth\": 2, \"linecolor\": \"white\", \"showbackground\": true, \"ticks\": \"\", \"zerolinecolor\": \"white\"}, \"zaxis\": {\"backgroundcolor\": \"#E5ECF6\", \"gridcolor\": \"white\", \"gridwidth\": 2, \"linecolor\": \"white\", \"showbackground\": true, \"ticks\": \"\", \"zerolinecolor\": \"white\"}}, \"shapedefaults\": {\"line\": {\"color\": \"#2a3f5f\"}}, \"ternary\": {\"aaxis\": {\"gridcolor\": \"white\", \"linecolor\": \"white\", \"ticks\": \"\"}, \"baxis\": {\"gridcolor\": \"white\", \"linecolor\": \"white\", \"ticks\": \"\"}, \"bgcolor\": \"#E5ECF6\", \"caxis\": {\"gridcolor\": \"white\", \"linecolor\": \"white\", \"ticks\": \"\"}}, \"title\": {\"x\": 0.05}, \"xaxis\": {\"automargin\": true, \"gridcolor\": \"white\", \"linecolor\": \"white\", \"ticks\": \"\", \"title\": {\"standoff\": 15}, \"zerolinecolor\": \"white\", \"zerolinewidth\": 2}, \"yaxis\": {\"automargin\": true, \"gridcolor\": \"white\", \"linecolor\": \"white\", \"ticks\": \"\", \"title\": {\"standoff\": 15}, \"zerolinecolor\": \"white\", \"zerolinewidth\": 2}}}, \"title\": {\"text\": \"Count of places by district\"}},\n",
       "                        {\"responsive\": true}\n",
       "                    ).then(function(){\n",
       "                            \n",
       "var gd = document.getElementById('d327faaa-4d54-4b2e-b9e3-711d788bdbac');\n",
       "var x = new MutationObserver(function (mutations, observer) {{\n",
       "        var display = window.getComputedStyle(gd).display;\n",
       "        if (!display || display === 'none') {{\n",
       "            console.log([gd, 'removed!']);\n",
       "            Plotly.purge(gd);\n",
       "            observer.disconnect();\n",
       "        }}\n",
       "}});\n",
       "\n",
       "// Listen for the removal of the full notebook cells\n",
       "var notebookContainer = gd.closest('#notebook-container');\n",
       "if (notebookContainer) {{\n",
       "    x.observe(notebookContainer, {childList: true});\n",
       "}}\n",
       "\n",
       "// Listen for the clearing of the current output cell\n",
       "var outputEl = gd.closest('.output');\n",
       "if (outputEl) {{\n",
       "    x.observe(outputEl, {childList: true});\n",
       "}}\n",
       "\n",
       "                        })\n",
       "                };\n",
       "                });\n",
       "            </script>\n",
       "        </div>"
      ]
     },
     "metadata": {},
     "output_type": "display_data"
    }
   ],
   "source": [
    "district_labels = bakery_full_df['district'].value_counts().index\n",
    "district_values = bakery_full_df['district'].value_counts().values\n",
    "\n",
    "fig = px.pie(bakery_full_df, values=district_values, names=district_labels,\n",
    "            color_discrete_sequence=px.colors.sequential.Bluyl)\n",
    "fig.update_layout(\n",
    "    title = 'Count of places by district')\n",
    "fig.show()"
   ]
  },
  {
   "cell_type": "markdown",
   "metadata": {},
   "source": [
    "##### Look at the out frame grouping by district and lookin mean values"
   ]
  },
  {
   "cell_type": "code",
   "execution_count": 62,
   "metadata": {
    "ExecuteTime": {
     "end_time": "2020-07-10T07:34:57.438016Z",
     "start_time": "2020-07-10T07:34:57.414068Z"
    }
   },
   "outputs": [
    {
     "data": {
      "text/html": [
       "<div>\n",
       "<style scoped>\n",
       "    .dataframe tbody tr th:only-of-type {\n",
       "        vertical-align: middle;\n",
       "    }\n",
       "\n",
       "    .dataframe tbody tr th {\n",
       "        vertical-align: top;\n",
       "    }\n",
       "\n",
       "    .dataframe thead th {\n",
       "        text-align: right;\n",
       "    }\n",
       "</style>\n",
       "<table border=\"1\" class=\"dataframe\">\n",
       "  <thead>\n",
       "    <tr style=\"text-align: right;\">\n",
       "      <th></th>\n",
       "      <th>likes</th>\n",
       "      <th>dislike</th>\n",
       "      <th>rating</th>\n",
       "      <th>price</th>\n",
       "      <th>ok</th>\n",
       "      <th>ratingSignals</th>\n",
       "      <th>specials</th>\n",
       "      <th>tips</th>\n",
       "      <th>listed</th>\n",
       "      <th>lat</th>\n",
       "      <th>lng</th>\n",
       "      <th>dist_lat</th>\n",
       "      <th>dist_lng</th>\n",
       "      <th>distance</th>\n",
       "    </tr>\n",
       "    <tr>\n",
       "      <th>district</th>\n",
       "      <th></th>\n",
       "      <th></th>\n",
       "      <th></th>\n",
       "      <th></th>\n",
       "      <th></th>\n",
       "      <th></th>\n",
       "      <th></th>\n",
       "      <th></th>\n",
       "      <th></th>\n",
       "      <th></th>\n",
       "      <th></th>\n",
       "      <th></th>\n",
       "      <th></th>\n",
       "      <th></th>\n",
       "    </tr>\n",
       "  </thead>\n",
       "  <tbody>\n",
       "    <tr>\n",
       "      <th>Фрунзенский район</th>\n",
       "      <td>7.000000</td>\n",
       "      <td>False</td>\n",
       "      <td>3.525000</td>\n",
       "      <td>0.000000</td>\n",
       "      <td>False</td>\n",
       "      <td>11.500000</td>\n",
       "      <td>0.0</td>\n",
       "      <td>2.000000</td>\n",
       "      <td>1.500000</td>\n",
       "      <td>53.902638</td>\n",
       "      <td>27.459143</td>\n",
       "      <td>53.906236</td>\n",
       "      <td>27.453907</td>\n",
       "      <td>1959.875968</td>\n",
       "    </tr>\n",
       "    <tr>\n",
       "      <th>Октябрьский район</th>\n",
       "      <td>64.250000</td>\n",
       "      <td>False</td>\n",
       "      <td>3.612500</td>\n",
       "      <td>0.250000</td>\n",
       "      <td>False</td>\n",
       "      <td>96.625000</td>\n",
       "      <td>0.0</td>\n",
       "      <td>22.000000</td>\n",
       "      <td>14.000000</td>\n",
       "      <td>53.883407</td>\n",
       "      <td>27.543747</td>\n",
       "      <td>53.858930</td>\n",
       "      <td>27.538223</td>\n",
       "      <td>2869.849479</td>\n",
       "    </tr>\n",
       "    <tr>\n",
       "      <th>Центральный район</th>\n",
       "      <td>77.576923</td>\n",
       "      <td>False</td>\n",
       "      <td>4.092308</td>\n",
       "      <td>0.192308</td>\n",
       "      <td>False</td>\n",
       "      <td>133.461538</td>\n",
       "      <td>0.0</td>\n",
       "      <td>36.461538</td>\n",
       "      <td>16.384615</td>\n",
       "      <td>53.910286</td>\n",
       "      <td>27.542295</td>\n",
       "      <td>53.935766</td>\n",
       "      <td>27.521649</td>\n",
       "      <td>3554.805297</td>\n",
       "    </tr>\n",
       "    <tr>\n",
       "      <th>Заводской район</th>\n",
       "      <td>8.000000</td>\n",
       "      <td>False</td>\n",
       "      <td>4.325000</td>\n",
       "      <td>0.000000</td>\n",
       "      <td>False</td>\n",
       "      <td>14.250000</td>\n",
       "      <td>0.0</td>\n",
       "      <td>3.500000</td>\n",
       "      <td>0.000000</td>\n",
       "      <td>53.866953</td>\n",
       "      <td>27.655436</td>\n",
       "      <td>53.869370</td>\n",
       "      <td>27.647405</td>\n",
       "      <td>1423.422825</td>\n",
       "    </tr>\n",
       "    <tr>\n",
       "      <th>Советский район</th>\n",
       "      <td>59.347826</td>\n",
       "      <td>False</td>\n",
       "      <td>4.404348</td>\n",
       "      <td>0.173913</td>\n",
       "      <td>False</td>\n",
       "      <td>94.391304</td>\n",
       "      <td>0.0</td>\n",
       "      <td>24.130435</td>\n",
       "      <td>12.347826</td>\n",
       "      <td>53.924046</td>\n",
       "      <td>27.584748</td>\n",
       "      <td>53.940933</td>\n",
       "      <td>27.585951</td>\n",
       "      <td>2129.749178</td>\n",
       "    </tr>\n",
       "    <tr>\n",
       "      <th>Первомайский район</th>\n",
       "      <td>10.222222</td>\n",
       "      <td>False</td>\n",
       "      <td>4.433333</td>\n",
       "      <td>0.000000</td>\n",
       "      <td>False</td>\n",
       "      <td>18.222222</td>\n",
       "      <td>0.0</td>\n",
       "      <td>4.444444</td>\n",
       "      <td>0.666667</td>\n",
       "      <td>53.944241</td>\n",
       "      <td>27.653939</td>\n",
       "      <td>53.940165</td>\n",
       "      <td>27.646695</td>\n",
       "      <td>1718.138262</td>\n",
       "    </tr>\n",
       "    <tr>\n",
       "      <th>Московский район</th>\n",
       "      <td>80.200000</td>\n",
       "      <td>False</td>\n",
       "      <td>5.940000</td>\n",
       "      <td>0.400000</td>\n",
       "      <td>False</td>\n",
       "      <td>117.000000</td>\n",
       "      <td>0.0</td>\n",
       "      <td>33.200000</td>\n",
       "      <td>17.600000</td>\n",
       "      <td>53.875364</td>\n",
       "      <td>27.499770</td>\n",
       "      <td>53.871021</td>\n",
       "      <td>27.492966</td>\n",
       "      <td>2769.710420</td>\n",
       "    </tr>\n",
       "    <tr>\n",
       "      <th>Партизанский район</th>\n",
       "      <td>85.222222</td>\n",
       "      <td>False</td>\n",
       "      <td>5.955556</td>\n",
       "      <td>0.222222</td>\n",
       "      <td>False</td>\n",
       "      <td>147.666667</td>\n",
       "      <td>0.0</td>\n",
       "      <td>34.222222</td>\n",
       "      <td>16.333333</td>\n",
       "      <td>53.909168</td>\n",
       "      <td>27.595053</td>\n",
       "      <td>53.902873</td>\n",
       "      <td>27.634289</td>\n",
       "      <td>3315.887513</td>\n",
       "    </tr>\n",
       "  </tbody>\n",
       "</table>\n",
       "</div>"
      ],
      "text/plain": [
       "                        likes  dislike    rating     price     ok  \\\n",
       "district                                                            \n",
       "Фрунзенский район    7.000000    False  3.525000  0.000000  False   \n",
       "Октябрьский район   64.250000    False  3.612500  0.250000  False   \n",
       "Центральный район   77.576923    False  4.092308  0.192308  False   \n",
       "Заводской район      8.000000    False  4.325000  0.000000  False   \n",
       "Советский район     59.347826    False  4.404348  0.173913  False   \n",
       "Первомайский район  10.222222    False  4.433333  0.000000  False   \n",
       "Московский район    80.200000    False  5.940000  0.400000  False   \n",
       "Партизанский район  85.222222    False  5.955556  0.222222  False   \n",
       "\n",
       "                    ratingSignals  specials       tips     listed        lat  \\\n",
       "district                                                                       \n",
       "Фрунзенский район       11.500000       0.0   2.000000   1.500000  53.902638   \n",
       "Октябрьский район       96.625000       0.0  22.000000  14.000000  53.883407   \n",
       "Центральный район      133.461538       0.0  36.461538  16.384615  53.910286   \n",
       "Заводской район         14.250000       0.0   3.500000   0.000000  53.866953   \n",
       "Советский район         94.391304       0.0  24.130435  12.347826  53.924046   \n",
       "Первомайский район      18.222222       0.0   4.444444   0.666667  53.944241   \n",
       "Московский район       117.000000       0.0  33.200000  17.600000  53.875364   \n",
       "Партизанский район     147.666667       0.0  34.222222  16.333333  53.909168   \n",
       "\n",
       "                          lng   dist_lat   dist_lng     distance  \n",
       "district                                                          \n",
       "Фрунзенский район   27.459143  53.906236  27.453907  1959.875968  \n",
       "Октябрьский район   27.543747  53.858930  27.538223  2869.849479  \n",
       "Центральный район   27.542295  53.935766  27.521649  3554.805297  \n",
       "Заводской район     27.655436  53.869370  27.647405  1423.422825  \n",
       "Советский район     27.584748  53.940933  27.585951  2129.749178  \n",
       "Первомайский район  27.653939  53.940165  27.646695  1718.138262  \n",
       "Московский район    27.499770  53.871021  27.492966  2769.710420  \n",
       "Партизанский район  27.595053  53.902873  27.634289  3315.887513  "
      ]
     },
     "execution_count": 62,
     "metadata": {},
     "output_type": "execute_result"
    }
   ],
   "source": [
    "bakery_full_df.groupby('district').mean().sort_values([\"rating\",'price'])"
   ]
  },
  {
   "cell_type": "markdown",
   "metadata": {},
   "source": [
    "Now let's look mean rating through by every district"
   ]
  },
  {
   "cell_type": "code",
   "execution_count": 64,
   "metadata": {
    "ExecuteTime": {
     "end_time": "2020-07-10T07:36:14.315802Z",
     "start_time": "2020-07-10T07:36:14.287850Z"
    }
   },
   "outputs": [
    {
     "data": {
      "application/vnd.plotly.v1+json": {
       "config": {
        "plotlyServerURL": "https://plot.ly"
       },
       "data": [
        {
         "marker": {
          "color": "SeaGreen"
         },
         "name": "Mean rating",
         "text": [
          "4.33",
          "5.94",
          "3.61",
          "5.96",
          "4.43",
          "4.40",
          "3.53",
          "4.09"
         ],
         "textposition": "auto",
         "type": "bar",
         "x": [
          "Центральный район",
          "Советский район",
          "Первомайский район",
          "Партизанский район",
          "Октябрьский район",
          "Московский район",
          "Заводской район",
          "Фрунзенский район"
         ],
         "y": [
          4.325,
          5.9399999999999995,
          3.6125,
          5.955555555555555,
          4.433333333333334,
          4.404347826086957,
          3.5250000000000004,
          4.092307692307693
         ]
        },
        {
         "marker": {
          "color": "Khaki"
         },
         "name": "Count places",
         "text": [
          "26.00",
          "23.00",
          "9.00",
          "9.00",
          "8.00",
          "5.00",
          "4.00",
          "4.00"
         ],
         "textposition": "auto",
         "type": "bar",
         "x": [
          "Центральный район",
          "Советский район",
          "Первомайский район",
          "Партизанский район",
          "Октябрьский район",
          "Московский район",
          "Заводской район",
          "Фрунзенский район"
         ],
         "y": [
          26,
          23,
          9,
          9,
          8,
          5,
          4,
          4
         ]
        }
       ],
       "layout": {
        "barmode": "group",
        "template": {
         "data": {
          "bar": [
           {
            "error_x": {
             "color": "#2a3f5f"
            },
            "error_y": {
             "color": "#2a3f5f"
            },
            "marker": {
             "line": {
              "color": "#E5ECF6",
              "width": 0.5
             }
            },
            "type": "bar"
           }
          ],
          "barpolar": [
           {
            "marker": {
             "line": {
              "color": "#E5ECF6",
              "width": 0.5
             }
            },
            "type": "barpolar"
           }
          ],
          "carpet": [
           {
            "aaxis": {
             "endlinecolor": "#2a3f5f",
             "gridcolor": "white",
             "linecolor": "white",
             "minorgridcolor": "white",
             "startlinecolor": "#2a3f5f"
            },
            "baxis": {
             "endlinecolor": "#2a3f5f",
             "gridcolor": "white",
             "linecolor": "white",
             "minorgridcolor": "white",
             "startlinecolor": "#2a3f5f"
            },
            "type": "carpet"
           }
          ],
          "choropleth": [
           {
            "colorbar": {
             "outlinewidth": 0,
             "ticks": ""
            },
            "type": "choropleth"
           }
          ],
          "contour": [
           {
            "colorbar": {
             "outlinewidth": 0,
             "ticks": ""
            },
            "colorscale": [
             [
              0,
              "#0d0887"
             ],
             [
              0.1111111111111111,
              "#46039f"
             ],
             [
              0.2222222222222222,
              "#7201a8"
             ],
             [
              0.3333333333333333,
              "#9c179e"
             ],
             [
              0.4444444444444444,
              "#bd3786"
             ],
             [
              0.5555555555555556,
              "#d8576b"
             ],
             [
              0.6666666666666666,
              "#ed7953"
             ],
             [
              0.7777777777777778,
              "#fb9f3a"
             ],
             [
              0.8888888888888888,
              "#fdca26"
             ],
             [
              1,
              "#f0f921"
             ]
            ],
            "type": "contour"
           }
          ],
          "contourcarpet": [
           {
            "colorbar": {
             "outlinewidth": 0,
             "ticks": ""
            },
            "type": "contourcarpet"
           }
          ],
          "heatmap": [
           {
            "colorbar": {
             "outlinewidth": 0,
             "ticks": ""
            },
            "colorscale": [
             [
              0,
              "#0d0887"
             ],
             [
              0.1111111111111111,
              "#46039f"
             ],
             [
              0.2222222222222222,
              "#7201a8"
             ],
             [
              0.3333333333333333,
              "#9c179e"
             ],
             [
              0.4444444444444444,
              "#bd3786"
             ],
             [
              0.5555555555555556,
              "#d8576b"
             ],
             [
              0.6666666666666666,
              "#ed7953"
             ],
             [
              0.7777777777777778,
              "#fb9f3a"
             ],
             [
              0.8888888888888888,
              "#fdca26"
             ],
             [
              1,
              "#f0f921"
             ]
            ],
            "type": "heatmap"
           }
          ],
          "heatmapgl": [
           {
            "colorbar": {
             "outlinewidth": 0,
             "ticks": ""
            },
            "colorscale": [
             [
              0,
              "#0d0887"
             ],
             [
              0.1111111111111111,
              "#46039f"
             ],
             [
              0.2222222222222222,
              "#7201a8"
             ],
             [
              0.3333333333333333,
              "#9c179e"
             ],
             [
              0.4444444444444444,
              "#bd3786"
             ],
             [
              0.5555555555555556,
              "#d8576b"
             ],
             [
              0.6666666666666666,
              "#ed7953"
             ],
             [
              0.7777777777777778,
              "#fb9f3a"
             ],
             [
              0.8888888888888888,
              "#fdca26"
             ],
             [
              1,
              "#f0f921"
             ]
            ],
            "type": "heatmapgl"
           }
          ],
          "histogram": [
           {
            "marker": {
             "colorbar": {
              "outlinewidth": 0,
              "ticks": ""
             }
            },
            "type": "histogram"
           }
          ],
          "histogram2d": [
           {
            "colorbar": {
             "outlinewidth": 0,
             "ticks": ""
            },
            "colorscale": [
             [
              0,
              "#0d0887"
             ],
             [
              0.1111111111111111,
              "#46039f"
             ],
             [
              0.2222222222222222,
              "#7201a8"
             ],
             [
              0.3333333333333333,
              "#9c179e"
             ],
             [
              0.4444444444444444,
              "#bd3786"
             ],
             [
              0.5555555555555556,
              "#d8576b"
             ],
             [
              0.6666666666666666,
              "#ed7953"
             ],
             [
              0.7777777777777778,
              "#fb9f3a"
             ],
             [
              0.8888888888888888,
              "#fdca26"
             ],
             [
              1,
              "#f0f921"
             ]
            ],
            "type": "histogram2d"
           }
          ],
          "histogram2dcontour": [
           {
            "colorbar": {
             "outlinewidth": 0,
             "ticks": ""
            },
            "colorscale": [
             [
              0,
              "#0d0887"
             ],
             [
              0.1111111111111111,
              "#46039f"
             ],
             [
              0.2222222222222222,
              "#7201a8"
             ],
             [
              0.3333333333333333,
              "#9c179e"
             ],
             [
              0.4444444444444444,
              "#bd3786"
             ],
             [
              0.5555555555555556,
              "#d8576b"
             ],
             [
              0.6666666666666666,
              "#ed7953"
             ],
             [
              0.7777777777777778,
              "#fb9f3a"
             ],
             [
              0.8888888888888888,
              "#fdca26"
             ],
             [
              1,
              "#f0f921"
             ]
            ],
            "type": "histogram2dcontour"
           }
          ],
          "mesh3d": [
           {
            "colorbar": {
             "outlinewidth": 0,
             "ticks": ""
            },
            "type": "mesh3d"
           }
          ],
          "parcoords": [
           {
            "line": {
             "colorbar": {
              "outlinewidth": 0,
              "ticks": ""
             }
            },
            "type": "parcoords"
           }
          ],
          "pie": [
           {
            "automargin": true,
            "type": "pie"
           }
          ],
          "scatter": [
           {
            "marker": {
             "colorbar": {
              "outlinewidth": 0,
              "ticks": ""
             }
            },
            "type": "scatter"
           }
          ],
          "scatter3d": [
           {
            "line": {
             "colorbar": {
              "outlinewidth": 0,
              "ticks": ""
             }
            },
            "marker": {
             "colorbar": {
              "outlinewidth": 0,
              "ticks": ""
             }
            },
            "type": "scatter3d"
           }
          ],
          "scattercarpet": [
           {
            "marker": {
             "colorbar": {
              "outlinewidth": 0,
              "ticks": ""
             }
            },
            "type": "scattercarpet"
           }
          ],
          "scattergeo": [
           {
            "marker": {
             "colorbar": {
              "outlinewidth": 0,
              "ticks": ""
             }
            },
            "type": "scattergeo"
           }
          ],
          "scattergl": [
           {
            "marker": {
             "colorbar": {
              "outlinewidth": 0,
              "ticks": ""
             }
            },
            "type": "scattergl"
           }
          ],
          "scattermapbox": [
           {
            "marker": {
             "colorbar": {
              "outlinewidth": 0,
              "ticks": ""
             }
            },
            "type": "scattermapbox"
           }
          ],
          "scatterpolar": [
           {
            "marker": {
             "colorbar": {
              "outlinewidth": 0,
              "ticks": ""
             }
            },
            "type": "scatterpolar"
           }
          ],
          "scatterpolargl": [
           {
            "marker": {
             "colorbar": {
              "outlinewidth": 0,
              "ticks": ""
             }
            },
            "type": "scatterpolargl"
           }
          ],
          "scatterternary": [
           {
            "marker": {
             "colorbar": {
              "outlinewidth": 0,
              "ticks": ""
             }
            },
            "type": "scatterternary"
           }
          ],
          "surface": [
           {
            "colorbar": {
             "outlinewidth": 0,
             "ticks": ""
            },
            "colorscale": [
             [
              0,
              "#0d0887"
             ],
             [
              0.1111111111111111,
              "#46039f"
             ],
             [
              0.2222222222222222,
              "#7201a8"
             ],
             [
              0.3333333333333333,
              "#9c179e"
             ],
             [
              0.4444444444444444,
              "#bd3786"
             ],
             [
              0.5555555555555556,
              "#d8576b"
             ],
             [
              0.6666666666666666,
              "#ed7953"
             ],
             [
              0.7777777777777778,
              "#fb9f3a"
             ],
             [
              0.8888888888888888,
              "#fdca26"
             ],
             [
              1,
              "#f0f921"
             ]
            ],
            "type": "surface"
           }
          ],
          "table": [
           {
            "cells": {
             "fill": {
              "color": "#EBF0F8"
             },
             "line": {
              "color": "white"
             }
            },
            "header": {
             "fill": {
              "color": "#C8D4E3"
             },
             "line": {
              "color": "white"
             }
            },
            "type": "table"
           }
          ]
         },
         "layout": {
          "annotationdefaults": {
           "arrowcolor": "#2a3f5f",
           "arrowhead": 0,
           "arrowwidth": 1
          },
          "coloraxis": {
           "colorbar": {
            "outlinewidth": 0,
            "ticks": ""
           }
          },
          "colorscale": {
           "diverging": [
            [
             0,
             "#8e0152"
            ],
            [
             0.1,
             "#c51b7d"
            ],
            [
             0.2,
             "#de77ae"
            ],
            [
             0.3,
             "#f1b6da"
            ],
            [
             0.4,
             "#fde0ef"
            ],
            [
             0.5,
             "#f7f7f7"
            ],
            [
             0.6,
             "#e6f5d0"
            ],
            [
             0.7,
             "#b8e186"
            ],
            [
             0.8,
             "#7fbc41"
            ],
            [
             0.9,
             "#4d9221"
            ],
            [
             1,
             "#276419"
            ]
           ],
           "sequential": [
            [
             0,
             "#0d0887"
            ],
            [
             0.1111111111111111,
             "#46039f"
            ],
            [
             0.2222222222222222,
             "#7201a8"
            ],
            [
             0.3333333333333333,
             "#9c179e"
            ],
            [
             0.4444444444444444,
             "#bd3786"
            ],
            [
             0.5555555555555556,
             "#d8576b"
            ],
            [
             0.6666666666666666,
             "#ed7953"
            ],
            [
             0.7777777777777778,
             "#fb9f3a"
            ],
            [
             0.8888888888888888,
             "#fdca26"
            ],
            [
             1,
             "#f0f921"
            ]
           ],
           "sequentialminus": [
            [
             0,
             "#0d0887"
            ],
            [
             0.1111111111111111,
             "#46039f"
            ],
            [
             0.2222222222222222,
             "#7201a8"
            ],
            [
             0.3333333333333333,
             "#9c179e"
            ],
            [
             0.4444444444444444,
             "#bd3786"
            ],
            [
             0.5555555555555556,
             "#d8576b"
            ],
            [
             0.6666666666666666,
             "#ed7953"
            ],
            [
             0.7777777777777778,
             "#fb9f3a"
            ],
            [
             0.8888888888888888,
             "#fdca26"
            ],
            [
             1,
             "#f0f921"
            ]
           ]
          },
          "colorway": [
           "#636efa",
           "#EF553B",
           "#00cc96",
           "#ab63fa",
           "#FFA15A",
           "#19d3f3",
           "#FF6692",
           "#B6E880",
           "#FF97FF",
           "#FECB52"
          ],
          "font": {
           "color": "#2a3f5f"
          },
          "geo": {
           "bgcolor": "white",
           "lakecolor": "white",
           "landcolor": "#E5ECF6",
           "showlakes": true,
           "showland": true,
           "subunitcolor": "white"
          },
          "hoverlabel": {
           "align": "left"
          },
          "hovermode": "closest",
          "mapbox": {
           "style": "light"
          },
          "paper_bgcolor": "white",
          "plot_bgcolor": "#E5ECF6",
          "polar": {
           "angularaxis": {
            "gridcolor": "white",
            "linecolor": "white",
            "ticks": ""
           },
           "bgcolor": "#E5ECF6",
           "radialaxis": {
            "gridcolor": "white",
            "linecolor": "white",
            "ticks": ""
           }
          },
          "scene": {
           "xaxis": {
            "backgroundcolor": "#E5ECF6",
            "gridcolor": "white",
            "gridwidth": 2,
            "linecolor": "white",
            "showbackground": true,
            "ticks": "",
            "zerolinecolor": "white"
           },
           "yaxis": {
            "backgroundcolor": "#E5ECF6",
            "gridcolor": "white",
            "gridwidth": 2,
            "linecolor": "white",
            "showbackground": true,
            "ticks": "",
            "zerolinecolor": "white"
           },
           "zaxis": {
            "backgroundcolor": "#E5ECF6",
            "gridcolor": "white",
            "gridwidth": 2,
            "linecolor": "white",
            "showbackground": true,
            "ticks": "",
            "zerolinecolor": "white"
           }
          },
          "shapedefaults": {
           "line": {
            "color": "#2a3f5f"
           }
          },
          "ternary": {
           "aaxis": {
            "gridcolor": "white",
            "linecolor": "white",
            "ticks": ""
           },
           "baxis": {
            "gridcolor": "white",
            "linecolor": "white",
            "ticks": ""
           },
           "bgcolor": "#E5ECF6",
           "caxis": {
            "gridcolor": "white",
            "linecolor": "white",
            "ticks": ""
           }
          },
          "title": {
           "x": 0.05
          },
          "xaxis": {
           "automargin": true,
           "gridcolor": "white",
           "linecolor": "white",
           "ticks": "",
           "title": {
            "standoff": 15
           },
           "zerolinecolor": "white",
           "zerolinewidth": 2
          },
          "yaxis": {
           "automargin": true,
           "gridcolor": "white",
           "linecolor": "white",
           "ticks": "",
           "title": {
            "standoff": 15
           },
           "zerolinecolor": "white",
           "zerolinewidth": 2
          }
         }
        },
        "title": {
         "text": "Mean rating and count likes of places by district"
        }
       }
      },
      "text/html": [
       "<div>\n",
       "        \n",
       "        \n",
       "            <div id=\"a41f730a-ddec-4726-a406-c5423dc37c40\" class=\"plotly-graph-div\" style=\"height:525px; width:100%;\"></div>\n",
       "            <script type=\"text/javascript\">\n",
       "                require([\"plotly\"], function(Plotly) {\n",
       "                    window.PLOTLYENV=window.PLOTLYENV || {};\n",
       "                    \n",
       "                if (document.getElementById(\"a41f730a-ddec-4726-a406-c5423dc37c40\")) {\n",
       "                    Plotly.newPlot(\n",
       "                        'a41f730a-ddec-4726-a406-c5423dc37c40',\n",
       "                        [{\"marker\": {\"color\": \"SeaGreen\"}, \"name\": \"Mean rating\", \"text\": [\"4.33\", \"5.94\", \"3.61\", \"5.96\", \"4.43\", \"4.40\", \"3.53\", \"4.09\"], \"textposition\": \"auto\", \"type\": \"bar\", \"x\": [\"\\u0426\\u0435\\u043d\\u0442\\u0440\\u0430\\u043b\\u044c\\u043d\\u044b\\u0439 \\u0440\\u0430\\u0439\\u043e\\u043d\", \"\\u0421\\u043e\\u0432\\u0435\\u0442\\u0441\\u043a\\u0438\\u0439 \\u0440\\u0430\\u0439\\u043e\\u043d\", \"\\u041f\\u0435\\u0440\\u0432\\u043e\\u043c\\u0430\\u0439\\u0441\\u043a\\u0438\\u0439 \\u0440\\u0430\\u0439\\u043e\\u043d\", \"\\u041f\\u0430\\u0440\\u0442\\u0438\\u0437\\u0430\\u043d\\u0441\\u043a\\u0438\\u0439 \\u0440\\u0430\\u0439\\u043e\\u043d\", \"\\u041e\\u043a\\u0442\\u044f\\u0431\\u0440\\u044c\\u0441\\u043a\\u0438\\u0439 \\u0440\\u0430\\u0439\\u043e\\u043d\", \"\\u041c\\u043e\\u0441\\u043a\\u043e\\u0432\\u0441\\u043a\\u0438\\u0439 \\u0440\\u0430\\u0439\\u043e\\u043d\", \"\\u0417\\u0430\\u0432\\u043e\\u0434\\u0441\\u043a\\u043e\\u0439 \\u0440\\u0430\\u0439\\u043e\\u043d\", \"\\u0424\\u0440\\u0443\\u043d\\u0437\\u0435\\u043d\\u0441\\u043a\\u0438\\u0439 \\u0440\\u0430\\u0439\\u043e\\u043d\"], \"y\": [4.325, 5.9399999999999995, 3.6125, 5.955555555555555, 4.433333333333334, 4.404347826086957, 3.5250000000000004, 4.092307692307693]}, {\"marker\": {\"color\": \"Khaki\"}, \"name\": \"Count places\", \"text\": [\"26.00\", \"23.00\", \"9.00\", \"9.00\", \"8.00\", \"5.00\", \"4.00\", \"4.00\"], \"textposition\": \"auto\", \"type\": \"bar\", \"x\": [\"\\u0426\\u0435\\u043d\\u0442\\u0440\\u0430\\u043b\\u044c\\u043d\\u044b\\u0439 \\u0440\\u0430\\u0439\\u043e\\u043d\", \"\\u0421\\u043e\\u0432\\u0435\\u0442\\u0441\\u043a\\u0438\\u0439 \\u0440\\u0430\\u0439\\u043e\\u043d\", \"\\u041f\\u0435\\u0440\\u0432\\u043e\\u043c\\u0430\\u0439\\u0441\\u043a\\u0438\\u0439 \\u0440\\u0430\\u0439\\u043e\\u043d\", \"\\u041f\\u0430\\u0440\\u0442\\u0438\\u0437\\u0430\\u043d\\u0441\\u043a\\u0438\\u0439 \\u0440\\u0430\\u0439\\u043e\\u043d\", \"\\u041e\\u043a\\u0442\\u044f\\u0431\\u0440\\u044c\\u0441\\u043a\\u0438\\u0439 \\u0440\\u0430\\u0439\\u043e\\u043d\", \"\\u041c\\u043e\\u0441\\u043a\\u043e\\u0432\\u0441\\u043a\\u0438\\u0439 \\u0440\\u0430\\u0439\\u043e\\u043d\", \"\\u0417\\u0430\\u0432\\u043e\\u0434\\u0441\\u043a\\u043e\\u0439 \\u0440\\u0430\\u0439\\u043e\\u043d\", \"\\u0424\\u0440\\u0443\\u043d\\u0437\\u0435\\u043d\\u0441\\u043a\\u0438\\u0439 \\u0440\\u0430\\u0439\\u043e\\u043d\"], \"y\": [26, 23, 9, 9, 8, 5, 4, 4]}],\n",
       "                        {\"barmode\": \"group\", \"template\": {\"data\": {\"bar\": [{\"error_x\": {\"color\": \"#2a3f5f\"}, \"error_y\": {\"color\": \"#2a3f5f\"}, \"marker\": {\"line\": {\"color\": \"#E5ECF6\", \"width\": 0.5}}, \"type\": \"bar\"}], \"barpolar\": [{\"marker\": {\"line\": {\"color\": \"#E5ECF6\", \"width\": 0.5}}, \"type\": \"barpolar\"}], \"carpet\": [{\"aaxis\": {\"endlinecolor\": \"#2a3f5f\", \"gridcolor\": \"white\", \"linecolor\": \"white\", \"minorgridcolor\": \"white\", \"startlinecolor\": \"#2a3f5f\"}, \"baxis\": {\"endlinecolor\": \"#2a3f5f\", \"gridcolor\": \"white\", \"linecolor\": \"white\", \"minorgridcolor\": \"white\", \"startlinecolor\": \"#2a3f5f\"}, \"type\": \"carpet\"}], \"choropleth\": [{\"colorbar\": {\"outlinewidth\": 0, \"ticks\": \"\"}, \"type\": \"choropleth\"}], \"contour\": [{\"colorbar\": {\"outlinewidth\": 0, \"ticks\": \"\"}, \"colorscale\": [[0.0, \"#0d0887\"], [0.1111111111111111, \"#46039f\"], [0.2222222222222222, \"#7201a8\"], [0.3333333333333333, \"#9c179e\"], [0.4444444444444444, \"#bd3786\"], [0.5555555555555556, \"#d8576b\"], [0.6666666666666666, \"#ed7953\"], [0.7777777777777778, \"#fb9f3a\"], [0.8888888888888888, \"#fdca26\"], [1.0, \"#f0f921\"]], \"type\": \"contour\"}], \"contourcarpet\": [{\"colorbar\": {\"outlinewidth\": 0, \"ticks\": \"\"}, \"type\": \"contourcarpet\"}], \"heatmap\": [{\"colorbar\": {\"outlinewidth\": 0, \"ticks\": \"\"}, \"colorscale\": [[0.0, \"#0d0887\"], [0.1111111111111111, \"#46039f\"], [0.2222222222222222, \"#7201a8\"], [0.3333333333333333, \"#9c179e\"], [0.4444444444444444, \"#bd3786\"], [0.5555555555555556, \"#d8576b\"], [0.6666666666666666, \"#ed7953\"], [0.7777777777777778, \"#fb9f3a\"], [0.8888888888888888, \"#fdca26\"], [1.0, \"#f0f921\"]], \"type\": \"heatmap\"}], \"heatmapgl\": [{\"colorbar\": {\"outlinewidth\": 0, \"ticks\": \"\"}, \"colorscale\": [[0.0, \"#0d0887\"], [0.1111111111111111, \"#46039f\"], [0.2222222222222222, \"#7201a8\"], [0.3333333333333333, \"#9c179e\"], [0.4444444444444444, \"#bd3786\"], [0.5555555555555556, \"#d8576b\"], [0.6666666666666666, \"#ed7953\"], [0.7777777777777778, \"#fb9f3a\"], [0.8888888888888888, \"#fdca26\"], [1.0, \"#f0f921\"]], \"type\": \"heatmapgl\"}], \"histogram\": [{\"marker\": {\"colorbar\": {\"outlinewidth\": 0, \"ticks\": \"\"}}, \"type\": \"histogram\"}], \"histogram2d\": [{\"colorbar\": {\"outlinewidth\": 0, \"ticks\": \"\"}, \"colorscale\": [[0.0, \"#0d0887\"], [0.1111111111111111, \"#46039f\"], [0.2222222222222222, \"#7201a8\"], [0.3333333333333333, \"#9c179e\"], [0.4444444444444444, \"#bd3786\"], [0.5555555555555556, \"#d8576b\"], [0.6666666666666666, \"#ed7953\"], [0.7777777777777778, \"#fb9f3a\"], [0.8888888888888888, \"#fdca26\"], [1.0, \"#f0f921\"]], \"type\": \"histogram2d\"}], \"histogram2dcontour\": [{\"colorbar\": {\"outlinewidth\": 0, \"ticks\": \"\"}, \"colorscale\": [[0.0, \"#0d0887\"], [0.1111111111111111, \"#46039f\"], [0.2222222222222222, \"#7201a8\"], [0.3333333333333333, \"#9c179e\"], [0.4444444444444444, \"#bd3786\"], [0.5555555555555556, \"#d8576b\"], [0.6666666666666666, \"#ed7953\"], [0.7777777777777778, \"#fb9f3a\"], [0.8888888888888888, \"#fdca26\"], [1.0, \"#f0f921\"]], \"type\": \"histogram2dcontour\"}], \"mesh3d\": [{\"colorbar\": {\"outlinewidth\": 0, \"ticks\": \"\"}, \"type\": \"mesh3d\"}], \"parcoords\": [{\"line\": {\"colorbar\": {\"outlinewidth\": 0, \"ticks\": \"\"}}, \"type\": \"parcoords\"}], \"pie\": [{\"automargin\": true, \"type\": \"pie\"}], \"scatter\": [{\"marker\": {\"colorbar\": {\"outlinewidth\": 0, \"ticks\": \"\"}}, \"type\": \"scatter\"}], \"scatter3d\": [{\"line\": {\"colorbar\": {\"outlinewidth\": 0, \"ticks\": \"\"}}, \"marker\": {\"colorbar\": {\"outlinewidth\": 0, \"ticks\": \"\"}}, \"type\": \"scatter3d\"}], \"scattercarpet\": [{\"marker\": {\"colorbar\": {\"outlinewidth\": 0, \"ticks\": \"\"}}, \"type\": \"scattercarpet\"}], \"scattergeo\": [{\"marker\": {\"colorbar\": {\"outlinewidth\": 0, \"ticks\": \"\"}}, \"type\": \"scattergeo\"}], \"scattergl\": [{\"marker\": {\"colorbar\": {\"outlinewidth\": 0, \"ticks\": \"\"}}, \"type\": \"scattergl\"}], \"scattermapbox\": [{\"marker\": {\"colorbar\": {\"outlinewidth\": 0, \"ticks\": \"\"}}, \"type\": \"scattermapbox\"}], \"scatterpolar\": [{\"marker\": {\"colorbar\": {\"outlinewidth\": 0, \"ticks\": \"\"}}, \"type\": \"scatterpolar\"}], \"scatterpolargl\": [{\"marker\": {\"colorbar\": {\"outlinewidth\": 0, \"ticks\": \"\"}}, \"type\": \"scatterpolargl\"}], \"scatterternary\": [{\"marker\": {\"colorbar\": {\"outlinewidth\": 0, \"ticks\": \"\"}}, \"type\": \"scatterternary\"}], \"surface\": [{\"colorbar\": {\"outlinewidth\": 0, \"ticks\": \"\"}, \"colorscale\": [[0.0, \"#0d0887\"], [0.1111111111111111, \"#46039f\"], [0.2222222222222222, \"#7201a8\"], [0.3333333333333333, \"#9c179e\"], [0.4444444444444444, \"#bd3786\"], [0.5555555555555556, \"#d8576b\"], [0.6666666666666666, \"#ed7953\"], [0.7777777777777778, \"#fb9f3a\"], [0.8888888888888888, \"#fdca26\"], [1.0, \"#f0f921\"]], \"type\": \"surface\"}], \"table\": [{\"cells\": {\"fill\": {\"color\": \"#EBF0F8\"}, \"line\": {\"color\": \"white\"}}, \"header\": {\"fill\": {\"color\": \"#C8D4E3\"}, \"line\": {\"color\": \"white\"}}, \"type\": \"table\"}]}, \"layout\": {\"annotationdefaults\": {\"arrowcolor\": \"#2a3f5f\", \"arrowhead\": 0, \"arrowwidth\": 1}, \"coloraxis\": {\"colorbar\": {\"outlinewidth\": 0, \"ticks\": \"\"}}, \"colorscale\": {\"diverging\": [[0, \"#8e0152\"], [0.1, \"#c51b7d\"], [0.2, \"#de77ae\"], [0.3, \"#f1b6da\"], [0.4, \"#fde0ef\"], [0.5, \"#f7f7f7\"], [0.6, \"#e6f5d0\"], [0.7, \"#b8e186\"], [0.8, \"#7fbc41\"], [0.9, \"#4d9221\"], [1, \"#276419\"]], \"sequential\": [[0.0, \"#0d0887\"], [0.1111111111111111, \"#46039f\"], [0.2222222222222222, \"#7201a8\"], [0.3333333333333333, \"#9c179e\"], [0.4444444444444444, \"#bd3786\"], [0.5555555555555556, \"#d8576b\"], [0.6666666666666666, \"#ed7953\"], [0.7777777777777778, \"#fb9f3a\"], [0.8888888888888888, \"#fdca26\"], [1.0, \"#f0f921\"]], \"sequentialminus\": [[0.0, \"#0d0887\"], [0.1111111111111111, \"#46039f\"], [0.2222222222222222, \"#7201a8\"], [0.3333333333333333, \"#9c179e\"], [0.4444444444444444, \"#bd3786\"], [0.5555555555555556, \"#d8576b\"], [0.6666666666666666, \"#ed7953\"], [0.7777777777777778, \"#fb9f3a\"], [0.8888888888888888, \"#fdca26\"], [1.0, \"#f0f921\"]]}, \"colorway\": [\"#636efa\", \"#EF553B\", \"#00cc96\", \"#ab63fa\", \"#FFA15A\", \"#19d3f3\", \"#FF6692\", \"#B6E880\", \"#FF97FF\", \"#FECB52\"], \"font\": {\"color\": \"#2a3f5f\"}, \"geo\": {\"bgcolor\": \"white\", \"lakecolor\": \"white\", \"landcolor\": \"#E5ECF6\", \"showlakes\": true, \"showland\": true, \"subunitcolor\": \"white\"}, \"hoverlabel\": {\"align\": \"left\"}, \"hovermode\": \"closest\", \"mapbox\": {\"style\": \"light\"}, \"paper_bgcolor\": \"white\", \"plot_bgcolor\": \"#E5ECF6\", \"polar\": {\"angularaxis\": {\"gridcolor\": \"white\", \"linecolor\": \"white\", \"ticks\": \"\"}, \"bgcolor\": \"#E5ECF6\", \"radialaxis\": {\"gridcolor\": \"white\", \"linecolor\": \"white\", \"ticks\": \"\"}}, \"scene\": {\"xaxis\": {\"backgroundcolor\": \"#E5ECF6\", \"gridcolor\": \"white\", \"gridwidth\": 2, \"linecolor\": \"white\", \"showbackground\": true, \"ticks\": \"\", \"zerolinecolor\": \"white\"}, \"yaxis\": {\"backgroundcolor\": \"#E5ECF6\", \"gridcolor\": \"white\", \"gridwidth\": 2, \"linecolor\": \"white\", \"showbackground\": true, \"ticks\": \"\", \"zerolinecolor\": \"white\"}, \"zaxis\": {\"backgroundcolor\": \"#E5ECF6\", \"gridcolor\": \"white\", \"gridwidth\": 2, \"linecolor\": \"white\", \"showbackground\": true, \"ticks\": \"\", \"zerolinecolor\": \"white\"}}, \"shapedefaults\": {\"line\": {\"color\": \"#2a3f5f\"}}, \"ternary\": {\"aaxis\": {\"gridcolor\": \"white\", \"linecolor\": \"white\", \"ticks\": \"\"}, \"baxis\": {\"gridcolor\": \"white\", \"linecolor\": \"white\", \"ticks\": \"\"}, \"bgcolor\": \"#E5ECF6\", \"caxis\": {\"gridcolor\": \"white\", \"linecolor\": \"white\", \"ticks\": \"\"}}, \"title\": {\"x\": 0.05}, \"xaxis\": {\"automargin\": true, \"gridcolor\": \"white\", \"linecolor\": \"white\", \"ticks\": \"\", \"title\": {\"standoff\": 15}, \"zerolinecolor\": \"white\", \"zerolinewidth\": 2}, \"yaxis\": {\"automargin\": true, \"gridcolor\": \"white\", \"linecolor\": \"white\", \"ticks\": \"\", \"title\": {\"standoff\": 15}, \"zerolinecolor\": \"white\", \"zerolinewidth\": 2}}}, \"title\": {\"text\": \"Mean rating and count likes of places by district\"}},\n",
       "                        {\"responsive\": true}\n",
       "                    ).then(function(){\n",
       "                            \n",
       "var gd = document.getElementById('a41f730a-ddec-4726-a406-c5423dc37c40');\n",
       "var x = new MutationObserver(function (mutations, observer) {{\n",
       "        var display = window.getComputedStyle(gd).display;\n",
       "        if (!display || display === 'none') {{\n",
       "            console.log([gd, 'removed!']);\n",
       "            Plotly.purge(gd);\n",
       "            observer.disconnect();\n",
       "        }}\n",
       "}});\n",
       "\n",
       "// Listen for the removal of the full notebook cells\n",
       "var notebookContainer = gd.closest('#notebook-container');\n",
       "if (notebookContainer) {{\n",
       "    x.observe(notebookContainer, {childList: true});\n",
       "}}\n",
       "\n",
       "// Listen for the clearing of the current output cell\n",
       "var outputEl = gd.closest('.output');\n",
       "if (outputEl) {{\n",
       "    x.observe(outputEl, {childList: true});\n",
       "}}\n",
       "\n",
       "                        })\n",
       "                };\n",
       "                });\n",
       "            </script>\n",
       "        </div>"
      ]
     },
     "metadata": {},
     "output_type": "display_data"
    }
   ],
   "source": [
    "import plotly.graph_objects as go\n",
    "labels = bakery_full_df['district'].value_counts().index\n",
    "values_rat = bakery_full_df.groupby('district').mean()['rating']\n",
    "values_likes = bakery_full_df.groupby('district').mean()['likes']\n",
    "count_places = bakery_full_df['district'].value_counts().values\n",
    "\n",
    "fig = go.Figure(data=[\n",
    "    go.Bar(name='Mean rating', x=labels, y=values_rat,text=list(map('{:.2f}'.format,values_rat)),\n",
    "           textposition='auto',\n",
    "           marker_color='SeaGreen'),\n",
    "    go.Bar(name='Count places', x=labels, y=count_places,\n",
    "           text=list(map('{:.2f}'.format,count_places)), textposition='auto',\n",
    "           marker_color='Khaki')\n",
    "])\n",
    "# Change the bar mode\n",
    "fig.update_layout(barmode='group', title = 'Mean rating and count likes of places by district')\n",
    "fig.show()"
   ]
  },
  {
   "cell_type": "markdown",
   "metadata": {},
   "source": [
    "##### As we've seen the plot higher:\n",
    "    1. 'Центральный район' has most of bakeries in Minsk.\n",
    "    2. 'Партизанский район' has highest rating bakeries in Minsk.\n"
   ]
  },
  {
   "cell_type": "markdown",
   "metadata": {},
   "source": [
    "##### And now let's clustering our bakeries using K-means algorithm."
   ]
  },
  {
   "cell_type": "code",
   "execution_count": 65,
   "metadata": {
    "ExecuteTime": {
     "end_time": "2020-07-10T07:36:49.736437Z",
     "start_time": "2020-07-10T07:36:49.235768Z"
    }
   },
   "outputs": [],
   "source": [
    "kclusters = 5\n",
    "bakery_full_df_clustering = bakery_full_df[['likes','rating','price','ratingSignals','specials','tips','listed']]\n",
    "kmeans = KMeans(n_clusters=kclusters, random_state=0).fit(bakery_full_df_clustering)"
   ]
  },
  {
   "cell_type": "markdown",
   "metadata": {},
   "source": [
    "##### And create new df join the fitted clusters and id of bakeries."
   ]
  },
  {
   "cell_type": "code",
   "execution_count": 66,
   "metadata": {
    "ExecuteTime": {
     "end_time": "2020-07-10T07:36:55.481945Z",
     "start_time": "2020-07-10T07:36:55.476958Z"
    }
   },
   "outputs": [],
   "source": [
    "bakery_full_df['cluster'] = kmeans.labels_"
   ]
  },
  {
   "cell_type": "markdown",
   "metadata": {},
   "source": [
    "The count of bakeries in clusters you can show below:"
   ]
  },
  {
   "cell_type": "code",
   "execution_count": 95,
   "metadata": {
    "ExecuteTime": {
     "end_time": "2020-07-10T08:55:46.965759Z",
     "start_time": "2020-07-10T08:55:46.941767Z"
    }
   },
   "outputs": [
    {
     "data": {
      "text/plain": [
       "cluster\n",
       "0    73\n",
       "1     1\n",
       "2     3\n",
       "3     2\n",
       "4     9\n",
       "Name: id, dtype: int64"
      ]
     },
     "execution_count": 95,
     "metadata": {},
     "output_type": "execute_result"
    }
   ],
   "source": [
    "bakery_full_df.groupby('cluster').count()['id']"
   ]
  },
  {
   "cell_type": "code",
   "execution_count": 92,
   "metadata": {
    "ExecuteTime": {
     "end_time": "2020-07-10T07:58:30.557308Z",
     "start_time": "2020-07-10T07:58:30.530377Z"
    }
   },
   "outputs": [
    {
     "data": {
      "text/html": [
       "<div>\n",
       "<style scoped>\n",
       "    .dataframe tbody tr th:only-of-type {\n",
       "        vertical-align: middle;\n",
       "    }\n",
       "\n",
       "    .dataframe tbody tr th {\n",
       "        vertical-align: top;\n",
       "    }\n",
       "\n",
       "    .dataframe thead th {\n",
       "        text-align: right;\n",
       "    }\n",
       "</style>\n",
       "<table border=\"1\" class=\"dataframe\">\n",
       "  <thead>\n",
       "    <tr style=\"text-align: right;\">\n",
       "      <th></th>\n",
       "      <th>likes</th>\n",
       "      <th>dislike</th>\n",
       "      <th>rating</th>\n",
       "      <th>price</th>\n",
       "      <th>ok</th>\n",
       "      <th>ratingSignals</th>\n",
       "      <th>specials</th>\n",
       "      <th>tips</th>\n",
       "      <th>listed</th>\n",
       "      <th>lat</th>\n",
       "      <th>lng</th>\n",
       "      <th>dist_lat</th>\n",
       "      <th>dist_lng</th>\n",
       "      <th>distance</th>\n",
       "    </tr>\n",
       "    <tr>\n",
       "      <th>cluster</th>\n",
       "      <th></th>\n",
       "      <th></th>\n",
       "      <th></th>\n",
       "      <th></th>\n",
       "      <th></th>\n",
       "      <th></th>\n",
       "      <th></th>\n",
       "      <th></th>\n",
       "      <th></th>\n",
       "      <th></th>\n",
       "      <th></th>\n",
       "      <th></th>\n",
       "      <th></th>\n",
       "      <th></th>\n",
       "    </tr>\n",
       "  </thead>\n",
       "  <tbody>\n",
       "    <tr>\n",
       "      <th>0</th>\n",
       "      <td>12.054795</td>\n",
       "      <td>False</td>\n",
       "      <td>3.946575</td>\n",
       "      <td>0.000000</td>\n",
       "      <td>False</td>\n",
       "      <td>19.342466</td>\n",
       "      <td>0.0</td>\n",
       "      <td>5.205479</td>\n",
       "      <td>3.410959</td>\n",
       "      <td>53.912398</td>\n",
       "      <td>27.571215</td>\n",
       "      <td>53.919370</td>\n",
       "      <td>27.566475</td>\n",
       "      <td>2505.285722</td>\n",
       "    </tr>\n",
       "    <tr>\n",
       "      <th>1</th>\n",
       "      <td>1011.000000</td>\n",
       "      <td>False</td>\n",
       "      <td>7.900000</td>\n",
       "      <td>2.000000</td>\n",
       "      <td>False</td>\n",
       "      <td>1541.000000</td>\n",
       "      <td>0.0</td>\n",
       "      <td>357.000000</td>\n",
       "      <td>229.000000</td>\n",
       "      <td>53.912388</td>\n",
       "      <td>27.580818</td>\n",
       "      <td>53.940933</td>\n",
       "      <td>27.585951</td>\n",
       "      <td>3195.005240</td>\n",
       "    </tr>\n",
       "    <tr>\n",
       "      <th>2</th>\n",
       "      <td>355.000000</td>\n",
       "      <td>False</td>\n",
       "      <td>7.666667</td>\n",
       "      <td>2.000000</td>\n",
       "      <td>False</td>\n",
       "      <td>551.333333</td>\n",
       "      <td>0.0</td>\n",
       "      <td>125.333333</td>\n",
       "      <td>70.000000</td>\n",
       "      <td>53.878120</td>\n",
       "      <td>27.537466</td>\n",
       "      <td>53.877608</td>\n",
       "      <td>27.555159</td>\n",
       "      <td>2751.988208</td>\n",
       "    </tr>\n",
       "    <tr>\n",
       "      <th>3</th>\n",
       "      <td>436.000000</td>\n",
       "      <td>False</td>\n",
       "      <td>6.300000</td>\n",
       "      <td>1.000000</td>\n",
       "      <td>False</td>\n",
       "      <td>809.500000</td>\n",
       "      <td>0.0</td>\n",
       "      <td>235.000000</td>\n",
       "      <td>29.000000</td>\n",
       "      <td>53.903553</td>\n",
       "      <td>27.555421</td>\n",
       "      <td>53.935766</td>\n",
       "      <td>27.521649</td>\n",
       "      <td>4241.786574</td>\n",
       "    </tr>\n",
       "    <tr>\n",
       "      <th>4</th>\n",
       "      <td>154.222222</td>\n",
       "      <td>False</td>\n",
       "      <td>6.622222</td>\n",
       "      <td>0.555556</td>\n",
       "      <td>False</td>\n",
       "      <td>263.222222</td>\n",
       "      <td>0.0</td>\n",
       "      <td>70.222222</td>\n",
       "      <td>35.888889</td>\n",
       "      <td>53.907192</td>\n",
       "      <td>27.566023</td>\n",
       "      <td>53.925376</td>\n",
       "      <td>27.566340</td>\n",
       "      <td>3803.949240</td>\n",
       "    </tr>\n",
       "  </tbody>\n",
       "</table>\n",
       "</div>"
      ],
      "text/plain": [
       "               likes  dislike    rating     price     ok  ratingSignals  \\\n",
       "cluster                                                                   \n",
       "0          12.054795    False  3.946575  0.000000  False      19.342466   \n",
       "1        1011.000000    False  7.900000  2.000000  False    1541.000000   \n",
       "2         355.000000    False  7.666667  2.000000  False     551.333333   \n",
       "3         436.000000    False  6.300000  1.000000  False     809.500000   \n",
       "4         154.222222    False  6.622222  0.555556  False     263.222222   \n",
       "\n",
       "         specials        tips      listed        lat        lng   dist_lat  \\\n",
       "cluster                                                                      \n",
       "0             0.0    5.205479    3.410959  53.912398  27.571215  53.919370   \n",
       "1             0.0  357.000000  229.000000  53.912388  27.580818  53.940933   \n",
       "2             0.0  125.333333   70.000000  53.878120  27.537466  53.877608   \n",
       "3             0.0  235.000000   29.000000  53.903553  27.555421  53.935766   \n",
       "4             0.0   70.222222   35.888889  53.907192  27.566023  53.925376   \n",
       "\n",
       "          dist_lng     distance  \n",
       "cluster                          \n",
       "0        27.566475  2505.285722  \n",
       "1        27.585951  3195.005240  \n",
       "2        27.555159  2751.988208  \n",
       "3        27.521649  4241.786574  \n",
       "4        27.566340  3803.949240  "
      ]
     },
     "execution_count": 92,
     "metadata": {},
     "output_type": "execute_result"
    }
   ],
   "source": [
    "bakery_full_df.groupby('cluster').mean()"
   ]
  },
  {
   "cell_type": "markdown",
   "metadata": {},
   "source": [
    "As we've seen our bakeries is separated by 5 different clusters and the best places in 1 and 2 cluster, because it has the best rating and likes.\n",
    "I definately going to visit this places because it has the best ratings and likes. "
   ]
  },
  {
   "cell_type": "code",
   "execution_count": 69,
   "metadata": {
    "ExecuteTime": {
     "end_time": "2020-07-10T07:38:26.275455Z",
     "start_time": "2020-07-10T07:38:26.248550Z"
    }
   },
   "outputs": [
    {
     "data": {
      "text/html": [
       "<div>\n",
       "<style scoped>\n",
       "    .dataframe tbody tr th:only-of-type {\n",
       "        vertical-align: middle;\n",
       "    }\n",
       "\n",
       "    .dataframe tbody tr th {\n",
       "        vertical-align: top;\n",
       "    }\n",
       "\n",
       "    .dataframe thead th {\n",
       "        text-align: right;\n",
       "    }\n",
       "</style>\n",
       "<table border=\"1\" class=\"dataframe\">\n",
       "  <thead>\n",
       "    <tr style=\"text-align: right;\">\n",
       "      <th></th>\n",
       "      <th>id</th>\n",
       "      <th>likes</th>\n",
       "      <th>dislike</th>\n",
       "      <th>rating</th>\n",
       "      <th>url</th>\n",
       "      <th>price</th>\n",
       "      <th>ok</th>\n",
       "      <th>ratingSignals</th>\n",
       "      <th>specials</th>\n",
       "      <th>tips</th>\n",
       "      <th>...</th>\n",
       "      <th>summary</th>\n",
       "      <th>name</th>\n",
       "      <th>lat</th>\n",
       "      <th>lng</th>\n",
       "      <th>categories</th>\n",
       "      <th>dist_lat</th>\n",
       "      <th>dist_lng</th>\n",
       "      <th>distance</th>\n",
       "      <th>latin_name</th>\n",
       "      <th>cluster</th>\n",
       "    </tr>\n",
       "  </thead>\n",
       "  <tbody>\n",
       "    <tr>\n",
       "      <th>8</th>\n",
       "      <td>4f7afb6ae4b02579039ddc3f</td>\n",
       "      <td>1011</td>\n",
       "      <td>False</td>\n",
       "      <td>7.9</td>\n",
       "      <td>http://cafezerno.by</td>\n",
       "      <td>2</td>\n",
       "      <td>False</td>\n",
       "      <td>1541</td>\n",
       "      <td>0</td>\n",
       "      <td>357</td>\n",
       "      <td>...</td>\n",
       "      <td>This spot is popular</td>\n",
       "      <td>Зерно</td>\n",
       "      <td>53.912388</td>\n",
       "      <td>27.580818</td>\n",
       "      <td>Bakery</td>\n",
       "      <td>53.940933</td>\n",
       "      <td>27.585951</td>\n",
       "      <td>3195.00524</td>\n",
       "      <td>Zerno</td>\n",
       "      <td>1</td>\n",
       "    </tr>\n",
       "  </tbody>\n",
       "</table>\n",
       "<p>1 rows × 22 columns</p>\n",
       "</div>"
      ],
      "text/plain": [
       "                         id  likes  dislike  rating                  url  \\\n",
       "8  4f7afb6ae4b02579039ddc3f   1011    False     7.9  http://cafezerno.by   \n",
       "\n",
       "   price     ok  ratingSignals  specials  tips  ...               summary  \\\n",
       "8      2  False           1541         0   357  ...  This spot is popular   \n",
       "\n",
       "    name        lat        lng  categories   dist_lat   dist_lng    distance  \\\n",
       "8  Зерно  53.912388  27.580818      Bakery  53.940933  27.585951  3195.00524   \n",
       "\n",
       "   latin_name  cluster  \n",
       "8       Zerno        1  \n",
       "\n",
       "[1 rows x 22 columns]"
      ]
     },
     "execution_count": 69,
     "metadata": {},
     "output_type": "execute_result"
    }
   ],
   "source": [
    "bakery_full_df[bakery_full_df['cluster'] == 1]"
   ]
  },
  {
   "cell_type": "code",
   "execution_count": 70,
   "metadata": {
    "ExecuteTime": {
     "end_time": "2020-07-10T07:38:33.891185Z",
     "start_time": "2020-07-10T07:38:33.863260Z"
    }
   },
   "outputs": [
    {
     "data": {
      "text/html": [
       "<div>\n",
       "<style scoped>\n",
       "    .dataframe tbody tr th:only-of-type {\n",
       "        vertical-align: middle;\n",
       "    }\n",
       "\n",
       "    .dataframe tbody tr th {\n",
       "        vertical-align: top;\n",
       "    }\n",
       "\n",
       "    .dataframe thead th {\n",
       "        text-align: right;\n",
       "    }\n",
       "</style>\n",
       "<table border=\"1\" class=\"dataframe\">\n",
       "  <thead>\n",
       "    <tr style=\"text-align: right;\">\n",
       "      <th></th>\n",
       "      <th>id</th>\n",
       "      <th>likes</th>\n",
       "      <th>dislike</th>\n",
       "      <th>rating</th>\n",
       "      <th>url</th>\n",
       "      <th>price</th>\n",
       "      <th>ok</th>\n",
       "      <th>ratingSignals</th>\n",
       "      <th>specials</th>\n",
       "      <th>tips</th>\n",
       "      <th>...</th>\n",
       "      <th>summary</th>\n",
       "      <th>name</th>\n",
       "      <th>lat</th>\n",
       "      <th>lng</th>\n",
       "      <th>categories</th>\n",
       "      <th>dist_lat</th>\n",
       "      <th>dist_lng</th>\n",
       "      <th>distance</th>\n",
       "      <th>latin_name</th>\n",
       "      <th>cluster</th>\n",
       "    </tr>\n",
       "  </thead>\n",
       "  <tbody>\n",
       "    <tr>\n",
       "      <th>33</th>\n",
       "      <td>54fee005498e8e467263436b</td>\n",
       "      <td>340</td>\n",
       "      <td>False</td>\n",
       "      <td>7.0</td>\n",
       "      <td>http://www.cafezerno.by</td>\n",
       "      <td>2</td>\n",
       "      <td>False</td>\n",
       "      <td>588</td>\n",
       "      <td>0</td>\n",
       "      <td>103</td>\n",
       "      <td>...</td>\n",
       "      <td>This spot is popular</td>\n",
       "      <td>Зерно</td>\n",
       "      <td>53.908389</td>\n",
       "      <td>27.581433</td>\n",
       "      <td>Coffee Shop</td>\n",
       "      <td>53.902873</td>\n",
       "      <td>27.634289</td>\n",
       "      <td>3527.768989</td>\n",
       "      <td>Zerno</td>\n",
       "      <td>2</td>\n",
       "    </tr>\n",
       "    <tr>\n",
       "      <th>0</th>\n",
       "      <td>4bfcf7b58992a593595fabb0</td>\n",
       "      <td>399</td>\n",
       "      <td>False</td>\n",
       "      <td>7.3</td>\n",
       "      <td>http://cafe-bakery.relax.by</td>\n",
       "      <td>2</td>\n",
       "      <td>False</td>\n",
       "      <td>601</td>\n",
       "      <td>0</td>\n",
       "      <td>142</td>\n",
       "      <td>...</td>\n",
       "      <td>This spot is popular</td>\n",
       "      <td>Бейкери дю Солей</td>\n",
       "      <td>53.876255</td>\n",
       "      <td>27.553004</td>\n",
       "      <td>Bakery</td>\n",
       "      <td>53.858930</td>\n",
       "      <td>27.538223</td>\n",
       "      <td>2159.566939</td>\n",
       "      <td>Bejkeri dju Solej</td>\n",
       "      <td>2</td>\n",
       "    </tr>\n",
       "    <tr>\n",
       "      <th>19</th>\n",
       "      <td>50f17208e4b08ef910e45079</td>\n",
       "      <td>326</td>\n",
       "      <td>False</td>\n",
       "      <td>8.7</td>\n",
       "      <td>http://moulin.relax.by</td>\n",
       "      <td>2</td>\n",
       "      <td>False</td>\n",
       "      <td>465</td>\n",
       "      <td>0</td>\n",
       "      <td>131</td>\n",
       "      <td>...</td>\n",
       "      <td>This spot is popular</td>\n",
       "      <td>Moulin</td>\n",
       "      <td>53.849716</td>\n",
       "      <td>27.477960</td>\n",
       "      <td>Bakery</td>\n",
       "      <td>53.871021</td>\n",
       "      <td>27.492966</td>\n",
       "      <td>2568.628695</td>\n",
       "      <td>Moulin</td>\n",
       "      <td>2</td>\n",
       "    </tr>\n",
       "  </tbody>\n",
       "</table>\n",
       "<p>3 rows × 22 columns</p>\n",
       "</div>"
      ],
      "text/plain": [
       "                          id  likes  dislike  rating  \\\n",
       "33  54fee005498e8e467263436b    340    False     7.0   \n",
       "0   4bfcf7b58992a593595fabb0    399    False     7.3   \n",
       "19  50f17208e4b08ef910e45079    326    False     8.7   \n",
       "\n",
       "                            url  price     ok  ratingSignals  specials  tips  \\\n",
       "33      http://www.cafezerno.by      2  False            588         0   103   \n",
       "0   http://cafe-bakery.relax.by      2  False            601         0   142   \n",
       "19       http://moulin.relax.by      2  False            465         0   131   \n",
       "\n",
       "    ...               summary              name        lat        lng  \\\n",
       "33  ...  This spot is popular             Зерно  53.908389  27.581433   \n",
       "0   ...  This spot is popular  Бейкери дю Солей  53.876255  27.553004   \n",
       "19  ...  This spot is popular            Moulin  53.849716  27.477960   \n",
       "\n",
       "     categories   dist_lat   dist_lng     distance         latin_name  cluster  \n",
       "33  Coffee Shop  53.902873  27.634289  3527.768989              Zerno        2  \n",
       "0        Bakery  53.858930  27.538223  2159.566939  Bejkeri dju Solej        2  \n",
       "19       Bakery  53.871021  27.492966  2568.628695             Moulin        2  \n",
       "\n",
       "[3 rows x 22 columns]"
      ]
     },
     "execution_count": 70,
     "metadata": {},
     "output_type": "execute_result"
    }
   ],
   "source": [
    "bakery_full_df[bakery_full_df['cluster'] == 2]"
   ]
  },
  {
   "cell_type": "code",
   "execution_count": 68,
   "metadata": {
    "ExecuteTime": {
     "end_time": "2020-07-10T07:38:04.736585Z",
     "start_time": "2020-07-10T07:38:04.687686Z"
    }
   },
   "outputs": [
    {
     "data": {
      "text/html": [
       "<div>\n",
       "<style scoped>\n",
       "    .dataframe tbody tr th:only-of-type {\n",
       "        vertical-align: middle;\n",
       "    }\n",
       "\n",
       "    .dataframe tbody tr th {\n",
       "        vertical-align: top;\n",
       "    }\n",
       "\n",
       "    .dataframe thead th {\n",
       "        text-align: right;\n",
       "    }\n",
       "</style>\n",
       "<table border=\"1\" class=\"dataframe\">\n",
       "  <thead>\n",
       "    <tr style=\"text-align: right;\">\n",
       "      <th></th>\n",
       "      <th>id</th>\n",
       "      <th>likes</th>\n",
       "      <th>dislike</th>\n",
       "      <th>rating</th>\n",
       "      <th>url</th>\n",
       "      <th>price</th>\n",
       "      <th>ok</th>\n",
       "      <th>ratingSignals</th>\n",
       "      <th>specials</th>\n",
       "      <th>tips</th>\n",
       "      <th>...</th>\n",
       "      <th>summary</th>\n",
       "      <th>name</th>\n",
       "      <th>lat</th>\n",
       "      <th>lng</th>\n",
       "      <th>categories</th>\n",
       "      <th>dist_lat</th>\n",
       "      <th>dist_lng</th>\n",
       "      <th>distance</th>\n",
       "      <th>latin_name</th>\n",
       "      <th>cluster</th>\n",
       "    </tr>\n",
       "  </thead>\n",
       "  <tbody>\n",
       "    <tr>\n",
       "      <th>12</th>\n",
       "      <td>500209b9e4b0382b9ff4bff1</td>\n",
       "      <td>3</td>\n",
       "      <td>False</td>\n",
       "      <td>0.0</td>\n",
       "      <td>http://www.minskhleb.by/shop/magaziny/kropotki...</td>\n",
       "      <td>0</td>\n",
       "      <td>False</td>\n",
       "      <td>0</td>\n",
       "      <td>0</td>\n",
       "      <td>1</td>\n",
       "      <td>...</td>\n",
       "      <td>This spot is popular</td>\n",
       "      <td>Горячий хлеб</td>\n",
       "      <td>53.915330</td>\n",
       "      <td>27.556110</td>\n",
       "      <td>Bakery</td>\n",
       "      <td>53.935766</td>\n",
       "      <td>27.521649</td>\n",
       "      <td>3209.216204</td>\n",
       "      <td>Gorjachij hleb</td>\n",
       "      <td>0</td>\n",
       "    </tr>\n",
       "    <tr>\n",
       "      <th>13</th>\n",
       "      <td>50053087e4b067e568e868a4</td>\n",
       "      <td>1</td>\n",
       "      <td>False</td>\n",
       "      <td>0.0</td>\n",
       "      <td>0</td>\n",
       "      <td>0</td>\n",
       "      <td>False</td>\n",
       "      <td>0</td>\n",
       "      <td>0</td>\n",
       "      <td>1</td>\n",
       "      <td>...</td>\n",
       "      <td>This spot is popular</td>\n",
       "      <td>Блинная</td>\n",
       "      <td>53.947467</td>\n",
       "      <td>27.697553</td>\n",
       "      <td>Bakery</td>\n",
       "      <td>53.940165</td>\n",
       "      <td>27.646695</td>\n",
       "      <td>3437.002784</td>\n",
       "      <td>Blinnaja</td>\n",
       "      <td>0</td>\n",
       "    </tr>\n",
       "    <tr>\n",
       "      <th>15</th>\n",
       "      <td>5034a5efe4b0df9e2d41e90f</td>\n",
       "      <td>1</td>\n",
       "      <td>False</td>\n",
       "      <td>0.0</td>\n",
       "      <td>0</td>\n",
       "      <td>0</td>\n",
       "      <td>False</td>\n",
       "      <td>0</td>\n",
       "      <td>0</td>\n",
       "      <td>1</td>\n",
       "      <td>...</td>\n",
       "      <td>This spot is popular</td>\n",
       "      <td>Магазин-кафетерий</td>\n",
       "      <td>53.905548</td>\n",
       "      <td>27.546128</td>\n",
       "      <td>Dessert Shop</td>\n",
       "      <td>53.935766</td>\n",
       "      <td>27.521649</td>\n",
       "      <td>3728.122070</td>\n",
       "      <td>Magazin-kafeterij</td>\n",
       "      <td>0</td>\n",
       "    </tr>\n",
       "    <tr>\n",
       "      <th>16</th>\n",
       "      <td>5052fc61e4b0e932c7c1e6e1</td>\n",
       "      <td>0</td>\n",
       "      <td>False</td>\n",
       "      <td>0.0</td>\n",
       "      <td>0</td>\n",
       "      <td>0</td>\n",
       "      <td>False</td>\n",
       "      <td>0</td>\n",
       "      <td>0</td>\n",
       "      <td>1</td>\n",
       "      <td>...</td>\n",
       "      <td>This spot is popular</td>\n",
       "      <td>Дольче</td>\n",
       "      <td>53.897342</td>\n",
       "      <td>27.531783</td>\n",
       "      <td>Bakery</td>\n",
       "      <td>53.871021</td>\n",
       "      <td>27.492966</td>\n",
       "      <td>3885.600282</td>\n",
       "      <td>Dol'che</td>\n",
       "      <td>0</td>\n",
       "    </tr>\n",
       "    <tr>\n",
       "      <th>17</th>\n",
       "      <td>5061818c498e317f7b87b976</td>\n",
       "      <td>2</td>\n",
       "      <td>False</td>\n",
       "      <td>0.0</td>\n",
       "      <td>0</td>\n",
       "      <td>0</td>\n",
       "      <td>False</td>\n",
       "      <td>0</td>\n",
       "      <td>0</td>\n",
       "      <td>2</td>\n",
       "      <td>...</td>\n",
       "      <td>This spot is popular</td>\n",
       "      <td>Свежий хлеб</td>\n",
       "      <td>53.863331</td>\n",
       "      <td>27.524038</td>\n",
       "      <td>Bakery</td>\n",
       "      <td>53.858930</td>\n",
       "      <td>27.538223</td>\n",
       "      <td>1054.003230</td>\n",
       "      <td>Svezhij hleb</td>\n",
       "      <td>0</td>\n",
       "    </tr>\n",
       "    <tr>\n",
       "      <th>...</th>\n",
       "      <td>...</td>\n",
       "      <td>...</td>\n",
       "      <td>...</td>\n",
       "      <td>...</td>\n",
       "      <td>...</td>\n",
       "      <td>...</td>\n",
       "      <td>...</td>\n",
       "      <td>...</td>\n",
       "      <td>...</td>\n",
       "      <td>...</td>\n",
       "      <td>...</td>\n",
       "      <td>...</td>\n",
       "      <td>...</td>\n",
       "      <td>...</td>\n",
       "      <td>...</td>\n",
       "      <td>...</td>\n",
       "      <td>...</td>\n",
       "      <td>...</td>\n",
       "      <td>...</td>\n",
       "      <td>...</td>\n",
       "      <td>...</td>\n",
       "    </tr>\n",
       "    <tr>\n",
       "      <th>37</th>\n",
       "      <td>566d54ce498e2d31443a01c7</td>\n",
       "      <td>11</td>\n",
       "      <td>False</td>\n",
       "      <td>8.1</td>\n",
       "      <td>https://vk.com/hata_cake_coffee</td>\n",
       "      <td>0</td>\n",
       "      <td>False</td>\n",
       "      <td>17</td>\n",
       "      <td>0</td>\n",
       "      <td>5</td>\n",
       "      <td>...</td>\n",
       "      <td>This spot is popular</td>\n",
       "      <td>hata</td>\n",
       "      <td>53.912347</td>\n",
       "      <td>27.678615</td>\n",
       "      <td>Bakery</td>\n",
       "      <td>53.902873</td>\n",
       "      <td>27.634289</td>\n",
       "      <td>3098.129277</td>\n",
       "      <td>hata</td>\n",
       "      <td>0</td>\n",
       "    </tr>\n",
       "    <tr>\n",
       "      <th>49</th>\n",
       "      <td>57ca89d5498e98eee9c81eea</td>\n",
       "      <td>35</td>\n",
       "      <td>False</td>\n",
       "      <td>8.1</td>\n",
       "      <td>http://dolcelux.by</td>\n",
       "      <td>0</td>\n",
       "      <td>False</td>\n",
       "      <td>52</td>\n",
       "      <td>0</td>\n",
       "      <td>11</td>\n",
       "      <td>...</td>\n",
       "      <td>This spot is popular</td>\n",
       "      <td>Dolce</td>\n",
       "      <td>53.849513</td>\n",
       "      <td>27.478079</td>\n",
       "      <td>Bakery</td>\n",
       "      <td>53.871021</td>\n",
       "      <td>27.492966</td>\n",
       "      <td>2586.506701</td>\n",
       "      <td>Dolce</td>\n",
       "      <td>0</td>\n",
       "    </tr>\n",
       "    <tr>\n",
       "      <th>32</th>\n",
       "      <td>5473097b498e2d4d05afda1b</td>\n",
       "      <td>47</td>\n",
       "      <td>False</td>\n",
       "      <td>8.4</td>\n",
       "      <td>http://pankruassan.relax.by</td>\n",
       "      <td>0</td>\n",
       "      <td>False</td>\n",
       "      <td>62</td>\n",
       "      <td>0</td>\n",
       "      <td>13</td>\n",
       "      <td>...</td>\n",
       "      <td>This spot is popular</td>\n",
       "      <td>Пан Круассан</td>\n",
       "      <td>53.929749</td>\n",
       "      <td>27.541323</td>\n",
       "      <td>Bakery</td>\n",
       "      <td>53.935766</td>\n",
       "      <td>27.521649</td>\n",
       "      <td>1455.442338</td>\n",
       "      <td>Pan Kruassan</td>\n",
       "      <td>0</td>\n",
       "    </tr>\n",
       "    <tr>\n",
       "      <th>84</th>\n",
       "      <td>5daaf67ff74cbf0008dbe6ac</td>\n",
       "      <td>6</td>\n",
       "      <td>False</td>\n",
       "      <td>8.4</td>\n",
       "      <td>0</td>\n",
       "      <td>0</td>\n",
       "      <td>False</td>\n",
       "      <td>10</td>\n",
       "      <td>0</td>\n",
       "      <td>5</td>\n",
       "      <td>...</td>\n",
       "      <td>This spot is popular</td>\n",
       "      <td>Территория Кофе</td>\n",
       "      <td>53.927440</td>\n",
       "      <td>27.606528</td>\n",
       "      <td>Coffee Shop</td>\n",
       "      <td>53.940933</td>\n",
       "      <td>27.585951</td>\n",
       "      <td>2020.387943</td>\n",
       "      <td>Territorija Kofe</td>\n",
       "      <td>0</td>\n",
       "    </tr>\n",
       "    <tr>\n",
       "      <th>57</th>\n",
       "      <td>58cc09b34bc2f11fb1125d5d</td>\n",
       "      <td>65</td>\n",
       "      <td>False</td>\n",
       "      <td>8.7</td>\n",
       "      <td>https://bro-bakery.relax.by</td>\n",
       "      <td>0</td>\n",
       "      <td>False</td>\n",
       "      <td>93</td>\n",
       "      <td>0</td>\n",
       "      <td>26</td>\n",
       "      <td>...</td>\n",
       "      <td>This spot is popular</td>\n",
       "      <td>Brø Bakery</td>\n",
       "      <td>53.906497</td>\n",
       "      <td>27.585068</td>\n",
       "      <td>Bakery</td>\n",
       "      <td>53.902873</td>\n",
       "      <td>27.634289</td>\n",
       "      <td>3260.094450</td>\n",
       "      <td>Brø Bakery</td>\n",
       "      <td>0</td>\n",
       "    </tr>\n",
       "  </tbody>\n",
       "</table>\n",
       "<p>73 rows × 22 columns</p>\n",
       "</div>"
      ],
      "text/plain": [
       "                          id  likes  dislike  rating  \\\n",
       "12  500209b9e4b0382b9ff4bff1      3    False     0.0   \n",
       "13  50053087e4b067e568e868a4      1    False     0.0   \n",
       "15  5034a5efe4b0df9e2d41e90f      1    False     0.0   \n",
       "16  5052fc61e4b0e932c7c1e6e1      0    False     0.0   \n",
       "17  5061818c498e317f7b87b976      2    False     0.0   \n",
       "..                       ...    ...      ...     ...   \n",
       "37  566d54ce498e2d31443a01c7     11    False     8.1   \n",
       "49  57ca89d5498e98eee9c81eea     35    False     8.1   \n",
       "32  5473097b498e2d4d05afda1b     47    False     8.4   \n",
       "84  5daaf67ff74cbf0008dbe6ac      6    False     8.4   \n",
       "57  58cc09b34bc2f11fb1125d5d     65    False     8.7   \n",
       "\n",
       "                                                  url  price     ok  \\\n",
       "12  http://www.minskhleb.by/shop/magaziny/kropotki...      0  False   \n",
       "13                                                  0      0  False   \n",
       "15                                                  0      0  False   \n",
       "16                                                  0      0  False   \n",
       "17                                                  0      0  False   \n",
       "..                                                ...    ...    ...   \n",
       "37                    https://vk.com/hata_cake_coffee      0  False   \n",
       "49                                 http://dolcelux.by      0  False   \n",
       "32                        http://pankruassan.relax.by      0  False   \n",
       "84                                                  0      0  False   \n",
       "57                        https://bro-bakery.relax.by      0  False   \n",
       "\n",
       "    ratingSignals  specials  tips  ...               summary  \\\n",
       "12              0         0     1  ...  This spot is popular   \n",
       "13              0         0     1  ...  This spot is popular   \n",
       "15              0         0     1  ...  This spot is popular   \n",
       "16              0         0     1  ...  This spot is popular   \n",
       "17              0         0     2  ...  This spot is popular   \n",
       "..            ...       ...   ...  ...                   ...   \n",
       "37             17         0     5  ...  This spot is popular   \n",
       "49             52         0    11  ...  This spot is popular   \n",
       "32             62         0    13  ...  This spot is popular   \n",
       "84             10         0     5  ...  This spot is popular   \n",
       "57             93         0    26  ...  This spot is popular   \n",
       "\n",
       "                 name        lat        lng    categories   dist_lat  \\\n",
       "12       Горячий хлеб  53.915330  27.556110        Bakery  53.935766   \n",
       "13            Блинная  53.947467  27.697553        Bakery  53.940165   \n",
       "15  Магазин-кафетерий  53.905548  27.546128  Dessert Shop  53.935766   \n",
       "16             Дольче  53.897342  27.531783        Bakery  53.871021   \n",
       "17        Свежий хлеб  53.863331  27.524038        Bakery  53.858930   \n",
       "..                ...        ...        ...           ...        ...   \n",
       "37               hata  53.912347  27.678615        Bakery  53.902873   \n",
       "49              Dolce  53.849513  27.478079        Bakery  53.871021   \n",
       "32       Пан Круассан  53.929749  27.541323        Bakery  53.935766   \n",
       "84    Территория Кофе  53.927440  27.606528   Coffee Shop  53.940933   \n",
       "57         Brø Bakery  53.906497  27.585068        Bakery  53.902873   \n",
       "\n",
       "     dist_lng     distance         latin_name  cluster  \n",
       "12  27.521649  3209.216204     Gorjachij hleb        0  \n",
       "13  27.646695  3437.002784           Blinnaja        0  \n",
       "15  27.521649  3728.122070  Magazin-kafeterij        0  \n",
       "16  27.492966  3885.600282            Dol'che        0  \n",
       "17  27.538223  1054.003230       Svezhij hleb        0  \n",
       "..        ...          ...                ...      ...  \n",
       "37  27.634289  3098.129277               hata        0  \n",
       "49  27.492966  2586.506701              Dolce        0  \n",
       "32  27.521649  1455.442338       Pan Kruassan        0  \n",
       "84  27.585951  2020.387943   Territorija Kofe        0  \n",
       "57  27.634289  3260.094450         Brø Bakery        0  \n",
       "\n",
       "[73 rows x 22 columns]"
      ]
     },
     "execution_count": 68,
     "metadata": {},
     "output_type": "execute_result"
    }
   ],
   "source": [
    "bakery_full_df[bakery_full_df['cluster'] == 0]"
   ]
  },
  {
   "cell_type": "code",
   "execution_count": 71,
   "metadata": {
    "ExecuteTime": {
     "end_time": "2020-07-10T07:38:36.948762Z",
     "start_time": "2020-07-10T07:38:36.924809Z"
    }
   },
   "outputs": [
    {
     "data": {
      "text/html": [
       "<div>\n",
       "<style scoped>\n",
       "    .dataframe tbody tr th:only-of-type {\n",
       "        vertical-align: middle;\n",
       "    }\n",
       "\n",
       "    .dataframe tbody tr th {\n",
       "        vertical-align: top;\n",
       "    }\n",
       "\n",
       "    .dataframe thead th {\n",
       "        text-align: right;\n",
       "    }\n",
       "</style>\n",
       "<table border=\"1\" class=\"dataframe\">\n",
       "  <thead>\n",
       "    <tr style=\"text-align: right;\">\n",
       "      <th></th>\n",
       "      <th>id</th>\n",
       "      <th>likes</th>\n",
       "      <th>dislike</th>\n",
       "      <th>rating</th>\n",
       "      <th>url</th>\n",
       "      <th>price</th>\n",
       "      <th>ok</th>\n",
       "      <th>ratingSignals</th>\n",
       "      <th>specials</th>\n",
       "      <th>tips</th>\n",
       "      <th>...</th>\n",
       "      <th>summary</th>\n",
       "      <th>name</th>\n",
       "      <th>lat</th>\n",
       "      <th>lng</th>\n",
       "      <th>categories</th>\n",
       "      <th>dist_lat</th>\n",
       "      <th>dist_lng</th>\n",
       "      <th>distance</th>\n",
       "      <th>latin_name</th>\n",
       "      <th>cluster</th>\n",
       "    </tr>\n",
       "  </thead>\n",
       "  <tbody>\n",
       "    <tr>\n",
       "      <th>25</th>\n",
       "      <td>530665c1498e8117a1d48222</td>\n",
       "      <td>406</td>\n",
       "      <td>False</td>\n",
       "      <td>5.8</td>\n",
       "      <td>http://foodrepublic.by</td>\n",
       "      <td>0</td>\n",
       "      <td>False</td>\n",
       "      <td>853</td>\n",
       "      <td>0</td>\n",
       "      <td>274</td>\n",
       "      <td>...</td>\n",
       "      <td>This spot is popular</td>\n",
       "      <td>Food Republic</td>\n",
       "      <td>53.905460</td>\n",
       "      <td>27.561701</td>\n",
       "      <td>Food Court</td>\n",
       "      <td>53.935766</td>\n",
       "      <td>27.521649</td>\n",
       "      <td>4278.164281</td>\n",
       "      <td>Food Republic</td>\n",
       "      <td>3</td>\n",
       "    </tr>\n",
       "    <tr>\n",
       "      <th>28</th>\n",
       "      <td>5374c450498e4b7f19d54b03</td>\n",
       "      <td>466</td>\n",
       "      <td>False</td>\n",
       "      <td>6.8</td>\n",
       "      <td>0</td>\n",
       "      <td>2</td>\n",
       "      <td>False</td>\n",
       "      <td>766</td>\n",
       "      <td>0</td>\n",
       "      <td>196</td>\n",
       "      <td>...</td>\n",
       "      <td>This spot is popular</td>\n",
       "      <td>Cinnabon</td>\n",
       "      <td>53.901646</td>\n",
       "      <td>27.549141</td>\n",
       "      <td>Bakery</td>\n",
       "      <td>53.935766</td>\n",
       "      <td>27.521649</td>\n",
       "      <td>4205.408868</td>\n",
       "      <td>Cinnabon</td>\n",
       "      <td>3</td>\n",
       "    </tr>\n",
       "  </tbody>\n",
       "</table>\n",
       "<p>2 rows × 22 columns</p>\n",
       "</div>"
      ],
      "text/plain": [
       "                          id  likes  dislike  rating                     url  \\\n",
       "25  530665c1498e8117a1d48222    406    False     5.8  http://foodrepublic.by   \n",
       "28  5374c450498e4b7f19d54b03    466    False     6.8                       0   \n",
       "\n",
       "    price     ok  ratingSignals  specials  tips  ...               summary  \\\n",
       "25      0  False            853         0   274  ...  This spot is popular   \n",
       "28      2  False            766         0   196  ...  This spot is popular   \n",
       "\n",
       "             name        lat        lng  categories   dist_lat   dist_lng  \\\n",
       "25  Food Republic  53.905460  27.561701  Food Court  53.935766  27.521649   \n",
       "28       Cinnabon  53.901646  27.549141      Bakery  53.935766  27.521649   \n",
       "\n",
       "       distance     latin_name  cluster  \n",
       "25  4278.164281  Food Republic        3  \n",
       "28  4205.408868       Cinnabon        3  \n",
       "\n",
       "[2 rows x 22 columns]"
      ]
     },
     "execution_count": 71,
     "metadata": {},
     "output_type": "execute_result"
    }
   ],
   "source": [
    "bakery_full_df[bakery_full_df['cluster'] == 3]"
   ]
  },
  {
   "cell_type": "code",
   "execution_count": 72,
   "metadata": {
    "ExecuteTime": {
     "end_time": "2020-07-10T07:38:41.650718Z",
     "start_time": "2020-07-10T07:38:41.612821Z"
    }
   },
   "outputs": [
    {
     "data": {
      "text/html": [
       "<div>\n",
       "<style scoped>\n",
       "    .dataframe tbody tr th:only-of-type {\n",
       "        vertical-align: middle;\n",
       "    }\n",
       "\n",
       "    .dataframe tbody tr th {\n",
       "        vertical-align: top;\n",
       "    }\n",
       "\n",
       "    .dataframe thead th {\n",
       "        text-align: right;\n",
       "    }\n",
       "</style>\n",
       "<table border=\"1\" class=\"dataframe\">\n",
       "  <thead>\n",
       "    <tr style=\"text-align: right;\">\n",
       "      <th></th>\n",
       "      <th>id</th>\n",
       "      <th>likes</th>\n",
       "      <th>dislike</th>\n",
       "      <th>rating</th>\n",
       "      <th>url</th>\n",
       "      <th>price</th>\n",
       "      <th>ok</th>\n",
       "      <th>ratingSignals</th>\n",
       "      <th>specials</th>\n",
       "      <th>tips</th>\n",
       "      <th>...</th>\n",
       "      <th>summary</th>\n",
       "      <th>name</th>\n",
       "      <th>lat</th>\n",
       "      <th>lng</th>\n",
       "      <th>categories</th>\n",
       "      <th>dist_lat</th>\n",
       "      <th>dist_lng</th>\n",
       "      <th>distance</th>\n",
       "      <th>latin_name</th>\n",
       "      <th>cluster</th>\n",
       "    </tr>\n",
       "  </thead>\n",
       "  <tbody>\n",
       "    <tr>\n",
       "      <th>18</th>\n",
       "      <td>50a7679fe4b041c065193a27</td>\n",
       "      <td>94</td>\n",
       "      <td>False</td>\n",
       "      <td>5.7</td>\n",
       "      <td>http://stolle.by</td>\n",
       "      <td>0</td>\n",
       "      <td>False</td>\n",
       "      <td>169</td>\n",
       "      <td>0</td>\n",
       "      <td>31</td>\n",
       "      <td>...</td>\n",
       "      <td>This spot is popular</td>\n",
       "      <td>Штолле / Stolle</td>\n",
       "      <td>53.903771</td>\n",
       "      <td>27.558714</td>\n",
       "      <td>Bakery</td>\n",
       "      <td>53.935766</td>\n",
       "      <td>27.521649</td>\n",
       "      <td>4314.167636</td>\n",
       "      <td>Shtolle / Stolle</td>\n",
       "      <td>4</td>\n",
       "    </tr>\n",
       "    <tr>\n",
       "      <th>1</th>\n",
       "      <td>4ccb0b9c54f0b1f77ce60cca</td>\n",
       "      <td>115</td>\n",
       "      <td>False</td>\n",
       "      <td>5.8</td>\n",
       "      <td>https://www.minskhleb.by</td>\n",
       "      <td>0</td>\n",
       "      <td>False</td>\n",
       "      <td>225</td>\n",
       "      <td>0</td>\n",
       "      <td>74</td>\n",
       "      <td>...</td>\n",
       "      <td>This spot is popular</td>\n",
       "      <td>Каравай</td>\n",
       "      <td>53.908001</td>\n",
       "      <td>27.575787</td>\n",
       "      <td>Bakery</td>\n",
       "      <td>53.902873</td>\n",
       "      <td>27.634289</td>\n",
       "      <td>3887.107119</td>\n",
       "      <td>Karavaj</td>\n",
       "      <td>4</td>\n",
       "    </tr>\n",
       "    <tr>\n",
       "      <th>4</th>\n",
       "      <td>4df8955818385456c7f514e5</td>\n",
       "      <td>181</td>\n",
       "      <td>False</td>\n",
       "      <td>6.0</td>\n",
       "      <td>http://stolle.by</td>\n",
       "      <td>2</td>\n",
       "      <td>False</td>\n",
       "      <td>352</td>\n",
       "      <td>0</td>\n",
       "      <td>112</td>\n",
       "      <td>...</td>\n",
       "      <td>This spot is popular</td>\n",
       "      <td>Штолле / Stolle</td>\n",
       "      <td>53.917542</td>\n",
       "      <td>27.586509</td>\n",
       "      <td>Bakery</td>\n",
       "      <td>53.940933</td>\n",
       "      <td>27.585951</td>\n",
       "      <td>2603.799832</td>\n",
       "      <td>Shtolle / Stolle</td>\n",
       "      <td>4</td>\n",
       "    </tr>\n",
       "    <tr>\n",
       "      <th>56</th>\n",
       "      <td>58c2d2476ad5a14069506f76</td>\n",
       "      <td>136</td>\n",
       "      <td>False</td>\n",
       "      <td>6.2</td>\n",
       "      <td>https://uhg.by/restaurants/kafe-pekarnya-paul/</td>\n",
       "      <td>0</td>\n",
       "      <td>False</td>\n",
       "      <td>253</td>\n",
       "      <td>0</td>\n",
       "      <td>59</td>\n",
       "      <td>...</td>\n",
       "      <td>This spot is popular</td>\n",
       "      <td>PAUL</td>\n",
       "      <td>53.903717</td>\n",
       "      <td>27.558369</td>\n",
       "      <td>Bakery</td>\n",
       "      <td>53.935766</td>\n",
       "      <td>27.521649</td>\n",
       "      <td>4306.410946</td>\n",
       "      <td>PAUL</td>\n",
       "      <td>4</td>\n",
       "    </tr>\n",
       "    <tr>\n",
       "      <th>7</th>\n",
       "      <td>4f05bdf4e3002adb768a5731</td>\n",
       "      <td>86</td>\n",
       "      <td>False</td>\n",
       "      <td>6.3</td>\n",
       "      <td>http://stolle.by/%20</td>\n",
       "      <td>0</td>\n",
       "      <td>False</td>\n",
       "      <td>158</td>\n",
       "      <td>0</td>\n",
       "      <td>45</td>\n",
       "      <td>...</td>\n",
       "      <td>This spot is popular</td>\n",
       "      <td>Штолле / Stolle</td>\n",
       "      <td>53.907789</td>\n",
       "      <td>27.583579</td>\n",
       "      <td>Bakery</td>\n",
       "      <td>53.902873</td>\n",
       "      <td>27.634289</td>\n",
       "      <td>3377.477964</td>\n",
       "      <td>Shtolle / Stolle</td>\n",
       "      <td>4</td>\n",
       "    </tr>\n",
       "    <tr>\n",
       "      <th>24</th>\n",
       "      <td>528f768e498e55fd2ae00727</td>\n",
       "      <td>134</td>\n",
       "      <td>False</td>\n",
       "      <td>6.5</td>\n",
       "      <td>http://stolle.by</td>\n",
       "      <td>0</td>\n",
       "      <td>False</td>\n",
       "      <td>217</td>\n",
       "      <td>0</td>\n",
       "      <td>45</td>\n",
       "      <td>...</td>\n",
       "      <td>This spot is popular</td>\n",
       "      <td>Штолле / Stolle</td>\n",
       "      <td>53.907758</td>\n",
       "      <td>27.575317</td>\n",
       "      <td>Bakery</td>\n",
       "      <td>53.902873</td>\n",
       "      <td>27.634289</td>\n",
       "      <td>3913.855396</td>\n",
       "      <td>Shtolle / Stolle</td>\n",
       "      <td>4</td>\n",
       "    </tr>\n",
       "    <tr>\n",
       "      <th>5</th>\n",
       "      <td>4e1056e6c65b4a49f303033d</td>\n",
       "      <td>226</td>\n",
       "      <td>False</td>\n",
       "      <td>6.6</td>\n",
       "      <td>http://stolle.by</td>\n",
       "      <td>0</td>\n",
       "      <td>False</td>\n",
       "      <td>380</td>\n",
       "      <td>0</td>\n",
       "      <td>120</td>\n",
       "      <td>...</td>\n",
       "      <td>This spot is popular</td>\n",
       "      <td>Штолле / Stolle</td>\n",
       "      <td>53.905094</td>\n",
       "      <td>27.546775</td>\n",
       "      <td>Bakery</td>\n",
       "      <td>53.935766</td>\n",
       "      <td>27.521649</td>\n",
       "      <td>3792.066272</td>\n",
       "      <td>Shtolle / Stolle</td>\n",
       "      <td>4</td>\n",
       "    </tr>\n",
       "    <tr>\n",
       "      <th>35</th>\n",
       "      <td>559d1ed5498e914e9c52a64d</td>\n",
       "      <td>213</td>\n",
       "      <td>False</td>\n",
       "      <td>8.0</td>\n",
       "      <td>0</td>\n",
       "      <td>3</td>\n",
       "      <td>False</td>\n",
       "      <td>315</td>\n",
       "      <td>0</td>\n",
       "      <td>65</td>\n",
       "      <td>...</td>\n",
       "      <td>This spot is popular</td>\n",
       "      <td>BRIOCHE Paris</td>\n",
       "      <td>53.910180</td>\n",
       "      <td>27.556638</td>\n",
       "      <td>Dessert Shop</td>\n",
       "      <td>53.935766</td>\n",
       "      <td>27.521649</td>\n",
       "      <td>3659.748357</td>\n",
       "      <td>BRIOCHE Paris</td>\n",
       "      <td>4</td>\n",
       "    </tr>\n",
       "    <tr>\n",
       "      <th>55</th>\n",
       "      <td>58ba97964bc2f1632a353e04</td>\n",
       "      <td>203</td>\n",
       "      <td>False</td>\n",
       "      <td>8.5</td>\n",
       "      <td>0</td>\n",
       "      <td>0</td>\n",
       "      <td>False</td>\n",
       "      <td>300</td>\n",
       "      <td>0</td>\n",
       "      <td>81</td>\n",
       "      <td>...</td>\n",
       "      <td>This spot is popular</td>\n",
       "      <td>Stories</td>\n",
       "      <td>53.900877</td>\n",
       "      <td>27.552514</td>\n",
       "      <td>Bakery</td>\n",
       "      <td>53.935766</td>\n",
       "      <td>27.521649</td>\n",
       "      <td>4380.909637</td>\n",
       "      <td>Stories</td>\n",
       "      <td>4</td>\n",
       "    </tr>\n",
       "  </tbody>\n",
       "</table>\n",
       "<p>9 rows × 22 columns</p>\n",
       "</div>"
      ],
      "text/plain": [
       "                          id  likes  dislike  rating  \\\n",
       "18  50a7679fe4b041c065193a27     94    False     5.7   \n",
       "1   4ccb0b9c54f0b1f77ce60cca    115    False     5.8   \n",
       "4   4df8955818385456c7f514e5    181    False     6.0   \n",
       "56  58c2d2476ad5a14069506f76    136    False     6.2   \n",
       "7   4f05bdf4e3002adb768a5731     86    False     6.3   \n",
       "24  528f768e498e55fd2ae00727    134    False     6.5   \n",
       "5   4e1056e6c65b4a49f303033d    226    False     6.6   \n",
       "35  559d1ed5498e914e9c52a64d    213    False     8.0   \n",
       "55  58ba97964bc2f1632a353e04    203    False     8.5   \n",
       "\n",
       "                                               url  price     ok  \\\n",
       "18                                http://stolle.by      0  False   \n",
       "1                         https://www.minskhleb.by      0  False   \n",
       "4                                 http://stolle.by      2  False   \n",
       "56  https://uhg.by/restaurants/kafe-pekarnya-paul/      0  False   \n",
       "7                             http://stolle.by/%20      0  False   \n",
       "24                                http://stolle.by      0  False   \n",
       "5                                 http://stolle.by      0  False   \n",
       "35                                               0      3  False   \n",
       "55                                               0      0  False   \n",
       "\n",
       "    ratingSignals  specials  tips  ...               summary             name  \\\n",
       "18            169         0    31  ...  This spot is popular  Штолле / Stolle   \n",
       "1             225         0    74  ...  This spot is popular          Каравай   \n",
       "4             352         0   112  ...  This spot is popular  Штолле / Stolle   \n",
       "56            253         0    59  ...  This spot is popular             PAUL   \n",
       "7             158         0    45  ...  This spot is popular  Штолле / Stolle   \n",
       "24            217         0    45  ...  This spot is popular  Штолле / Stolle   \n",
       "5             380         0   120  ...  This spot is popular  Штолле / Stolle   \n",
       "35            315         0    65  ...  This spot is popular    BRIOCHE Paris   \n",
       "55            300         0    81  ...  This spot is popular          Stories   \n",
       "\n",
       "          lat        lng    categories   dist_lat   dist_lng     distance  \\\n",
       "18  53.903771  27.558714        Bakery  53.935766  27.521649  4314.167636   \n",
       "1   53.908001  27.575787        Bakery  53.902873  27.634289  3887.107119   \n",
       "4   53.917542  27.586509        Bakery  53.940933  27.585951  2603.799832   \n",
       "56  53.903717  27.558369        Bakery  53.935766  27.521649  4306.410946   \n",
       "7   53.907789  27.583579        Bakery  53.902873  27.634289  3377.477964   \n",
       "24  53.907758  27.575317        Bakery  53.902873  27.634289  3913.855396   \n",
       "5   53.905094  27.546775        Bakery  53.935766  27.521649  3792.066272   \n",
       "35  53.910180  27.556638  Dessert Shop  53.935766  27.521649  3659.748357   \n",
       "55  53.900877  27.552514        Bakery  53.935766  27.521649  4380.909637   \n",
       "\n",
       "          latin_name  cluster  \n",
       "18  Shtolle / Stolle        4  \n",
       "1            Karavaj        4  \n",
       "4   Shtolle / Stolle        4  \n",
       "56              PAUL        4  \n",
       "7   Shtolle / Stolle        4  \n",
       "24  Shtolle / Stolle        4  \n",
       "5   Shtolle / Stolle        4  \n",
       "35     BRIOCHE Paris        4  \n",
       "55           Stories        4  \n",
       "\n",
       "[9 rows x 22 columns]"
      ]
     },
     "execution_count": 72,
     "metadata": {},
     "output_type": "execute_result"
    }
   ],
   "source": [
    "bakery_full_df[bakery_full_df['cluster'] == 4]"
   ]
  },
  {
   "cell_type": "code",
   "execution_count": 73,
   "metadata": {
    "ExecuteTime": {
     "end_time": "2020-07-10T07:38:47.784735Z",
     "start_time": "2020-07-10T07:38:47.658049Z"
    }
   },
   "outputs": [
    {
     "data": {
      "text/html": [
       "<div style=\"width:100%;\"><div style=\"position:relative;width:100%;height:0;padding-bottom:60%;\"><span style=\"color:#565656\">Make this Notebook Trusted to load map: File -> Trust Notebook</span><iframe src=\"about:blank\" style=\"position:absolute;width:100%;height:100%;left:0;top:0;border:none !important;\" data-html=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 onload=\"this.contentDocument.open();this.contentDocument.write(atob(this.getAttribute('data-html')));this.contentDocument.close();\" allowfullscreen webkitallowfullscreen mozallowfullscreen></iframe></div></div>"
      ],
      "text/plain": [
       "<folium.folium.Map at 0x1b3cf534208>"
      ]
     },
     "execution_count": 73,
     "metadata": {},
     "output_type": "execute_result"
    }
   ],
   "source": [
    "map_minsk = folium.Map(location=[latitude, longitude], zoom_start=12) \n",
    "\n",
    "x = np.arange(kclusters)\n",
    "ys = [i + x + (i*x)**2 for i in range(kclusters)]\n",
    "colors_array = cm.rainbow(np.linspace(0, 1, len(ys)))\n",
    "rainbow = [colors.rgb2hex(i) for i in colors_array]\n",
    "\n",
    "markers_colors = []\n",
    "for lat, lng, name, cluster in zip(bakery_full_df['lat'],\n",
    "                                   bakery_full_df['lng'],\n",
    "                                   bakery_full_df['latin_name'],\n",
    "                                   bakery_full_df['cluster']):\n",
    "    label = folium.Popup(str(name) + ' Cluster ' + str(cluster), parse_html=True)\n",
    "    folium.CircleMarker(\n",
    "        [lat, lng],\n",
    "        radius=5,\n",
    "        popup=label,\n",
    "        color=rainbow[cluster-1],\n",
    "        fill=True,\n",
    "        fill_color=rainbow[cluster-1],\n",
    "        fill_opacity=0.7).add_to(map_minsk)  \n",
    "    \n",
    "map_minsk"
   ]
  },
  {
   "cell_type": "markdown",
   "metadata": {},
   "source": [
    "### Result and discussion section"
   ]
  },
  {
   "cell_type": "markdown",
   "metadata": {},
   "source": [
    "    Answering to the question 'Which Minsk district really need more bakeries?' I should notice that most count of bakeries belong to the center of city and central district. And it's okay because most of cultural and evening life are using there, all European cities has the same statistic. But according to my question - bakery for me, it's firstly the morning coffee and croissant. And I defiantly recommend to open bakeries not in the center of city, but in the new districts far from the center. Really great example we can see at 'Moulin' bakeries which is according to the high 2 cluster. From all 87 Minsk's bakeries just 3 from it has 2 cluster and it place is situated to new district."
   ]
  },
  {
   "cell_type": "code",
   "execution_count": null,
   "metadata": {},
   "outputs": [],
   "source": []
  }
 ],
 "metadata": {
  "kernelspec": {
   "display_name": "Python 3",
   "language": "python",
   "name": "python3"
  },
  "language_info": {
   "codemirror_mode": {
    "name": "ipython",
    "version": 3
   },
   "file_extension": ".py",
   "mimetype": "text/x-python",
   "name": "python",
   "nbconvert_exporter": "python",
   "pygments_lexer": "ipython3",
   "version": "3.6.8"
  },
  "toc": {
   "base_numbering": 1,
   "nav_menu": {},
   "number_sections": true,
   "sideBar": true,
   "skip_h1_title": false,
   "title_cell": "Table of Contents",
   "title_sidebar": "Contents",
   "toc_cell": false,
   "toc_position": {},
   "toc_section_display": true,
   "toc_window_display": false
  }
 },
 "nbformat": 4,
 "nbformat_minor": 4
}
