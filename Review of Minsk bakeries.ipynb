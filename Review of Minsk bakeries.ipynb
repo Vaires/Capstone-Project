{
 "cells": [
  {
   "cell_type": "markdown",
   "metadata": {},
   "source": [
    "## This notebook is belong to my researches bakeries of Minsk"
   ]
  },
  {
   "cell_type": "code",
   "execution_count": 135,
   "metadata": {
    "ExecuteTime": {
     "end_time": "2020-07-08T13:44:44.405756Z",
     "start_time": "2020-07-08T13:44:44.402797Z"
    }
   },
   "outputs": [],
   "source": [
    "# !pip install geopy\n",
    "# !pip install folium\n",
    "# !pip install transliterate"
   ]
  },
  {
   "cell_type": "code",
   "execution_count": 136,
   "metadata": {
    "ExecuteTime": {
     "end_time": "2020-07-08T13:44:46.144834Z",
     "start_time": "2020-07-08T13:44:46.133828Z"
    }
   },
   "outputs": [],
   "source": [
    "import numpy as np\n",
    "import pandas as pd\n",
    "from geopy.geocoders import Nominatim\n",
    "from geopy.distance import geodesic\n",
    "import folium\n",
    "import json\n",
    "from pandas.io.json import json_normalize\n",
    "import requests\n",
    "from sklearn.cluster import KMeans\n",
    "import matplotlib.cm as cm\n",
    "import matplotlib.colors as colors\n",
    "import plotly.express as px\n",
    "import plotly.graph_objects as go\n",
    "from transliterate import translit"
   ]
  },
  {
   "cell_type": "markdown",
   "metadata": {},
   "source": [
    "### Introduction"
   ]
  },
  {
   "cell_type": "markdown",
   "metadata": {},
   "source": [
    "    When I was looking about topics of researches I really want to use my native town at this task and I chose the topic \"Which Minsk district really need more bakeries?\". \n",
    "    This topic I decided to research also because I really like morning's croissant with fresh coffee and the same time I'm planning to move and I'll know which district have enough it now.  "
   ]
  },
  {
   "attachments": {},
   "cell_type": "markdown",
   "metadata": {},
   "source": [
    "##### Target audience of this research:\n",
    "    It's definitely people who interested in opening bakery and looking for district to open place. In my mind this person should consider how many bakeries Minsk has now and how peoples rated it. Opening hours in my opinion also important because I and my colleagues and friends really likes to buy fresh croissant and morning coffee when we're going to work. "
   ]
  },
  {
   "cell_type": "markdown",
   "metadata": {},
   "source": [
    "##### Plan of my research:\n",
    "    1. Download the data – this part is concluding creating of data frame with information about districts of Minsk and it coordinates. \n",
    "    2. Using API Foursquare I should to know id of bakeries category for searching all company  this type and full their information. *\n",
    "    3. Join all data into one data frame including information about each company and it’s district. \n",
    "    4. Deleting duplicate rows, transforming columns.\n",
    "    5. Analyze it and appending on map. \n",
    "    6. Using K-Means create model and fit it on data frame. \n",
    "    7. Give a conclusion.  \n",
    "    \n",
    " \n",
    "    * Because the free part of API service is limited by calls."
   ]
  },
  {
   "cell_type": "markdown",
   "metadata": {},
   "source": [
    "### Data "
   ]
  },
  {
   "attachments": {},
   "cell_type": "markdown",
   "metadata": {},
   "source": [
    "##### Data description of research:\n",
    "    Open source data about Minsk districts from yandex map.\n",
    "    API foursquare to find all bakeries of Minsk.    "
   ]
  },
  {
   "cell_type": "markdown",
   "metadata": {},
   "source": [
    "### Methodology section"
   ]
  },
  {
   "cell_type": "markdown",
   "metadata": {},
   "source": [
    "    Here we become to adding the main data about our research including list of bakeries and information about every place which we'll be analysing. \n",
    "    I will use pandas library and it's methods to analysing the data. And also I'll use K-means technique to separate my data to different clusters."
   ]
  },
  {
   "attachments": {},
   "cell_type": "markdown",
   "metadata": {},
   "source": [
    "    Using libraries: pandas, numpy, requests, json, geodesic, translit etc.\n",
    "    Machine learning techniques: K-means for clustering data."
   ]
  },
  {
   "cell_type": "markdown",
   "metadata": {},
   "source": [
    "##### Add Minsk and its districts"
   ]
  },
  {
   "cell_type": "code",
   "execution_count": 171,
   "metadata": {
    "ExecuteTime": {
     "end_time": "2020-07-08T17:18:12.071128Z",
     "start_time": "2020-07-08T17:18:11.861662Z"
    }
   },
   "outputs": [
    {
     "name": "stdout",
     "output_type": "stream",
     "text": [
      "The geograpical coordinate of Minsk are 53.902334, 27.5618791.\n"
     ]
    },
    {
     "data": {
      "text/html": [
       "<div>\n",
       "<style scoped>\n",
       "    .dataframe tbody tr th:only-of-type {\n",
       "        vertical-align: middle;\n",
       "    }\n",
       "\n",
       "    .dataframe tbody tr th {\n",
       "        vertical-align: top;\n",
       "    }\n",
       "\n",
       "    .dataframe thead th {\n",
       "        text-align: right;\n",
       "    }\n",
       "</style>\n",
       "<table border=\"1\" class=\"dataframe\">\n",
       "  <thead>\n",
       "    <tr style=\"text-align: right;\">\n",
       "      <th></th>\n",
       "      <th>district</th>\n",
       "      <th>dist_lat</th>\n",
       "      <th>dist_lng</th>\n",
       "    </tr>\n",
       "  </thead>\n",
       "  <tbody>\n",
       "    <tr>\n",
       "      <th>0</th>\n",
       "      <td>Центральный район</td>\n",
       "      <td>53.935766</td>\n",
       "      <td>27.521649</td>\n",
       "    </tr>\n",
       "    <tr>\n",
       "      <th>1</th>\n",
       "      <td>Советский район</td>\n",
       "      <td>53.940933</td>\n",
       "      <td>27.585951</td>\n",
       "    </tr>\n",
       "    <tr>\n",
       "      <th>2</th>\n",
       "      <td>Первомайский район</td>\n",
       "      <td>53.940165</td>\n",
       "      <td>27.646695</td>\n",
       "    </tr>\n",
       "    <tr>\n",
       "      <th>3</th>\n",
       "      <td>Партизанский район</td>\n",
       "      <td>53.902873</td>\n",
       "      <td>27.634289</td>\n",
       "    </tr>\n",
       "    <tr>\n",
       "      <th>4</th>\n",
       "      <td>Заводской район</td>\n",
       "      <td>53.869370</td>\n",
       "      <td>27.647405</td>\n",
       "    </tr>\n",
       "    <tr>\n",
       "      <th>5</th>\n",
       "      <td>Ленинский район</td>\n",
       "      <td>53.859626</td>\n",
       "      <td>27.585654</td>\n",
       "    </tr>\n",
       "    <tr>\n",
       "      <th>6</th>\n",
       "      <td>Фрунзенский район</td>\n",
       "      <td>53.906236</td>\n",
       "      <td>27.453907</td>\n",
       "    </tr>\n",
       "    <tr>\n",
       "      <th>7</th>\n",
       "      <td>Октябрьский район</td>\n",
       "      <td>53.858930</td>\n",
       "      <td>27.538223</td>\n",
       "    </tr>\n",
       "    <tr>\n",
       "      <th>8</th>\n",
       "      <td>Московский район</td>\n",
       "      <td>53.871021</td>\n",
       "      <td>27.492966</td>\n",
       "    </tr>\n",
       "  </tbody>\n",
       "</table>\n",
       "</div>"
      ],
      "text/plain": [
       "             district   dist_lat   dist_lng\n",
       "0   Центральный район  53.935766  27.521649\n",
       "1     Советский район  53.940933  27.585951\n",
       "2  Первомайский район  53.940165  27.646695\n",
       "3  Партизанский район  53.902873  27.634289\n",
       "4     Заводской район  53.869370  27.647405\n",
       "5     Ленинский район  53.859626  27.585654\n",
       "6   Фрунзенский район  53.906236  27.453907\n",
       "7   Октябрьский район  53.858930  27.538223\n",
       "8    Московский район  53.871021  27.492966"
      ]
     },
     "execution_count": 171,
     "metadata": {},
     "output_type": "execute_result"
    }
   ],
   "source": [
    "address = 'Minsk, Belarus'\n",
    "\n",
    "geolocator = Nominatim(user_agent=\"ny_explorer\")\n",
    "location = geolocator.geocode(address)\n",
    "latitude = location.latitude\n",
    "longitude = location.longitude\n",
    "print('The geograpical coordinate of Minsk are {}, {}.'.format(latitude, longitude))\n",
    "\n",
    "minsk_districts = [\n",
    "     ['Центральный район', 53.935766, 27.521649],\n",
    "     ['Советский район', 53.940933, 27.585951], \n",
    "     ['Первомайский район', 53.940165, 27.646695],\n",
    "     ['Партизанский район', 53.902873, 27.634289],\n",
    "     ['Заводской район', 53.869370, 27.647405],\n",
    "     ['Ленинский район', 53.859626, 27.585654],\n",
    "     ['Фрунзенский район', 53.906236, 27.453907],\n",
    "     ['Октябрьский район', 53.858930, 27.538223],\n",
    "     ['Московский район', 53.871021, 27.492966],\n",
    "]\n",
    "minsk_districts_df = pd.DataFrame(minsk_districts, columns = ['district','dist_lat','dist_lng' ])\n",
    "minsk_districts_df"
   ]
  },
  {
   "cell_type": "markdown",
   "metadata": {},
   "source": [
    "##### Create a map of Minsk with districts superimposed on top"
   ]
  },
  {
   "cell_type": "code",
   "execution_count": 10,
   "metadata": {
    "ExecuteTime": {
     "end_time": "2020-07-08T10:46:46.986102Z",
     "start_time": "2020-07-08T10:46:46.934274Z"
    }
   },
   "outputs": [
    {
     "data": {
      "text/html": [
       "<div style=\"width:100%;\"><div style=\"position:relative;width:100%;height:0;padding-bottom:60%;\"><span style=\"color:#565656\">Make this Notebook Trusted to load map: File -> Trust Notebook</span><iframe src=\"about:blank\" style=\"position:absolute;width:100%;height:100%;left:0;top:0;border:none !important;\" data-html=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 onload=\"this.contentDocument.open();this.contentDocument.write(atob(this.getAttribute('data-html')));this.contentDocument.close();\" allowfullscreen webkitallowfullscreen mozallowfullscreen></iframe></div></div>"
      ],
      "text/plain": [
       "<folium.folium.Map at 0x20608aa33c8>"
      ]
     },
     "execution_count": 10,
     "metadata": {},
     "output_type": "execute_result"
    }
   ],
   "source": [
    "# create map of Minsk using latitude and longitude values\n",
    "map_minsk = folium.Map(location=[latitude, longitude], zoom_start=10)\n",
    "\n",
    "\n",
    "# add markers to map\n",
    "for lat, lng, name in zip(minsk_districts_df['dist_lat'], minsk_districts_df['dist_lng'], minsk_districts_df['district']):\n",
    "    label = '{}'.format(name)\n",
    "    label = folium.Popup(label, parse_html=True)\n",
    "    folium.CircleMarker(\n",
    "        [lat, lng],\n",
    "        radius=5,\n",
    "        popup=label,\n",
    "        color='red',\n",
    "        fill=True,\n",
    "        fill_color='#FF1818',\n",
    "        fill_opacity=0.9,\n",
    "        parse_html=False).add_to(map_minsk)  \n",
    "    \n",
    "map_minsk"
   ]
  },
  {
   "cell_type": "markdown",
   "metadata": {},
   "source": [
    "##### Connecting API  Foursquare"
   ]
  },
  {
   "cell_type": "code",
   "execution_count": 163,
   "metadata": {
    "ExecuteTime": {
     "end_time": "2020-07-08T14:15:19.969541Z",
     "start_time": "2020-07-08T14:15:19.964530Z"
    }
   },
   "outputs": [
    {
     "name": "stdout",
     "output_type": "stream",
     "text": [
      "Your credentails:\n",
      "CLIENT_ID: *******\n",
      "CLIENT_SECRET:***********\n"
     ]
    }
   ],
   "source": [
    "CLIENT_ID = '*******' # your Foursquare ID\n",
    "CLIENT_SECRET = '***********' # your Foursquare Secret\n",
    "VERSION = '20180605' # Foursquare API version\n",
    "\n",
    "\n",
    "print('Your credentails:')\n",
    "print('CLIENT_ID: ' + CLIENT_ID)\n",
    "print('CLIENT_SECRET:' + CLIENT_SECRET)"
   ]
  },
  {
   "cell_type": "markdown",
   "metadata": {},
   "source": [
    "##### Getting category for our research"
   ]
  },
  {
   "cell_type": "code",
   "execution_count": 12,
   "metadata": {
    "ExecuteTime": {
     "end_time": "2020-07-08T10:48:08.259157Z",
     "start_time": "2020-07-08T10:48:08.256163Z"
    }
   },
   "outputs": [],
   "source": [
    "url = 'https://api.foursquare.com/v2/venues/categories?&client_id={}&client_secret={}&v={}'.format(\n",
    "    CLIENT_ID, \n",
    "    CLIENT_SECRET, \n",
    "    VERSION)"
   ]
  },
  {
   "cell_type": "code",
   "execution_count": 13,
   "metadata": {
    "ExecuteTime": {
     "end_time": "2020-07-08T10:48:12.104211Z",
     "start_time": "2020-07-08T10:48:11.646544Z"
    }
   },
   "outputs": [
    {
     "data": {
      "text/html": [
       "<div>\n",
       "<style scoped>\n",
       "    .dataframe tbody tr th:only-of-type {\n",
       "        vertical-align: middle;\n",
       "    }\n",
       "\n",
       "    .dataframe tbody tr th {\n",
       "        vertical-align: top;\n",
       "    }\n",
       "\n",
       "    .dataframe thead th {\n",
       "        text-align: right;\n",
       "    }\n",
       "</style>\n",
       "<table border=\"1\" class=\"dataframe\">\n",
       "  <thead>\n",
       "    <tr style=\"text-align: right;\">\n",
       "      <th></th>\n",
       "      <th>id</th>\n",
       "      <th>name</th>\n",
       "      <th>pluralName</th>\n",
       "      <th>shortName</th>\n",
       "      <th>icon</th>\n",
       "      <th>categories</th>\n",
       "    </tr>\n",
       "  </thead>\n",
       "  <tbody>\n",
       "    <tr>\n",
       "      <th>0</th>\n",
       "      <td>503288ae91d4c4b30a586d67</td>\n",
       "      <td>Afghan Restaurant</td>\n",
       "      <td>Afghan Restaurants</td>\n",
       "      <td>Afghan</td>\n",
       "      <td>{'prefix': 'https://ss3.4sqi.net/img/categorie...</td>\n",
       "      <td>[]</td>\n",
       "    </tr>\n",
       "    <tr>\n",
       "      <th>1</th>\n",
       "      <td>4bf58dd8d48988d1c8941735</td>\n",
       "      <td>African Restaurant</td>\n",
       "      <td>African Restaurants</td>\n",
       "      <td>African</td>\n",
       "      <td>{'prefix': 'https://ss3.4sqi.net/img/categorie...</td>\n",
       "      <td>[{'id': '4bf58dd8d48988d10a941735', 'name': 'E...</td>\n",
       "    </tr>\n",
       "    <tr>\n",
       "      <th>2</th>\n",
       "      <td>4bf58dd8d48988d14e941735</td>\n",
       "      <td>American Restaurant</td>\n",
       "      <td>American Restaurants</td>\n",
       "      <td>American</td>\n",
       "      <td>{'prefix': 'https://ss3.4sqi.net/img/categorie...</td>\n",
       "      <td>[{'id': '4bf58dd8d48988d157941735', 'name': 'N...</td>\n",
       "    </tr>\n",
       "    <tr>\n",
       "      <th>3</th>\n",
       "      <td>4bf58dd8d48988d142941735</td>\n",
       "      <td>Asian Restaurant</td>\n",
       "      <td>Asian Restaurants</td>\n",
       "      <td>Asian</td>\n",
       "      <td>{'prefix': 'https://ss3.4sqi.net/img/categorie...</td>\n",
       "      <td>[{'id': '56aa371be4b08b9a8d573568', 'name': 'B...</td>\n",
       "    </tr>\n",
       "    <tr>\n",
       "      <th>4</th>\n",
       "      <td>4bf58dd8d48988d169941735</td>\n",
       "      <td>Australian Restaurant</td>\n",
       "      <td>Australian Restaurants</td>\n",
       "      <td>Australian</td>\n",
       "      <td>{'prefix': 'https://ss3.4sqi.net/img/categorie...</td>\n",
       "      <td>[]</td>\n",
       "    </tr>\n",
       "  </tbody>\n",
       "</table>\n",
       "</div>"
      ],
      "text/plain": [
       "                         id                   name              pluralName  \\\n",
       "0  503288ae91d4c4b30a586d67      Afghan Restaurant      Afghan Restaurants   \n",
       "1  4bf58dd8d48988d1c8941735     African Restaurant     African Restaurants   \n",
       "2  4bf58dd8d48988d14e941735    American Restaurant    American Restaurants   \n",
       "3  4bf58dd8d48988d142941735       Asian Restaurant       Asian Restaurants   \n",
       "4  4bf58dd8d48988d169941735  Australian Restaurant  Australian Restaurants   \n",
       "\n",
       "    shortName                                               icon  \\\n",
       "0      Afghan  {'prefix': 'https://ss3.4sqi.net/img/categorie...   \n",
       "1     African  {'prefix': 'https://ss3.4sqi.net/img/categorie...   \n",
       "2    American  {'prefix': 'https://ss3.4sqi.net/img/categorie...   \n",
       "3       Asian  {'prefix': 'https://ss3.4sqi.net/img/categorie...   \n",
       "4  Australian  {'prefix': 'https://ss3.4sqi.net/img/categorie...   \n",
       "\n",
       "                                          categories  \n",
       "0                                                 []  \n",
       "1  [{'id': '4bf58dd8d48988d10a941735', 'name': 'E...  \n",
       "2  [{'id': '4bf58dd8d48988d157941735', 'name': 'N...  \n",
       "3  [{'id': '56aa371be4b08b9a8d573568', 'name': 'B...  \n",
       "4                                                 []  "
      ]
     },
     "execution_count": 13,
     "metadata": {},
     "output_type": "execute_result"
    }
   ],
   "source": [
    "categories = requests.get(url).json()\n",
    "food_category = pd.DataFrame(categories['response']['categories'][3]['categories'])\n",
    "food_category.head()"
   ]
  },
  {
   "cell_type": "code",
   "execution_count": 14,
   "metadata": {
    "ExecuteTime": {
     "end_time": "2020-07-08T10:48:18.749612Z",
     "start_time": "2020-07-08T10:48:18.744628Z"
    }
   },
   "outputs": [],
   "source": [
    "id_bakery = food_category.loc[food_category['name'] == 'Bakery'].values[0][0]"
   ]
  },
  {
   "cell_type": "markdown",
   "metadata": {},
   "source": [
    "##### Getting list of Minsk's bakeries"
   ]
  },
  {
   "cell_type": "code",
   "execution_count": 15,
   "metadata": {
    "ExecuteTime": {
     "end_time": "2020-07-08T10:49:14.869253Z",
     "start_time": "2020-07-08T10:49:14.864300Z"
    }
   },
   "outputs": [],
   "source": [
    "def create_url(lat,lng):\n",
    "    url = 'https://api.foursquare.com/v2/venues/explore?&client_id={}&client_secret={}&v={}&ll={},{}&categoryId={}&limit={}'.format(\n",
    "    CLIENT_ID, \n",
    "    CLIENT_SECRET, \n",
    "    VERSION, \n",
    "    lat, \n",
    "    lng, \n",
    "    id_bakery, \n",
    "    100)\n",
    "    return url"
   ]
  },
  {
   "cell_type": "code",
   "execution_count": 17,
   "metadata": {
    "ExecuteTime": {
     "end_time": "2020-07-08T10:50:01.006640Z",
     "start_time": "2020-07-08T10:49:51.089984Z"
    }
   },
   "outputs": [
    {
     "data": {
      "text/html": [
       "<div>\n",
       "<style scoped>\n",
       "    .dataframe tbody tr th:only-of-type {\n",
       "        vertical-align: middle;\n",
       "    }\n",
       "\n",
       "    .dataframe tbody tr th {\n",
       "        vertical-align: top;\n",
       "    }\n",
       "\n",
       "    .dataframe thead th {\n",
       "        text-align: right;\n",
       "    }\n",
       "</style>\n",
       "<table border=\"1\" class=\"dataframe\">\n",
       "  <thead>\n",
       "    <tr style=\"text-align: right;\">\n",
       "      <th></th>\n",
       "      <th>district</th>\n",
       "      <th>summary</th>\n",
       "      <th>id</th>\n",
       "      <th>name</th>\n",
       "      <th>lat</th>\n",
       "      <th>lng</th>\n",
       "      <th>categories</th>\n",
       "    </tr>\n",
       "  </thead>\n",
       "  <tbody>\n",
       "    <tr>\n",
       "      <th>0</th>\n",
       "      <td>Центральный район</td>\n",
       "      <td>This spot is popular</td>\n",
       "      <td>5473097b498e2d4d05afda1b</td>\n",
       "      <td>Пан Круассан</td>\n",
       "      <td>53.929749</td>\n",
       "      <td>27.541323</td>\n",
       "      <td>Bakery</td>\n",
       "    </tr>\n",
       "    <tr>\n",
       "      <th>1</th>\n",
       "      <td>Центральный район</td>\n",
       "      <td>This spot is popular</td>\n",
       "      <td>59ee1ae8d0a1496688e63150</td>\n",
       "      <td>Brioche Bistro</td>\n",
       "      <td>53.939274</td>\n",
       "      <td>27.478426</td>\n",
       "      <td>Bakery</td>\n",
       "    </tr>\n",
       "    <tr>\n",
       "      <th>2</th>\n",
       "      <td>Центральный район</td>\n",
       "      <td>This spot is popular</td>\n",
       "      <td>58ba97964bc2f1632a353e04</td>\n",
       "      <td>Stories</td>\n",
       "      <td>53.900877</td>\n",
       "      <td>27.552514</td>\n",
       "      <td>Bakery</td>\n",
       "    </tr>\n",
       "    <tr>\n",
       "      <th>3</th>\n",
       "      <td>Центральный район</td>\n",
       "      <td>This spot is popular</td>\n",
       "      <td>522dc5b311d2920f2460d44c</td>\n",
       "      <td>Cakes.by</td>\n",
       "      <td>53.900149</td>\n",
       "      <td>27.522044</td>\n",
       "      <td>Bakery</td>\n",
       "    </tr>\n",
       "    <tr>\n",
       "      <th>4</th>\n",
       "      <td>Центральный район</td>\n",
       "      <td>This spot is popular</td>\n",
       "      <td>4f7afb6ae4b02579039ddc3f</td>\n",
       "      <td>Зерно</td>\n",
       "      <td>53.912388</td>\n",
       "      <td>27.580818</td>\n",
       "      <td>Bakery</td>\n",
       "    </tr>\n",
       "  </tbody>\n",
       "</table>\n",
       "</div>"
      ],
      "text/plain": [
       "            district               summary                        id  \\\n",
       "0  Центральный район  This spot is popular  5473097b498e2d4d05afda1b   \n",
       "1  Центральный район  This spot is popular  59ee1ae8d0a1496688e63150   \n",
       "2  Центральный район  This spot is popular  58ba97964bc2f1632a353e04   \n",
       "3  Центральный район  This spot is popular  522dc5b311d2920f2460d44c   \n",
       "4  Центральный район  This spot is popular  4f7afb6ae4b02579039ddc3f   \n",
       "\n",
       "             name        lat        lng categories  \n",
       "0    Пан Круассан  53.929749  27.541323     Bakery  \n",
       "1  Brioche Bistro  53.939274  27.478426     Bakery  \n",
       "2         Stories  53.900877  27.552514     Bakery  \n",
       "3        Cakes.by  53.900149  27.522044     Bakery  \n",
       "4           Зерно  53.912388  27.580818     Bakery  "
      ]
     },
     "execution_count": 17,
     "metadata": {},
     "output_type": "execute_result"
    }
   ],
   "source": [
    "baker_list = []\n",
    "for index, row in minsk_districts_df.iterrows():\n",
    "    url = create_url(row['dist_lat'],row['dist_lng'])\n",
    "    district_bakeries = requests.get(url).json()\n",
    "\n",
    "    for item in district_bakeries['response']['groups'][0]['items']:\n",
    "        baker_list.append({\n",
    "        'district': row['district'],\n",
    "        'summary': item['reasons']['items'][0]['summary'],\n",
    "        'id': item['venue']['id'],\n",
    "        'name': item['venue']['name'],\n",
    "        'lat': item['venue']['location']['lat'],\n",
    "        'lng': item['venue']['location']['lng'],\n",
    "        'categories': item['venue']['categories'][0]['name']\n",
    "        })\n",
    "        \n",
    "baker_df = pd.DataFrame(baker_list)\n",
    "baker_df = baker_df.join(minsk_districts_df.set_index('district'), on='district')\n",
    "baker_df.head()"
   ]
  },
  {
   "cell_type": "markdown",
   "metadata": {
    "ExecuteTime": {
     "end_time": "2020-07-08T11:12:05.079924Z",
     "start_time": "2020-07-08T11:12:05.075934Z"
    }
   },
   "source": [
    "##### Exclude from our df duplicated rows through by district and id of bakery"
   ]
  },
  {
   "cell_type": "code",
   "execution_count": 24,
   "metadata": {
    "ExecuteTime": {
     "end_time": "2020-07-08T11:14:16.161977Z",
     "start_time": "2020-07-08T11:14:15.930397Z"
    }
   },
   "outputs": [],
   "source": [
    "distance = []\n",
    "for index, row in baker_df.iterrows():\n",
    "    dist = geodesic([row['lat'],row['lng']], [row['dist_lat'],row['dist_lng']], ellipsoid='WGS-84').m\n",
    "    distance.append(dist)\n",
    "    \n",
    "baker_df['distance'] = distance\n"
   ]
  },
  {
   "cell_type": "markdown",
   "metadata": {},
   "source": [
    "##### Append to our df latin names of our bakeries because folium doesn't work correct with russian words"
   ]
  },
  {
   "cell_type": "code",
   "execution_count": 138,
   "metadata": {
    "ExecuteTime": {
     "end_time": "2020-07-08T13:47:23.461643Z",
     "start_time": "2020-07-08T13:47:23.438707Z"
    }
   },
   "outputs": [],
   "source": [
    "latin_name = []\n",
    "for index, row in baker_df.iterrows():\n",
    "    latin = translit(row['name'], \"ru\", reversed=True)\n",
    "    latin_name.append(latin)\n",
    "    \n",
    "baker_df['latin_name'] = latin_name"
   ]
  },
  {
   "cell_type": "code",
   "execution_count": 25,
   "metadata": {
    "ExecuteTime": {
     "end_time": "2020-07-08T11:15:28.519237Z",
     "start_time": "2020-07-08T11:15:28.127899Z"
    }
   },
   "outputs": [],
   "source": [
    "baker_df.sort_values([\"id\",'distance'], inplace = True)\n",
    "baker_df.drop_duplicates(subset =\"id\", keep = 'first', inplace = True)\n",
    "baker_df.reset_index(drop=True, inplace=True)"
   ]
  },
  {
   "cell_type": "markdown",
   "metadata": {},
   "source": [
    "##### Add to the map our bakeries"
   ]
  },
  {
   "cell_type": "code",
   "execution_count": 142,
   "metadata": {
    "ExecuteTime": {
     "end_time": "2020-07-08T13:48:06.177523Z",
     "start_time": "2020-07-08T13:48:06.062795Z"
    }
   },
   "outputs": [
    {
     "data": {
      "text/html": [
       "<div style=\"width:100%;\"><div style=\"position:relative;width:100%;height:0;padding-bottom:60%;\"><span style=\"color:#565656\">Make this Notebook Trusted to load map: File -> Trust Notebook</span><iframe src=\"about:blank\" style=\"position:absolute;width:100%;height:100%;left:0;top:0;border:none !important;\" data-html=PCFET0NUWVBFIGh0bWw+CjxoZWFkPiAgICAKICAgIDxtZXRhIGh0dHAtZXF1aXY9ImNvbnRlbnQtdHlwZSIgY29udGVudD0idGV4dC9odG1sOyBjaGFyc2V0PVVURi04IiAvPgogICAgCiAgICAgICAgPHNjcmlwdD4KICAgICAgICAgICAgTF9OT19UT1VDSCA9IGZhbHNlOwogICAgICAgICAgICBMX0RJU0FCTEVfM0QgPSBmYWxzZTsKICAgICAgICA8L3NjcmlwdD4KICAgIAogICAgPHNjcmlwdCBzcmM9Imh0dHBzOi8vY2RuLmpzZGVsaXZyLm5ldC9ucG0vbGVhZmxldEAxLjYuMC9kaXN0L2xlYWZsZXQuanMiPjwvc2NyaXB0PgogICAgPHNjcmlwdCBzcmM9Imh0dHBzOi8vY29kZS5qcXVlcnkuY29tL2pxdWVyeS0xLjEyLjQubWluLmpzIj48L3NjcmlwdD4KICAgIDxzY3JpcHQgc3JjPSJodHRwczovL21heGNkbi5ib290c3RyYXBjZG4uY29tL2Jvb3RzdHJhcC8zLjIuMC9qcy9ib290c3RyYXAubWluLmpzIj48L3NjcmlwdD4KICAgIDxzY3JpcHQgc3JjPSJodHRwczovL2NkbmpzLmNsb3VkZmxhcmUuY29tL2FqYXgvbGlicy9MZWFmbGV0LmF3ZXNvbWUtbWFya2Vycy8yLjAuMi9sZWFmbGV0LmF3ZXNvbWUtbWFya2Vycy5qcyI+PC9zY3JpcHQ+CiAgICA8bGluayByZWw9InN0eWxlc2hlZXQiIGhyZWY9Imh0dHBzOi8vY2RuLmpzZGVsaXZyLm5ldC9ucG0vbGVhZmxldEAxLjYuMC9kaXN0L2xlYWZsZXQuY3NzIi8+CiAgICA8bGluayByZWw9InN0eWxlc2hlZXQiIGhyZWY9Imh0dHBzOi8vbWF4Y2RuLmJvb3RzdHJhcGNkbi5jb20vYm9vdHN0cmFwLzMuMi4wL2Nzcy9ib290c3RyYXAubWluLmNzcyIvPgogICAgPGxpbmsgcmVsPSJzdHlsZXNoZWV0IiBocmVmPSJodHRwczovL21heGNkbi5ib290c3RyYXBjZG4uY29tL2Jvb3RzdHJhcC8zLjIuMC9jc3MvYm9vdHN0cmFwLXRoZW1lLm1pbi5jc3MiLz4KICAgIDxsaW5rIHJlbD0ic3R5bGVzaGVldCIgaHJlZj0iaHR0cHM6Ly9tYXhjZG4uYm9vdHN0cmFwY2RuLmNvbS9mb250LWF3ZXNvbWUvNC42LjMvY3NzL2ZvbnQtYXdlc29tZS5taW4uY3NzIi8+CiAgICA8bGluayByZWw9InN0eWxlc2hlZXQiIGhyZWY9Imh0dHBzOi8vY2RuanMuY2xvdWRmbGFyZS5jb20vYWpheC9saWJzL0xlYWZsZXQuYXdlc29tZS1tYXJrZXJzLzIuMC4yL2xlYWZsZXQuYXdlc29tZS1tYXJrZXJzLmNzcyIvPgogICAgPGxpbmsgcmVsPSJzdHlsZXNoZWV0IiBocmVmPSJodHRwczovL3Jhd2Nkbi5naXRoYWNrLmNvbS9weXRob24tdmlzdWFsaXphdGlvbi9mb2xpdW0vbWFzdGVyL2ZvbGl1bS90ZW1wbGF0ZXMvbGVhZmxldC5hd2Vzb21lLnJvdGF0ZS5jc3MiLz4KICAgIDxzdHlsZT5odG1sLCBib2R5IHt3aWR0aDogMTAwJTtoZWlnaHQ6IDEwMCU7bWFyZ2luOiAwO3BhZGRpbmc6IDA7fTwvc3R5bGU+CiAgICA8c3R5bGU+I21hcCB7cG9zaXRpb246YWJzb2x1dGU7dG9wOjA7Ym90dG9tOjA7cmlnaHQ6MDtsZWZ0OjA7fTwvc3R5bGU+CiAgICAKICAgICAgICAgICAgPG1ldGEgbmFtZT0idmlld3BvcnQiIGNvbnRlbnQ9IndpZHRoPWRldmljZS13aWR0aCwKICAgICAgICAgICAgICAgIGluaXRpYWwtc2NhbGU9MS4wLCBtYXhpbXVtLXNjYWxlPTEuMCwgdXNlci1zY2FsYWJsZT1ubyIgLz4KICAgICAgICAgICAgPHN0eWxlPgogICAgICAgICAgICAgICAgI21hcF8wZTgxYWZmZTA0ZTI0Y2RiYWIyYzQ3ODYxZTRlZTNjYyB7CiAgICAgICAgICAgICAgICAgICAgcG9zaXRpb246IHJlbGF0aXZlOwogICAgICAgICAgICAgICAgICAgIHdpZHRoOiAxMDAuMCU7CiAgICAgICAgICAgICAgICAgICAgaGVpZ2h0OiAxMDAuMCU7CiAgICAgICAgICAgICAgICAgICAgbGVmdDogMC4wJTsKICAgICAgICAgICAgICAgICAgICB0b3A6IDAuMCU7CiAgICAgICAgICAgICAgICB9CiAgICAgICAgICAgIDwvc3R5bGU+CiAgICAgICAgCjwvaGVhZD4KPGJvZHk+ICAgIAogICAgCiAgICAgICAgICAgIDxkaXYgY2xhc3M9ImZvbGl1bS1tYXAiIGlkPSJtYXBfMGU4MWFmZmUwNGUyNGNkYmFiMmM0Nzg2MWU0ZWUzY2MiID48L2Rpdj4KICAgICAgICAKPC9ib2R5Pgo8c2NyaXB0PiAgICAKICAgIAogICAgICAgICAgICB2YXIgbWFwXzBlODFhZmZlMDRlMjRjZGJhYjJjNDc4NjFlNGVlM2NjID0gTC5tYXAoCiAgICAgICAgICAgICAgICAibWFwXzBlODFhZmZlMDRlMjRjZGJhYjJjNDc4NjFlNGVlM2NjIiwKICAgICAgICAgICAgICAgIHsKICAgICAgICAgICAgICAgICAgICBjZW50ZXI6IFs1My45MDIzMzQsIDI3LjU2MTg3OTFdLAogICAgICAgICAgICAgICAgICAgIGNyczogTC5DUlMuRVBTRzM4NTcsCiAgICAgICAgICAgICAgICAgICAgem9vbTogMTIsCiAgICAgICAgICAgICAgICAgICAgem9vbUNvbnRyb2w6IHRydWUsCiAgICAgICAgICAgICAgICAgICAgcHJlZmVyQ2FudmFzOiBmYWxzZSwKICAgICAgICAgICAgICAgIH0KICAgICAgICAgICAgKTsKCiAgICAgICAgICAgIAoKICAgICAgICAKICAgIAogICAgICAgICAgICB2YXIgdGlsZV9sYXllcl8xMzZiNjg4NDIzN2M0OTBlOWE3NzllZTI3OGQ5ZjY3NCA9IEwudGlsZUxheWVyKAogICAgICAgICAgICAgICAgImh0dHBzOi8ve3N9LnRpbGUub3BlbnN0cmVldG1hcC5vcmcve3p9L3t4fS97eX0ucG5nIiwKICAgICAgICAgICAgICAgIHsiYXR0cmlidXRpb24iOiAiRGF0YSBieSBcdTAwMjZjb3B5OyBcdTAwM2NhIGhyZWY9XCJodHRwOi8vb3BlbnN0cmVldG1hcC5vcmdcIlx1MDAzZU9wZW5TdHJlZXRNYXBcdTAwM2MvYVx1MDAzZSwgdW5kZXIgXHUwMDNjYSBocmVmPVwiaHR0cDovL3d3dy5vcGVuc3RyZWV0bWFwLm9yZy9jb3B5cmlnaHRcIlx1MDAzZU9EYkxcdTAwM2MvYVx1MDAzZS4iLCAiZGV0ZWN0UmV0aW5hIjogZmFsc2UsICJtYXhOYXRpdmVab29tIjogMTgsICJtYXhab29tIjogMTgsICJtaW5ab29tIjogMCwgIm5vV3JhcCI6IGZhbHNlLCAib3BhY2l0eSI6IDEsICJzdWJkb21haW5zIjogImFiYyIsICJ0bXMiOiBmYWxzZX0KICAgICAgICAgICAgKS5hZGRUbyhtYXBfMGU4MWFmZmUwNGUyNGNkYmFiMmM0Nzg2MWU0ZWUzY2MpOwogICAgICAgIAogICAgCiAgICAgICAgICAgIHZhciBjaXJjbGVfbWFya2VyXzllNjAwMDAwOTE3ZTRlNTA5OWQzY2VmNTRhZGIxNGI3ID0gTC5jaXJjbGVNYXJrZXIoCiAgICAgICAgICAgICAgICBbNTMuODc2MjU0NjUwNjQ0NTcsIDI3LjU1MzAwNDEwMjY5NDcwNF0sCiAgICAgICAgICAgICAgICB7ImJ1YmJsaW5nTW91c2VFdmVudHMiOiB0cnVlLCAiY29sb3IiOiAiYmx1ZSIsICJkYXNoQXJyYXkiOiBudWxsLCAiZGFzaE9mZnNldCI6IG51bGwsICJmaWxsIjogdHJ1ZSwgImZpbGxDb2xvciI6ICIjMzE4NmNjIiwgImZpbGxPcGFjaXR5IjogMC43LCAiZmlsbFJ1bGUiOiAiZXZlbm9kZCIsICJsaW5lQ2FwIjogInJvdW5kIiwgImxpbmVKb2luIjogInJvdW5kIiwgIm9wYWNpdHkiOiAxLjAsICJyYWRpdXMiOiA1LCAic3Ryb2tlIjogdHJ1ZSwgIndlaWdodCI6IDN9CiAgICAgICAgICAgICkuYWRkVG8obWFwXzBlODFhZmZlMDRlMjRjZGJhYjJjNDc4NjFlNGVlM2NjKTsKICAgICAgICAKICAgIAogICAgICAgIHZhciBwb3B1cF9iMWRiOGNjMjU0MDA0ZDk3OWJlYjc4MmQ2YzJmYjZmYiA9IEwucG9wdXAoeyJtYXhXaWR0aCI6ICIxMDAlIn0pOwoKICAgICAgICAKICAgICAgICAgICAgdmFyIGh0bWxfZDBmYWQyMGEyM2IwNDVmZGJmZTIzZWM0NzMwYThmNmIgPSAkKGA8ZGl2IGlkPSJodG1sX2QwZmFkMjBhMjNiMDQ1ZmRiZmUyM2VjNDczMGE4ZjZiIiBzdHlsZT0id2lkdGg6IDEwMC4wJTsgaGVpZ2h0OiAxMDAuMCU7Ij5CZWprZXJpIGRqdSBTb2xlajwvZGl2PmApWzBdOwogICAgICAgICAgICBwb3B1cF9iMWRiOGNjMjU0MDA0ZDk3OWJlYjc4MmQ2YzJmYjZmYi5zZXRDb250ZW50KGh0bWxfZDBmYWQyMGEyM2IwNDVmZGJmZTIzZWM0NzMwYThmNmIpOwogICAgICAgIAoKICAgICAgICBjaXJjbGVfbWFya2VyXzllNjAwMDAwOTE3ZTRlNTA5OWQzY2VmNTRhZGIxNGI3LmJpbmRQb3B1cChwb3B1cF9iMWRiOGNjMjU0MDA0ZDk3OWJlYjc4MmQ2YzJmYjZmYikKICAgICAgICA7CgogICAgICAgIAogICAgCiAgICAKICAgICAgICAgICAgdmFyIGNpcmNsZV9tYXJrZXJfZDNmNGFkZmRiNzM5NDMzYzkzYjI0YTgyMDQxYjdmNWQgPSBMLmNpcmNsZU1hcmtlcigKICAgICAgICAgICAgICAgIFs1My45MDgwMDA3Nzc2MTcwNywgMjcuNTc1Nzg3MzcyMzY2NThdLAogICAgICAgICAgICAgICAgeyJidWJibGluZ01vdXNlRXZlbnRzIjogdHJ1ZSwgImNvbG9yIjogImJsdWUiLCAiZGFzaEFycmF5IjogbnVsbCwgImRhc2hPZmZzZXQiOiBudWxsLCAiZmlsbCI6IHRydWUsICJmaWxsQ29sb3IiOiAiIzMxODZjYyIsICJmaWxsT3BhY2l0eSI6IDAuNywgImZpbGxSdWxlIjogImV2ZW5vZGQiLCAibGluZUNhcCI6ICJyb3VuZCIsICJsaW5lSm9pbiI6ICJyb3VuZCIsICJvcGFjaXR5IjogMS4wLCAicmFkaXVzIjogNSwgInN0cm9rZSI6IHRydWUsICJ3ZWlnaHQiOiAzfQogICAgICAgICAgICApLmFkZFRvKG1hcF8wZTgxYWZmZTA0ZTI0Y2RiYWIyYzQ3ODYxZTRlZTNjYyk7CiAgICAgICAgCiAgICAKICAgICAgICB2YXIgcG9wdXBfNzA5NzRlNTI4ZmUyNDNmNzgwZGZhZmE5MzM0M2ZhNGMgPSBMLnBvcHVwKHsibWF4V2lkdGgiOiAiMTAwJSJ9KTsKCiAgICAgICAgCiAgICAgICAgICAgIHZhciBodG1sX2EzYTc3NTE5OGM3NTRhNDBhMzM4NGJiZmE2NTkyN2VlID0gJChgPGRpdiBpZD0iaHRtbF9hM2E3NzUxOThjNzU0YTQwYTMzODRiYmZhNjU5MjdlZSIgc3R5bGU9IndpZHRoOiAxMDAuMCU7IGhlaWdodDogMTAwLjAlOyI+S2FyYXZhajwvZGl2PmApWzBdOwogICAgICAgICAgICBwb3B1cF83MDk3NGU1MjhmZTI0M2Y3ODBkZmFmYTkzMzQzZmE0Yy5zZXRDb250ZW50KGh0bWxfYTNhNzc1MTk4Yzc1NGE0MGEzMzg0YmJmYTY1OTI3ZWUpOwogICAgICAgIAoKICAgICAgICBjaXJjbGVfbWFya2VyX2QzZjRhZGZkYjczOTQzM2M5M2IyNGE4MjA0MWI3ZjVkLmJpbmRQb3B1cChwb3B1cF83MDk3NGU1MjhmZTI0M2Y3ODBkZmFmYTkzMzQzZmE0YykKICAgICAgICA7CgogICAgICAgIAogICAgCiAgICAKICAgICAgICAgICAgdmFyIGNpcmNsZV9tYXJrZXJfNWZmNGFkOGVkNmRjNDc4NDgwNTIyMGIzOTBmNTZlNmEgPSBMLmNpcmNsZU1hcmtlcigKICAgICAgICAgICAgICAgIFs1My45MTUyNTg5MTA5OTc4NCwgMjcuNTUzMzM4NDkwMjcwMDU4XSwKICAgICAgICAgICAgICAgIHsiYnViYmxpbmdNb3VzZUV2ZW50cyI6IHRydWUsICJjb2xvciI6ICJibHVlIiwgImRhc2hBcnJheSI6IG51bGwsICJkYXNoT2Zmc2V0IjogbnVsbCwgImZpbGwiOiB0cnVlLCAiZmlsbENvbG9yIjogIiMzMTg2Y2MiLCAiZmlsbE9wYWNpdHkiOiAwLjcsICJmaWxsUnVsZSI6ICJldmVub2RkIiwgImxpbmVDYXAiOiAicm91bmQiLCAibGluZUpvaW4iOiAicm91bmQiLCAib3BhY2l0eSI6IDEuMCwgInJhZGl1cyI6IDUsICJzdHJva2UiOiB0cnVlLCAid2VpZ2h0IjogM30KICAgICAgICAgICAgKS5hZGRUbyhtYXBfMGU4MWFmZmUwNGUyNGNkYmFiMmM0Nzg2MWU0ZWUzY2MpOwogICAgICAgIAogICAgCiAgICAgICAgdmFyIHBvcHVwXzhhN2NmZjBjODY2NzQ2ZDZiZjhkZTI0ZGU4MzM4M2IxID0gTC5wb3B1cCh7Im1heFdpZHRoIjogIjEwMCUifSk7CgogICAgICAgIAogICAgICAgICAgICB2YXIgaHRtbF9hZTI3ZTA4OTZiN2E0MGQwODdkN2I5ZjdhMjdhOTY3OSA9ICQoYDxkaXYgaWQ9Imh0bWxfYWUyN2UwODk2YjdhNDBkMDg3ZDdiOWY3YTI3YTk2NzkiIHN0eWxlPSJ3aWR0aDogMTAwLjAlOyBoZWlnaHQ6IDEwMC4wJTsiPkhsZWJueSBrdXRvazwvZGl2PmApWzBdOwogICAgICAgICAgICBwb3B1cF84YTdjZmYwYzg2Njc0NmQ2YmY4ZGUyNGRlODMzODNiMS5zZXRDb250ZW50KGh0bWxfYWUyN2UwODk2YjdhNDBkMDg3ZDdiOWY3YTI3YTk2NzkpOwogICAgICAgIAoKICAgICAgICBjaXJjbGVfbWFya2VyXzVmZjRhZDhlZDZkYzQ3ODQ4MDUyMjBiMzkwZjU2ZTZhLmJpbmRQb3B1cChwb3B1cF84YTdjZmYwYzg2Njc0NmQ2YmY4ZGUyNGRlODMzODNiMSkKICAgICAgICA7CgogICAgICAgIAogICAgCiAgICAKICAgICAgICAgICAgdmFyIGNpcmNsZV9tYXJrZXJfODI2NWFiYmJhZGUzNDllZTk5OTA0ZDY0MDJjYWUyMGYgPSBMLmNpcmNsZU1hcmtlcigKICAgICAgICAgICAgICAgIFs1My44ODAxMDA1OTE2ODI2MDYsIDI3LjQ4ODk4Mzg2OTU1MjYxMl0sCiAgICAgICAgICAgICAgICB7ImJ1YmJsaW5nTW91c2VFdmVudHMiOiB0cnVlLCAiY29sb3IiOiAiYmx1ZSIsICJkYXNoQXJyYXkiOiBudWxsLCAiZGFzaE9mZnNldCI6IG51bGwsICJmaWxsIjogdHJ1ZSwgImZpbGxDb2xvciI6ICIjMzE4NmNjIiwgImZpbGxPcGFjaXR5IjogMC43LCAiZmlsbFJ1bGUiOiAiZXZlbm9kZCIsICJsaW5lQ2FwIjogInJvdW5kIiwgImxpbmVKb2luIjogInJvdW5kIiwgIm9wYWNpdHkiOiAxLjAsICJyYWRpdXMiOiA1LCAic3Ryb2tlIjogdHJ1ZSwgIndlaWdodCI6IDN9CiAgICAgICAgICAgICkuYWRkVG8obWFwXzBlODFhZmZlMDRlMjRjZGJhYjJjNDc4NjFlNGVlM2NjKTsKICAgICAgICAKICAgIAogICAgICAgIHZhciBwb3B1cF81MTMzZGUyZTgxNDg0NThhYjQ2Y2FlYjliYzY3ZDhjMiA9IEwucG9wdXAoeyJtYXhXaWR0aCI6ICIxMDAlIn0pOwoKICAgICAgICAKICAgICAgICAgICAgdmFyIGh0bWxfMGFiNDhiOGE3MTZhNGMwM2JlZDA1NmQzNzk3YmM2MjYgPSAkKGA8ZGl2IGlkPSJodG1sXzBhYjQ4YjhhNzE2YTRjMDNiZWQwNTZkMzc5N2JjNjI2IiBzdHlsZT0id2lkdGg6IDEwMC4wJTsgaGVpZ2h0OiAxMDAuMCU7Ij5Hb3JqYWNoaWogaGxlYjwvZGl2PmApWzBdOwogICAgICAgICAgICBwb3B1cF81MTMzZGUyZTgxNDg0NThhYjQ2Y2FlYjliYzY3ZDhjMi5zZXRDb250ZW50KGh0bWxfMGFiNDhiOGE3MTZhNGMwM2JlZDA1NmQzNzk3YmM2MjYpOwogICAgICAgIAoKICAgICAgICBjaXJjbGVfbWFya2VyXzgyNjVhYmJiYWRlMzQ5ZWU5OTkwNGQ2NDAyY2FlMjBmLmJpbmRQb3B1cChwb3B1cF81MTMzZGUyZTgxNDg0NThhYjQ2Y2FlYjliYzY3ZDhjMikKICAgICAgICA7CgogICAgICAgIAogICAgCiAgICAKICAgICAgICAgICAgdmFyIGNpcmNsZV9tYXJrZXJfMTg2MjVhZmQ3ZjFmNDRkZThhNjQ2OTFkMmQzYTlkYjQgPSBMLmNpcmNsZU1hcmtlcigKICAgICAgICAgICAgICAgIFs1My45MTc1NDE2NjQxODI0OSwgMjcuNTg2NTA4OTg5MzM0MTA2XSwKICAgICAgICAgICAgICAgIHsiYnViYmxpbmdNb3VzZUV2ZW50cyI6IHRydWUsICJjb2xvciI6ICJibHVlIiwgImRhc2hBcnJheSI6IG51bGwsICJkYXNoT2Zmc2V0IjogbnVsbCwgImZpbGwiOiB0cnVlLCAiZmlsbENvbG9yIjogIiMzMTg2Y2MiLCAiZmlsbE9wYWNpdHkiOiAwLjcsICJmaWxsUnVsZSI6ICJldmVub2RkIiwgImxpbmVDYXAiOiAicm91bmQiLCAibGluZUpvaW4iOiAicm91bmQiLCAib3BhY2l0eSI6IDEuMCwgInJhZGl1cyI6IDUsICJzdHJva2UiOiB0cnVlLCAid2VpZ2h0IjogM30KICAgICAgICAgICAgKS5hZGRUbyhtYXBfMGU4MWFmZmUwNGUyNGNkYmFiMmM0Nzg2MWU0ZWUzY2MpOwogICAgICAgIAogICAgCiAgICAgICAgdmFyIHBvcHVwXzY1MzJmN2VlNDBiNTQwYTRhMGQ0MjIxZjBhYjg3ZWM0ID0gTC5wb3B1cCh7Im1heFdpZHRoIjogIjEwMCUifSk7CgogICAgICAgIAogICAgICAgICAgICB2YXIgaHRtbF9mMTM0MmE1NWY2MWU0NzFiOWU5NTk1ODFhMDUzZWU4ZiA9ICQoYDxkaXYgaWQ9Imh0bWxfZjEzNDJhNTVmNjFlNDcxYjllOTU5NTgxYTA1M2VlOGYiIHN0eWxlPSJ3aWR0aDogMTAwLjAlOyBoZWlnaHQ6IDEwMC4wJTsiPlNodG9sbGUgLyBTdG9sbGU8L2Rpdj5gKVswXTsKICAgICAgICAgICAgcG9wdXBfNjUzMmY3ZWU0MGI1NDBhNGEwZDQyMjFmMGFiODdlYzQuc2V0Q29udGVudChodG1sX2YxMzQyYTU1ZjYxZTQ3MWI5ZTk1OTU4MWEwNTNlZThmKTsKICAgICAgICAKCiAgICAgICAgY2lyY2xlX21hcmtlcl8xODYyNWFmZDdmMWY0NGRlOGE2NDY5MWQyZDNhOWRiNC5iaW5kUG9wdXAocG9wdXBfNjUzMmY3ZWU0MGI1NDBhNGEwZDQyMjFmMGFiODdlYzQpCiAgICAgICAgOwoKICAgICAgICAKICAgIAogICAgCiAgICAgICAgICAgIHZhciBjaXJjbGVfbWFya2VyXzkzMGYyYjkwMTU4ZTRjZWM4ZDJjYzdiYzhmZDhkZGMwID0gTC5jaXJjbGVNYXJrZXIoCiAgICAgICAgICAgICAgICBbNTMuOTA1MDk0MDcxNDY3Mjk2LCAyNy41NDY3NzQ4NDA5ODU2M10sCiAgICAgICAgICAgICAgICB7ImJ1YmJsaW5nTW91c2VFdmVudHMiOiB0cnVlLCAiY29sb3IiOiAiYmx1ZSIsICJkYXNoQXJyYXkiOiBudWxsLCAiZGFzaE9mZnNldCI6IG51bGwsICJmaWxsIjogdHJ1ZSwgImZpbGxDb2xvciI6ICIjMzE4NmNjIiwgImZpbGxPcGFjaXR5IjogMC43LCAiZmlsbFJ1bGUiOiAiZXZlbm9kZCIsICJsaW5lQ2FwIjogInJvdW5kIiwgImxpbmVKb2luIjogInJvdW5kIiwgIm9wYWNpdHkiOiAxLjAsICJyYWRpdXMiOiA1LCAic3Ryb2tlIjogdHJ1ZSwgIndlaWdodCI6IDN9CiAgICAgICAgICAgICkuYWRkVG8obWFwXzBlODFhZmZlMDRlMjRjZGJhYjJjNDc4NjFlNGVlM2NjKTsKICAgICAgICAKICAgIAogICAgICAgIHZhciBwb3B1cF83ZTg1MzM3YjdkNmM0MWUyOTA2NzZkMTNiOGEzNTI0ZSA9IEwucG9wdXAoeyJtYXhXaWR0aCI6ICIxMDAlIn0pOwoKICAgICAgICAKICAgICAgICAgICAgdmFyIGh0bWxfZGYzMTlkNTc2M2EwNDVjYmFkNzA5YmZjMTEwNDU1ZDQgPSAkKGA8ZGl2IGlkPSJodG1sX2RmMzE5ZDU3NjNhMDQ1Y2JhZDcwOWJmYzExMDQ1NWQ0IiBzdHlsZT0id2lkdGg6IDEwMC4wJTsgaGVpZ2h0OiAxMDAuMCU7Ij5TaHRvbGxlIC8gU3RvbGxlPC9kaXY+YClbMF07CiAgICAgICAgICAgIHBvcHVwXzdlODUzMzdiN2Q2YzQxZTI5MDY3NmQxM2I4YTM1MjRlLnNldENvbnRlbnQoaHRtbF9kZjMxOWQ1NzYzYTA0NWNiYWQ3MDliZmMxMTA0NTVkNCk7CiAgICAgICAgCgogICAgICAgIGNpcmNsZV9tYXJrZXJfOTMwZjJiOTAxNThlNGNlYzhkMmNjN2JjOGZkOGRkYzAuYmluZFBvcHVwKHBvcHVwXzdlODUzMzdiN2Q2YzQxZTI5MDY3NmQxM2I4YTM1MjRlKQogICAgICAgIDsKCiAgICAgICAgCiAgICAKICAgIAogICAgICAgICAgICB2YXIgY2lyY2xlX21hcmtlcl80NTQ5YjJmZmQ3NDM0MjBiOGVjNzdhYzdhYzAzMDEzNiA9IEwuY2lyY2xlTWFya2VyKAogICAgICAgICAgICAgICAgWzUzLjkxOTM4MzA2MTQ2Mjg3LCAyNy41ODQzODYyNDAyMDc3MDNdLAogICAgICAgICAgICAgICAgeyJidWJibGluZ01vdXNlRXZlbnRzIjogdHJ1ZSwgImNvbG9yIjogImJsdWUiLCAiZGFzaEFycmF5IjogbnVsbCwgImRhc2hPZmZzZXQiOiBudWxsLCAiZmlsbCI6IHRydWUsICJmaWxsQ29sb3IiOiAiIzMxODZjYyIsICJmaWxsT3BhY2l0eSI6IDAuNywgImZpbGxSdWxlIjogImV2ZW5vZGQiLCAibGluZUNhcCI6ICJyb3VuZCIsICJsaW5lSm9pbiI6ICJyb3VuZCIsICJvcGFjaXR5IjogMS4wLCAicmFkaXVzIjogNSwgInN0cm9rZSI6IHRydWUsICJ3ZWlnaHQiOiAzfQogICAgICAgICAgICApLmFkZFRvKG1hcF8wZTgxYWZmZTA0ZTI0Y2RiYWIyYzQ3ODYxZTRlZTNjYyk7CiAgICAgICAgCiAgICAKICAgICAgICB2YXIgcG9wdXBfODllNmZlOGU0ZGQ5NGE3ZjliOGNjNTQ1NzY2MzNlOTMgPSBMLnBvcHVwKHsibWF4V2lkdGgiOiAiMTAwJSJ9KTsKCiAgICAgICAgCiAgICAgICAgICAgIHZhciBodG1sXzk2NmIxZmFkMTMxOTQxNTliOWY3OWY4YjEyYjc5ZTE0ID0gJChgPGRpdiBpZD0iaHRtbF85NjZiMWZhZDEzMTk0MTU5YjlmNzlmOGIxMmI3OWUxNCIgc3R5bGU9IndpZHRoOiAxMDAuMCU7IGhlaWdodDogMTAwLjAlOyI+U2Fsb2Rr0ZZqYSBOYWzRlmJva9GWPC9kaXY+YClbMF07CiAgICAgICAgICAgIHBvcHVwXzg5ZTZmZThlNGRkOTRhN2Y5YjhjYzU0NTc2NjMzZTkzLnNldENvbnRlbnQoaHRtbF85NjZiMWZhZDEzMTk0MTU5YjlmNzlmOGIxMmI3OWUxNCk7CiAgICAgICAgCgogICAgICAgIGNpcmNsZV9tYXJrZXJfNDU0OWIyZmZkNzQzNDIwYjhlYzc3YWM3YWMwMzAxMzYuYmluZFBvcHVwKHBvcHVwXzg5ZTZmZThlNGRkOTRhN2Y5YjhjYzU0NTc2NjMzZTkzKQogICAgICAgIDsKCiAgICAgICAgCiAgICAKICAgIAogICAgICAgICAgICB2YXIgY2lyY2xlX21hcmtlcl9mNjA4MmQ0ZmE1Yzk0MDAxYjRlNWU5NjAxYTgyZjg0NyA9IEwuY2lyY2xlTWFya2VyKAogICAgICAgICAgICAgICAgWzUzLjkwNzc4OTM0OTQyMDgxLCAyNy41ODM1Nzk0OTQ3NDIzOF0sCiAgICAgICAgICAgICAgICB7ImJ1YmJsaW5nTW91c2VFdmVudHMiOiB0cnVlLCAiY29sb3IiOiAiYmx1ZSIsICJkYXNoQXJyYXkiOiBudWxsLCAiZGFzaE9mZnNldCI6IG51bGwsICJmaWxsIjogdHJ1ZSwgImZpbGxDb2xvciI6ICIjMzE4NmNjIiwgImZpbGxPcGFjaXR5IjogMC43LCAiZmlsbFJ1bGUiOiAiZXZlbm9kZCIsICJsaW5lQ2FwIjogInJvdW5kIiwgImxpbmVKb2luIjogInJvdW5kIiwgIm9wYWNpdHkiOiAxLjAsICJyYWRpdXMiOiA1LCAic3Ryb2tlIjogdHJ1ZSwgIndlaWdodCI6IDN9CiAgICAgICAgICAgICkuYWRkVG8obWFwXzBlODFhZmZlMDRlMjRjZGJhYjJjNDc4NjFlNGVlM2NjKTsKICAgICAgICAKICAgIAogICAgICAgIHZhciBwb3B1cF8zYTM1ZjU0YzBiMTQ0YTRiODdmOWJmMGI3MjAwY2VhYSA9IEwucG9wdXAoeyJtYXhXaWR0aCI6ICIxMDAlIn0pOwoKICAgICAgICAKICAgICAgICAgICAgdmFyIGh0bWxfNDFlMTQwZDhhNzIxNDNmZDk2Nzc5N2U2N2VmOGFkNzIgPSAkKGA8ZGl2IGlkPSJodG1sXzQxZTE0MGQ4YTcyMTQzZmQ5Njc3OTdlNjdlZjhhZDcyIiBzdHlsZT0id2lkdGg6IDEwMC4wJTsgaGVpZ2h0OiAxMDAuMCU7Ij5TaHRvbGxlIC8gU3RvbGxlPC9kaXY+YClbMF07CiAgICAgICAgICAgIHBvcHVwXzNhMzVmNTRjMGIxNDRhNGI4N2Y5YmYwYjcyMDBjZWFhLnNldENvbnRlbnQoaHRtbF80MWUxNDBkOGE3MjE0M2ZkOTY3Nzk3ZTY3ZWY4YWQ3Mik7CiAgICAgICAgCgogICAgICAgIGNpcmNsZV9tYXJrZXJfZjYwODJkNGZhNWM5NDAwMWI0ZTVlOTYwMWE4MmY4NDcuYmluZFBvcHVwKHBvcHVwXzNhMzVmNTRjMGIxNDRhNGI4N2Y5YmYwYjcyMDBjZWFhKQogICAgICAgIDsKCiAgICAgICAgCiAgICAKICAgIAogICAgICAgICAgICB2YXIgY2lyY2xlX21hcmtlcl9lYTZhZDYxODBiMTg0Mjg1YWVjNjkwY2MwYWQyNmM1NyA9IEwuY2lyY2xlTWFya2VyKAogICAgICAgICAgICAgICAgWzUzLjkxMjM4OCwgMjcuNTgwODE4XSwKICAgICAgICAgICAgICAgIHsiYnViYmxpbmdNb3VzZUV2ZW50cyI6IHRydWUsICJjb2xvciI6ICJibHVlIiwgImRhc2hBcnJheSI6IG51bGwsICJkYXNoT2Zmc2V0IjogbnVsbCwgImZpbGwiOiB0cnVlLCAiZmlsbENvbG9yIjogIiMzMTg2Y2MiLCAiZmlsbE9wYWNpdHkiOiAwLjcsICJmaWxsUnVsZSI6ICJldmVub2RkIiwgImxpbmVDYXAiOiAicm91bmQiLCAibGluZUpvaW4iOiAicm91bmQiLCAib3BhY2l0eSI6IDEuMCwgInJhZGl1cyI6IDUsICJzdHJva2UiOiB0cnVlLCAid2VpZ2h0IjogM30KICAgICAgICAgICAgKS5hZGRUbyhtYXBfMGU4MWFmZmUwNGUyNGNkYmFiMmM0Nzg2MWU0ZWUzY2MpOwogICAgICAgIAogICAgCiAgICAgICAgdmFyIHBvcHVwXzVlYTMwZTRjYTJhYTQ5ZjlhZTIyMjA4NDgxYzUyNDMyID0gTC5wb3B1cCh7Im1heFdpZHRoIjogIjEwMCUifSk7CgogICAgICAgIAogICAgICAgICAgICB2YXIgaHRtbF85MDI4MmFlNWZlZjk0ZmZmYTk5NGM0N2I4YjM1MGJmOSA9ICQoYDxkaXYgaWQ9Imh0bWxfOTAyODJhZTVmZWY5NGZmZmE5OTRjNDdiOGIzNTBiZjkiIHN0eWxlPSJ3aWR0aDogMTAwLjAlOyBoZWlnaHQ6IDEwMC4wJTsiPlplcm5vPC9kaXY+YClbMF07CiAgICAgICAgICAgIHBvcHVwXzVlYTMwZTRjYTJhYTQ5ZjlhZTIyMjA4NDgxYzUyNDMyLnNldENvbnRlbnQoaHRtbF85MDI4MmFlNWZlZjk0ZmZmYTk5NGM0N2I4YjM1MGJmOSk7CiAgICAgICAgCgogICAgICAgIGNpcmNsZV9tYXJrZXJfZWE2YWQ2MTgwYjE4NDI4NWFlYzY5MGNjMGFkMjZjNTcuYmluZFBvcHVwKHBvcHVwXzVlYTMwZTRjYTJhYTQ5ZjlhZTIyMjA4NDgxYzUyNDMyKQogICAgICAgIDsKCiAgICAgICAgCiAgICAKICAgIAogICAgICAgICAgICB2YXIgY2lyY2xlX21hcmtlcl9lZWFmZDM0N2ZlOGM0ZGYwOWViODkzY2M5Y2I1MWZjZSA9IEwuY2lyY2xlTWFya2VyKAogICAgICAgICAgICAgICAgWzUzLjk0NzM3MjU2MjQ0Mjg0LCAyNy42MjEyNDc0MjMwODg3Nl0sCiAgICAgICAgICAgICAgICB7ImJ1YmJsaW5nTW91c2VFdmVudHMiOiB0cnVlLCAiY29sb3IiOiAiYmx1ZSIsICJkYXNoQXJyYXkiOiBudWxsLCAiZGFzaE9mZnNldCI6IG51bGwsICJmaWxsIjogdHJ1ZSwgImZpbGxDb2xvciI6ICIjMzE4NmNjIiwgImZpbGxPcGFjaXR5IjogMC43LCAiZmlsbFJ1bGUiOiAiZXZlbm9kZCIsICJsaW5lQ2FwIjogInJvdW5kIiwgImxpbmVKb2luIjogInJvdW5kIiwgIm9wYWNpdHkiOiAxLjAsICJyYWRpdXMiOiA1LCAic3Ryb2tlIjogdHJ1ZSwgIndlaWdodCI6IDN9CiAgICAgICAgICAgICkuYWRkVG8obWFwXzBlODFhZmZlMDRlMjRjZGJhYjJjNDc4NjFlNGVlM2NjKTsKICAgICAgICAKICAgIAogICAgICAgIHZhciBwb3B1cF85ZTZiNGYwOGI4OWE0ODA1OWVmY2MyMDFkMTU4YjFlMiA9IEwucG9wdXAoeyJtYXhXaWR0aCI6ICIxMDAlIn0pOwoKICAgICAgICAKICAgICAgICAgICAgdmFyIGh0bWxfM2ViNzVmYTYxMGZmNDdmZGIxZWI3ZDk4Y2QzMjg2ZGEgPSAkKGA8ZGl2IGlkPSJodG1sXzNlYjc1ZmE2MTBmZjQ3ZmRiMWViN2Q5OGNkMzI4NmRhIiBzdHlsZT0id2lkdGg6IDEwMC4wJTsgaGVpZ2h0OiAxMDAuMCU7Ij5TdmV6aHkgaGxlYjwvZGl2PmApWzBdOwogICAgICAgICAgICBwb3B1cF85ZTZiNGYwOGI4OWE0ODA1OWVmY2MyMDFkMTU4YjFlMi5zZXRDb250ZW50KGh0bWxfM2ViNzVmYTYxMGZmNDdmZGIxZWI3ZDk4Y2QzMjg2ZGEpOwogICAgICAgIAoKICAgICAgICBjaXJjbGVfbWFya2VyX2VlYWZkMzQ3ZmU4YzRkZjA5ZWI4OTNjYzljYjUxZmNlLmJpbmRQb3B1cChwb3B1cF85ZTZiNGYwOGI4OWE0ODA1OWVmY2MyMDFkMTU4YjFlMikKICAgICAgICA7CgogICAgICAgIAogICAgCiAgICAKICAgICAgICAgICAgdmFyIGNpcmNsZV9tYXJrZXJfOTNmNzZjMzQwYTIxNGE0Mzk0N2JlNmE4NGU2NTIwMmMgPSBMLmNpcmNsZU1hcmtlcigKICAgICAgICAgICAgICAgIFs1My44NzM3MDI5Njk3MDc3MTUsIDI3LjYzNjQyNjk4NDM4NDY5NV0sCiAgICAgICAgICAgICAgICB7ImJ1YmJsaW5nTW91c2VFdmVudHMiOiB0cnVlLCAiY29sb3IiOiAiYmx1ZSIsICJkYXNoQXJyYXkiOiBudWxsLCAiZGFzaE9mZnNldCI6IG51bGwsICJmaWxsIjogdHJ1ZSwgImZpbGxDb2xvciI6ICIjMzE4NmNjIiwgImZpbGxPcGFjaXR5IjogMC43LCAiZmlsbFJ1bGUiOiAiZXZlbm9kZCIsICJsaW5lQ2FwIjogInJvdW5kIiwgImxpbmVKb2luIjogInJvdW5kIiwgIm9wYWNpdHkiOiAxLjAsICJyYWRpdXMiOiA1LCAic3Ryb2tlIjogdHJ1ZSwgIndlaWdodCI6IDN9CiAgICAgICAgICAgICkuYWRkVG8obWFwXzBlODFhZmZlMDRlMjRjZGJhYjJjNDc4NjFlNGVlM2NjKTsKICAgICAgICAKICAgIAogICAgICAgIHZhciBwb3B1cF8wNzliYjg4NDExMzU0MDI1YjhhNmNlMzE1NGFiNmJlZSA9IEwucG9wdXAoeyJtYXhXaWR0aCI6ICIxMDAlIn0pOwoKICAgICAgICAKICAgICAgICAgICAgdmFyIGh0bWxfMGU1ZGJmMWEzMWU3NGRiMjkyMDk2Nzg4YTVlMjZhMWQgPSAkKGA8ZGl2IGlkPSJodG1sXzBlNWRiZjFhMzFlNzRkYjI5MjA5Njc4OGE1ZTI2YTFkIiBzdHlsZT0id2lkdGg6IDEwMC4wJTsgaGVpZ2h0OiAxMDAuMCU7Ij5Hb3JqYWNoaWogaGxlYjwvZGl2PmApWzBdOwogICAgICAgICAgICBwb3B1cF8wNzliYjg4NDExMzU0MDI1YjhhNmNlMzE1NGFiNmJlZS5zZXRDb250ZW50KGh0bWxfMGU1ZGJmMWEzMWU3NGRiMjkyMDk2Nzg4YTVlMjZhMWQpOwogICAgICAgIAoKICAgICAgICBjaXJjbGVfbWFya2VyXzkzZjc2YzM0MGEyMTRhNDM5NDdiZTZhODRlNjUyMDJjLmJpbmRQb3B1cChwb3B1cF8wNzliYjg4NDExMzU0MDI1YjhhNmNlMzE1NGFiNmJlZSkKICAgICAgICA7CgogICAgICAgIAogICAgCiAgICAKICAgICAgICAgICAgdmFyIGNpcmNsZV9tYXJrZXJfNmQyNDE0NzNlOThiNGI4YmFkNmFjZjQ3ZTE0M2VkM2YgPSBMLmNpcmNsZU1hcmtlcigKICAgICAgICAgICAgICAgIFs1My45MzM5ODcyMzcxOTk5ODYsIDI3LjU2NTM3MDIxNDkyMjkzXSwKICAgICAgICAgICAgICAgIHsiYnViYmxpbmdNb3VzZUV2ZW50cyI6IHRydWUsICJjb2xvciI6ICJibHVlIiwgImRhc2hBcnJheSI6IG51bGwsICJkYXNoT2Zmc2V0IjogbnVsbCwgImZpbGwiOiB0cnVlLCAiZmlsbENvbG9yIjogIiMzMTg2Y2MiLCAiZmlsbE9wYWNpdHkiOiAwLjcsICJmaWxsUnVsZSI6ICJldmVub2RkIiwgImxpbmVDYXAiOiAicm91bmQiLCAibGluZUpvaW4iOiAicm91bmQiLCAib3BhY2l0eSI6IDEuMCwgInJhZGl1cyI6IDUsICJzdHJva2UiOiB0cnVlLCAid2VpZ2h0IjogM30KICAgICAgICAgICAgKS5hZGRUbyhtYXBfMGU4MWFmZmUwNGUyNGNkYmFiMmM0Nzg2MWU0ZWUzY2MpOwogICAgICAgIAogICAgCiAgICAgICAgdmFyIHBvcHVwXzZiNDFmZDMyYzVmODQ5YTc4NGY5NDJlNmEyNmFhZTRlID0gTC5wb3B1cCh7Im1heFdpZHRoIjogIjEwMCUifSk7CgogICAgICAgIAogICAgICAgICAgICB2YXIgaHRtbF85MDk1NGRjZTI5MjM0OWZlYjE0OWMxZGQ5NDYzNDkxMiA9ICQoYDxkaXYgaWQ9Imh0bWxfOTA5NTRkY2UyOTIzNDlmZWIxNDljMWRkOTQ2MzQ5MTIiIHN0eWxlPSJ3aWR0aDogMTAwLjAlOyBoZWlnaHQ6IDEwMC4wJTsiPk1hZ2F6aW4tcGVrYXJuamEgwqtLb2xvc29rwrs8L2Rpdj5gKVswXTsKICAgICAgICAgICAgcG9wdXBfNmI0MWZkMzJjNWY4NDlhNzg0Zjk0MmU2YTI2YWFlNGUuc2V0Q29udGVudChodG1sXzkwOTU0ZGNlMjkyMzQ5ZmViMTQ5YzFkZDk0NjM0OTEyKTsKICAgICAgICAKCiAgICAgICAgY2lyY2xlX21hcmtlcl82ZDI0MTQ3M2U5OGI0YjhiYWQ2YWNmNDdlMTQzZWQzZi5iaW5kUG9wdXAocG9wdXBfNmI0MWZkMzJjNWY4NDlhNzg0Zjk0MmU2YTI2YWFlNGUpCiAgICAgICAgOwoKICAgICAgICAKICAgIAogICAgCiAgICAgICAgICAgIHZhciBjaXJjbGVfbWFya2VyXzg1MTU0Zjk3Y2Y3YjQxNDc5YjA5YjQ2YWVhY2RkNDk3ID0gTC5jaXJjbGVNYXJrZXIoCiAgICAgICAgICAgICAgICBbNTMuOTE1MzI5NTAwODM0NzQsIDI3LjU1NjExMDE2NjU2NTldLAogICAgICAgICAgICAgICAgeyJidWJibGluZ01vdXNlRXZlbnRzIjogdHJ1ZSwgImNvbG9yIjogImJsdWUiLCAiZGFzaEFycmF5IjogbnVsbCwgImRhc2hPZmZzZXQiOiBudWxsLCAiZmlsbCI6IHRydWUsICJmaWxsQ29sb3IiOiAiIzMxODZjYyIsICJmaWxsT3BhY2l0eSI6IDAuNywgImZpbGxSdWxlIjogImV2ZW5vZGQiLCAibGluZUNhcCI6ICJyb3VuZCIsICJsaW5lSm9pbiI6ICJyb3VuZCIsICJvcGFjaXR5IjogMS4wLCAicmFkaXVzIjogNSwgInN0cm9rZSI6IHRydWUsICJ3ZWlnaHQiOiAzfQogICAgICAgICAgICApLmFkZFRvKG1hcF8wZTgxYWZmZTA0ZTI0Y2RiYWIyYzQ3ODYxZTRlZTNjYyk7CiAgICAgICAgCiAgICAKICAgICAgICB2YXIgcG9wdXBfZTdhNjJjZjgyNDdhNDYyNTk3YWRiYTA0NGU4MjczODkgPSBMLnBvcHVwKHsibWF4V2lkdGgiOiAiMTAwJSJ9KTsKCiAgICAgICAgCiAgICAgICAgICAgIHZhciBodG1sXzQ5NTJiMjA1ZTNmNjQyNjlhNThmNmU1ZGI1YTAzNWM4ID0gJChgPGRpdiBpZD0iaHRtbF80OTUyYjIwNWUzZjY0MjY5YTU4ZjZlNWRiNWEwMzVjOCIgc3R5bGU9IndpZHRoOiAxMDAuMCU7IGhlaWdodDogMTAwLjAlOyI+R29yamFjaGlqIGhsZWI8L2Rpdj5gKVswXTsKICAgICAgICAgICAgcG9wdXBfZTdhNjJjZjgyNDdhNDYyNTk3YWRiYTA0NGU4MjczODkuc2V0Q29udGVudChodG1sXzQ5NTJiMjA1ZTNmNjQyNjlhNThmNmU1ZGI1YTAzNWM4KTsKICAgICAgICAKCiAgICAgICAgY2lyY2xlX21hcmtlcl84NTE1NGY5N2NmN2I0MTQ3OWIwOWI0NmFlYWNkZDQ5Ny5iaW5kUG9wdXAocG9wdXBfZTdhNjJjZjgyNDdhNDYyNTk3YWRiYTA0NGU4MjczODkpCiAgICAgICAgOwoKICAgICAgICAKICAgIAogICAgCiAgICAgICAgICAgIHZhciBjaXJjbGVfbWFya2VyX2JiZmE2YTM2NmEwMDQ3NGM5YjkzNGIxYmIwNDNkOWZiID0gTC5jaXJjbGVNYXJrZXIoCiAgICAgICAgICAgICAgICBbNTMuOTQ3NDY3Mjc4NzQ2NjE1LCAyNy42OTc1NTI2NTc1NDc2ODJdLAogICAgICAgICAgICAgICAgeyJidWJibGluZ01vdXNlRXZlbnRzIjogdHJ1ZSwgImNvbG9yIjogImJsdWUiLCAiZGFzaEFycmF5IjogbnVsbCwgImRhc2hPZmZzZXQiOiBudWxsLCAiZmlsbCI6IHRydWUsICJmaWxsQ29sb3IiOiAiIzMxODZjYyIsICJmaWxsT3BhY2l0eSI6IDAuNywgImZpbGxSdWxlIjogImV2ZW5vZGQiLCAibGluZUNhcCI6ICJyb3VuZCIsICJsaW5lSm9pbiI6ICJyb3VuZCIsICJvcGFjaXR5IjogMS4wLCAicmFkaXVzIjogNSwgInN0cm9rZSI6IHRydWUsICJ3ZWlnaHQiOiAzfQogICAgICAgICAgICApLmFkZFRvKG1hcF8wZTgxYWZmZTA0ZTI0Y2RiYWIyYzQ3ODYxZTRlZTNjYyk7CiAgICAgICAgCiAgICAKICAgICAgICB2YXIgcG9wdXBfNDg2Y2MwOTFmNWQ2NDRkZGI5OTFmNGI1MmQ5MWY1MTcgPSBMLnBvcHVwKHsibWF4V2lkdGgiOiAiMTAwJSJ9KTsKCiAgICAgICAgCiAgICAgICAgICAgIHZhciBodG1sXzljNDA0N2NhNmE3ODQyNWViOTNiOTkxZjNiZDNiYWYyID0gJChgPGRpdiBpZD0iaHRtbF85YzQwNDdjYTZhNzg0MjVlYjkzYjk5MWYzYmQzYmFmMiIgc3R5bGU9IndpZHRoOiAxMDAuMCU7IGhlaWdodDogMTAwLjAlOyI+Qmxpbm5hamE8L2Rpdj5gKVswXTsKICAgICAgICAgICAgcG9wdXBfNDg2Y2MwOTFmNWQ2NDRkZGI5OTFmNGI1MmQ5MWY1MTcuc2V0Q29udGVudChodG1sXzljNDA0N2NhNmE3ODQyNWViOTNiOTkxZjNiZDNiYWYyKTsKICAgICAgICAKCiAgICAgICAgY2lyY2xlX21hcmtlcl9iYmZhNmEzNjZhMDA0NzRjOWI5MzRiMWJiMDQzZDlmYi5iaW5kUG9wdXAocG9wdXBfNDg2Y2MwOTFmNWQ2NDRkZGI5OTFmNGI1MmQ5MWY1MTcpCiAgICAgICAgOwoKICAgICAgICAKICAgIAogICAgCiAgICAgICAgICAgIHZhciBjaXJjbGVfbWFya2VyX2M5NGU5MzY3Zjk1OTQyYWRiZmViNmJiYzIzYzM3M2U1ID0gTC5jaXJjbGVNYXJrZXIoCiAgICAgICAgICAgICAgICBbNTMuOTA0NTg5MjQwNTYzMzYsIDI3LjU0NTgxNjc5NDI2NzE4XSwKICAgICAgICAgICAgICAgIHsiYnViYmxpbmdNb3VzZUV2ZW50cyI6IHRydWUsICJjb2xvciI6ICJibHVlIiwgImRhc2hBcnJheSI6IG51bGwsICJkYXNoT2Zmc2V0IjogbnVsbCwgImZpbGwiOiB0cnVlLCAiZmlsbENvbG9yIjogIiMzMTg2Y2MiLCAiZmlsbE9wYWNpdHkiOiAwLjcsICJmaWxsUnVsZSI6ICJldmVub2RkIiwgImxpbmVDYXAiOiAicm91bmQiLCAibGluZUpvaW4iOiAicm91bmQiLCAib3BhY2l0eSI6IDEuMCwgInJhZGl1cyI6IDUsICJzdHJva2UiOiB0cnVlLCAid2VpZ2h0IjogM30KICAgICAgICAgICAgKS5hZGRUbyhtYXBfMGU4MWFmZmUwNGUyNGNkYmFiMmM0Nzg2MWU0ZWUzY2MpOwogICAgICAgIAogICAgCiAgICAgICAgdmFyIHBvcHVwX2FhYjA2MjZmNzU2NDQ0ZGZiYTRiZTYzM2VjNzlhYzAzID0gTC5wb3B1cCh7Im1heFdpZHRoIjogIjEwMCUifSk7CgogICAgICAgIAogICAgICAgICAgICB2YXIgaHRtbF9kY2JjNmJkYWY2ZTE0OTI5YjdlZTE3ZDgwNDA0YjE3NyA9ICQoYDxkaXYgaWQ9Imh0bWxfZGNiYzZiZGFmNmUxNDkyOWI3ZWUxN2Q4MDQwNGIxNzciIHN0eWxlPSJ3aWR0aDogMTAwLjAlOyBoZWlnaHQ6IDEwMC4wJTsiPlN2ZXpoaWogaGxlYjwvZGl2PmApWzBdOwogICAgICAgICAgICBwb3B1cF9hYWIwNjI2Zjc1NjQ0NGRmYmE0YmU2MzNlYzc5YWMwMy5zZXRDb250ZW50KGh0bWxfZGNiYzZiZGFmNmUxNDkyOWI3ZWUxN2Q4MDQwNGIxNzcpOwogICAgICAgIAoKICAgICAgICBjaXJjbGVfbWFya2VyX2M5NGU5MzY3Zjk1OTQyYWRiZmViNmJiYzIzYzM3M2U1LmJpbmRQb3B1cChwb3B1cF9hYWIwNjI2Zjc1NjQ0NGRmYmE0YmU2MzNlYzc5YWMwMykKICAgICAgICA7CgogICAgICAgIAogICAgCiAgICAKICAgICAgICAgICAgdmFyIGNpcmNsZV9tYXJrZXJfZDA2MmNiYWFmMTM2NDFmZGE1NjJhMWM0NWI3ODJkOGYgPSBMLmNpcmNsZU1hcmtlcigKICAgICAgICAgICAgICAgIFs1My45MDU1NDc4NTk2Njc3NywgMjcuNTQ2MTI3ODQ0MTUzXSwKICAgICAgICAgICAgICAgIHsiYnViYmxpbmdNb3VzZUV2ZW50cyI6IHRydWUsICJjb2xvciI6ICJibHVlIiwgImRhc2hBcnJheSI6IG51bGwsICJkYXNoT2Zmc2V0IjogbnVsbCwgImZpbGwiOiB0cnVlLCAiZmlsbENvbG9yIjogIiMzMTg2Y2MiLCAiZmlsbE9wYWNpdHkiOiAwLjcsICJmaWxsUnVsZSI6ICJldmVub2RkIiwgImxpbmVDYXAiOiAicm91bmQiLCAibGluZUpvaW4iOiAicm91bmQiLCAib3BhY2l0eSI6IDEuMCwgInJhZGl1cyI6IDUsICJzdHJva2UiOiB0cnVlLCAid2VpZ2h0IjogM30KICAgICAgICAgICAgKS5hZGRUbyhtYXBfMGU4MWFmZmUwNGUyNGNkYmFiMmM0Nzg2MWU0ZWUzY2MpOwogICAgICAgIAogICAgCiAgICAgICAgdmFyIHBvcHVwXzQ2Y2ZkYjU2NzNlYjRmOTk4MDcxYzQ3ODA2NjZiMmFkID0gTC5wb3B1cCh7Im1heFdpZHRoIjogIjEwMCUifSk7CgogICAgICAgIAogICAgICAgICAgICB2YXIgaHRtbF83ZTkyNWY2Mzk0NzY0ZDE2OGNmOTdlZmYwYzJlMTg3OSA9ICQoYDxkaXYgaWQ9Imh0bWxfN2U5MjVmNjM5NDc2NGQxNjhjZjk3ZWZmMGMyZTE4NzkiIHN0eWxlPSJ3aWR0aDogMTAwLjAlOyBoZWlnaHQ6IDEwMC4wJTsiPk1hZ2F6aW4ta2FmZXRlcmlqPC9kaXY+YClbMF07CiAgICAgICAgICAgIHBvcHVwXzQ2Y2ZkYjU2NzNlYjRmOTk4MDcxYzQ3ODA2NjZiMmFkLnNldENvbnRlbnQoaHRtbF83ZTkyNWY2Mzk0NzY0ZDE2OGNmOTdlZmYwYzJlMTg3OSk7CiAgICAgICAgCgogICAgICAgIGNpcmNsZV9tYXJrZXJfZDA2MmNiYWFmMTM2NDFmZGE1NjJhMWM0NWI3ODJkOGYuYmluZFBvcHVwKHBvcHVwXzQ2Y2ZkYjU2NzNlYjRmOTk4MDcxYzQ3ODA2NjZiMmFkKQogICAgICAgIDsKCiAgICAgICAgCiAgICAKICAgIAogICAgICAgICAgICB2YXIgY2lyY2xlX21hcmtlcl9hZDhhZmRhMDA1MzM0Yzk0YmQyNjA3YTQxYjM1ZGM4MSA9IEwuY2lyY2xlTWFya2VyKAogICAgICAgICAgICAgICAgWzUzLjg5NzM0MjAwODU3NDYyNiwgMjcuNTMxNzgyOTQ3OTg5NjZdLAogICAgICAgICAgICAgICAgeyJidWJibGluZ01vdXNlRXZlbnRzIjogdHJ1ZSwgImNvbG9yIjogImJsdWUiLCAiZGFzaEFycmF5IjogbnVsbCwgImRhc2hPZmZzZXQiOiBudWxsLCAiZmlsbCI6IHRydWUsICJmaWxsQ29sb3IiOiAiIzMxODZjYyIsICJmaWxsT3BhY2l0eSI6IDAuNywgImZpbGxSdWxlIjogImV2ZW5vZGQiLCAibGluZUNhcCI6ICJyb3VuZCIsICJsaW5lSm9pbiI6ICJyb3VuZCIsICJvcGFjaXR5IjogMS4wLCAicmFkaXVzIjogNSwgInN0cm9rZSI6IHRydWUsICJ3ZWlnaHQiOiAzfQogICAgICAgICAgICApLmFkZFRvKG1hcF8wZTgxYWZmZTA0ZTI0Y2RiYWIyYzQ3ODYxZTRlZTNjYyk7CiAgICAgICAgCiAgICAKICAgICAgICB2YXIgcG9wdXBfMWRhMDU4ZmJiZjJjNDA5ZmJmOWE4NjE5ZmJlN2M0NTcgPSBMLnBvcHVwKHsibWF4V2lkdGgiOiAiMTAwJSJ9KTsKCiAgICAgICAgCiAgICAgICAgICAgIHZhciBodG1sXzIyNWViYjg0Y2IyNzQxMmU4OWFiMjc1ZTUyMDEyMjg3ID0gJChgPGRpdiBpZD0iaHRtbF8yMjVlYmI4NGNiMjc0MTJlODlhYjI3NWU1MjAxMjI4NyIgc3R5bGU9IndpZHRoOiAxMDAuMCU7IGhlaWdodDogMTAwLjAlOyI+RG9sJiMzOTtjaGU8L2Rpdj5gKVswXTsKICAgICAgICAgICAgcG9wdXBfMWRhMDU4ZmJiZjJjNDA5ZmJmOWE4NjE5ZmJlN2M0NTcuc2V0Q29udGVudChodG1sXzIyNWViYjg0Y2IyNzQxMmU4OWFiMjc1ZTUyMDEyMjg3KTsKICAgICAgICAKCiAgICAgICAgY2lyY2xlX21hcmtlcl9hZDhhZmRhMDA1MzM0Yzk0YmQyNjA3YTQxYjM1ZGM4MS5iaW5kUG9wdXAocG9wdXBfMWRhMDU4ZmJiZjJjNDA5ZmJmOWE4NjE5ZmJlN2M0NTcpCiAgICAgICAgOwoKICAgICAgICAKICAgIAogICAgCiAgICAgICAgICAgIHZhciBjaXJjbGVfbWFya2VyX2NmOTgzNjdiNDQ1MTRiYzViODAxYjM1MDI2NGU3OWQxID0gTC5jaXJjbGVNYXJrZXIoCiAgICAgICAgICAgICAgICBbNTMuODYzMzMwOTg0NzU5NzcsIDI3LjUyNDAzODM0NTM3OTY0OF0sCiAgICAgICAgICAgICAgICB7ImJ1YmJsaW5nTW91c2VFdmVudHMiOiB0cnVlLCAiY29sb3IiOiAiYmx1ZSIsICJkYXNoQXJyYXkiOiBudWxsLCAiZGFzaE9mZnNldCI6IG51bGwsICJmaWxsIjogdHJ1ZSwgImZpbGxDb2xvciI6ICIjMzE4NmNjIiwgImZpbGxPcGFjaXR5IjogMC43LCAiZmlsbFJ1bGUiOiAiZXZlbm9kZCIsICJsaW5lQ2FwIjogInJvdW5kIiwgImxpbmVKb2luIjogInJvdW5kIiwgIm9wYWNpdHkiOiAxLjAsICJyYWRpdXMiOiA1LCAic3Ryb2tlIjogdHJ1ZSwgIndlaWdodCI6IDN9CiAgICAgICAgICAgICkuYWRkVG8obWFwXzBlODFhZmZlMDRlMjRjZGJhYjJjNDc4NjFlNGVlM2NjKTsKICAgICAgICAKICAgIAogICAgICAgIHZhciBwb3B1cF80NGY0ZjExMzhkM2I0NjllOTFmODZhNDVmZGE5NmYxMyA9IEwucG9wdXAoeyJtYXhXaWR0aCI6ICIxMDAlIn0pOwoKICAgICAgICAKICAgICAgICAgICAgdmFyIGh0bWxfMWZkZTJmMjliZmY1NDAwNjlmZmViMWE0OTg2OTg2MjYgPSAkKGA8ZGl2IGlkPSJodG1sXzFmZGUyZjI5YmZmNTQwMDY5ZmZlYjFhNDk4Njk4NjI2IiBzdHlsZT0id2lkdGg6IDEwMC4wJTsgaGVpZ2h0OiAxMDAuMCU7Ij5TdmV6aGlqIGhsZWI8L2Rpdj5gKVswXTsKICAgICAgICAgICAgcG9wdXBfNDRmNGYxMTM4ZDNiNDY5ZTkxZjg2YTQ1ZmRhOTZmMTMuc2V0Q29udGVudChodG1sXzFmZGUyZjI5YmZmNTQwMDY5ZmZlYjFhNDk4Njk4NjI2KTsKICAgICAgICAKCiAgICAgICAgY2lyY2xlX21hcmtlcl9jZjk4MzY3YjQ0NTE0YmM1YjgwMWIzNTAyNjRlNzlkMS5iaW5kUG9wdXAocG9wdXBfNDRmNGYxMTM4ZDNiNDY5ZTkxZjg2YTQ1ZmRhOTZmMTMpCiAgICAgICAgOwoKICAgICAgICAKICAgIAogICAgCiAgICAgICAgICAgIHZhciBjaXJjbGVfbWFya2VyXzdmYzEyOGE4MjY2YjRiYTViYzUzMGZiNGQwYmNhYTkzID0gTC5jaXJjbGVNYXJrZXIoCiAgICAgICAgICAgICAgICBbNTMuOTAzNzcxMzM3MDA2NTMsIDI3LjU1ODcxNDMxMjI1MjMwNl0sCiAgICAgICAgICAgICAgICB7ImJ1YmJsaW5nTW91c2VFdmVudHMiOiB0cnVlLCAiY29sb3IiOiAiYmx1ZSIsICJkYXNoQXJyYXkiOiBudWxsLCAiZGFzaE9mZnNldCI6IG51bGwsICJmaWxsIjogdHJ1ZSwgImZpbGxDb2xvciI6ICIjMzE4NmNjIiwgImZpbGxPcGFjaXR5IjogMC43LCAiZmlsbFJ1bGUiOiAiZXZlbm9kZCIsICJsaW5lQ2FwIjogInJvdW5kIiwgImxpbmVKb2luIjogInJvdW5kIiwgIm9wYWNpdHkiOiAxLjAsICJyYWRpdXMiOiA1LCAic3Ryb2tlIjogdHJ1ZSwgIndlaWdodCI6IDN9CiAgICAgICAgICAgICkuYWRkVG8obWFwXzBlODFhZmZlMDRlMjRjZGJhYjJjNDc4NjFlNGVlM2NjKTsKICAgICAgICAKICAgIAogICAgICAgIHZhciBwb3B1cF85NWNkMzhhN2I3ODQ0OTIyOTI3YzIyNDg3NDA4MDA0NyA9IEwucG9wdXAoeyJtYXhXaWR0aCI6ICIxMDAlIn0pOwoKICAgICAgICAKICAgICAgICAgICAgdmFyIGh0bWxfYTM0MThmNWJmNzQ4NDhhMmJiY2JiMzJmOGIwMTJmODEgPSAkKGA8ZGl2IGlkPSJodG1sX2EzNDE4ZjViZjc0ODQ4YTJiYmNiYjMyZjhiMDEyZjgxIiBzdHlsZT0id2lkdGg6IDEwMC4wJTsgaGVpZ2h0OiAxMDAuMCU7Ij5TaHRvbGxlIC8gU3RvbGxlPC9kaXY+YClbMF07CiAgICAgICAgICAgIHBvcHVwXzk1Y2QzOGE3Yjc4NDQ5MjI5MjdjMjI0ODc0MDgwMDQ3LnNldENvbnRlbnQoaHRtbF9hMzQxOGY1YmY3NDg0OGEyYmJjYmIzMmY4YjAxMmY4MSk7CiAgICAgICAgCgogICAgICAgIGNpcmNsZV9tYXJrZXJfN2ZjMTI4YTgyNjZiNGJhNWJjNTMwZmI0ZDBiY2FhOTMuYmluZFBvcHVwKHBvcHVwXzk1Y2QzOGE3Yjc4NDQ5MjI5MjdjMjI0ODc0MDgwMDQ3KQogICAgICAgIDsKCiAgICAgICAgCiAgICAKICAgIAogICAgICAgICAgICB2YXIgY2lyY2xlX21hcmtlcl83YmUwM2YzZDA3ZmY0NWMyYmI1YjEyM2RmOTNkZGNmZSA9IEwuY2lyY2xlTWFya2VyKAogICAgICAgICAgICAgICAgWzUzLjg0OTcxNiwgMjcuNDc3OTZdLAogICAgICAgICAgICAgICAgeyJidWJibGluZ01vdXNlRXZlbnRzIjogdHJ1ZSwgImNvbG9yIjogImJsdWUiLCAiZGFzaEFycmF5IjogbnVsbCwgImRhc2hPZmZzZXQiOiBudWxsLCAiZmlsbCI6IHRydWUsICJmaWxsQ29sb3IiOiAiIzMxODZjYyIsICJmaWxsT3BhY2l0eSI6IDAuNywgImZpbGxSdWxlIjogImV2ZW5vZGQiLCAibGluZUNhcCI6ICJyb3VuZCIsICJsaW5lSm9pbiI6ICJyb3VuZCIsICJvcGFjaXR5IjogMS4wLCAicmFkaXVzIjogNSwgInN0cm9rZSI6IHRydWUsICJ3ZWlnaHQiOiAzfQogICAgICAgICAgICApLmFkZFRvKG1hcF8wZTgxYWZmZTA0ZTI0Y2RiYWIyYzQ3ODYxZTRlZTNjYyk7CiAgICAgICAgCiAgICAKICAgICAgICB2YXIgcG9wdXBfZmUyOGE2NDNhM2ZjNDJhYjljMGJiNWU3YzBlNjgxOWQgPSBMLnBvcHVwKHsibWF4V2lkdGgiOiAiMTAwJSJ9KTsKCiAgICAgICAgCiAgICAgICAgICAgIHZhciBodG1sXzEzYTIwMTMyZjY4YzRiYTI4NTIzOGY1NGIzNGI0YTA1ID0gJChgPGRpdiBpZD0iaHRtbF8xM2EyMDEzMmY2OGM0YmEyODUyMzhmNTRiMzRiNGEwNSIgc3R5bGU9IndpZHRoOiAxMDAuMCU7IGhlaWdodDogMTAwLjAlOyI+TW91bGluPC9kaXY+YClbMF07CiAgICAgICAgICAgIHBvcHVwX2ZlMjhhNjQzYTNmYzQyYWI5YzBiYjVlN2MwZTY4MTlkLnNldENvbnRlbnQoaHRtbF8xM2EyMDEzMmY2OGM0YmEyODUyMzhmNTRiMzRiNGEwNSk7CiAgICAgICAgCgogICAgICAgIGNpcmNsZV9tYXJrZXJfN2JlMDNmM2QwN2ZmNDVjMmJiNWIxMjNkZjkzZGRjZmUuYmluZFBvcHVwKHBvcHVwX2ZlMjhhNjQzYTNmYzQyYWI5YzBiYjVlN2MwZTY4MTlkKQogICAgICAgIDsKCiAgICAgICAgCiAgICAKICAgIAogICAgICAgICAgICB2YXIgY2lyY2xlX21hcmtlcl82MDA0YTY5ODg1Mjk0NWNkODhlMWM5ZjExZDUwYzYzZSA9IEwuY2lyY2xlTWFya2VyKAogICAgICAgICAgICAgICAgWzUzLjkwNDk1MzcyNjQwNzc0LCAyNy41NDYwNzY3MzEwNzI0XSwKICAgICAgICAgICAgICAgIHsiYnViYmxpbmdNb3VzZUV2ZW50cyI6IHRydWUsICJjb2xvciI6ICJibHVlIiwgImRhc2hBcnJheSI6IG51bGwsICJkYXNoT2Zmc2V0IjogbnVsbCwgImZpbGwiOiB0cnVlLCAiZmlsbENvbG9yIjogIiMzMTg2Y2MiLCAiZmlsbE9wYWNpdHkiOiAwLjcsICJmaWxsUnVsZSI6ICJldmVub2RkIiwgImxpbmVDYXAiOiAicm91bmQiLCAibGluZUpvaW4iOiAicm91bmQiLCAib3BhY2l0eSI6IDEuMCwgInJhZGl1cyI6IDUsICJzdHJva2UiOiB0cnVlLCAid2VpZ2h0IjogM30KICAgICAgICAgICAgKS5hZGRUbyhtYXBfMGU4MWFmZmUwNGUyNGNkYmFiMmM0Nzg2MWU0ZWUzY2MpOwogICAgICAgIAogICAgCiAgICAgICAgdmFyIHBvcHVwXzdkNDU0NTUzYjE5YjQzZDM4Y2VmMDNhYjY5YTlmY2Y4ID0gTC5wb3B1cCh7Im1heFdpZHRoIjogIjEwMCUifSk7CgogICAgICAgIAogICAgICAgICAgICB2YXIgaHRtbF9lMjljODViZTY1MGU0M2UyODFiOWI4NWYzOWZlZTRkZSA9ICQoYDxkaXYgaWQ9Imh0bWxfZTI5Yzg1YmU2NTBlNDNlMjgxYjliODVmMzlmZWU0ZGUiIHN0eWxlPSJ3aWR0aDogMTAwLjAlOyBoZWlnaHQ6IDEwMC4wJTsiPlBla2FybmphPC9kaXY+YClbMF07CiAgICAgICAgICAgIHBvcHVwXzdkNDU0NTUzYjE5YjQzZDM4Y2VmMDNhYjY5YTlmY2Y4LnNldENvbnRlbnQoaHRtbF9lMjljODViZTY1MGU0M2UyODFiOWI4NWYzOWZlZTRkZSk7CiAgICAgICAgCgogICAgICAgIGNpcmNsZV9tYXJrZXJfNjAwNGE2OTg4NTI5NDVjZDg4ZTFjOWYxMWQ1MGM2M2UuYmluZFBvcHVwKHBvcHVwXzdkNDU0NTUzYjE5YjQzZDM4Y2VmMDNhYjY5YTlmY2Y4KQogICAgICAgIDsKCiAgICAgICAgCiAgICAKICAgIAogICAgICAgICAgICB2YXIgY2lyY2xlX21hcmtlcl82NzMzZDAzN2Y0ZDk0ZGViOWE4NzYwODUxMTkzYTZjZCA9IEwuY2lyY2xlTWFya2VyKAogICAgICAgICAgICAgICAgWzUzLjg3MzczNTQ2ODMxNTE3LCAyNy42Mzc3NzI0MjE3ODYyN10sCiAgICAgICAgICAgICAgICB7ImJ1YmJsaW5nTW91c2VFdmVudHMiOiB0cnVlLCAiY29sb3IiOiAiYmx1ZSIsICJkYXNoQXJyYXkiOiBudWxsLCAiZGFzaE9mZnNldCI6IG51bGwsICJmaWxsIjogdHJ1ZSwgImZpbGxDb2xvciI6ICIjMzE4NmNjIiwgImZpbGxPcGFjaXR5IjogMC43LCAiZmlsbFJ1bGUiOiAiZXZlbm9kZCIsICJsaW5lQ2FwIjogInJvdW5kIiwgImxpbmVKb2luIjogInJvdW5kIiwgIm9wYWNpdHkiOiAxLjAsICJyYWRpdXMiOiA1LCAic3Ryb2tlIjogdHJ1ZSwgIndlaWdodCI6IDN9CiAgICAgICAgICAgICkuYWRkVG8obWFwXzBlODFhZmZlMDRlMjRjZGJhYjJjNDc4NjFlNGVlM2NjKTsKICAgICAgICAKICAgIAogICAgICAgIHZhciBwb3B1cF83MGNiOGNjYmMzNDM0ZTkxOGVlNzRmZjJiMDAyMzU3NCA9IEwucG9wdXAoeyJtYXhXaWR0aCI6ICIxMDAlIn0pOwoKICAgICAgICAKICAgICAgICAgICAgdmFyIGh0bWxfZjYwNjVkYmIxMzE5NDg4Yzg3MDg2MzE2NWJlY2VhNjMgPSAkKGA8ZGl2IGlkPSJodG1sX2Y2MDY1ZGJiMTMxOTQ4OGM4NzA4NjMxNjViZWNlYTYzIiBzdHlsZT0id2lkdGg6IDEwMC4wJTsgaGVpZ2h0OiAxMDAuMCU7Ij5TdmV6aGlqIGhsZWI8L2Rpdj5gKVswXTsKICAgICAgICAgICAgcG9wdXBfNzBjYjhjY2JjMzQzNGU5MThlZTc0ZmYyYjAwMjM1NzQuc2V0Q29udGVudChodG1sX2Y2MDY1ZGJiMTMxOTQ4OGM4NzA4NjMxNjViZWNlYTYzKTsKICAgICAgICAKCiAgICAgICAgY2lyY2xlX21hcmtlcl82NzMzZDAzN2Y0ZDk0ZGViOWE4NzYwODUxMTkzYTZjZC5iaW5kUG9wdXAocG9wdXBfNzBjYjhjY2JjMzQzNGU5MThlZTc0ZmYyYjAwMjM1NzQpCiAgICAgICAgOwoKICAgICAgICAKICAgIAogICAgCiAgICAgICAgICAgIHZhciBjaXJjbGVfbWFya2VyX2QzZWJhYjgzMjdkNDRmMjlhYzljYTYxMDkyMzBhMWRlID0gTC5jaXJjbGVNYXJrZXIoCiAgICAgICAgICAgICAgICBbNTMuOTAwMTQ4ODgxNzE3OTYsIDI3LjUyMjA0MzkwOTU2NzNdLAogICAgICAgICAgICAgICAgeyJidWJibGluZ01vdXNlRXZlbnRzIjogdHJ1ZSwgImNvbG9yIjogImJsdWUiLCAiZGFzaEFycmF5IjogbnVsbCwgImRhc2hPZmZzZXQiOiBudWxsLCAiZmlsbCI6IHRydWUsICJmaWxsQ29sb3IiOiAiIzMxODZjYyIsICJmaWxsT3BhY2l0eSI6IDAuNywgImZpbGxSdWxlIjogImV2ZW5vZGQiLCAibGluZUNhcCI6ICJyb3VuZCIsICJsaW5lSm9pbiI6ICJyb3VuZCIsICJvcGFjaXR5IjogMS4wLCAicmFkaXVzIjogNSwgInN0cm9rZSI6IHRydWUsICJ3ZWlnaHQiOiAzfQogICAgICAgICAgICApLmFkZFRvKG1hcF8wZTgxYWZmZTA0ZTI0Y2RiYWIyYzQ3ODYxZTRlZTNjYyk7CiAgICAgICAgCiAgICAKICAgICAgICB2YXIgcG9wdXBfNWI0YzE0NGM0NGM1NDVlNzhhYmY4Zjk3NGQ2NzgxZWQgPSBMLnBvcHVwKHsibWF4V2lkdGgiOiAiMTAwJSJ9KTsKCiAgICAgICAgCiAgICAgICAgICAgIHZhciBodG1sXzM2NmQ5YmQ3NDQzNjQ5NWM5OTkyYmUwMTI3NjFhYmRiID0gJChgPGRpdiBpZD0iaHRtbF8zNjZkOWJkNzQ0MzY0OTVjOTk5MmJlMDEyNzYxYWJkYiIgc3R5bGU9IndpZHRoOiAxMDAuMCU7IGhlaWdodDogMTAwLjAlOyI+Q2FrZXMuYnk8L2Rpdj5gKVswXTsKICAgICAgICAgICAgcG9wdXBfNWI0YzE0NGM0NGM1NDVlNzhhYmY4Zjk3NGQ2NzgxZWQuc2V0Q29udGVudChodG1sXzM2NmQ5YmQ3NDQzNjQ5NWM5OTkyYmUwMTI3NjFhYmRiKTsKICAgICAgICAKCiAgICAgICAgY2lyY2xlX21hcmtlcl9kM2ViYWI4MzI3ZDQ0ZjI5YWM5Y2E2MTA5MjMwYTFkZS5iaW5kUG9wdXAocG9wdXBfNWI0YzE0NGM0NGM1NDVlNzhhYmY4Zjk3NGQ2NzgxZWQpCiAgICAgICAgOwoKICAgICAgICAKICAgIAogICAgCiAgICAgICAgICAgIHZhciBjaXJjbGVfbWFya2VyX2I3ZDFmMzhjZWQ0MjQ2YzY4MDU3MmI5YTBhMzE5YzAyID0gTC5jaXJjbGVNYXJrZXIoCiAgICAgICAgICAgICAgICBbNTMuODkzMzMyOTU5MTk5MjA2LCAyNy40ODQ4NTgyOTE3NzcxNzJdLAogICAgICAgICAgICAgICAgeyJidWJibGluZ01vdXNlRXZlbnRzIjogdHJ1ZSwgImNvbG9yIjogImJsdWUiLCAiZGFzaEFycmF5IjogbnVsbCwgImRhc2hPZmZzZXQiOiBudWxsLCAiZmlsbCI6IHRydWUsICJmaWxsQ29sb3IiOiAiIzMxODZjYyIsICJmaWxsT3BhY2l0eSI6IDAuNywgImZpbGxSdWxlIjogImV2ZW5vZGQiLCAibGluZUNhcCI6ICJyb3VuZCIsICJsaW5lSm9pbiI6ICJyb3VuZCIsICJvcGFjaXR5IjogMS4wLCAicmFkaXVzIjogNSwgInN0cm9rZSI6IHRydWUsICJ3ZWlnaHQiOiAzfQogICAgICAgICAgICApLmFkZFRvKG1hcF8wZTgxYWZmZTA0ZTI0Y2RiYWIyYzQ3ODYxZTRlZTNjYyk7CiAgICAgICAgCiAgICAKICAgICAgICB2YXIgcG9wdXBfYjA5NWMwYzI0YzE4NGEwOGIwY2ZhYmE4ZGYxYWJlOGQgPSBMLnBvcHVwKHsibWF4V2lkdGgiOiAiMTAwJSJ9KTsKCiAgICAgICAgCiAgICAgICAgICAgIHZhciBodG1sXzNkYzdlYmI5ZjI5MjQ2YmRiMzk0YjBiNmZjYjY3MmEzID0gJChgPGRpdiBpZD0iaHRtbF8zZGM3ZWJiOWYyOTI0NmJkYjM5NGIwYjZmY2I2NzJhMyIgc3R5bGU9IndpZHRoOiAxMDAuMCU7IGhlaWdodDogMTAwLjAlOyI+U3ZlemhhamEgdnlwZWNoa2E8L2Rpdj5gKVswXTsKICAgICAgICAgICAgcG9wdXBfYjA5NWMwYzI0YzE4NGEwOGIwY2ZhYmE4ZGYxYWJlOGQuc2V0Q29udGVudChodG1sXzNkYzdlYmI5ZjI5MjQ2YmRiMzk0YjBiNmZjYjY3MmEzKTsKICAgICAgICAKCiAgICAgICAgY2lyY2xlX21hcmtlcl9iN2QxZjM4Y2VkNDI0NmM2ODA1NzJiOWEwYTMxOWMwMi5iaW5kUG9wdXAocG9wdXBfYjA5NWMwYzI0YzE4NGEwOGIwY2ZhYmE4ZGYxYWJlOGQpCiAgICAgICAgOwoKICAgICAgICAKICAgIAogICAgCiAgICAgICAgICAgIHZhciBjaXJjbGVfbWFya2VyX2Q5Zjg1YjEwYjI4NTQ5NGViYzU2NDMzMGM4MDFkNjhkID0gTC5jaXJjbGVNYXJrZXIoCiAgICAgICAgICAgICAgICBbNTMuOTA3NzU4LCAyNy41NzUzMTddLAogICAgICAgICAgICAgICAgeyJidWJibGluZ01vdXNlRXZlbnRzIjogdHJ1ZSwgImNvbG9yIjogImJsdWUiLCAiZGFzaEFycmF5IjogbnVsbCwgImRhc2hPZmZzZXQiOiBudWxsLCAiZmlsbCI6IHRydWUsICJmaWxsQ29sb3IiOiAiIzMxODZjYyIsICJmaWxsT3BhY2l0eSI6IDAuNywgImZpbGxSdWxlIjogImV2ZW5vZGQiLCAibGluZUNhcCI6ICJyb3VuZCIsICJsaW5lSm9pbiI6ICJyb3VuZCIsICJvcGFjaXR5IjogMS4wLCAicmFkaXVzIjogNSwgInN0cm9rZSI6IHRydWUsICJ3ZWlnaHQiOiAzfQogICAgICAgICAgICApLmFkZFRvKG1hcF8wZTgxYWZmZTA0ZTI0Y2RiYWIyYzQ3ODYxZTRlZTNjYyk7CiAgICAgICAgCiAgICAKICAgICAgICB2YXIgcG9wdXBfM2UxMTAwYWY0OGQzNGIyMjg1YWMzOGRmNjgxYWJhYjkgPSBMLnBvcHVwKHsibWF4V2lkdGgiOiAiMTAwJSJ9KTsKCiAgICAgICAgCiAgICAgICAgICAgIHZhciBodG1sX2YwOWY4OGQ1ZTcwODQ1NzM5MTk4MzdlMTlkODhlZjlkID0gJChgPGRpdiBpZD0iaHRtbF9mMDlmODhkNWU3MDg0NTczOTE5ODM3ZTE5ZDg4ZWY5ZCIgc3R5bGU9IndpZHRoOiAxMDAuMCU7IGhlaWdodDogMTAwLjAlOyI+U2h0b2xsZSAvIFN0b2xsZTwvZGl2PmApWzBdOwogICAgICAgICAgICBwb3B1cF8zZTExMDBhZjQ4ZDM0YjIyODVhYzM4ZGY2ODFhYmFiOS5zZXRDb250ZW50KGh0bWxfZjA5Zjg4ZDVlNzA4NDU3MzkxOTgzN2UxOWQ4OGVmOWQpOwogICAgICAgIAoKICAgICAgICBjaXJjbGVfbWFya2VyX2Q5Zjg1YjEwYjI4NTQ5NGViYzU2NDMzMGM4MDFkNjhkLmJpbmRQb3B1cChwb3B1cF8zZTExMDBhZjQ4ZDM0YjIyODVhYzM4ZGY2ODFhYmFiOSkKICAgICAgICA7CgogICAgICAgIAogICAgCiAgICAKICAgICAgICAgICAgdmFyIGNpcmNsZV9tYXJrZXJfMTFhM2UxZjZmYjMzNDk1N2I3NDBhMWRjYjk4YmQ1YzEgPSBMLmNpcmNsZU1hcmtlcigKICAgICAgICAgICAgICAgIFs1My45MDU0NjAwMDQ2ODM2MiwgMjcuNTYxNzAxMDA2ODg5MDldLAogICAgICAgICAgICAgICAgeyJidWJibGluZ01vdXNlRXZlbnRzIjogdHJ1ZSwgImNvbG9yIjogImJsdWUiLCAiZGFzaEFycmF5IjogbnVsbCwgImRhc2hPZmZzZXQiOiBudWxsLCAiZmlsbCI6IHRydWUsICJmaWxsQ29sb3IiOiAiIzMxODZjYyIsICJmaWxsT3BhY2l0eSI6IDAuNywgImZpbGxSdWxlIjogImV2ZW5vZGQiLCAibGluZUNhcCI6ICJyb3VuZCIsICJsaW5lSm9pbiI6ICJyb3VuZCIsICJvcGFjaXR5IjogMS4wLCAicmFkaXVzIjogNSwgInN0cm9rZSI6IHRydWUsICJ3ZWlnaHQiOiAzfQogICAgICAgICAgICApLmFkZFRvKG1hcF8wZTgxYWZmZTA0ZTI0Y2RiYWIyYzQ3ODYxZTRlZTNjYyk7CiAgICAgICAgCiAgICAKICAgICAgICB2YXIgcG9wdXBfMzE3Y2Q5YjI5MTA4NDEyYmE5MDM0MTM5MTUyYzY4ZTMgPSBMLnBvcHVwKHsibWF4V2lkdGgiOiAiMTAwJSJ9KTsKCiAgICAgICAgCiAgICAgICAgICAgIHZhciBodG1sXzMxZDkwN2M5OGNkNzRmOGE4NGJmY2E0MTI5OGJmYmE5ID0gJChgPGRpdiBpZD0iaHRtbF8zMWQ5MDdjOThjZDc0ZjhhODRiZmNhNDEyOThiZmJhOSIgc3R5bGU9IndpZHRoOiAxMDAuMCU7IGhlaWdodDogMTAwLjAlOyI+Rm9vZCBSZXB1YmxpYzwvZGl2PmApWzBdOwogICAgICAgICAgICBwb3B1cF8zMTdjZDliMjkxMDg0MTJiYTkwMzQxMzkxNTJjNjhlMy5zZXRDb250ZW50KGh0bWxfMzFkOTA3Yzk4Y2Q3NGY4YTg0YmZjYTQxMjk4YmZiYTkpOwogICAgICAgIAoKICAgICAgICBjaXJjbGVfbWFya2VyXzExYTNlMWY2ZmIzMzQ5NTdiNzQwYTFkY2I5OGJkNWMxLmJpbmRQb3B1cChwb3B1cF8zMTdjZDliMjkxMDg0MTJiYTkwMzQxMzkxNTJjNjhlMykKICAgICAgICA7CgogICAgICAgIAogICAgCiAgICAKICAgICAgICAgICAgdmFyIGNpcmNsZV9tYXJrZXJfMGVlNTc5ZTdmMTlmNDIzNGFkOTJhY2ZjMTJkM2FlYWIgPSBMLmNpcmNsZU1hcmtlcigKICAgICAgICAgICAgICAgIFs1My44OTM5MTU1ODMyODg1NDYsIDI3LjU1MzUyNTIyNzkwMTY3XSwKICAgICAgICAgICAgICAgIHsiYnViYmxpbmdNb3VzZUV2ZW50cyI6IHRydWUsICJjb2xvciI6ICJibHVlIiwgImRhc2hBcnJheSI6IG51bGwsICJkYXNoT2Zmc2V0IjogbnVsbCwgImZpbGwiOiB0cnVlLCAiZmlsbENvbG9yIjogIiMzMTg2Y2MiLCAiZmlsbE9wYWNpdHkiOiAwLjcsICJmaWxsUnVsZSI6ICJldmVub2RkIiwgImxpbmVDYXAiOiAicm91bmQiLCAibGluZUpvaW4iOiAicm91bmQiLCAib3BhY2l0eSI6IDEuMCwgInJhZGl1cyI6IDUsICJzdHJva2UiOiB0cnVlLCAid2VpZ2h0IjogM30KICAgICAgICAgICAgKS5hZGRUbyhtYXBfMGU4MWFmZmUwNGUyNGNkYmFiMmM0Nzg2MWU0ZWUzY2MpOwogICAgICAgIAogICAgCiAgICAgICAgdmFyIHBvcHVwXzk0YzUwY2FhOTIzZTRmOTFhYjRiZDIyMzBhYTBhYjc2ID0gTC5wb3B1cCh7Im1heFdpZHRoIjogIjEwMCUifSk7CgogICAgICAgIAogICAgICAgICAgICB2YXIgaHRtbF81ZjQ2M2I2MzVmMDA0NTFlOWNlMzUwMjAwZmRiZTI4ZCA9ICQoYDxkaXYgaWQ9Imh0bWxfNWY0NjNiNjM1ZjAwNDUxZTljZTM1MDIwMGZkYmUyOGQiIHN0eWxlPSJ3aWR0aDogMTAwLjAlOyBoZWlnaHQ6IDEwMC4wJTsiPlNodG9sbGUgLyBTdG9sbGU8L2Rpdj5gKVswXTsKICAgICAgICAgICAgcG9wdXBfOTRjNTBjYWE5MjNlNGY5MWFiNGJkMjIzMGFhMGFiNzYuc2V0Q29udGVudChodG1sXzVmNDYzYjYzNWYwMDQ1MWU5Y2UzNTAyMDBmZGJlMjhkKTsKICAgICAgICAKCiAgICAgICAgY2lyY2xlX21hcmtlcl8wZWU1NzllN2YxOWY0MjM0YWQ5MmFjZmMxMmQzYWVhYi5iaW5kUG9wdXAocG9wdXBfOTRjNTBjYWE5MjNlNGY5MWFiNGJkMjIzMGFhMGFiNzYpCiAgICAgICAgOwoKICAgICAgICAKICAgIAogICAgCiAgICAgICAgICAgIHZhciBjaXJjbGVfbWFya2VyXzNjZTIzMDU4OGQ4NTRmNDQ4YjVlYWViNzU4N2RiMDJmID0gTC5jaXJjbGVNYXJrZXIoCiAgICAgICAgICAgICAgICBbNTMuODg2NTMwODUwOTQwMTU0LCAyNy41MzcxODczMTQ3Njk2NV0sCiAgICAgICAgICAgICAgICB7ImJ1YmJsaW5nTW91c2VFdmVudHMiOiB0cnVlLCAiY29sb3IiOiAiYmx1ZSIsICJkYXNoQXJyYXkiOiBudWxsLCAiZGFzaE9mZnNldCI6IG51bGwsICJmaWxsIjogdHJ1ZSwgImZpbGxDb2xvciI6ICIjMzE4NmNjIiwgImZpbGxPcGFjaXR5IjogMC43LCAiZmlsbFJ1bGUiOiAiZXZlbm9kZCIsICJsaW5lQ2FwIjogInJvdW5kIiwgImxpbmVKb2luIjogInJvdW5kIiwgIm9wYWNpdHkiOiAxLjAsICJyYWRpdXMiOiA1LCAic3Ryb2tlIjogdHJ1ZSwgIndlaWdodCI6IDN9CiAgICAgICAgICAgICkuYWRkVG8obWFwXzBlODFhZmZlMDRlMjRjZGJhYjJjNDc4NjFlNGVlM2NjKTsKICAgICAgICAKICAgIAogICAgICAgIHZhciBwb3B1cF8zNTQwNGVhZWJkMjQ0NGJlOTVlMWU1MTQzMzVjMWVkZCA9IEwucG9wdXAoeyJtYXhXaWR0aCI6ICIxMDAlIn0pOwoKICAgICAgICAKICAgICAgICAgICAgdmFyIGh0bWxfMmRiYzhiOTc2ZjE2NGZjMjgyMjk4M2ZmNGQ1NGU5MDYgPSAkKGA8ZGl2IGlkPSJodG1sXzJkYmM4Yjk3NmYxNjRmYzI4MjI5ODNmZjRkNTRlOTA2IiBzdHlsZT0id2lkdGg6IDEwMC4wJTsgaGVpZ2h0OiAxMDAuMCU7Ij5TaHRvbGxlIC8gU3RvbGxlPC9kaXY+YClbMF07CiAgICAgICAgICAgIHBvcHVwXzM1NDA0ZWFlYmQyNDQ0YmU5NWUxZTUxNDMzNWMxZWRkLnNldENvbnRlbnQoaHRtbF8yZGJjOGI5NzZmMTY0ZmMyODIyOTgzZmY0ZDU0ZTkwNik7CiAgICAgICAgCgogICAgICAgIGNpcmNsZV9tYXJrZXJfM2NlMjMwNTg4ZDg1NGY0NDhiNWVhZWI3NTg3ZGIwMmYuYmluZFBvcHVwKHBvcHVwXzM1NDA0ZWFlYmQyNDQ0YmU5NWUxZTUxNDMzNWMxZWRkKQogICAgICAgIDsKCiAgICAgICAgCiAgICAKICAgIAogICAgICAgICAgICB2YXIgY2lyY2xlX21hcmtlcl84MWU5NDcyYTEwMGU0OWU0ODU5MjJjMjE0M2YxMTg5NiA9IEwuY2lyY2xlTWFya2VyKAogICAgICAgICAgICAgICAgWzUzLjkwMTY0NTY1MjMzNjY2LCAyNy41NDkxNDExODQ2ODU0NzVdLAogICAgICAgICAgICAgICAgeyJidWJibGluZ01vdXNlRXZlbnRzIjogdHJ1ZSwgImNvbG9yIjogImJsdWUiLCAiZGFzaEFycmF5IjogbnVsbCwgImRhc2hPZmZzZXQiOiBudWxsLCAiZmlsbCI6IHRydWUsICJmaWxsQ29sb3IiOiAiIzMxODZjYyIsICJmaWxsT3BhY2l0eSI6IDAuNywgImZpbGxSdWxlIjogImV2ZW5vZGQiLCAibGluZUNhcCI6ICJyb3VuZCIsICJsaW5lSm9pbiI6ICJyb3VuZCIsICJvcGFjaXR5IjogMS4wLCAicmFkaXVzIjogNSwgInN0cm9rZSI6IHRydWUsICJ3ZWlnaHQiOiAzfQogICAgICAgICAgICApLmFkZFRvKG1hcF8wZTgxYWZmZTA0ZTI0Y2RiYWIyYzQ3ODYxZTRlZTNjYyk7CiAgICAgICAgCiAgICAKICAgICAgICB2YXIgcG9wdXBfMGIwNzUwOGE3NmQ3NDA5YTljMjdhYjA2ZjM5ZTNjODMgPSBMLnBvcHVwKHsibWF4V2lkdGgiOiAiMTAwJSJ9KTsKCiAgICAgICAgCiAgICAgICAgICAgIHZhciBodG1sX2Q0YzJjNzU2NzdlMzQwZmY4NDg2ODUwMWFmNzM2MzQ5ID0gJChgPGRpdiBpZD0iaHRtbF9kNGMyYzc1Njc3ZTM0MGZmODQ4Njg1MDFhZjczNjM0OSIgc3R5bGU9IndpZHRoOiAxMDAuMCU7IGhlaWdodDogMTAwLjAlOyI+Q2lubmFib248L2Rpdj5gKVswXTsKICAgICAgICAgICAgcG9wdXBfMGIwNzUwOGE3NmQ3NDA5YTljMjdhYjA2ZjM5ZTNjODMuc2V0Q29udGVudChodG1sX2Q0YzJjNzU2NzdlMzQwZmY4NDg2ODUwMWFmNzM2MzQ5KTsKICAgICAgICAKCiAgICAgICAgY2lyY2xlX21hcmtlcl84MWU5NDcyYTEwMGU0OWU0ODU5MjJjMjE0M2YxMTg5Ni5iaW5kUG9wdXAocG9wdXBfMGIwNzUwOGE3NmQ3NDA5YTljMjdhYjA2ZjM5ZTNjODMpCiAgICAgICAgOwoKICAgICAgICAKICAgIAogICAgCiAgICAgICAgICAgIHZhciBjaXJjbGVfbWFya2VyXzc0MzZmZTg1Y2U2ZjQ2OGE4Y2YzNzAyNDA1NWNjODJlID0gTC5jaXJjbGVNYXJrZXIoCiAgICAgICAgICAgICAgICBbNTMuODg0NDg2MzMyNzgyOTEsIDI3LjU0MDIxNzMyODUyNzY4NV0sCiAgICAgICAgICAgICAgICB7ImJ1YmJsaW5nTW91c2VFdmVudHMiOiB0cnVlLCAiY29sb3IiOiAiYmx1ZSIsICJkYXNoQXJyYXkiOiBudWxsLCAiZGFzaE9mZnNldCI6IG51bGwsICJmaWxsIjogdHJ1ZSwgImZpbGxDb2xvciI6ICIjMzE4NmNjIiwgImZpbGxPcGFjaXR5IjogMC43LCAiZmlsbFJ1bGUiOiAiZXZlbm9kZCIsICJsaW5lQ2FwIjogInJvdW5kIiwgImxpbmVKb2luIjogInJvdW5kIiwgIm9wYWNpdHkiOiAxLjAsICJyYWRpdXMiOiA1LCAic3Ryb2tlIjogdHJ1ZSwgIndlaWdodCI6IDN9CiAgICAgICAgICAgICkuYWRkVG8obWFwXzBlODFhZmZlMDRlMjRjZGJhYjJjNDc4NjFlNGVlM2NjKTsKICAgICAgICAKICAgIAogICAgICAgIHZhciBwb3B1cF85Mjc2ZDAwMTQyODg0Y2MxODgyM2E1NTE3YWM3NmMyMiA9IEwucG9wdXAoeyJtYXhXaWR0aCI6ICIxMDAlIn0pOwoKICAgICAgICAKICAgICAgICAgICAgdmFyIGh0bWxfMDNkYmY4ZTcxOWU2NDdjNWE4YjNhYWUzYTQ3ODFjMzIgPSAkKGA8ZGl2IGlkPSJodG1sXzAzZGJmOGU3MTllNjQ3YzVhOGIzYWFlM2E0NzgxYzMyIiBzdHlsZT0id2lkdGg6IDEwMC4wJTsgaGVpZ2h0OiAxMDAuMCU7Ij5QbGp1c2hrYSAtIFNhbG9ka2FqYSBrcmFtYTwvZGl2PmApWzBdOwogICAgICAgICAgICBwb3B1cF85Mjc2ZDAwMTQyODg0Y2MxODgyM2E1NTE3YWM3NmMyMi5zZXRDb250ZW50KGh0bWxfMDNkYmY4ZTcxOWU2NDdjNWE4YjNhYWUzYTQ3ODFjMzIpOwogICAgICAgIAoKICAgICAgICBjaXJjbGVfbWFya2VyXzc0MzZmZTg1Y2U2ZjQ2OGE4Y2YzNzAyNDA1NWNjODJlLmJpbmRQb3B1cChwb3B1cF85Mjc2ZDAwMTQyODg0Y2MxODgyM2E1NTE3YWM3NmMyMikKICAgICAgICA7CgogICAgICAgIAogICAgCiAgICAKICAgICAgICAgICAgdmFyIGNpcmNsZV9tYXJrZXJfNTA0M2UxZGYxNzZhNDBjMDk2YTkzN2E1MTU1NTRiMWEgPSBMLmNpcmNsZU1hcmtlcigKICAgICAgICAgICAgICAgIFs1My45MTkxMjU2MjQ5Njk2MjQsIDI3LjU3Nzg4MjEwMjk2MTc1Ml0sCiAgICAgICAgICAgICAgICB7ImJ1YmJsaW5nTW91c2VFdmVudHMiOiB0cnVlLCAiY29sb3IiOiAiYmx1ZSIsICJkYXNoQXJyYXkiOiBudWxsLCAiZGFzaE9mZnNldCI6IG51bGwsICJmaWxsIjogdHJ1ZSwgImZpbGxDb2xvciI6ICIjMzE4NmNjIiwgImZpbGxPcGFjaXR5IjogMC43LCAiZmlsbFJ1bGUiOiAiZXZlbm9kZCIsICJsaW5lQ2FwIjogInJvdW5kIiwgImxpbmVKb2luIjogInJvdW5kIiwgIm9wYWNpdHkiOiAxLjAsICJyYWRpdXMiOiA1LCAic3Ryb2tlIjogdHJ1ZSwgIndlaWdodCI6IDN9CiAgICAgICAgICAgICkuYWRkVG8obWFwXzBlODFhZmZlMDRlMjRjZGJhYjJjNDc4NjFlNGVlM2NjKTsKICAgICAgICAKICAgIAogICAgICAgIHZhciBwb3B1cF8xODQ5Zjg4NzZhM2Y0ZTkyYTFkNGU4MDYyNTA0MzFmNyA9IEwucG9wdXAoeyJtYXhXaWR0aCI6ICIxMDAlIn0pOwoKICAgICAgICAKICAgICAgICAgICAgdmFyIGh0bWxfNmJjNzEzYWQ2ZTIyNDkyZGFkM2I0MDBlNDFiYWEzN2QgPSAkKGA8ZGl2IGlkPSJodG1sXzZiYzcxM2FkNmUyMjQ5MmRhZDNiNDAwZTQxYmFhMzdkIiBzdHlsZT0id2lkdGg6IDEwMC4wJTsgaGVpZ2h0OiAxMDAuMCU7Ij5TaHRvbGxlIC8gU3RvbGxlPC9kaXY+YClbMF07CiAgICAgICAgICAgIHBvcHVwXzE4NDlmODg3NmEzZjRlOTJhMWQ0ZTgwNjI1MDQzMWY3LnNldENvbnRlbnQoaHRtbF82YmM3MTNhZDZlMjI0OTJkYWQzYjQwMGU0MWJhYTM3ZCk7CiAgICAgICAgCgogICAgICAgIGNpcmNsZV9tYXJrZXJfNTA0M2UxZGYxNzZhNDBjMDk2YTkzN2E1MTU1NTRiMWEuYmluZFBvcHVwKHBvcHVwXzE4NDlmODg3NmEzZjRlOTJhMWQ0ZTgwNjI1MDQzMWY3KQogICAgICAgIDsKCiAgICAgICAgCiAgICAKICAgIAogICAgICAgICAgICB2YXIgY2lyY2xlX21hcmtlcl83M2ZlMDBjMWFhNjc0OWFlYTY4N2Y4MzVjZjRhYTQwZiA9IEwuY2lyY2xlTWFya2VyKAogICAgICAgICAgICAgICAgWzUzLjg4NDA2MTE3NTgzNjk3NiwgMjcuNTQxODAyMDM0ODYxMjVdLAogICAgICAgICAgICAgICAgeyJidWJibGluZ01vdXNlRXZlbnRzIjogdHJ1ZSwgImNvbG9yIjogImJsdWUiLCAiZGFzaEFycmF5IjogbnVsbCwgImRhc2hPZmZzZXQiOiBudWxsLCAiZmlsbCI6IHRydWUsICJmaWxsQ29sb3IiOiAiIzMxODZjYyIsICJmaWxsT3BhY2l0eSI6IDAuNywgImZpbGxSdWxlIjogImV2ZW5vZGQiLCAibGluZUNhcCI6ICJyb3VuZCIsICJsaW5lSm9pbiI6ICJyb3VuZCIsICJvcGFjaXR5IjogMS4wLCAicmFkaXVzIjogNSwgInN0cm9rZSI6IHRydWUsICJ3ZWlnaHQiOiAzfQogICAgICAgICAgICApLmFkZFRvKG1hcF8wZTgxYWZmZTA0ZTI0Y2RiYWIyYzQ3ODYxZTRlZTNjYyk7CiAgICAgICAgCiAgICAKICAgICAgICB2YXIgcG9wdXBfNWVlNDg5ZTk2N2FmNGEwOWFjNGUwOTI3ZDdiNDlmMjUgPSBMLnBvcHVwKHsibWF4V2lkdGgiOiAiMTAwJSJ9KTsKCiAgICAgICAgCiAgICAgICAgICAgIHZhciBodG1sXzg5ZmM2YjA3YWUyNDQ0ZTA4YzhkNzY2Yjk5NzI5ZTA0ID0gJChgPGRpdiBpZD0iaHRtbF84OWZjNmIwN2FlMjQ0NGUwOGM4ZDc2NmI5OTcyOWUwNCIgc3R5bGU9IndpZHRoOiAxMDAuMCU7IGhlaWdodDogMTAwLjAlOyI+U2xhc3RlbmE8L2Rpdj5gKVswXTsKICAgICAgICAgICAgcG9wdXBfNWVlNDg5ZTk2N2FmNGEwOWFjNGUwOTI3ZDdiNDlmMjUuc2V0Q29udGVudChodG1sXzg5ZmM2YjA3YWUyNDQ0ZTA4YzhkNzY2Yjk5NzI5ZTA0KTsKICAgICAgICAKCiAgICAgICAgY2lyY2xlX21hcmtlcl83M2ZlMDBjMWFhNjc0OWFlYTY4N2Y4MzVjZjRhYTQwZi5iaW5kUG9wdXAocG9wdXBfNWVlNDg5ZTk2N2FmNGEwOWFjNGUwOTI3ZDdiNDlmMjUpCiAgICAgICAgOwoKICAgICAgICAKICAgIAogICAgCiAgICAgICAgICAgIHZhciBjaXJjbGVfbWFya2VyX2U0YTA2YjllZmYzMjQ0Zjk4NGFjNGIyMzk5YjllYWNiID0gTC5jaXJjbGVNYXJrZXIoCiAgICAgICAgICAgICAgICBbNTMuOTI5NzQ4OTQ3NTcwNTY2LCAyNy41NDEzMjI3OTE1NTAyODJdLAogICAgICAgICAgICAgICAgeyJidWJibGluZ01vdXNlRXZlbnRzIjogdHJ1ZSwgImNvbG9yIjogImJsdWUiLCAiZGFzaEFycmF5IjogbnVsbCwgImRhc2hPZmZzZXQiOiBudWxsLCAiZmlsbCI6IHRydWUsICJmaWxsQ29sb3IiOiAiIzMxODZjYyIsICJmaWxsT3BhY2l0eSI6IDAuNywgImZpbGxSdWxlIjogImV2ZW5vZGQiLCAibGluZUNhcCI6ICJyb3VuZCIsICJsaW5lSm9pbiI6ICJyb3VuZCIsICJvcGFjaXR5IjogMS4wLCAicmFkaXVzIjogNSwgInN0cm9rZSI6IHRydWUsICJ3ZWlnaHQiOiAzfQogICAgICAgICAgICApLmFkZFRvKG1hcF8wZTgxYWZmZTA0ZTI0Y2RiYWIyYzQ3ODYxZTRlZTNjYyk7CiAgICAgICAgCiAgICAKICAgICAgICB2YXIgcG9wdXBfZjRlYWI0NzY2YWMwNDczZWFhNTUzODJmOWQ2NDNkMjEgPSBMLnBvcHVwKHsibWF4V2lkdGgiOiAiMTAwJSJ9KTsKCiAgICAgICAgCiAgICAgICAgICAgIHZhciBodG1sXzM3OGI0OGMwNmZiYzQ2MTg4ZDIxYTMwMjU5MjAwODliID0gJChgPGRpdiBpZD0iaHRtbF8zNzhiNDhjMDZmYmM0NjE4OGQyMWEzMDI1OTIwMDg5YiIgc3R5bGU9IndpZHRoOiAxMDAuMCU7IGhlaWdodDogMTAwLjAlOyI+UGFuIEtydWFzc2FuPC9kaXY+YClbMF07CiAgICAgICAgICAgIHBvcHVwX2Y0ZWFiNDc2NmFjMDQ3M2VhYTU1MzgyZjlkNjQzZDIxLnNldENvbnRlbnQoaHRtbF8zNzhiNDhjMDZmYmM0NjE4OGQyMWEzMDI1OTIwMDg5Yik7CiAgICAgICAgCgogICAgICAgIGNpcmNsZV9tYXJrZXJfZTRhMDZiOWVmZjMyNDRmOTg0YWM0YjIzOTliOWVhY2IuYmluZFBvcHVwKHBvcHVwX2Y0ZWFiNDc2NmFjMDQ3M2VhYTU1MzgyZjlkNjQzZDIxKQogICAgICAgIDsKCiAgICAgICAgCiAgICAKICAgIAogICAgICAgICAgICB2YXIgY2lyY2xlX21hcmtlcl9mZTlmNGY0YWVkMzA0YzYwYWQyZjhkNDNjYzU4ZDMwOSA9IEwuY2lyY2xlTWFya2VyKAogICAgICAgICAgICAgICAgWzUzLjkwODM4OTQ4NDE4ODQxLCAyNy41ODE0MzI3MzMyMjUxMjhdLAogICAgICAgICAgICAgICAgeyJidWJibGluZ01vdXNlRXZlbnRzIjogdHJ1ZSwgImNvbG9yIjogImJsdWUiLCAiZGFzaEFycmF5IjogbnVsbCwgImRhc2hPZmZzZXQiOiBudWxsLCAiZmlsbCI6IHRydWUsICJmaWxsQ29sb3IiOiAiIzMxODZjYyIsICJmaWxsT3BhY2l0eSI6IDAuNywgImZpbGxSdWxlIjogImV2ZW5vZGQiLCAibGluZUNhcCI6ICJyb3VuZCIsICJsaW5lSm9pbiI6ICJyb3VuZCIsICJvcGFjaXR5IjogMS4wLCAicmFkaXVzIjogNSwgInN0cm9rZSI6IHRydWUsICJ3ZWlnaHQiOiAzfQogICAgICAgICAgICApLmFkZFRvKG1hcF8wZTgxYWZmZTA0ZTI0Y2RiYWIyYzQ3ODYxZTRlZTNjYyk7CiAgICAgICAgCiAgICAKICAgICAgICB2YXIgcG9wdXBfMzY5NzY1MGQ5N2U2NGU1YThlMWQyNTU0OGFiZjBmMDUgPSBMLnBvcHVwKHsibWF4V2lkdGgiOiAiMTAwJSJ9KTsKCiAgICAgICAgCiAgICAgICAgICAgIHZhciBodG1sX2Y2YjA4ZDE2NGRhNzQxNmQ5OGIxODIxNTU2NDUzOWYzID0gJChgPGRpdiBpZD0iaHRtbF9mNmIwOGQxNjRkYTc0MTZkOThiMTgyMTU1NjQ1MzlmMyIgc3R5bGU9IndpZHRoOiAxMDAuMCU7IGhlaWdodDogMTAwLjAlOyI+WmVybm88L2Rpdj5gKVswXTsKICAgICAgICAgICAgcG9wdXBfMzY5NzY1MGQ5N2U2NGU1YThlMWQyNTU0OGFiZjBmMDUuc2V0Q29udGVudChodG1sX2Y2YjA4ZDE2NGRhNzQxNmQ5OGIxODIxNTU2NDUzOWYzKTsKICAgICAgICAKCiAgICAgICAgY2lyY2xlX21hcmtlcl9mZTlmNGY0YWVkMzA0YzYwYWQyZjhkNDNjYzU4ZDMwOS5iaW5kUG9wdXAocG9wdXBfMzY5NzY1MGQ5N2U2NGU1YThlMWQyNTU0OGFiZjBmMDUpCiAgICAgICAgOwoKICAgICAgICAKICAgIAogICAgCiAgICAgICAgICAgIHZhciBjaXJjbGVfbWFya2VyXzg5Njc2MDkyNTlmODRkNzI4NDRhNDg3MGViNTNhNGE2ID0gTC5jaXJjbGVNYXJrZXIoCiAgICAgICAgICAgICAgICBbNTMuOTAzNjE3NDcxMTk5NjQsIDI3LjU1MTMzMjQzMjc5Nzg0XSwKICAgICAgICAgICAgICAgIHsiYnViYmxpbmdNb3VzZUV2ZW50cyI6IHRydWUsICJjb2xvciI6ICJibHVlIiwgImRhc2hBcnJheSI6IG51bGwsICJkYXNoT2Zmc2V0IjogbnVsbCwgImZpbGwiOiB0cnVlLCAiZmlsbENvbG9yIjogIiMzMTg2Y2MiLCAiZmlsbE9wYWNpdHkiOiAwLjcsICJmaWxsUnVsZSI6ICJldmVub2RkIiwgImxpbmVDYXAiOiAicm91bmQiLCAibGluZUpvaW4iOiAicm91bmQiLCAib3BhY2l0eSI6IDEuMCwgInJhZGl1cyI6IDUsICJzdHJva2UiOiB0cnVlLCAid2VpZ2h0IjogM30KICAgICAgICAgICAgKS5hZGRUbyhtYXBfMGU4MWFmZmUwNGUyNGNkYmFiMmM0Nzg2MWU0ZWUzY2MpOwogICAgICAgIAogICAgCiAgICAgICAgdmFyIHBvcHVwX2Q5NDc3ZmU4ZGI3ZDQxYjE5MGIyMTFmMjliMmUwMmVjID0gTC5wb3B1cCh7Im1heFdpZHRoIjogIjEwMCUifSk7CgogICAgICAgIAogICAgICAgICAgICB2YXIgaHRtbF8yNWVjMDdlMGNjZmY0YzYwODRkMmIxMjJjZTQwMzY4YiA9ICQoYDxkaXYgaWQ9Imh0bWxfMjVlYzA3ZTBjY2ZmNGM2MDg0ZDJiMTIyY2U0MDM2OGIiIHN0eWxlPSJ3aWR0aDogMTAwLjAlOyBoZWlnaHQ6IDEwMC4wJTsiPmtvbmRpdGVyc2tpaiB0c2VoICYjMzQ7RG9sY2UmIzM0OzwvZGl2PmApWzBdOwogICAgICAgICAgICBwb3B1cF9kOTQ3N2ZlOGRiN2Q0MWIxOTBiMjExZjI5YjJlMDJlYy5zZXRDb250ZW50KGh0bWxfMjVlYzA3ZTBjY2ZmNGM2MDg0ZDJiMTIyY2U0MDM2OGIpOwogICAgICAgIAoKICAgICAgICBjaXJjbGVfbWFya2VyXzg5Njc2MDkyNTlmODRkNzI4NDRhNDg3MGViNTNhNGE2LmJpbmRQb3B1cChwb3B1cF9kOTQ3N2ZlOGRiN2Q0MWIxOTBiMjExZjI5YjJlMDJlYykKICAgICAgICA7CgogICAgICAgIAogICAgCiAgICAKICAgICAgICAgICAgdmFyIGNpcmNsZV9tYXJrZXJfZWVlMDRhMzRlMzRlNDZmOGFkNzZmYzhlYjE4MzEyZDUgPSBMLmNpcmNsZU1hcmtlcigKICAgICAgICAgICAgICAgIFs1My45MTAxODAwMzMyNzI0NCwgMjcuNTU2NjM3NjExOTc3MzddLAogICAgICAgICAgICAgICAgeyJidWJibGluZ01vdXNlRXZlbnRzIjogdHJ1ZSwgImNvbG9yIjogImJsdWUiLCAiZGFzaEFycmF5IjogbnVsbCwgImRhc2hPZmZzZXQiOiBudWxsLCAiZmlsbCI6IHRydWUsICJmaWxsQ29sb3IiOiAiIzMxODZjYyIsICJmaWxsT3BhY2l0eSI6IDAuNywgImZpbGxSdWxlIjogImV2ZW5vZGQiLCAibGluZUNhcCI6ICJyb3VuZCIsICJsaW5lSm9pbiI6ICJyb3VuZCIsICJvcGFjaXR5IjogMS4wLCAicmFkaXVzIjogNSwgInN0cm9rZSI6IHRydWUsICJ3ZWlnaHQiOiAzfQogICAgICAgICAgICApLmFkZFRvKG1hcF8wZTgxYWZmZTA0ZTI0Y2RiYWIyYzQ3ODYxZTRlZTNjYyk7CiAgICAgICAgCiAgICAKICAgICAgICB2YXIgcG9wdXBfZmE1MTZlNjQ1NGZmNGQ2MGJlNWY5MTU0YzlkOTE4NjcgPSBMLnBvcHVwKHsibWF4V2lkdGgiOiAiMTAwJSJ9KTsKCiAgICAgICAgCiAgICAgICAgICAgIHZhciBodG1sXzAyNDVlNTE4MWU3ZjQ4Zjc5N2U3ZDQxYzMwYTYwMzkwID0gJChgPGRpdiBpZD0iaHRtbF8wMjQ1ZTUxODFlN2Y0OGY3OTdlN2Q0MWMzMGE2MDM5MCIgc3R5bGU9IndpZHRoOiAxMDAuMCU7IGhlaWdodDogMTAwLjAlOyI+QlJJT0NIRSBQYXJpczwvZGl2PmApWzBdOwogICAgICAgICAgICBwb3B1cF9mYTUxNmU2NDU0ZmY0ZDYwYmU1ZjkxNTRjOWQ5MTg2Ny5zZXRDb250ZW50KGh0bWxfMDI0NWU1MTgxZTdmNDhmNzk3ZTdkNDFjMzBhNjAzOTApOwogICAgICAgIAoKICAgICAgICBjaXJjbGVfbWFya2VyX2VlZTA0YTM0ZTM0ZTQ2ZjhhZDc2ZmM4ZWIxODMxMmQ1LmJpbmRQb3B1cChwb3B1cF9mYTUxNmU2NDU0ZmY0ZDYwYmU1ZjkxNTRjOWQ5MTg2NykKICAgICAgICA7CgogICAgICAgIAogICAgCiAgICAKICAgICAgICAgICAgdmFyIGNpcmNsZV9tYXJrZXJfM2U0MzFhNmRhNTg1NDI1ZjkxZDM4MTBmYjVhYzI2ZWMgPSBMLmNpcmNsZU1hcmtlcigKICAgICAgICAgICAgICAgIFs1My45MjkxMzk0OTYyMjc3LCAyNy41NjU2NTA5MTYwODY3M10sCiAgICAgICAgICAgICAgICB7ImJ1YmJsaW5nTW91c2VFdmVudHMiOiB0cnVlLCAiY29sb3IiOiAiYmx1ZSIsICJkYXNoQXJyYXkiOiBudWxsLCAiZGFzaE9mZnNldCI6IG51bGwsICJmaWxsIjogdHJ1ZSwgImZpbGxDb2xvciI6ICIjMzE4NmNjIiwgImZpbGxPcGFjaXR5IjogMC43LCAiZmlsbFJ1bGUiOiAiZXZlbm9kZCIsICJsaW5lQ2FwIjogInJvdW5kIiwgImxpbmVKb2luIjogInJvdW5kIiwgIm9wYWNpdHkiOiAxLjAsICJyYWRpdXMiOiA1LCAic3Ryb2tlIjogdHJ1ZSwgIndlaWdodCI6IDN9CiAgICAgICAgICAgICkuYWRkVG8obWFwXzBlODFhZmZlMDRlMjRjZGJhYjJjNDc4NjFlNGVlM2NjKTsKICAgICAgICAKICAgIAogICAgICAgIHZhciBwb3B1cF83ZDgyNDE4OGNhNTg0ZmNiYWEzMmYyNzhlMTNkNDUwNSA9IEwucG9wdXAoeyJtYXhXaWR0aCI6ICIxMDAlIn0pOwoKICAgICAgICAKICAgICAgICAgICAgdmFyIGh0bWxfMTc3MGZmNDc1NTI3NDQyNWExOTNhMzllOTZhYzNiM2EgPSAkKGA8ZGl2IGlkPSJodG1sXzE3NzBmZjQ3NTUyNzQ0MjVhMTkzYTM5ZTk2YWMzYjNhIiBzdHlsZT0id2lkdGg6IDEwMC4wJTsgaGVpZ2h0OiAxMDAuMCU7Ij5QZWthcm5qYSBabGF0a2k8L2Rpdj5gKVswXTsKICAgICAgICAgICAgcG9wdXBfN2Q4MjQxODhjYTU4NGZjYmFhMzJmMjc4ZTEzZDQ1MDUuc2V0Q29udGVudChodG1sXzE3NzBmZjQ3NTUyNzQ0MjVhMTkzYTM5ZTk2YWMzYjNhKTsKICAgICAgICAKCiAgICAgICAgY2lyY2xlX21hcmtlcl8zZTQzMWE2ZGE1ODU0MjVmOTFkMzgxMGZiNWFjMjZlYy5iaW5kUG9wdXAocG9wdXBfN2Q4MjQxODhjYTU4NGZjYmFhMzJmMjc4ZTEzZDQ1MDUpCiAgICAgICAgOwoKICAgICAgICAKICAgIAogICAgCiAgICAgICAgICAgIHZhciBjaXJjbGVfbWFya2VyXzRhNWFhNGQ2MzhhYzQ5YTBhN2ZkZmU1YWEyNWZmYjRlID0gTC5jaXJjbGVNYXJrZXIoCiAgICAgICAgICAgICAgICBbNTMuOTEyMzQ3MTgwMjkxOTQ1LCAyNy42Nzg2MTUwMjc5NjEwNzZdLAogICAgICAgICAgICAgICAgeyJidWJibGluZ01vdXNlRXZlbnRzIjogdHJ1ZSwgImNvbG9yIjogImJsdWUiLCAiZGFzaEFycmF5IjogbnVsbCwgImRhc2hPZmZzZXQiOiBudWxsLCAiZmlsbCI6IHRydWUsICJmaWxsQ29sb3IiOiAiIzMxODZjYyIsICJmaWxsT3BhY2l0eSI6IDAuNywgImZpbGxSdWxlIjogImV2ZW5vZGQiLCAibGluZUNhcCI6ICJyb3VuZCIsICJsaW5lSm9pbiI6ICJyb3VuZCIsICJvcGFjaXR5IjogMS4wLCAicmFkaXVzIjogNSwgInN0cm9rZSI6IHRydWUsICJ3ZWlnaHQiOiAzfQogICAgICAgICAgICApLmFkZFRvKG1hcF8wZTgxYWZmZTA0ZTI0Y2RiYWIyYzQ3ODYxZTRlZTNjYyk7CiAgICAgICAgCiAgICAKICAgICAgICB2YXIgcG9wdXBfNzU0N2UxOGJmODM1NGExZGEwYTY3MWViYzQ0YTYwNzQgPSBMLnBvcHVwKHsibWF4V2lkdGgiOiAiMTAwJSJ9KTsKCiAgICAgICAgCiAgICAgICAgICAgIHZhciBodG1sX2ZmOTIyODYyYTczODQ4ZjI5OWJiMzVjZWZiMDk4OWNkID0gJChgPGRpdiBpZD0iaHRtbF9mZjkyMjg2MmE3Mzg0OGYyOTliYjM1Y2VmYjA5ODljZCIgc3R5bGU9IndpZHRoOiAxMDAuMCU7IGhlaWdodDogMTAwLjAlOyI+aGF0YTwvZGl2PmApWzBdOwogICAgICAgICAgICBwb3B1cF83NTQ3ZTE4YmY4MzU0YTFkYTBhNjcxZWJjNDRhNjA3NC5zZXRDb250ZW50KGh0bWxfZmY5MjI4NjJhNzM4NDhmMjk5YmIzNWNlZmIwOTg5Y2QpOwogICAgICAgIAoKICAgICAgICBjaXJjbGVfbWFya2VyXzRhNWFhNGQ2MzhhYzQ5YTBhN2ZkZmU1YWEyNWZmYjRlLmJpbmRQb3B1cChwb3B1cF83NTQ3ZTE4YmY4MzU0YTFkYTBhNjcxZWJjNDRhNjA3NCkKICAgICAgICA7CgogICAgICAgIAogICAgCiAgICAKICAgICAgICAgICAgdmFyIGNpcmNsZV9tYXJrZXJfMWMxMTgyYWMwZDliNGZlZjk4NzhjODQ0MThjNjJkMWYgPSBMLmNpcmNsZU1hcmtlcigKICAgICAgICAgICAgICAgIFs1My44NjAxNTA4ODU0Mjk5LCAyNy42NzQzMDA5MTczNTU2OTRdLAogICAgICAgICAgICAgICAgeyJidWJibGluZ01vdXNlRXZlbnRzIjogdHJ1ZSwgImNvbG9yIjogImJsdWUiLCAiZGFzaEFycmF5IjogbnVsbCwgImRhc2hPZmZzZXQiOiBudWxsLCAiZmlsbCI6IHRydWUsICJmaWxsQ29sb3IiOiAiIzMxODZjYyIsICJmaWxsT3BhY2l0eSI6IDAuNywgImZpbGxSdWxlIjogImV2ZW5vZGQiLCAibGluZUNhcCI6ICJyb3VuZCIsICJsaW5lSm9pbiI6ICJyb3VuZCIsICJvcGFjaXR5IjogMS4wLCAicmFkaXVzIjogNSwgInN0cm9rZSI6IHRydWUsICJ3ZWlnaHQiOiAzfQogICAgICAgICAgICApLmFkZFRvKG1hcF8wZTgxYWZmZTA0ZTI0Y2RiYWIyYzQ3ODYxZTRlZTNjYyk7CiAgICAgICAgCiAgICAKICAgICAgICB2YXIgcG9wdXBfMWVkNjdlOTZhM2ZjNDMyYjlmMmJiNjg4OTUwZjZhNDEgPSBMLnBvcHVwKHsibWF4V2lkdGgiOiAiMTAwJSJ9KTsKCiAgICAgICAgCiAgICAgICAgICAgIHZhciBodG1sXzE3N2RiOTU1MzFlOTQ3ZTE5MzFlMmZkYTI2Nzc2ZWVlID0gJChgPGRpdiBpZD0iaHRtbF8xNzdkYjk1NTMxZTk0N2UxOTMxZTJmZGEyNjc3NmVlZSIgc3R5bGU9IndpZHRoOiAxMDAuMCU7IGhlaWdodDogMTAwLjAlOyI+Q2lubmFib248L2Rpdj5gKVswXTsKICAgICAgICAgICAgcG9wdXBfMWVkNjdlOTZhM2ZjNDMyYjlmMmJiNjg4OTUwZjZhNDEuc2V0Q29udGVudChodG1sXzE3N2RiOTU1MzFlOTQ3ZTE5MzFlMmZkYTI2Nzc2ZWVlKTsKICAgICAgICAKCiAgICAgICAgY2lyY2xlX21hcmtlcl8xYzExODJhYzBkOWI0ZmVmOTg3OGM4NDQxOGM2MmQxZi5iaW5kUG9wdXAocG9wdXBfMWVkNjdlOTZhM2ZjNDMyYjlmMmJiNjg4OTUwZjZhNDEpCiAgICAgICAgOwoKICAgICAgICAKICAgIAogICAgCiAgICAgICAgICAgIHZhciBjaXJjbGVfbWFya2VyX2VhOTg3MmJlNmQwZjRkYmVhNjlhM2M2MGNlN2VkNDBiID0gTC5jaXJjbGVNYXJrZXIoCiAgICAgICAgICAgICAgICBbNTMuOTI1MjkxMjQwMDIzMzEsIDI3LjUyMTA4MDA1ODU1MDQyXSwKICAgICAgICAgICAgICAgIHsiYnViYmxpbmdNb3VzZUV2ZW50cyI6IHRydWUsICJjb2xvciI6ICJibHVlIiwgImRhc2hBcnJheSI6IG51bGwsICJkYXNoT2Zmc2V0IjogbnVsbCwgImZpbGwiOiB0cnVlLCAiZmlsbENvbG9yIjogIiMzMTg2Y2MiLCAiZmlsbE9wYWNpdHkiOiAwLjcsICJmaWxsUnVsZSI6ICJldmVub2RkIiwgImxpbmVDYXAiOiAicm91bmQiLCAibGluZUpvaW4iOiAicm91bmQiLCAib3BhY2l0eSI6IDEuMCwgInJhZGl1cyI6IDUsICJzdHJva2UiOiB0cnVlLCAid2VpZ2h0IjogM30KICAgICAgICAgICAgKS5hZGRUbyhtYXBfMGU4MWFmZmUwNGUyNGNkYmFiMmM0Nzg2MWU0ZWUzY2MpOwogICAgICAgIAogICAgCiAgICAgICAgdmFyIHBvcHVwX2Y4M2I0NTIzZTczNDQ4NGI5YWVmNGQzYTJhMzVkOTYyID0gTC5wb3B1cCh7Im1heFdpZHRoIjogIjEwMCUifSk7CgogICAgICAgIAogICAgICAgICAgICB2YXIgaHRtbF9jMmQ3NWY4ZWEzYTM0MDExYTU0YmJjNjJhY2U0NjZjNiA9ICQoYDxkaXYgaWQ9Imh0bWxfYzJkNzVmOGVhM2EzNDAxMWE1NGJiYzYyYWNlNDY2YzYiIHN0eWxlPSJ3aWR0aDogMTAwLjAlOyBoZWlnaHQ6IDEwMC4wJTsiPkxhdm9jaGthIERsamEgQnVsb2NoZWs8L2Rpdj5gKVswXTsKICAgICAgICAgICAgcG9wdXBfZjgzYjQ1MjNlNzM0NDg0YjlhZWY0ZDNhMmEzNWQ5NjIuc2V0Q29udGVudChodG1sX2MyZDc1ZjhlYTNhMzQwMTFhNTRiYmM2MmFjZTQ2NmM2KTsKICAgICAgICAKCiAgICAgICAgY2lyY2xlX21hcmtlcl9lYTk4NzJiZTZkMGY0ZGJlYTY5YTNjNjBjZTdlZDQwYi5iaW5kUG9wdXAocG9wdXBfZjgzYjQ1MjNlNzM0NDg0YjlhZWY0ZDNhMmEzNWQ5NjIpCiAgICAgICAgOwoKICAgICAgICAKICAgIAogICAgCiAgICAgICAgICAgIHZhciBjaXJjbGVfbWFya2VyXzYxZGEyMGQ2Mzc5ZTQ1NGQ4OWYyMGI2MTNiY2Y1OTljID0gTC5jaXJjbGVNYXJrZXIoCiAgICAgICAgICAgICAgICBbNTMuOTI5NzYzMjYyNzIzNjc1LCAyNy42MTUzNjk2NjkyNDUwN10sCiAgICAgICAgICAgICAgICB7ImJ1YmJsaW5nTW91c2VFdmVudHMiOiB0cnVlLCAiY29sb3IiOiAiYmx1ZSIsICJkYXNoQXJyYXkiOiBudWxsLCAiZGFzaE9mZnNldCI6IG51bGwsICJmaWxsIjogdHJ1ZSwgImZpbGxDb2xvciI6ICIjMzE4NmNjIiwgImZpbGxPcGFjaXR5IjogMC43LCAiZmlsbFJ1bGUiOiAiZXZlbm9kZCIsICJsaW5lQ2FwIjogInJvdW5kIiwgImxpbmVKb2luIjogInJvdW5kIiwgIm9wYWNpdHkiOiAxLjAsICJyYWRpdXMiOiA1LCAic3Ryb2tlIjogdHJ1ZSwgIndlaWdodCI6IDN9CiAgICAgICAgICAgICkuYWRkVG8obWFwXzBlODFhZmZlMDRlMjRjZGJhYjJjNDc4NjFlNGVlM2NjKTsKICAgICAgICAKICAgIAogICAgICAgIHZhciBwb3B1cF9iNGI2Yzk4MWVlYjc0MjFhODM2ODg3ZDQwNmM0OTk0NyA9IEwucG9wdXAoeyJtYXhXaWR0aCI6ICIxMDAlIn0pOwoKICAgICAgICAKICAgICAgICAgICAgdmFyIGh0bWxfYmM3MDZkZjg0YmM5NDg3NzliMjE0ZDNmZjc0ZjEyZWUgPSAkKGA8ZGl2IGlkPSJodG1sX2JjNzA2ZGY4NGJjOTQ4Nzc5YjIxNGQzZmY3NGYxMmVlIiBzdHlsZT0id2lkdGg6IDEwMC4wJTsgaGVpZ2h0OiAxMDAuMCU7Ij5MYWdkZW4uIEtvZmUtdnlwZWNoa2E8L2Rpdj5gKVswXTsKICAgICAgICAgICAgcG9wdXBfYjRiNmM5ODFlZWI3NDIxYTgzNjg4N2Q0MDZjNDk5NDcuc2V0Q29udGVudChodG1sX2JjNzA2ZGY4NGJjOTQ4Nzc5YjIxNGQzZmY3NGYxMmVlKTsKICAgICAgICAKCiAgICAgICAgY2lyY2xlX21hcmtlcl82MWRhMjBkNjM3OWU0NTRkODlmMjBiNjEzYmNmNTk5Yy5iaW5kUG9wdXAocG9wdXBfYjRiNmM5ODFlZWI3NDIxYTgzNjg4N2Q0MDZjNDk5NDcpCiAgICAgICAgOwoKICAgICAgICAKICAgIAogICAgCiAgICAgICAgICAgIHZhciBjaXJjbGVfbWFya2VyX2YxMTAxNzg1YWQ0NTQwMjViNjZkYmQyYTg3ZmI3YzRiID0gTC5jaXJjbGVNYXJrZXIoCiAgICAgICAgICAgICAgICBbNTMuOTAwMzkyNzgyMDQ4MzgsIDI3LjQ4ODYwMjI3OTI0ODM4XSwKICAgICAgICAgICAgICAgIHsiYnViYmxpbmdNb3VzZUV2ZW50cyI6IHRydWUsICJjb2xvciI6ICJibHVlIiwgImRhc2hBcnJheSI6IG51bGwsICJkYXNoT2Zmc2V0IjogbnVsbCwgImZpbGwiOiB0cnVlLCAiZmlsbENvbG9yIjogIiMzMTg2Y2MiLCAiZmlsbE9wYWNpdHkiOiAwLjcsICJmaWxsUnVsZSI6ICJldmVub2RkIiwgImxpbmVDYXAiOiAicm91bmQiLCAibGluZUpvaW4iOiAicm91bmQiLCAib3BhY2l0eSI6IDEuMCwgInJhZGl1cyI6IDUsICJzdHJva2UiOiB0cnVlLCAid2VpZ2h0IjogM30KICAgICAgICAgICAgKS5hZGRUbyhtYXBfMGU4MWFmZmUwNGUyNGNkYmFiMmM0Nzg2MWU0ZWUzY2MpOwogICAgICAgIAogICAgCiAgICAgICAgdmFyIHBvcHVwXzM2MjA0MThkNzc0ZTQ4ZTVhODkwOTlhYjIxMmVlYWZjID0gTC5wb3B1cCh7Im1heFdpZHRoIjogIjEwMCUifSk7CgogICAgICAgIAogICAgICAgICAgICB2YXIgaHRtbF9jODgwNDc5OTJhMmI0ZDM0OTYwMDQ3NzIzODRiODI4ZiA9ICQoYDxkaXYgaWQ9Imh0bWxfYzg4MDQ3OTkyYTJiNGQzNDk2MDA0NzcyMzg0YjgyOGYiIHN0eWxlPSJ3aWR0aDogMTAwLjAlOyBoZWlnaHQ6IDEwMC4wJTsiPlBpc2phPC9kaXY+YClbMF07CiAgICAgICAgICAgIHBvcHVwXzM2MjA0MThkNzc0ZTQ4ZTVhODkwOTlhYjIxMmVlYWZjLnNldENvbnRlbnQoaHRtbF9jODgwNDc5OTJhMmI0ZDM0OTYwMDQ3NzIzODRiODI4Zik7CiAgICAgICAgCgogICAgICAgIGNpcmNsZV9tYXJrZXJfZjExMDE3ODVhZDQ1NDAyNWI2NmRiZDJhODdmYjdjNGIuYmluZFBvcHVwKHBvcHVwXzM2MjA0MThkNzc0ZTQ4ZTVhODkwOTlhYjIxMmVlYWZjKQogICAgICAgIDsKCiAgICAgICAgCiAgICAKICAgIAogICAgICAgICAgICB2YXIgY2lyY2xlX21hcmtlcl84MDg2M2I2YmU2YmQ0YmZmODM5ODk2MjdjYzg5ODM5OSA9IEwuY2lyY2xlTWFya2VyKAogICAgICAgICAgICAgICAgWzUzLjg4OTk1MjkxNzcwODg1LCAyNy41NTY3OTUxNjU1MjExMDJdLAogICAgICAgICAgICAgICAgeyJidWJibGluZ01vdXNlRXZlbnRzIjogdHJ1ZSwgImNvbG9yIjogImJsdWUiLCAiZGFzaEFycmF5IjogbnVsbCwgImRhc2hPZmZzZXQiOiBudWxsLCAiZmlsbCI6IHRydWUsICJmaWxsQ29sb3IiOiAiIzMxODZjYyIsICJmaWxsT3BhY2l0eSI6IDAuNywgImZpbGxSdWxlIjogImV2ZW5vZGQiLCAibGluZUNhcCI6ICJyb3VuZCIsICJsaW5lSm9pbiI6ICJyb3VuZCIsICJvcGFjaXR5IjogMS4wLCAicmFkaXVzIjogNSwgInN0cm9rZSI6IHRydWUsICJ3ZWlnaHQiOiAzfQogICAgICAgICAgICApLmFkZFRvKG1hcF8wZTgxYWZmZTA0ZTI0Y2RiYWIyYzQ3ODYxZTRlZTNjYyk7CiAgICAgICAgCiAgICAKICAgICAgICB2YXIgcG9wdXBfNDVhMjEyOGQ3N2E4NGQ3MmFkZjY0ZjEyY2MzMWZhNDMgPSBMLnBvcHVwKHsibWF4V2lkdGgiOiAiMTAwJSJ9KTsKCiAgICAgICAgCiAgICAgICAgICAgIHZhciBodG1sX2YwMjU0ZWVkMmU3YTQxZWViYzc3ODNlYjAwOTdmN2E0ID0gJChgPGRpdiBpZD0iaHRtbF9mMDI1NGVlZDJlN2E0MWVlYmM3NzgzZWIwMDk3ZjdhNCIgc3R5bGU9IndpZHRoOiAxMDAuMCU7IGhlaWdodDogMTAwLjAlOyI+Q2FrZWJlcnJ5PC9kaXY+YClbMF07CiAgICAgICAgICAgIHBvcHVwXzQ1YTIxMjhkNzdhODRkNzJhZGY2NGYxMmNjMzFmYTQzLnNldENvbnRlbnQoaHRtbF9mMDI1NGVlZDJlN2E0MWVlYmM3NzgzZWIwMDk3ZjdhNCk7CiAgICAgICAgCgogICAgICAgIGNpcmNsZV9tYXJrZXJfODA4NjNiNmJlNmJkNGJmZjgzOTg5NjI3Y2M4OTgzOTkuYmluZFBvcHVwKHBvcHVwXzQ1YTIxMjhkNzdhODRkNzJhZGY2NGYxMmNjMzFmYTQzKQogICAgICAgIDsKCiAgICAgICAgCiAgICAKICAgIAogICAgICAgICAgICB2YXIgY2lyY2xlX21hcmtlcl8yZjU2ODU2NmNmMTc0NjcxODYzZjM5MzI4MzA2NGM4ZCA9IEwuY2lyY2xlTWFya2VyKAogICAgICAgICAgICAgICAgWzUzLjkwNDYzODg1NDg3NjcxLCAyNy41NTI1NzMyNDkyNjk4Ml0sCiAgICAgICAgICAgICAgICB7ImJ1YmJsaW5nTW91c2VFdmVudHMiOiB0cnVlLCAiY29sb3IiOiAiYmx1ZSIsICJkYXNoQXJyYXkiOiBudWxsLCAiZGFzaE9mZnNldCI6IG51bGwsICJmaWxsIjogdHJ1ZSwgImZpbGxDb2xvciI6ICIjMzE4NmNjIiwgImZpbGxPcGFjaXR5IjogMC43LCAiZmlsbFJ1bGUiOiAiZXZlbm9kZCIsICJsaW5lQ2FwIjogInJvdW5kIiwgImxpbmVKb2luIjogInJvdW5kIiwgIm9wYWNpdHkiOiAxLjAsICJyYWRpdXMiOiA1LCAic3Ryb2tlIjogdHJ1ZSwgIndlaWdodCI6IDN9CiAgICAgICAgICAgICkuYWRkVG8obWFwXzBlODFhZmZlMDRlMjRjZGJhYjJjNDc4NjFlNGVlM2NjKTsKICAgICAgICAKICAgIAogICAgICAgIHZhciBwb3B1cF8xNWI3MDUxMTkzMTI0Nzc4YjIzODYzNDk1OTg0MzY4YSA9IEwucG9wdXAoeyJtYXhXaWR0aCI6ICIxMDAlIn0pOwoKICAgICAgICAKICAgICAgICAgICAgdmFyIGh0bWxfMjZkYjQwNTZjMzhhNDk0MjlkZTc5NzI0MDk4MmQwYWIgPSAkKGA8ZGl2IGlkPSJodG1sXzI2ZGI0MDU2YzM4YTQ5NDI5ZGU3OTcyNDA5ODJkMGFiIiBzdHlsZT0id2lkdGg6IDEwMC4wJTsgaGVpZ2h0OiAxMDAuMCU7Ij5Eb251dCBCb3g8L2Rpdj5gKVswXTsKICAgICAgICAgICAgcG9wdXBfMTViNzA1MTE5MzEyNDc3OGIyMzg2MzQ5NTk4NDM2OGEuc2V0Q29udGVudChodG1sXzI2ZGI0MDU2YzM4YTQ5NDI5ZGU3OTcyNDA5ODJkMGFiKTsKICAgICAgICAKCiAgICAgICAgY2lyY2xlX21hcmtlcl8yZjU2ODU2NmNmMTc0NjcxODYzZjM5MzI4MzA2NGM4ZC5iaW5kUG9wdXAocG9wdXBfMTViNzA1MTE5MzEyNDc3OGIyMzg2MzQ5NTk4NDM2OGEpCiAgICAgICAgOwoKICAgICAgICAKICAgIAogICAgCiAgICAgICAgICAgIHZhciBjaXJjbGVfbWFya2VyXzEwZmY5ZjJkYzhmODQ2YmM5ZWYwZWQ3MDc4NjI0OGRlID0gTC5jaXJjbGVNYXJrZXIoCiAgICAgICAgICAgICAgICBbNTMuOTA5ODExMjExNjIwNjksIDI3LjU3OTg2MTcwNTA1OTkxNl0sCiAgICAgICAgICAgICAgICB7ImJ1YmJsaW5nTW91c2VFdmVudHMiOiB0cnVlLCAiY29sb3IiOiAiYmx1ZSIsICJkYXNoQXJyYXkiOiBudWxsLCAiZGFzaE9mZnNldCI6IG51bGwsICJmaWxsIjogdHJ1ZSwgImZpbGxDb2xvciI6ICIjMzE4NmNjIiwgImZpbGxPcGFjaXR5IjogMC43LCAiZmlsbFJ1bGUiOiAiZXZlbm9kZCIsICJsaW5lQ2FwIjogInJvdW5kIiwgImxpbmVKb2luIjogInJvdW5kIiwgIm9wYWNpdHkiOiAxLjAsICJyYWRpdXMiOiA1LCAic3Ryb2tlIjogdHJ1ZSwgIndlaWdodCI6IDN9CiAgICAgICAgICAgICkuYWRkVG8obWFwXzBlODFhZmZlMDRlMjRjZGJhYjJjNDc4NjFlNGVlM2NjKTsKICAgICAgICAKICAgIAogICAgICAgIHZhciBwb3B1cF8zNDkyMjIzNmMxYjU0Mjc2OTNjNmY5NWJjYzJmMzc1MCA9IEwucG9wdXAoeyJtYXhXaWR0aCI6ICIxMDAlIn0pOwoKICAgICAgICAKICAgICAgICAgICAgdmFyIGh0bWxfOWM2OGM5YzUyOTU2NDQzMzkzNTQyYWZjY2IxMzg2YWEgPSAkKGA8ZGl2IGlkPSJodG1sXzljNjhjOWM1Mjk1NjQ0MzM5MzU0MmFmY2NiMTM4NmFhIiBzdHlsZT0id2lkdGg6IDEwMC4wJTsgaGVpZ2h0OiAxMDAuMCU7Ij5Eb251dCBCb3g8L2Rpdj5gKVswXTsKICAgICAgICAgICAgcG9wdXBfMzQ5MjIyMzZjMWI1NDI3NjkzYzZmOTViY2MyZjM3NTAuc2V0Q29udGVudChodG1sXzljNjhjOWM1Mjk1NjQ0MzM5MzU0MmFmY2NiMTM4NmFhKTsKICAgICAgICAKCiAgICAgICAgY2lyY2xlX21hcmtlcl8xMGZmOWYyZGM4Zjg0NmJjOWVmMGVkNzA3ODYyNDhkZS5iaW5kUG9wdXAocG9wdXBfMzQ5MjIyMzZjMWI1NDI3NjkzYzZmOTViY2MyZjM3NTApCiAgICAgICAgOwoKICAgICAgICAKICAgIAogICAgCiAgICAgICAgICAgIHZhciBjaXJjbGVfbWFya2VyXzQ2N2MwODM0ODIzNzRmN2NiNjY2ZThkNDc3ZWVlZDEzID0gTC5jaXJjbGVNYXJrZXIoCiAgICAgICAgICAgICAgICBbNTMuOTI2MjUzNzk4NzEwMDIsIDI3LjU4MzI4MTg5ODg4OTMxOF0sCiAgICAgICAgICAgICAgICB7ImJ1YmJsaW5nTW91c2VFdmVudHMiOiB0cnVlLCAiY29sb3IiOiAiYmx1ZSIsICJkYXNoQXJyYXkiOiBudWxsLCAiZGFzaE9mZnNldCI6IG51bGwsICJmaWxsIjogdHJ1ZSwgImZpbGxDb2xvciI6ICIjMzE4NmNjIiwgImZpbGxPcGFjaXR5IjogMC43LCAiZmlsbFJ1bGUiOiAiZXZlbm9kZCIsICJsaW5lQ2FwIjogInJvdW5kIiwgImxpbmVKb2luIjogInJvdW5kIiwgIm9wYWNpdHkiOiAxLjAsICJyYWRpdXMiOiA1LCAic3Ryb2tlIjogdHJ1ZSwgIndlaWdodCI6IDN9CiAgICAgICAgICAgICkuYWRkVG8obWFwXzBlODFhZmZlMDRlMjRjZGJhYjJjNDc4NjFlNGVlM2NjKTsKICAgICAgICAKICAgIAogICAgICAgIHZhciBwb3B1cF9kYmNlNzFlY2ZmMmE0NmJhYTI0NWZlNWZhMzRhYzg1MyA9IEwucG9wdXAoeyJtYXhXaWR0aCI6ICIxMDAlIn0pOwoKICAgICAgICAKICAgICAgICAgICAgdmFyIGh0bWxfYzBhZTE0NzMyYTA2NDRlNzhmNGViMjFhYjIyYTNiODkgPSAkKGA8ZGl2IGlkPSJodG1sX2MwYWUxNDczMmEwNjQ0ZTc4ZjRlYjIxYWIyMmEzYjg5IiBzdHlsZT0id2lkdGg6IDEwMC4wJTsgaGVpZ2h0OiAxMDAuMCU7Ij5URVNUTzwvZGl2PmApWzBdOwogICAgICAgICAgICBwb3B1cF9kYmNlNzFlY2ZmMmE0NmJhYTI0NWZlNWZhMzRhYzg1My5zZXRDb250ZW50KGh0bWxfYzBhZTE0NzMyYTA2NDRlNzhmNGViMjFhYjIyYTNiODkpOwogICAgICAgIAoKICAgICAgICBjaXJjbGVfbWFya2VyXzQ2N2MwODM0ODIzNzRmN2NiNjY2ZThkNDc3ZWVlZDEzLmJpbmRQb3B1cChwb3B1cF9kYmNlNzFlY2ZmMmE0NmJhYTI0NWZlNWZhMzRhYzg1MykKICAgICAgICA7CgogICAgICAgIAogICAgCiAgICAKICAgICAgICAgICAgdmFyIGNpcmNsZV9tYXJrZXJfYjVkMTM0OGYwMzIyNDAyNGFhMTljN2ZlZmNlZDA2ZWEgPSBMLmNpcmNsZU1hcmtlcigKICAgICAgICAgICAgICAgIFs1My44ODg3MjA1NDQ5NzkxNSwgMjcuNTQzNDEwMjI0NjA0ODM0XSwKICAgICAgICAgICAgICAgIHsiYnViYmxpbmdNb3VzZUV2ZW50cyI6IHRydWUsICJjb2xvciI6ICJibHVlIiwgImRhc2hBcnJheSI6IG51bGwsICJkYXNoT2Zmc2V0IjogbnVsbCwgImZpbGwiOiB0cnVlLCAiZmlsbENvbG9yIjogIiMzMTg2Y2MiLCAiZmlsbE9wYWNpdHkiOiAwLjcsICJmaWxsUnVsZSI6ICJldmVub2RkIiwgImxpbmVDYXAiOiAicm91bmQiLCAibGluZUpvaW4iOiAicm91bmQiLCAib3BhY2l0eSI6IDEuMCwgInJhZGl1cyI6IDUsICJzdHJva2UiOiB0cnVlLCAid2VpZ2h0IjogM30KICAgICAgICAgICAgKS5hZGRUbyhtYXBfMGU4MWFmZmUwNGUyNGNkYmFiMmM0Nzg2MWU0ZWUzY2MpOwogICAgICAgIAogICAgCiAgICAgICAgdmFyIHBvcHVwXzIzZDRlNjYwYjY0ZDRkOGNhMjM2ODM4NjBjOWZjNWM2ID0gTC5wb3B1cCh7Im1heFdpZHRoIjogIjEwMCUifSk7CgogICAgICAgIAogICAgICAgICAgICB2YXIgaHRtbF9iODI0ODUwZTVjNGY0ZGUzYTcyMDhjM2UzMGY3ODYwZSA9ICQoYDxkaXYgaWQ9Imh0bWxfYjgyNDg1MGU1YzRmNGRlM2E3MjA4YzNlMzBmNzg2MGUiIHN0eWxlPSJ3aWR0aDogMTAwLjAlOyBoZWlnaHQ6IDEwMC4wJTsiPnRz0ZZLYXZhPC9kaXY+YClbMF07CiAgICAgICAgICAgIHBvcHVwXzIzZDRlNjYwYjY0ZDRkOGNhMjM2ODM4NjBjOWZjNWM2LnNldENvbnRlbnQoaHRtbF9iODI0ODUwZTVjNGY0ZGUzYTcyMDhjM2UzMGY3ODYwZSk7CiAgICAgICAgCgogICAgICAgIGNpcmNsZV9tYXJrZXJfYjVkMTM0OGYwMzIyNDAyNGFhMTljN2ZlZmNlZDA2ZWEuYmluZFBvcHVwKHBvcHVwXzIzZDRlNjYwYjY0ZDRkOGNhMjM2ODM4NjBjOWZjNWM2KQogICAgICAgIDsKCiAgICAgICAgCiAgICAKICAgIAogICAgICAgICAgICB2YXIgY2lyY2xlX21hcmtlcl85YmI0Y2ViYWZiYTc0MWRkODRlZGQwMjgxMWE5MDQxMiA9IEwuY2lyY2xlTWFya2VyKAogICAgICAgICAgICAgICAgWzUzLjkyOTI0NjA5MzA4NTUxLCAyNy41OTEyNTk0MzE4MzU5M10sCiAgICAgICAgICAgICAgICB7ImJ1YmJsaW5nTW91c2VFdmVudHMiOiB0cnVlLCAiY29sb3IiOiAiYmx1ZSIsICJkYXNoQXJyYXkiOiBudWxsLCAiZGFzaE9mZnNldCI6IG51bGwsICJmaWxsIjogdHJ1ZSwgImZpbGxDb2xvciI6ICIjMzE4NmNjIiwgImZpbGxPcGFjaXR5IjogMC43LCAiZmlsbFJ1bGUiOiAiZXZlbm9kZCIsICJsaW5lQ2FwIjogInJvdW5kIiwgImxpbmVKb2luIjogInJvdW5kIiwgIm9wYWNpdHkiOiAxLjAsICJyYWRpdXMiOiA1LCAic3Ryb2tlIjogdHJ1ZSwgIndlaWdodCI6IDN9CiAgICAgICAgICAgICkuYWRkVG8obWFwXzBlODFhZmZlMDRlMjRjZGJhYjJjNDc4NjFlNGVlM2NjKTsKICAgICAgICAKICAgIAogICAgICAgIHZhciBwb3B1cF84OTEwMzk2ZWEyNGQ0ZWRhOGY5OWIyMjQ1NThlYmJmNiA9IEwucG9wdXAoeyJtYXhXaWR0aCI6ICIxMDAlIn0pOwoKICAgICAgICAKICAgICAgICAgICAgdmFyIGh0bWxfMzNjMTEyNTM0NTk2NGY2M2E2MGE2YTgyNWNiN2U4NWQgPSAkKGA8ZGl2IGlkPSJodG1sXzMzYzExMjUzNDU5NjRmNjNhNjBhNmE4MjVjYjdlODVkIiBzdHlsZT0id2lkdGg6IDEwMC4wJTsgaGVpZ2h0OiAxMDAuMCU7Ij5TaHRvbGxlIC8gU3RvbGxlPC9kaXY+YClbMF07CiAgICAgICAgICAgIHBvcHVwXzg5MTAzOTZlYTI0ZDRlZGE4Zjk5YjIyNDU1OGViYmY2LnNldENvbnRlbnQoaHRtbF8zM2MxMTI1MzQ1OTY0ZjYzYTYwYTZhODI1Y2I3ZTg1ZCk7CiAgICAgICAgCgogICAgICAgIGNpcmNsZV9tYXJrZXJfOWJiNGNlYmFmYmE3NDFkZDg0ZWRkMDI4MTFhOTA0MTIuYmluZFBvcHVwKHBvcHVwXzg5MTAzOTZlYTI0ZDRlZGE4Zjk5YjIyNDU1OGViYmY2KQogICAgICAgIDsKCiAgICAgICAgCiAgICAKICAgIAogICAgICAgICAgICB2YXIgY2lyY2xlX21hcmtlcl9kNjJhNThmYTQ3NGQ0NThiOTQ5MWYyMmY4Y2NhOTU2MyA9IEwuY2lyY2xlTWFya2VyKAogICAgICAgICAgICAgICAgWzUzLjkxMjM0NTY5NDM2MjIzLCAyNy41OTgzNzk3ODIwMzExODhdLAogICAgICAgICAgICAgICAgeyJidWJibGluZ01vdXNlRXZlbnRzIjogdHJ1ZSwgImNvbG9yIjogImJsdWUiLCAiZGFzaEFycmF5IjogbnVsbCwgImRhc2hPZmZzZXQiOiBudWxsLCAiZmlsbCI6IHRydWUsICJmaWxsQ29sb3IiOiAiIzMxODZjYyIsICJmaWxsT3BhY2l0eSI6IDAuNywgImZpbGxSdWxlIjogImV2ZW5vZGQiLCAibGluZUNhcCI6ICJyb3VuZCIsICJsaW5lSm9pbiI6ICJyb3VuZCIsICJvcGFjaXR5IjogMS4wLCAicmFkaXVzIjogNSwgInN0cm9rZSI6IHRydWUsICJ3ZWlnaHQiOiAzfQogICAgICAgICAgICApLmFkZFRvKG1hcF8wZTgxYWZmZTA0ZTI0Y2RiYWIyYzQ3ODYxZTRlZTNjYyk7CiAgICAgICAgCiAgICAKICAgICAgICB2YXIgcG9wdXBfNWI0OGMyYjI0YTY5NGM0NDg2MWIyZWNiMzM5ZTA5OWMgPSBMLnBvcHVwKHsibWF4V2lkdGgiOiAiMTAwJSJ9KTsKCiAgICAgICAgCiAgICAgICAgICAgIHZhciBodG1sXzU4Mzk4MGFhM2U2MzRjNmI4MWIwY2FmYWNiNmU2YTUwID0gJChgPGRpdiBpZD0iaHRtbF81ODM5ODBhYTNlNjM0YzZiODFiMGNhZmFjYjZlNmE1MCIgc3R5bGU9IndpZHRoOiAxMDAuMCU7IGhlaWdodDogMTAwLjAlOyI+UGVrYXJpZHplPC9kaXY+YClbMF07CiAgICAgICAgICAgIHBvcHVwXzViNDhjMmIyNGE2OTRjNDQ4NjFiMmVjYjMzOWUwOTljLnNldENvbnRlbnQoaHRtbF81ODM5ODBhYTNlNjM0YzZiODFiMGNhZmFjYjZlNmE1MCk7CiAgICAgICAgCgogICAgICAgIGNpcmNsZV9tYXJrZXJfZDYyYTU4ZmE0NzRkNDU4Yjk0OTFmMjJmOGNjYTk1NjMuYmluZFBvcHVwKHBvcHVwXzViNDhjMmIyNGE2OTRjNDQ4NjFiMmVjYjMzOWUwOTljKQogICAgICAgIDsKCiAgICAgICAgCiAgICAKICAgIAogICAgICAgICAgICB2YXIgY2lyY2xlX21hcmtlcl9kMGVhM2M2Yjc3NmM0MDA5ODA3ZjljMjZmYTgwNjEzYyA9IEwuY2lyY2xlTWFya2VyKAogICAgICAgICAgICAgICAgWzUzLjg0OTUxMzI4NjY0Mjc1NCwgMjcuNDc4MDc4NjUzNDgyOTU3XSwKICAgICAgICAgICAgICAgIHsiYnViYmxpbmdNb3VzZUV2ZW50cyI6IHRydWUsICJjb2xvciI6ICJibHVlIiwgImRhc2hBcnJheSI6IG51bGwsICJkYXNoT2Zmc2V0IjogbnVsbCwgImZpbGwiOiB0cnVlLCAiZmlsbENvbG9yIjogIiMzMTg2Y2MiLCAiZmlsbE9wYWNpdHkiOiAwLjcsICJmaWxsUnVsZSI6ICJldmVub2RkIiwgImxpbmVDYXAiOiAicm91bmQiLCAibGluZUpvaW4iOiAicm91bmQiLCAib3BhY2l0eSI6IDEuMCwgInJhZGl1cyI6IDUsICJzdHJva2UiOiB0cnVlLCAid2VpZ2h0IjogM30KICAgICAgICAgICAgKS5hZGRUbyhtYXBfMGU4MWFmZmUwNGUyNGNkYmFiMmM0Nzg2MWU0ZWUzY2MpOwogICAgICAgIAogICAgCiAgICAgICAgdmFyIHBvcHVwX2MyMjYwZWE2MDNlOTQ1NDliYTBlOTc2MTQ0MDM5YzU1ID0gTC5wb3B1cCh7Im1heFdpZHRoIjogIjEwMCUifSk7CgogICAgICAgIAogICAgICAgICAgICB2YXIgaHRtbF9jYjVkYmQ4OTMxMGY0ZThkYjhkNjcwMDA2ODllOTkxYSA9ICQoYDxkaXYgaWQ9Imh0bWxfY2I1ZGJkODkzMTBmNGU4ZGI4ZDY3MDAwNjg5ZTk5MWEiIHN0eWxlPSJ3aWR0aDogMTAwLjAlOyBoZWlnaHQ6IDEwMC4wJTsiPkRvbGNlPC9kaXY+YClbMF07CiAgICAgICAgICAgIHBvcHVwX2MyMjYwZWE2MDNlOTQ1NDliYTBlOTc2MTQ0MDM5YzU1LnNldENvbnRlbnQoaHRtbF9jYjVkYmQ4OTMxMGY0ZThkYjhkNjcwMDA2ODllOTkxYSk7CiAgICAgICAgCgogICAgICAgIGNpcmNsZV9tYXJrZXJfZDBlYTNjNmI3NzZjNDAwOTgwN2Y5YzI2ZmE4MDYxM2MuYmluZFBvcHVwKHBvcHVwX2MyMjYwZWE2MDNlOTQ1NDliYTBlOTc2MTQ0MDM5YzU1KQogICAgICAgIDsKCiAgICAgICAgCiAgICAKICAgIAogICAgICAgICAgICB2YXIgY2lyY2xlX21hcmtlcl9lMmYyYzVlNTE1MDY0YTUwODZkZTQ0MDQ0ZjI3YzVjOSA9IEwuY2lyY2xlTWFya2VyKAogICAgICAgICAgICAgICAgWzUzLjk0MTc4OCwgMjcuNTk3MDI3XSwKICAgICAgICAgICAgICAgIHsiYnViYmxpbmdNb3VzZUV2ZW50cyI6IHRydWUsICJjb2xvciI6ICJibHVlIiwgImRhc2hBcnJheSI6IG51bGwsICJkYXNoT2Zmc2V0IjogbnVsbCwgImZpbGwiOiB0cnVlLCAiZmlsbENvbG9yIjogIiMzMTg2Y2MiLCAiZmlsbE9wYWNpdHkiOiAwLjcsICJmaWxsUnVsZSI6ICJldmVub2RkIiwgImxpbmVDYXAiOiAicm91bmQiLCAibGluZUpvaW4iOiAicm91bmQiLCAib3BhY2l0eSI6IDEuMCwgInJhZGl1cyI6IDUsICJzdHJva2UiOiB0cnVlLCAid2VpZ2h0IjogM30KICAgICAgICAgICAgKS5hZGRUbyhtYXBfMGU4MWFmZmUwNGUyNGNkYmFiMmM0Nzg2MWU0ZWUzY2MpOwogICAgICAgIAogICAgCiAgICAgICAgdmFyIHBvcHVwX2Y3ODQ5Mjc1NjdlODQ3NWE5YzZkYjIyM2U4Y2I2OGFiID0gTC5wb3B1cCh7Im1heFdpZHRoIjogIjEwMCUifSk7CgogICAgICAgIAogICAgICAgICAgICB2YXIgaHRtbF8xOWU3Nzc2NzE3NDM0ODc1YWIzOGEzMDljNGMyNzQ0OSA9ICQoYDxkaXYgaWQ9Imh0bWxfMTllNzc3NjcxNzQzNDg3NWFiMzhhMzA5YzRjMjc0NDkiIHN0eWxlPSJ3aWR0aDogMTAwLjAlOyBoZWlnaHQ6IDEwMC4wJTsiPlBla2FybmphPC9kaXY+YClbMF07CiAgICAgICAgICAgIHBvcHVwX2Y3ODQ5Mjc1NjdlODQ3NWE5YzZkYjIyM2U4Y2I2OGFiLnNldENvbnRlbnQoaHRtbF8xOWU3Nzc2NzE3NDM0ODc1YWIzOGEzMDljNGMyNzQ0OSk7CiAgICAgICAgCgogICAgICAgIGNpcmNsZV9tYXJrZXJfZTJmMmM1ZTUxNTA2NGE1MDg2ZGU0NDA0NGYyN2M1YzkuYmluZFBvcHVwKHBvcHVwX2Y3ODQ5Mjc1NjdlODQ3NWE5YzZkYjIyM2U4Y2I2OGFiKQogICAgICAgIDsKCiAgICAgICAgCiAgICAKICAgIAogICAgICAgICAgICB2YXIgY2lyY2xlX21hcmtlcl8zODI2NGJjMzY0OTE0MDc0OTMzZmVmN2Q0ZWIzNjQ5MiA9IEwuY2lyY2xlTWFya2VyKAogICAgICAgICAgICAgICAgWzUzLjkwMDIyLCAyNy41NTQ1MTVdLAogICAgICAgICAgICAgICAgeyJidWJibGluZ01vdXNlRXZlbnRzIjogdHJ1ZSwgImNvbG9yIjogImJsdWUiLCAiZGFzaEFycmF5IjogbnVsbCwgImRhc2hPZmZzZXQiOiBudWxsLCAiZmlsbCI6IHRydWUsICJmaWxsQ29sb3IiOiAiIzMxODZjYyIsICJmaWxsT3BhY2l0eSI6IDAuNywgImZpbGxSdWxlIjogImV2ZW5vZGQiLCAibGluZUNhcCI6ICJyb3VuZCIsICJsaW5lSm9pbiI6ICJyb3VuZCIsICJvcGFjaXR5IjogMS4wLCAicmFkaXVzIjogNSwgInN0cm9rZSI6IHRydWUsICJ3ZWlnaHQiOiAzfQogICAgICAgICAgICApLmFkZFRvKG1hcF8wZTgxYWZmZTA0ZTI0Y2RiYWIyYzQ3ODYxZTRlZTNjYyk7CiAgICAgICAgCiAgICAKICAgICAgICB2YXIgcG9wdXBfNzQ3YWQ1M2YzNTJkNGE0ZGI3MmJlMTFlMTQwM2E1YWYgPSBMLnBvcHVwKHsibWF4V2lkdGgiOiAiMTAwJSJ9KTsKCiAgICAgICAgCiAgICAgICAgICAgIHZhciBodG1sX2Y0NTcyNzY1ZmU1YTRkMWU4Mzc2MjBmMDdiNjkxZWFmID0gJChgPGRpdiBpZD0iaHRtbF9mNDU3Mjc2NWZlNWE0ZDFlODM3NjIwZjA3YjY5MWVhZiIgc3R5bGU9IndpZHRoOiAxMDAuMCU7IGhlaWdodDogMTAwLjAlOyI+S29mZWpuamEta29uZGl0ZXJza2FqYSAmIzM0O1ZhbGVua2EmIzM0OzwvZGl2PmApWzBdOwogICAgICAgICAgICBwb3B1cF83NDdhZDUzZjM1MmQ0YTRkYjcyYmUxMWUxNDAzYTVhZi5zZXRDb250ZW50KGh0bWxfZjQ1NzI3NjVmZTVhNGQxZTgzNzYyMGYwN2I2OTFlYWYpOwogICAgICAgIAoKICAgICAgICBjaXJjbGVfbWFya2VyXzM4MjY0YmMzNjQ5MTQwNzQ5MzNmZWY3ZDRlYjM2NDkyLmJpbmRQb3B1cChwb3B1cF83NDdhZDUzZjM1MmQ0YTRkYjcyYmUxMWUxNDAzYTVhZikKICAgICAgICA7CgogICAgICAgIAogICAgCiAgICAKICAgICAgICAgICAgdmFyIGNpcmNsZV9tYXJrZXJfZWMwNjlkMWU5YzFlNDlmNDk5MzU0NDVjZDM4ZmQ5MTggPSBMLmNpcmNsZU1hcmtlcigKICAgICAgICAgICAgICAgIFs1My45NTI0NDU4MjQzODY0NDQsIDI3LjY2NzEyNjM4MTAxNTczXSwKICAgICAgICAgICAgICAgIHsiYnViYmxpbmdNb3VzZUV2ZW50cyI6IHRydWUsICJjb2xvciI6ICJibHVlIiwgImRhc2hBcnJheSI6IG51bGwsICJkYXNoT2Zmc2V0IjogbnVsbCwgImZpbGwiOiB0cnVlLCAiZmlsbENvbG9yIjogIiMzMTg2Y2MiLCAiZmlsbE9wYWNpdHkiOiAwLjcsICJmaWxsUnVsZSI6ICJldmVub2RkIiwgImxpbmVDYXAiOiAicm91bmQiLCAibGluZUpvaW4iOiAicm91bmQiLCAib3BhY2l0eSI6IDEuMCwgInJhZGl1cyI6IDUsICJzdHJva2UiOiB0cnVlLCAid2VpZ2h0IjogM30KICAgICAgICAgICAgKS5hZGRUbyhtYXBfMGU4MWFmZmUwNGUyNGNkYmFiMmM0Nzg2MWU0ZWUzY2MpOwogICAgICAgIAogICAgCiAgICAgICAgdmFyIHBvcHVwXzc3YWI1ODI0MjgxMzQ4MGE4OWI5ZmRiZDc5ZDg1NTc4ID0gTC5wb3B1cCh7Im1heFdpZHRoIjogIjEwMCUifSk7CgogICAgICAgIAogICAgICAgICAgICB2YXIgaHRtbF9kNDUzN2NiMzVjN2Q0NmNiOWYzM2UyNmZjZWNiM2Y4YiA9ICQoYDxkaXYgaWQ9Imh0bWxfZDQ1MzdjYjM1YzdkNDZjYjlmMzNlMjZmY2VjYjNmOGIiIHN0eWxlPSJ3aWR0aDogMTAwLjAlOyBoZWlnaHQ6IDEwMC4wJTsiPkJyZWFkICZhbXA7IEJ1dHRlcjwvZGl2PmApWzBdOwogICAgICAgICAgICBwb3B1cF83N2FiNTgyNDI4MTM0ODBhODliOWZkYmQ3OWQ4NTU3OC5zZXRDb250ZW50KGh0bWxfZDQ1MzdjYjM1YzdkNDZjYjlmMzNlMjZmY2VjYjNmOGIpOwogICAgICAgIAoKICAgICAgICBjaXJjbGVfbWFya2VyX2VjMDY5ZDFlOWMxZTQ5ZjQ5OTM1NDQ1Y2QzOGZkOTE4LmJpbmRQb3B1cChwb3B1cF83N2FiNTgyNDI4MTM0ODBhODliOWZkYmQ3OWQ4NTU3OCkKICAgICAgICA7CgogICAgICAgIAogICAgCiAgICAKICAgICAgICAgICAgdmFyIGNpcmNsZV9tYXJrZXJfYzg5M2JhYzQ4ZTMzNDU1YmFkODlhOWQwZGRmYzRlNTUgPSBMLmNpcmNsZU1hcmtlcigKICAgICAgICAgICAgICAgIFs1My45MDgzNTUwNjc3NTkxMSwgMjcuNTQ3OTE4OTIzMDgzNjddLAogICAgICAgICAgICAgICAgeyJidWJibGluZ01vdXNlRXZlbnRzIjogdHJ1ZSwgImNvbG9yIjogImJsdWUiLCAiZGFzaEFycmF5IjogbnVsbCwgImRhc2hPZmZzZXQiOiBudWxsLCAiZmlsbCI6IHRydWUsICJmaWxsQ29sb3IiOiAiIzMxODZjYyIsICJmaWxsT3BhY2l0eSI6IDAuNywgImZpbGxSdWxlIjogImV2ZW5vZGQiLCAibGluZUNhcCI6ICJyb3VuZCIsICJsaW5lSm9pbiI6ICJyb3VuZCIsICJvcGFjaXR5IjogMS4wLCAicmFkaXVzIjogNSwgInN0cm9rZSI6IHRydWUsICJ3ZWlnaHQiOiAzfQogICAgICAgICAgICApLmFkZFRvKG1hcF8wZTgxYWZmZTA0ZTI0Y2RiYWIyYzQ3ODYxZTRlZTNjYyk7CiAgICAgICAgCiAgICAKICAgICAgICB2YXIgcG9wdXBfZjMzMDFlMzVhMzljNGI0MzkwM2E1MWMzZjI0NmNkYzYgPSBMLnBvcHVwKHsibWF4V2lkdGgiOiAiMTAwJSJ9KTsKCiAgICAgICAgCiAgICAgICAgICAgIHZhciBodG1sXzU5YjgwODg5NzA5NTRhYjVhZjZiMjIwOWZmMWMzZjI1ID0gJChgPGRpdiBpZD0iaHRtbF81OWI4MDg4OTcwOTU0YWI1YWY2YjIyMDlmZjFjM2YyNSIgc3R5bGU9IndpZHRoOiAxMDAuMCU7IGhlaWdodDogMTAwLjAlOyI+QmVhbnMgJmFtcDsgTGVhdmVzPC9kaXY+YClbMF07CiAgICAgICAgICAgIHBvcHVwX2YzMzAxZTM1YTM5YzRiNDM5MDNhNTFjM2YyNDZjZGM2LnNldENvbnRlbnQoaHRtbF81OWI4MDg4OTcwOTU0YWI1YWY2YjIyMDlmZjFjM2YyNSk7CiAgICAgICAgCgogICAgICAgIGNpcmNsZV9tYXJrZXJfYzg5M2JhYzQ4ZTMzNDU1YmFkODlhOWQwZGRmYzRlNTUuYmluZFBvcHVwKHBvcHVwX2YzMzAxZTM1YTM5YzRiNDM5MDNhNTFjM2YyNDZjZGM2KQogICAgICAgIDsKCiAgICAgICAgCiAgICAKICAgIAogICAgICAgICAgICB2YXIgY2lyY2xlX21hcmtlcl8zNjNhYjk0NWFjZDM0NzExODRlMGNjNjIzYmNlOTNkNiA9IEwuY2lyY2xlTWFya2VyKAogICAgICAgICAgICAgICAgWzUzLjk0MTY2MywgMjcuNTk2ODgxXSwKICAgICAgICAgICAgICAgIHsiYnViYmxpbmdNb3VzZUV2ZW50cyI6IHRydWUsICJjb2xvciI6ICJibHVlIiwgImRhc2hBcnJheSI6IG51bGwsICJkYXNoT2Zmc2V0IjogbnVsbCwgImZpbGwiOiB0cnVlLCAiZmlsbENvbG9yIjogIiMzMTg2Y2MiLCAiZmlsbE9wYWNpdHkiOiAwLjcsICJmaWxsUnVsZSI6ICJldmVub2RkIiwgImxpbmVDYXAiOiAicm91bmQiLCAibGluZUpvaW4iOiAicm91bmQiLCAib3BhY2l0eSI6IDEuMCwgInJhZGl1cyI6IDUsICJzdHJva2UiOiB0cnVlLCAid2VpZ2h0IjogM30KICAgICAgICAgICAgKS5hZGRUbyhtYXBfMGU4MWFmZmUwNGUyNGNkYmFiMmM0Nzg2MWU0ZWUzY2MpOwogICAgICAgIAogICAgCiAgICAgICAgdmFyIHBvcHVwXzhlODM2OTQwYjQ4ZjRlYmY4MDdjZGM4MTM4Mzk3YzNmID0gTC5wb3B1cCh7Im1heFdpZHRoIjogIjEwMCUifSk7CgogICAgICAgIAogICAgICAgICAgICB2YXIgaHRtbF83ODQ1ZmQzOTQ3ZWU0MjhkYTJiZjQ0ODIyYTllN2YyYiA9ICQoYDxkaXYgaWQ9Imh0bWxfNzg0NWZkMzk0N2VlNDI4ZGEyYmY0NDgyMmE5ZTdmMmIiIHN0eWxlPSJ3aWR0aDogMTAwLjAlOyBoZWlnaHQ6IDEwMC4wJTsiPlZ5JmFtcDtwZWNoa2E8L2Rpdj5gKVswXTsKICAgICAgICAgICAgcG9wdXBfOGU4MzY5NDBiNDhmNGViZjgwN2NkYzgxMzgzOTdjM2Yuc2V0Q29udGVudChodG1sXzc4NDVmZDM5NDdlZTQyOGRhMmJmNDQ4MjJhOWU3ZjJiKTsKICAgICAgICAKCiAgICAgICAgY2lyY2xlX21hcmtlcl8zNjNhYjk0NWFjZDM0NzExODRlMGNjNjIzYmNlOTNkNi5iaW5kUG9wdXAocG9wdXBfOGU4MzY5NDBiNDhmNGViZjgwN2NkYzgxMzgzOTdjM2YpCiAgICAgICAgOwoKICAgICAgICAKICAgIAogICAgCiAgICAgICAgICAgIHZhciBjaXJjbGVfbWFya2VyX2ZjY2EyMGI0YzJlNzQ1ZWI4ZDg3ZTRhZWVkM2Y2MWJiID0gTC5jaXJjbGVNYXJrZXIoCiAgICAgICAgICAgICAgICBbNTMuOTAwODc3LCAyNy41NTI1MTRdLAogICAgICAgICAgICAgICAgeyJidWJibGluZ01vdXNlRXZlbnRzIjogdHJ1ZSwgImNvbG9yIjogImJsdWUiLCAiZGFzaEFycmF5IjogbnVsbCwgImRhc2hPZmZzZXQiOiBudWxsLCAiZmlsbCI6IHRydWUsICJmaWxsQ29sb3IiOiAiIzMxODZjYyIsICJmaWxsT3BhY2l0eSI6IDAuNywgImZpbGxSdWxlIjogImV2ZW5vZGQiLCAibGluZUNhcCI6ICJyb3VuZCIsICJsaW5lSm9pbiI6ICJyb3VuZCIsICJvcGFjaXR5IjogMS4wLCAicmFkaXVzIjogNSwgInN0cm9rZSI6IHRydWUsICJ3ZWlnaHQiOiAzfQogICAgICAgICAgICApLmFkZFRvKG1hcF8wZTgxYWZmZTA0ZTI0Y2RiYWIyYzQ3ODYxZTRlZTNjYyk7CiAgICAgICAgCiAgICAKICAgICAgICB2YXIgcG9wdXBfM2E0OWZjZTFhMjk5NGJiMTg5NzA2ZGZhZDI5OTNkMzYgPSBMLnBvcHVwKHsibWF4V2lkdGgiOiAiMTAwJSJ9KTsKCiAgICAgICAgCiAgICAgICAgICAgIHZhciBodG1sX2I0YmMyODJhYzM3YzQzYTM5Mzg0MDhhNzBiZTQwNjE2ID0gJChgPGRpdiBpZD0iaHRtbF9iNGJjMjgyYWMzN2M0M2EzOTM4NDA4YTcwYmU0MDYxNiIgc3R5bGU9IndpZHRoOiAxMDAuMCU7IGhlaWdodDogMTAwLjAlOyI+U3RvcmllczwvZGl2PmApWzBdOwogICAgICAgICAgICBwb3B1cF8zYTQ5ZmNlMWEyOTk0YmIxODk3MDZkZmFkMjk5M2QzNi5zZXRDb250ZW50KGh0bWxfYjRiYzI4MmFjMzdjNDNhMzkzODQwOGE3MGJlNDA2MTYpOwogICAgICAgIAoKICAgICAgICBjaXJjbGVfbWFya2VyX2ZjY2EyMGI0YzJlNzQ1ZWI4ZDg3ZTRhZWVkM2Y2MWJiLmJpbmRQb3B1cChwb3B1cF8zYTQ5ZmNlMWEyOTk0YmIxODk3MDZkZmFkMjk5M2QzNikKICAgICAgICA7CgogICAgICAgIAogICAgCiAgICAKICAgICAgICAgICAgdmFyIGNpcmNsZV9tYXJrZXJfMzlmN2FlNzE3ZDhhNDVlYzg2NzQ2NDc2MzQ0ZWQyOTAgPSBMLmNpcmNsZU1hcmtlcigKICAgICAgICAgICAgICAgIFs1My45MDM3MTcsIDI3LjU1ODM2OV0sCiAgICAgICAgICAgICAgICB7ImJ1YmJsaW5nTW91c2VFdmVudHMiOiB0cnVlLCAiY29sb3IiOiAiYmx1ZSIsICJkYXNoQXJyYXkiOiBudWxsLCAiZGFzaE9mZnNldCI6IG51bGwsICJmaWxsIjogdHJ1ZSwgImZpbGxDb2xvciI6ICIjMzE4NmNjIiwgImZpbGxPcGFjaXR5IjogMC43LCAiZmlsbFJ1bGUiOiAiZXZlbm9kZCIsICJsaW5lQ2FwIjogInJvdW5kIiwgImxpbmVKb2luIjogInJvdW5kIiwgIm9wYWNpdHkiOiAxLjAsICJyYWRpdXMiOiA1LCAic3Ryb2tlIjogdHJ1ZSwgIndlaWdodCI6IDN9CiAgICAgICAgICAgICkuYWRkVG8obWFwXzBlODFhZmZlMDRlMjRjZGJhYjJjNDc4NjFlNGVlM2NjKTsKICAgICAgICAKICAgIAogICAgICAgIHZhciBwb3B1cF9jYTE0NTFlODU0MzQ0ZmU0ODc2MTE0Mzk1Njc5MjQzYyA9IEwucG9wdXAoeyJtYXhXaWR0aCI6ICIxMDAlIn0pOwoKICAgICAgICAKICAgICAgICAgICAgdmFyIGh0bWxfNmQzMDk1YzBkODIyNDQ0ZDhhYTJjNjIwNmQ2ZDU1NTEgPSAkKGA8ZGl2IGlkPSJodG1sXzZkMzA5NWMwZDgyMjQ0NGQ4YWEyYzYyMDZkNmQ1NTUxIiBzdHlsZT0id2lkdGg6IDEwMC4wJTsgaGVpZ2h0OiAxMDAuMCU7Ij5QQVVMPC9kaXY+YClbMF07CiAgICAgICAgICAgIHBvcHVwX2NhMTQ1MWU4NTQzNDRmZTQ4NzYxMTQzOTU2NzkyNDNjLnNldENvbnRlbnQoaHRtbF82ZDMwOTVjMGQ4MjI0NDRkOGFhMmM2MjA2ZDZkNTU1MSk7CiAgICAgICAgCgogICAgICAgIGNpcmNsZV9tYXJrZXJfMzlmN2FlNzE3ZDhhNDVlYzg2NzQ2NDc2MzQ0ZWQyOTAuYmluZFBvcHVwKHBvcHVwX2NhMTQ1MWU4NTQzNDRmZTQ4NzYxMTQzOTU2NzkyNDNjKQogICAgICAgIDsKCiAgICAgICAgCiAgICAKICAgIAogICAgICAgICAgICB2YXIgY2lyY2xlX21hcmtlcl8zNzY2MjQ5NjEwMDk0YTI4YTNhNzQ5ODhiYmMzMzI0YiA9IEwuY2lyY2xlTWFya2VyKAogICAgICAgICAgICAgICAgWzUzLjkwNjQ5Njc3MDIzMDg2LCAyNy41ODUwNjgzOTUzNzYwNzZdLAogICAgICAgICAgICAgICAgeyJidWJibGluZ01vdXNlRXZlbnRzIjogdHJ1ZSwgImNvbG9yIjogImJsdWUiLCAiZGFzaEFycmF5IjogbnVsbCwgImRhc2hPZmZzZXQiOiBudWxsLCAiZmlsbCI6IHRydWUsICJmaWxsQ29sb3IiOiAiIzMxODZjYyIsICJmaWxsT3BhY2l0eSI6IDAuNywgImZpbGxSdWxlIjogImV2ZW5vZGQiLCAibGluZUNhcCI6ICJyb3VuZCIsICJsaW5lSm9pbiI6ICJyb3VuZCIsICJvcGFjaXR5IjogMS4wLCAicmFkaXVzIjogNSwgInN0cm9rZSI6IHRydWUsICJ3ZWlnaHQiOiAzfQogICAgICAgICAgICApLmFkZFRvKG1hcF8wZTgxYWZmZTA0ZTI0Y2RiYWIyYzQ3ODYxZTRlZTNjYyk7CiAgICAgICAgCiAgICAKICAgICAgICB2YXIgcG9wdXBfOTk3MjJhZGMxMzJhNGJlOWJmN2UyMjBhNGRjZWY4NmYgPSBMLnBvcHVwKHsibWF4V2lkdGgiOiAiMTAwJSJ9KTsKCiAgICAgICAgCiAgICAgICAgICAgIHZhciBodG1sXzJhNjc3MzI4Nzk4NzQxZmE5YTc3MjI5ZDA0ZGVhZWZlID0gJChgPGRpdiBpZD0iaHRtbF8yYTY3NzMyODc5ODc0MWZhOWE3NzIyOWQwNGRlYWVmZSIgc3R5bGU9IndpZHRoOiAxMDAuMCU7IGhlaWdodDogMTAwLjAlOyI+QnLDuCBCYWtlcnk8L2Rpdj5gKVswXTsKICAgICAgICAgICAgcG9wdXBfOTk3MjJhZGMxMzJhNGJlOWJmN2UyMjBhNGRjZWY4NmYuc2V0Q29udGVudChodG1sXzJhNjc3MzI4Nzk4NzQxZmE5YTc3MjI5ZDA0ZGVhZWZlKTsKICAgICAgICAKCiAgICAgICAgY2lyY2xlX21hcmtlcl8zNzY2MjQ5NjEwMDk0YTI4YTNhNzQ5ODhiYmMzMzI0Yi5iaW5kUG9wdXAocG9wdXBfOTk3MjJhZGMxMzJhNGJlOWJmN2UyMjBhNGRjZWY4NmYpCiAgICAgICAgOwoKICAgICAgICAKICAgIAogICAgCiAgICAgICAgICAgIHZhciBjaXJjbGVfbWFya2VyXzRiNjg3MGIxYjhhMDQyYzJhNWQzM2M1MWUwZTVkODBlID0gTC5jaXJjbGVNYXJrZXIoCiAgICAgICAgICAgICAgICBbNTMuOTA4NTU0ODM1NDkwNTQsIDI3LjU0ODUxMDA3MzkwNTY2NF0sCiAgICAgICAgICAgICAgICB7ImJ1YmJsaW5nTW91c2VFdmVudHMiOiB0cnVlLCAiY29sb3IiOiAiYmx1ZSIsICJkYXNoQXJyYXkiOiBudWxsLCAiZGFzaE9mZnNldCI6IG51bGwsICJmaWxsIjogdHJ1ZSwgImZpbGxDb2xvciI6ICIjMzE4NmNjIiwgImZpbGxPcGFjaXR5IjogMC43LCAiZmlsbFJ1bGUiOiAiZXZlbm9kZCIsICJsaW5lQ2FwIjogInJvdW5kIiwgImxpbmVKb2luIjogInJvdW5kIiwgIm9wYWNpdHkiOiAxLjAsICJyYWRpdXMiOiA1LCAic3Ryb2tlIjogdHJ1ZSwgIndlaWdodCI6IDN9CiAgICAgICAgICAgICkuYWRkVG8obWFwXzBlODFhZmZlMDRlMjRjZGJhYjJjNDc4NjFlNGVlM2NjKTsKICAgICAgICAKICAgIAogICAgICAgIHZhciBwb3B1cF8xNWFmNmFkYTU4ZDI0ZWJiODFlODlmMTA2NTA0MTUyMSA9IEwucG9wdXAoeyJtYXhXaWR0aCI6ICIxMDAlIn0pOwoKICAgICAgICAKICAgICAgICAgICAgdmFyIGh0bWxfOTI5MjBhOWNkMDJlNDg5NGIxMjBmOGQ4MWYwNzVlZGIgPSAkKGA8ZGl2IGlkPSJodG1sXzkyOTIwYTljZDAyZTQ4OTRiMTIwZjhkODFmMDc1ZWRiIiBzdHlsZT0id2lkdGg6IDEwMC4wJTsgaGVpZ2h0OiAxMDAuMCU7Ij5WYWZsaSZhbXA7S29mZTwvZGl2PmApWzBdOwogICAgICAgICAgICBwb3B1cF8xNWFmNmFkYTU4ZDI0ZWJiODFlODlmMTA2NTA0MTUyMS5zZXRDb250ZW50KGh0bWxfOTI5MjBhOWNkMDJlNDg5NGIxMjBmOGQ4MWYwNzVlZGIpOwogICAgICAgIAoKICAgICAgICBjaXJjbGVfbWFya2VyXzRiNjg3MGIxYjhhMDQyYzJhNWQzM2M1MWUwZTVkODBlLmJpbmRQb3B1cChwb3B1cF8xNWFmNmFkYTU4ZDI0ZWJiODFlODlmMTA2NTA0MTUyMSkKICAgICAgICA7CgogICAgICAgIAogICAgCiAgICAKICAgICAgICAgICAgdmFyIGNpcmNsZV9tYXJrZXJfNDQ3NzkwZGI3NWYzNDU2ZjkwMjdmNTE2M2E3NmRkNDMgPSBMLmNpcmNsZU1hcmtlcigKICAgICAgICAgICAgICAgIFs1My45MDU5NjgsIDI3LjUzMzY3NF0sCiAgICAgICAgICAgICAgICB7ImJ1YmJsaW5nTW91c2VFdmVudHMiOiB0cnVlLCAiY29sb3IiOiAiYmx1ZSIsICJkYXNoQXJyYXkiOiBudWxsLCAiZGFzaE9mZnNldCI6IG51bGwsICJmaWxsIjogdHJ1ZSwgImZpbGxDb2xvciI6ICIjMzE4NmNjIiwgImZpbGxPcGFjaXR5IjogMC43LCAiZmlsbFJ1bGUiOiAiZXZlbm9kZCIsICJsaW5lQ2FwIjogInJvdW5kIiwgImxpbmVKb2luIjogInJvdW5kIiwgIm9wYWNpdHkiOiAxLjAsICJyYWRpdXMiOiA1LCAic3Ryb2tlIjogdHJ1ZSwgIndlaWdodCI6IDN9CiAgICAgICAgICAgICkuYWRkVG8obWFwXzBlODFhZmZlMDRlMjRjZGJhYjJjNDc4NjFlNGVlM2NjKTsKICAgICAgICAKICAgIAogICAgICAgIHZhciBwb3B1cF9lOTE5ZDM5NTk0NmY0NDRjOGNiZWJlMTRlNjRmNjk0ZiA9IEwucG9wdXAoeyJtYXhXaWR0aCI6ICIxMDAlIn0pOwoKICAgICAgICAKICAgICAgICAgICAgdmFyIGh0bWxfNzRhNDEwYmU1YWZjNGNlMzg5NTlhNTNmZjIzNGE5NDcgPSAkKGA8ZGl2IGlkPSJodG1sXzc0YTQxMGJlNWFmYzRjZTM4OTU5YTUzZmYyMzRhOTQ3IiBzdHlsZT0id2lkdGg6IDEwMC4wJTsgaGVpZ2h0OiAxMDAuMCU7Ij5NaWwmIzM5O2ZlajwvZGl2PmApWzBdOwogICAgICAgICAgICBwb3B1cF9lOTE5ZDM5NTk0NmY0NDRjOGNiZWJlMTRlNjRmNjk0Zi5zZXRDb250ZW50KGh0bWxfNzRhNDEwYmU1YWZjNGNlMzg5NTlhNTNmZjIzNGE5NDcpOwogICAgICAgIAoKICAgICAgICBjaXJjbGVfbWFya2VyXzQ0Nzc5MGRiNzVmMzQ1NmY5MDI3ZjUxNjNhNzZkZDQzLmJpbmRQb3B1cChwb3B1cF9lOTE5ZDM5NTk0NmY0NDRjOGNiZWJlMTRlNjRmNjk0ZikKICAgICAgICA7CgogICAgICAgIAogICAgCiAgICAKICAgICAgICAgICAgdmFyIGNpcmNsZV9tYXJrZXJfNmZjYzg2ZDVmNTEyNGRmMWJiYjVlMWFlMzk2NmM0ZmYgPSBMLmNpcmNsZU1hcmtlcigKICAgICAgICAgICAgICAgIFs1My45MjE4MzQ4NDExNjM3NjUsIDI3LjU5NzgyMjg1MzU2NzA4NF0sCiAgICAgICAgICAgICAgICB7ImJ1YmJsaW5nTW91c2VFdmVudHMiOiB0cnVlLCAiY29sb3IiOiAiYmx1ZSIsICJkYXNoQXJyYXkiOiBudWxsLCAiZGFzaE9mZnNldCI6IG51bGwsICJmaWxsIjogdHJ1ZSwgImZpbGxDb2xvciI6ICIjMzE4NmNjIiwgImZpbGxPcGFjaXR5IjogMC43LCAiZmlsbFJ1bGUiOiAiZXZlbm9kZCIsICJsaW5lQ2FwIjogInJvdW5kIiwgImxpbmVKb2luIjogInJvdW5kIiwgIm9wYWNpdHkiOiAxLjAsICJyYWRpdXMiOiA1LCAic3Ryb2tlIjogdHJ1ZSwgIndlaWdodCI6IDN9CiAgICAgICAgICAgICkuYWRkVG8obWFwXzBlODFhZmZlMDRlMjRjZGJhYjJjNDc4NjFlNGVlM2NjKTsKICAgICAgICAKICAgIAogICAgICAgIHZhciBwb3B1cF8xOTZkMmJlYWEzYWM0MjlhODNkOTJjYjM3ZDhiM2M2MCA9IEwucG9wdXAoeyJtYXhXaWR0aCI6ICIxMDAlIn0pOwoKICAgICAgICAKICAgICAgICAgICAgdmFyIGh0bWxfZjJlMTBlYjNmYWUyNDRhMDllMzAyNjk2YjIzZGQwM2QgPSAkKGA8ZGl2IGlkPSJodG1sX2YyZTEwZWIzZmFlMjQ0YTA5ZTMwMjY5NmIyM2RkMDNkIiBzdHlsZT0id2lkdGg6IDEwMC4wJTsgaGVpZ2h0OiAxMDAuMCU7Ij5LYWZlIEJlemU8L2Rpdj5gKVswXTsKICAgICAgICAgICAgcG9wdXBfMTk2ZDJiZWFhM2FjNDI5YTgzZDkyY2IzN2Q4YjNjNjAuc2V0Q29udGVudChodG1sX2YyZTEwZWIzZmFlMjQ0YTA5ZTMwMjY5NmIyM2RkMDNkKTsKICAgICAgICAKCiAgICAgICAgY2lyY2xlX21hcmtlcl82ZmNjODZkNWY1MTI0ZGYxYmJiNWUxYWUzOTY2YzRmZi5iaW5kUG9wdXAocG9wdXBfMTk2ZDJiZWFhM2FjNDI5YTgzZDkyY2IzN2Q4YjNjNjApCiAgICAgICAgOwoKICAgICAgICAKICAgIAogICAgCiAgICAgICAgICAgIHZhciBjaXJjbGVfbWFya2VyXzMyZDJhZmVkMTk0MzRmMzM5YTlhNjBlMDFhOTcwZWJhID0gTC5jaXJjbGVNYXJrZXIoCiAgICAgICAgICAgICAgICBbNTMuOTMzNjE4NTgzMDM3MDI0LCAyNy42NTI0MzMyOTkzMDkxNzNdLAogICAgICAgICAgICAgICAgeyJidWJibGluZ01vdXNlRXZlbnRzIjogdHJ1ZSwgImNvbG9yIjogImJsdWUiLCAiZGFzaEFycmF5IjogbnVsbCwgImRhc2hPZmZzZXQiOiBudWxsLCAiZmlsbCI6IHRydWUsICJmaWxsQ29sb3IiOiAiIzMxODZjYyIsICJmaWxsT3BhY2l0eSI6IDAuNywgImZpbGxSdWxlIjogImV2ZW5vZGQiLCAibGluZUNhcCI6ICJyb3VuZCIsICJsaW5lSm9pbiI6ICJyb3VuZCIsICJvcGFjaXR5IjogMS4wLCAicmFkaXVzIjogNSwgInN0cm9rZSI6IHRydWUsICJ3ZWlnaHQiOiAzfQogICAgICAgICAgICApLmFkZFRvKG1hcF8wZTgxYWZmZTA0ZTI0Y2RiYWIyYzQ3ODYxZTRlZTNjYyk7CiAgICAgICAgCiAgICAKICAgICAgICB2YXIgcG9wdXBfZjU4ZWYxNDI5MTEwNDg0NWFjNDdjNjVmMTJjZTU3NDcgPSBMLnBvcHVwKHsibWF4V2lkdGgiOiAiMTAwJSJ9KTsKCiAgICAgICAgCiAgICAgICAgICAgIHZhciBodG1sX2VjNTA3NmNjYjk2NDRkZTliNDUzN2FmODg1NzMwYmI2ID0gJChgPGRpdiBpZD0iaHRtbF9lYzUwNzZjY2I5NjQ0ZGU5YjQ1MzdhZjg4NTczMGJiNiIgc3R5bGU9IndpZHRoOiAxMDAuMCU7IGhlaWdodDogMTAwLjAlOyI+VCYjMzk7ZXJyaTwvZGl2PmApWzBdOwogICAgICAgICAgICBwb3B1cF9mNThlZjE0MjkxMTA0ODQ1YWM0N2M2NWYxMmNlNTc0Ny5zZXRDb250ZW50KGh0bWxfZWM1MDc2Y2NiOTY0NGRlOWI0NTM3YWY4ODU3MzBiYjYpOwogICAgICAgIAoKICAgICAgICBjaXJjbGVfbWFya2VyXzMyZDJhZmVkMTk0MzRmMzM5YTlhNjBlMDFhOTcwZWJhLmJpbmRQb3B1cChwb3B1cF9mNThlZjE0MjkxMTA0ODQ1YWM0N2M2NWYxMmNlNTc0NykKICAgICAgICA7CgogICAgICAgIAogICAgCiAgICAKICAgICAgICAgICAgdmFyIGNpcmNsZV9tYXJrZXJfMzAwNTA0MGNlMzM2NGNlNzhiMDcxY2MyZWFhZjAxZGQgPSBMLmNpcmNsZU1hcmtlcigKICAgICAgICAgICAgICAgIFs1My44NjAyMjQsIDI3LjY3MzI0NV0sCiAgICAgICAgICAgICAgICB7ImJ1YmJsaW5nTW91c2VFdmVudHMiOiB0cnVlLCAiY29sb3IiOiAiYmx1ZSIsICJkYXNoQXJyYXkiOiBudWxsLCAiZGFzaE9mZnNldCI6IG51bGwsICJmaWxsIjogdHJ1ZSwgImZpbGxDb2xvciI6ICIjMzE4NmNjIiwgImZpbGxPcGFjaXR5IjogMC43LCAiZmlsbFJ1bGUiOiAiZXZlbm9kZCIsICJsaW5lQ2FwIjogInJvdW5kIiwgImxpbmVKb2luIjogInJvdW5kIiwgIm9wYWNpdHkiOiAxLjAsICJyYWRpdXMiOiA1LCAic3Ryb2tlIjogdHJ1ZSwgIndlaWdodCI6IDN9CiAgICAgICAgICAgICkuYWRkVG8obWFwXzBlODFhZmZlMDRlMjRjZGJhYjJjNDc4NjFlNGVlM2NjKTsKICAgICAgICAKICAgIAogICAgICAgIHZhciBwb3B1cF9jZTZjOTQwNjBjMmU0Mzk1OTU2NThlZjUzYzQ3ZTk4NSA9IEwucG9wdXAoeyJtYXhXaWR0aCI6ICIxMDAlIn0pOwoKICAgICAgICAKICAgICAgICAgICAgdmFyIGh0bWxfMDgwMjM3YjM5ZWYyNGY2YTk1NzVlMjdiMDZmZDI4YmIgPSAkKGA8ZGl2IGlkPSJodG1sXzA4MDIzN2IzOWVmMjRmNmE5NTc1ZTI3YjA2ZmQyOGJiIiBzdHlsZT0id2lkdGg6IDEwMC4wJTsgaGVpZ2h0OiAxMDAuMCU7Ij5UJiMzOTtlcnJpPC9kaXY+YClbMF07CiAgICAgICAgICAgIHBvcHVwX2NlNmM5NDA2MGMyZTQzOTU5NTY1OGVmNTNjNDdlOTg1LnNldENvbnRlbnQoaHRtbF8wODAyMzdiMzllZjI0ZjZhOTU3NWUyN2IwNmZkMjhiYik7CiAgICAgICAgCgogICAgICAgIGNpcmNsZV9tYXJrZXJfMzAwNTA0MGNlMzM2NGNlNzhiMDcxY2MyZWFhZjAxZGQuYmluZFBvcHVwKHBvcHVwX2NlNmM5NDA2MGMyZTQzOTU5NTY1OGVmNTNjNDdlOTg1KQogICAgICAgIDsKCiAgICAgICAgCiAgICAKICAgIAogICAgICAgICAgICB2YXIgY2lyY2xlX21hcmtlcl80ZDFjZGUyYzM3ZGE0MDJlODQ2ZjkwNGMxODUzOGRkYyA9IEwuY2lyY2xlTWFya2VyKAogICAgICAgICAgICAgICAgWzUzLjkzOTI3NDE1NTA2NzM2LCAyNy40Nzg0MjU3NzE4MDM5NDVdLAogICAgICAgICAgICAgICAgeyJidWJibGluZ01vdXNlRXZlbnRzIjogdHJ1ZSwgImNvbG9yIjogImJsdWUiLCAiZGFzaEFycmF5IjogbnVsbCwgImRhc2hPZmZzZXQiOiBudWxsLCAiZmlsbCI6IHRydWUsICJmaWxsQ29sb3IiOiAiIzMxODZjYyIsICJmaWxsT3BhY2l0eSI6IDAuNywgImZpbGxSdWxlIjogImV2ZW5vZGQiLCAibGluZUNhcCI6ICJyb3VuZCIsICJsaW5lSm9pbiI6ICJyb3VuZCIsICJvcGFjaXR5IjogMS4wLCAicmFkaXVzIjogNSwgInN0cm9rZSI6IHRydWUsICJ3ZWlnaHQiOiAzfQogICAgICAgICAgICApLmFkZFRvKG1hcF8wZTgxYWZmZTA0ZTI0Y2RiYWIyYzQ3ODYxZTRlZTNjYyk7CiAgICAgICAgCiAgICAKICAgICAgICB2YXIgcG9wdXBfZmE1YzMwMzJiNTA5NDBkMzkwMGMyYjlhMmYyYTVhMTkgPSBMLnBvcHVwKHsibWF4V2lkdGgiOiAiMTAwJSJ9KTsKCiAgICAgICAgCiAgICAgICAgICAgIHZhciBodG1sXzA3MDYzNGNhNWU1ZDQ1NzU5YmUwYjJjZTc3N2M3ZTY1ID0gJChgPGRpdiBpZD0iaHRtbF8wNzA2MzRjYTVlNWQ0NTc1OWJlMGIyY2U3NzdjN2U2NSIgc3R5bGU9IndpZHRoOiAxMDAuMCU7IGhlaWdodDogMTAwLjAlOyI+QnJpb2NoZSBCaXN0cm88L2Rpdj5gKVswXTsKICAgICAgICAgICAgcG9wdXBfZmE1YzMwMzJiNTA5NDBkMzkwMGMyYjlhMmYyYTVhMTkuc2V0Q29udGVudChodG1sXzA3MDYzNGNhNWU1ZDQ1NzU5YmUwYjJjZTc3N2M3ZTY1KTsKICAgICAgICAKCiAgICAgICAgY2lyY2xlX21hcmtlcl80ZDFjZGUyYzM3ZGE0MDJlODQ2ZjkwNGMxODUzOGRkYy5iaW5kUG9wdXAocG9wdXBfZmE1YzMwMzJiNTA5NDBkMzkwMGMyYjlhMmYyYTVhMTkpCiAgICAgICAgOwoKICAgICAgICAKICAgIAogICAgCiAgICAgICAgICAgIHZhciBjaXJjbGVfbWFya2VyXzM2Yjc5MDNlMjA5MjRiM2JhNTU3ZGUyYjUwYzdlZmY1ID0gTC5jaXJjbGVNYXJrZXIoCiAgICAgICAgICAgICAgICBbNTMuOTA4NDk5ODkxMjA4MjUsIDI3LjU0ODIzODMwMTg1Mzg5M10sCiAgICAgICAgICAgICAgICB7ImJ1YmJsaW5nTW91c2VFdmVudHMiOiB0cnVlLCAiY29sb3IiOiAiYmx1ZSIsICJkYXNoQXJyYXkiOiBudWxsLCAiZGFzaE9mZnNldCI6IG51bGwsICJmaWxsIjogdHJ1ZSwgImZpbGxDb2xvciI6ICIjMzE4NmNjIiwgImZpbGxPcGFjaXR5IjogMC43LCAiZmlsbFJ1bGUiOiAiZXZlbm9kZCIsICJsaW5lQ2FwIjogInJvdW5kIiwgImxpbmVKb2luIjogInJvdW5kIiwgIm9wYWNpdHkiOiAxLjAsICJyYWRpdXMiOiA1LCAic3Ryb2tlIjogdHJ1ZSwgIndlaWdodCI6IDN9CiAgICAgICAgICAgICkuYWRkVG8obWFwXzBlODFhZmZlMDRlMjRjZGJhYjJjNDc4NjFlNGVlM2NjKTsKICAgICAgICAKICAgIAogICAgICAgIHZhciBwb3B1cF80MzhmYTc1ODFiZDk0ZWMzODRlNjVkMzVhYTYzMjNiNyA9IEwucG9wdXAoeyJtYXhXaWR0aCI6ICIxMDAlIn0pOwoKICAgICAgICAKICAgICAgICAgICAgdmFyIGh0bWxfZDc4YWVmY2E4Zjg4NGMwN2IxNTRhNGEyYWE4Y2E4ODcgPSAkKGA8ZGl2IGlkPSJodG1sX2Q3OGFlZmNhOGY4ODRjMDdiMTU0YTRhMmFhOGNhODg3IiBzdHlsZT0id2lkdGg6IDEwMC4wJTsgaGVpZ2h0OiAxMDAuMCU7Ij5DaW5uYWJvbjwvZGl2PmApWzBdOwogICAgICAgICAgICBwb3B1cF80MzhmYTc1ODFiZDk0ZWMzODRlNjVkMzVhYTYzMjNiNy5zZXRDb250ZW50KGh0bWxfZDc4YWVmY2E4Zjg4NGMwN2IxNTRhNGEyYWE4Y2E4ODcpOwogICAgICAgIAoKICAgICAgICBjaXJjbGVfbWFya2VyXzM2Yjc5MDNlMjA5MjRiM2JhNTU3ZGUyYjUwYzdlZmY1LmJpbmRQb3B1cChwb3B1cF80MzhmYTc1ODFiZDk0ZWMzODRlNjVkMzVhYTYzMjNiNykKICAgICAgICA7CgogICAgICAgIAogICAgCiAgICAKICAgICAgICAgICAgdmFyIGNpcmNsZV9tYXJrZXJfMDg1NjkwYTQ4NWRiNGU0ZjllZTU3MmRiNzk1NDY5ZTAgPSBMLmNpcmNsZU1hcmtlcigKICAgICAgICAgICAgICAgIFs1My45MTk1OTgsIDI3LjU3ODA1OF0sCiAgICAgICAgICAgICAgICB7ImJ1YmJsaW5nTW91c2VFdmVudHMiOiB0cnVlLCAiY29sb3IiOiAiYmx1ZSIsICJkYXNoQXJyYXkiOiBudWxsLCAiZGFzaE9mZnNldCI6IG51bGwsICJmaWxsIjogdHJ1ZSwgImZpbGxDb2xvciI6ICIjMzE4NmNjIiwgImZpbGxPcGFjaXR5IjogMC43LCAiZmlsbFJ1bGUiOiAiZXZlbm9kZCIsICJsaW5lQ2FwIjogInJvdW5kIiwgImxpbmVKb2luIjogInJvdW5kIiwgIm9wYWNpdHkiOiAxLjAsICJyYWRpdXMiOiA1LCAic3Ryb2tlIjogdHJ1ZSwgIndlaWdodCI6IDN9CiAgICAgICAgICAgICkuYWRkVG8obWFwXzBlODFhZmZlMDRlMjRjZGJhYjJjNDc4NjFlNGVlM2NjKTsKICAgICAgICAKICAgIAogICAgICAgIHZhciBwb3B1cF8zMDc5NjYwZDJkM2I0NDU3YjQwYWE3NTczMDk3OWQxYSA9IEwucG9wdXAoeyJtYXhXaWR0aCI6ICIxMDAlIn0pOwoKICAgICAgICAKICAgICAgICAgICAgdmFyIGh0bWxfMjc2MWE1MjkxMjMxNDhiZjk1NmQ0MjIwOWQ4N2JiMmUgPSAkKGA8ZGl2IGlkPSJodG1sXzI3NjFhNTI5MTIzMTQ4YmY5NTZkNDIyMDlkODdiYjJlIiBzdHlsZT0id2lkdGg6IDEwMC4wJTsgaGVpZ2h0OiAxMDAuMCU7Ij5UYW5keXItcGVrYXJuamEgwqtLaW56YcK7PC9kaXY+YClbMF07CiAgICAgICAgICAgIHBvcHVwXzMwNzk2NjBkMmQzYjQ0NTdiNDBhYTc1NzMwOTc5ZDFhLnNldENvbnRlbnQoaHRtbF8yNzYxYTUyOTEyMzE0OGJmOTU2ZDQyMjA5ZDg3YmIyZSk7CiAgICAgICAgCgogICAgICAgIGNpcmNsZV9tYXJrZXJfMDg1NjkwYTQ4NWRiNGU0ZjllZTU3MmRiNzk1NDY5ZTAuYmluZFBvcHVwKHBvcHVwXzMwNzk2NjBkMmQzYjQ0NTdiNDBhYTc1NzMwOTc5ZDFhKQogICAgICAgIDsKCiAgICAgICAgCiAgICAKICAgIAogICAgICAgICAgICB2YXIgY2lyY2xlX21hcmtlcl9jM2VkNGQwODZiZGM0MzMzYWM2NWNiMjNkMTk1NjZjNSA9IEwuY2lyY2xlTWFya2VyKAogICAgICAgICAgICAgICAgWzUzLjkwODU4LCAyNy41MTg4NzddLAogICAgICAgICAgICAgICAgeyJidWJibGluZ01vdXNlRXZlbnRzIjogdHJ1ZSwgImNvbG9yIjogImJsdWUiLCAiZGFzaEFycmF5IjogbnVsbCwgImRhc2hPZmZzZXQiOiBudWxsLCAiZmlsbCI6IHRydWUsICJmaWxsQ29sb3IiOiAiIzMxODZjYyIsICJmaWxsT3BhY2l0eSI6IDAuNywgImZpbGxSdWxlIjogImV2ZW5vZGQiLCAibGluZUNhcCI6ICJyb3VuZCIsICJsaW5lSm9pbiI6ICJyb3VuZCIsICJvcGFjaXR5IjogMS4wLCAicmFkaXVzIjogNSwgInN0cm9rZSI6IHRydWUsICJ3ZWlnaHQiOiAzfQogICAgICAgICAgICApLmFkZFRvKG1hcF8wZTgxYWZmZTA0ZTI0Y2RiYWIyYzQ3ODYxZTRlZTNjYyk7CiAgICAgICAgCiAgICAKICAgICAgICB2YXIgcG9wdXBfMmU0Nzg2NmVlMmNiNDY4MWFmMjEyZGJlZjIxNDhkNTYgPSBMLnBvcHVwKHsibWF4V2lkdGgiOiAiMTAwJSJ9KTsKCiAgICAgICAgCiAgICAgICAgICAgIHZhciBodG1sX2I2ZDc3ZDAyOTAwYjQ4MmZhZjk5NWEzNzE5MjU4NjE0ID0gJChgPGRpdiBpZD0iaHRtbF9iNmQ3N2QwMjkwMGI0ODJmYWY5OTVhMzcxOTI1ODYxNCIgc3R5bGU9IndpZHRoOiAxMDAuMCU7IGhlaWdodDogMTAwLjAlOyI+UGFuIEtydWFzc2FuPC9kaXY+YClbMF07CiAgICAgICAgICAgIHBvcHVwXzJlNDc4NjZlZTJjYjQ2ODFhZjIxMmRiZWYyMTQ4ZDU2LnNldENvbnRlbnQoaHRtbF9iNmQ3N2QwMjkwMGI0ODJmYWY5OTVhMzcxOTI1ODYxNCk7CiAgICAgICAgCgogICAgICAgIGNpcmNsZV9tYXJrZXJfYzNlZDRkMDg2YmRjNDMzM2FjNjVjYjIzZDE5NTY2YzUuYmluZFBvcHVwKHBvcHVwXzJlNDc4NjZlZTJjYjQ2ODFhZjIxMmRiZWYyMTQ4ZDU2KQogICAgICAgIDsKCiAgICAgICAgCiAgICAKICAgIAogICAgICAgICAgICB2YXIgY2lyY2xlX21hcmtlcl9lNGJlZDNmZWQ0MGE0ZWE5OTE1ODExNmEyMjg4M2M5ZCA9IEwuY2lyY2xlTWFya2VyKAogICAgICAgICAgICAgICAgWzUzLjk2NDI2ODg0OTAwOTAyNCwgMjcuNjIzMzg0NDY1MjE3OTVdLAogICAgICAgICAgICAgICAgeyJidWJibGluZ01vdXNlRXZlbnRzIjogdHJ1ZSwgImNvbG9yIjogImJsdWUiLCAiZGFzaEFycmF5IjogbnVsbCwgImRhc2hPZmZzZXQiOiBudWxsLCAiZmlsbCI6IHRydWUsICJmaWxsQ29sb3IiOiAiIzMxODZjYyIsICJmaWxsT3BhY2l0eSI6IDAuNywgImZpbGxSdWxlIjogImV2ZW5vZGQiLCAibGluZUNhcCI6ICJyb3VuZCIsICJsaW5lSm9pbiI6ICJyb3VuZCIsICJvcGFjaXR5IjogMS4wLCAicmFkaXVzIjogNSwgInN0cm9rZSI6IHRydWUsICJ3ZWlnaHQiOiAzfQogICAgICAgICAgICApLmFkZFRvKG1hcF8wZTgxYWZmZTA0ZTI0Y2RiYWIyYzQ3ODYxZTRlZTNjYyk7CiAgICAgICAgCiAgICAKICAgICAgICB2YXIgcG9wdXBfNzY0MzkwZDkwN2U1NGRhMDgyMDMyNWQ1YzAxMTQyOTcgPSBMLnBvcHVwKHsibWF4V2lkdGgiOiAiMTAwJSJ9KTsKCiAgICAgICAgCiAgICAgICAgICAgIHZhciBodG1sX2I5YjJmNmVlODZmNzQwMjg5MTExZTRmNTZlMWZmMGQ3ID0gJChgPGRpdiBpZD0iaHRtbF9iOWIyZjZlZTg2Zjc0MDI4OTExMWU0ZjU2ZTFmZjBkNyIgc3R5bGU9IndpZHRoOiAxMDAuMCU7IGhlaWdodDogMTAwLjAlOyI+VCYjMzk7ZXJyaTwvZGl2PmApWzBdOwogICAgICAgICAgICBwb3B1cF83NjQzOTBkOTA3ZTU0ZGEwODIwMzI1ZDVjMDExNDI5Ny5zZXRDb250ZW50KGh0bWxfYjliMmY2ZWU4NmY3NDAyODkxMTFlNGY1NmUxZmYwZDcpOwogICAgICAgIAoKICAgICAgICBjaXJjbGVfbWFya2VyX2U0YmVkM2ZlZDQwYTRlYTk5MTU4MTE2YTIyODgzYzlkLmJpbmRQb3B1cChwb3B1cF83NjQzOTBkOTA3ZTU0ZGEwODIwMzI1ZDVjMDExNDI5NykKICAgICAgICA7CgogICAgICAgIAogICAgCiAgICAKICAgICAgICAgICAgdmFyIGNpcmNsZV9tYXJrZXJfM2YwNjhiOGJiY2NjNDJhZWIyNGE5YmM0MTM4MThkZWYgPSBMLmNpcmNsZU1hcmtlcigKICAgICAgICAgICAgICAgIFs1My45MTk2MTcsIDI3LjU3OTY0N10sCiAgICAgICAgICAgICAgICB7ImJ1YmJsaW5nTW91c2VFdmVudHMiOiB0cnVlLCAiY29sb3IiOiAiYmx1ZSIsICJkYXNoQXJyYXkiOiBudWxsLCAiZGFzaE9mZnNldCI6IG51bGwsICJmaWxsIjogdHJ1ZSwgImZpbGxDb2xvciI6ICIjMzE4NmNjIiwgImZpbGxPcGFjaXR5IjogMC43LCAiZmlsbFJ1bGUiOiAiZXZlbm9kZCIsICJsaW5lQ2FwIjogInJvdW5kIiwgImxpbmVKb2luIjogInJvdW5kIiwgIm9wYWNpdHkiOiAxLjAsICJyYWRpdXMiOiA1LCAic3Ryb2tlIjogdHJ1ZSwgIndlaWdodCI6IDN9CiAgICAgICAgICAgICkuYWRkVG8obWFwXzBlODFhZmZlMDRlMjRjZGJhYjJjNDc4NjFlNGVlM2NjKTsKICAgICAgICAKICAgIAogICAgICAgIHZhciBwb3B1cF9hNjYxMWYyYTNmM2Y0MGYxOTEzOWI1ZTJiNmMxMzhlMSA9IEwucG9wdXAoeyJtYXhXaWR0aCI6ICIxMDAlIn0pOwoKICAgICAgICAKICAgICAgICAgICAgdmFyIGh0bWxfMTNhZTgyMDEzNTY3NDM4OGE5N2Q0ODZmMDhiNDNkZjUgPSAkKGA8ZGl2IGlkPSJodG1sXzEzYWU4MjAxMzU2NzQzODhhOTdkNDg2ZjA4YjQzZGY1IiBzdHlsZT0id2lkdGg6IDEwMC4wJTsgaGVpZ2h0OiAxMDAuMCU7Ij5UYW5keXJueWogSGxlYjwvZGl2PmApWzBdOwogICAgICAgICAgICBwb3B1cF9hNjYxMWYyYTNmM2Y0MGYxOTEzOWI1ZTJiNmMxMzhlMS5zZXRDb250ZW50KGh0bWxfMTNhZTgyMDEzNTY3NDM4OGE5N2Q0ODZmMDhiNDNkZjUpOwogICAgICAgIAoKICAgICAgICBjaXJjbGVfbWFya2VyXzNmMDY4YjhiYmNjYzQyYWViMjRhOWJjNDEzODE4ZGVmLmJpbmRQb3B1cChwb3B1cF9hNjYxMWYyYTNmM2Y0MGYxOTEzOWI1ZTJiNmMxMzhlMSkKICAgICAgICA7CgogICAgICAgIAogICAgCiAgICAKICAgICAgICAgICAgdmFyIGNpcmNsZV9tYXJrZXJfODM4ODBiMWY3ZTNkNDkwNWFjMTc4MTVhOGQ1ODU0MzUgPSBMLmNpcmNsZU1hcmtlcigKICAgICAgICAgICAgICAgIFs1My45MzM4MDU2NjQ4NjUwNzYsIDI3LjY1MzQxOTYyOTUzOTU2M10sCiAgICAgICAgICAgICAgICB7ImJ1YmJsaW5nTW91c2VFdmVudHMiOiB0cnVlLCAiY29sb3IiOiAiYmx1ZSIsICJkYXNoQXJyYXkiOiBudWxsLCAiZGFzaE9mZnNldCI6IG51bGwsICJmaWxsIjogdHJ1ZSwgImZpbGxDb2xvciI6ICIjMzE4NmNjIiwgImZpbGxPcGFjaXR5IjogMC43LCAiZmlsbFJ1bGUiOiAiZXZlbm9kZCIsICJsaW5lQ2FwIjogInJvdW5kIiwgImxpbmVKb2luIjogInJvdW5kIiwgIm9wYWNpdHkiOiAxLjAsICJyYWRpdXMiOiA1LCAic3Ryb2tlIjogdHJ1ZSwgIndlaWdodCI6IDN9CiAgICAgICAgICAgICkuYWRkVG8obWFwXzBlODFhZmZlMDRlMjRjZGJhYjJjNDc4NjFlNGVlM2NjKTsKICAgICAgICAKICAgIAogICAgICAgIHZhciBwb3B1cF81OTI3Yzk3MmM5ODA0MTFhYTkwZTRiN2EzZDc4YzhhMyA9IEwucG9wdXAoeyJtYXhXaWR0aCI6ICIxMDAlIn0pOwoKICAgICAgICAKICAgICAgICAgICAgdmFyIGh0bWxfYTg0MGE5OGI2ZDZkNDA4ODllMzI1NGQ0NmMwOWZiMWEgPSAkKGA8ZGl2IGlkPSJodG1sX2E4NDBhOThiNmQ2ZDQwODg5ZTMyNTRkNDZjMDlmYjFhIiBzdHlsZT0id2lkdGg6IDEwMC4wJTsgaGVpZ2h0OiAxMDAuMCU7Ij5DaW5uYWJvbjwvZGl2PmApWzBdOwogICAgICAgICAgICBwb3B1cF81OTI3Yzk3MmM5ODA0MTFhYTkwZTRiN2EzZDc4YzhhMy5zZXRDb250ZW50KGh0bWxfYTg0MGE5OGI2ZDZkNDA4ODllMzI1NGQ0NmMwOWZiMWEpOwogICAgICAgIAoKICAgICAgICBjaXJjbGVfbWFya2VyXzgzODgwYjFmN2UzZDQ5MDVhYzE3ODE1YThkNTg1NDM1LmJpbmRQb3B1cChwb3B1cF81OTI3Yzk3MmM5ODA0MTFhYTkwZTRiN2EzZDc4YzhhMykKICAgICAgICA7CgogICAgICAgIAogICAgCiAgICAKICAgICAgICAgICAgdmFyIGNpcmNsZV9tYXJrZXJfMGYyODJmNjEwNGNlNDE2N2I0NDUxMTY4MTA3YWUzMTAgPSBMLmNpcmNsZU1hcmtlcigKICAgICAgICAgICAgICAgIFs1My45MzM4OTk0NTM0Njc2NywgMjcuNjUzMzY4NDM1ODI4ODM1XSwKICAgICAgICAgICAgICAgIHsiYnViYmxpbmdNb3VzZUV2ZW50cyI6IHRydWUsICJjb2xvciI6ICJibHVlIiwgImRhc2hBcnJheSI6IG51bGwsICJkYXNoT2Zmc2V0IjogbnVsbCwgImZpbGwiOiB0cnVlLCAiZmlsbENvbG9yIjogIiMzMTg2Y2MiLCAiZmlsbE9wYWNpdHkiOiAwLjcsICJmaWxsUnVsZSI6ICJldmVub2RkIiwgImxpbmVDYXAiOiAicm91bmQiLCAibGluZUpvaW4iOiAicm91bmQiLCAib3BhY2l0eSI6IDEuMCwgInJhZGl1cyI6IDUsICJzdHJva2UiOiB0cnVlLCAid2VpZ2h0IjogM30KICAgICAgICAgICAgKS5hZGRUbyhtYXBfMGU4MWFmZmUwNGUyNGNkYmFiMmM0Nzg2MWU0ZWUzY2MpOwogICAgICAgIAogICAgCiAgICAgICAgdmFyIHBvcHVwXzMzNDZmYWE2M2UxMTQ0OTFiYjUyOTdkYTI0YWMyMzU1ID0gTC5wb3B1cCh7Im1heFdpZHRoIjogIjEwMCUifSk7CgogICAgICAgIAogICAgICAgICAgICB2YXIgaHRtbF83ODY4ODAyZDAwOWU0ZWI0OTMwMDJmYTQ5OTYzYmFjNCA9ICQoYDxkaXYgaWQ9Imh0bWxfNzg2ODgwMmQwMDllNGViNDkzMDAyZmE0OTk2M2JhYzQiIHN0eWxlPSJ3aWR0aDogMTAwLjAlOyBoZWlnaHQ6IDEwMC4wJTsiPlBhdWw8L2Rpdj5gKVswXTsKICAgICAgICAgICAgcG9wdXBfMzM0NmZhYTYzZTExNDQ5MWJiNTI5N2RhMjRhYzIzNTUuc2V0Q29udGVudChodG1sXzc4Njg4MDJkMDA5ZTRlYjQ5MzAwMmZhNDk5NjNiYWM0KTsKICAgICAgICAKCiAgICAgICAgY2lyY2xlX21hcmtlcl8wZjI4MmY2MTA0Y2U0MTY3YjQ0NTExNjgxMDdhZTMxMC5iaW5kUG9wdXAocG9wdXBfMzM0NmZhYTYzZTExNDQ5MWJiNTI5N2RhMjRhYzIzNTUpCiAgICAgICAgOwoKICAgICAgICAKICAgIAogICAgCiAgICAgICAgICAgIHZhciBjaXJjbGVfbWFya2VyX2MyNDM1NmE2MzY3MTRjMjNhODcyMWVkMTM3NDdkNDYzID0gTC5jaXJjbGVNYXJrZXIoCiAgICAgICAgICAgICAgICBbNTMuOTIxNzM5LCAyNy41ODkwMDVdLAogICAgICAgICAgICAgICAgeyJidWJibGluZ01vdXNlRXZlbnRzIjogdHJ1ZSwgImNvbG9yIjogImJsdWUiLCAiZGFzaEFycmF5IjogbnVsbCwgImRhc2hPZmZzZXQiOiBudWxsLCAiZmlsbCI6IHRydWUsICJmaWxsQ29sb3IiOiAiIzMxODZjYyIsICJmaWxsT3BhY2l0eSI6IDAuNywgImZpbGxSdWxlIjogImV2ZW5vZGQiLCAibGluZUNhcCI6ICJyb3VuZCIsICJsaW5lSm9pbiI6ICJyb3VuZCIsICJvcGFjaXR5IjogMS4wLCAicmFkaXVzIjogNSwgInN0cm9rZSI6IHRydWUsICJ3ZWlnaHQiOiAzfQogICAgICAgICAgICApLmFkZFRvKG1hcF8wZTgxYWZmZTA0ZTI0Y2RiYWIyYzQ3ODYxZTRlZTNjYyk7CiAgICAgICAgCiAgICAKICAgICAgICB2YXIgcG9wdXBfODkzZjcwMDRlNWVmNDEwNTg5YjMzNTYyMjhjZjdhZDQgPSBMLnBvcHVwKHsibWF4V2lkdGgiOiAiMTAwJSJ9KTsKCiAgICAgICAgCiAgICAgICAgICAgIHZhciBodG1sX2MwNDUzNDAxMmQzNDQ0NmViYTRiMzU0ZjhkYWRkMzYwID0gJChgPGRpdiBpZD0iaHRtbF9jMDQ1MzQwMTJkMzQ0NDZlYmE0YjM1NGY4ZGFkZDM2MCIgc3R5bGU9IndpZHRoOiAxMDAuMCU7IGhlaWdodDogMTAwLjAlOyI+QnVsb2NobmFqYSAxPC9kaXY+YClbMF07CiAgICAgICAgICAgIHBvcHVwXzg5M2Y3MDA0ZTVlZjQxMDU4OWIzMzU2MjI4Y2Y3YWQ0LnNldENvbnRlbnQoaHRtbF9jMDQ1MzQwMTJkMzQ0NDZlYmE0YjM1NGY4ZGFkZDM2MCk7CiAgICAgICAgCgogICAgICAgIGNpcmNsZV9tYXJrZXJfYzI0MzU2YTYzNjcxNGMyM2E4NzIxZWQxMzc0N2Q0NjMuYmluZFBvcHVwKHBvcHVwXzg5M2Y3MDA0ZTVlZjQxMDU4OWIzMzU2MjI4Y2Y3YWQ0KQogICAgICAgIDsKCiAgICAgICAgCiAgICAKICAgIAogICAgICAgICAgICB2YXIgY2lyY2xlX21hcmtlcl82OWRkYjliMDE3OWU0NzNjYmVlMTFiNjczY2Q4NzE2NCA9IEwuY2lyY2xlTWFya2VyKAogICAgICAgICAgICAgICAgWzUzLjkwODQ5MTQ2NjY5MjIyNiwgMjcuNDMyNDI5NDEyODI4MjhdLAogICAgICAgICAgICAgICAgeyJidWJibGluZ01vdXNlRXZlbnRzIjogdHJ1ZSwgImNvbG9yIjogImJsdWUiLCAiZGFzaEFycmF5IjogbnVsbCwgImRhc2hPZmZzZXQiOiBudWxsLCAiZmlsbCI6IHRydWUsICJmaWxsQ29sb3IiOiAiIzMxODZjYyIsICJmaWxsT3BhY2l0eSI6IDAuNywgImZpbGxSdWxlIjogImV2ZW5vZGQiLCAibGluZUNhcCI6ICJyb3VuZCIsICJsaW5lSm9pbiI6ICJyb3VuZCIsICJvcGFjaXR5IjogMS4wLCAicmFkaXVzIjogNSwgInN0cm9rZSI6IHRydWUsICJ3ZWlnaHQiOiAzfQogICAgICAgICAgICApLmFkZFRvKG1hcF8wZTgxYWZmZTA0ZTI0Y2RiYWIyYzQ3ODYxZTRlZTNjYyk7CiAgICAgICAgCiAgICAKICAgICAgICB2YXIgcG9wdXBfM2Y3MjcxNDNlMzVhNDRiZGFmZDViZmIyMWRmYmNkMzMgPSBMLnBvcHVwKHsibWF4V2lkdGgiOiAiMTAwJSJ9KTsKCiAgICAgICAgCiAgICAgICAgICAgIHZhciBodG1sXzk1MDhhOWFmNjY4NTQ4MjQ5MjFiYzUyOTNkNDU5NzFmID0gJChgPGRpdiBpZD0iaHRtbF85NTA4YTlhZjY2ODU0ODI0OTIxYmM1MjkzZDQ1OTcxZiIgc3R5bGU9IndpZHRoOiAxMDAuMCU7IGhlaWdodDogMTAwLjAlOyI+VCYjMzk7ZXJyaTwvZGl2PmApWzBdOwogICAgICAgICAgICBwb3B1cF8zZjcyNzE0M2UzNWE0NGJkYWZkNWJmYjIxZGZiY2QzMy5zZXRDb250ZW50KGh0bWxfOTUwOGE5YWY2Njg1NDgyNDkyMWJjNTI5M2Q0NTk3MWYpOwogICAgICAgIAoKICAgICAgICBjaXJjbGVfbWFya2VyXzY5ZGRiOWIwMTc5ZTQ3M2NiZWUxMWI2NzNjZDg3MTY0LmJpbmRQb3B1cChwb3B1cF8zZjcyNzE0M2UzNWE0NGJkYWZkNWJmYjIxZGZiY2QzMykKICAgICAgICA7CgogICAgICAgIAogICAgCiAgICAKICAgICAgICAgICAgdmFyIGNpcmNsZV9tYXJrZXJfMGRmMGFlMmZlMWVmNDhjMGJkODZmNWMyMDAwMzU2NTQgPSBMLmNpcmNsZU1hcmtlcigKICAgICAgICAgICAgICAgIFs1My45MjAyNjUsIDI3LjU4MDQ1Ml0sCiAgICAgICAgICAgICAgICB7ImJ1YmJsaW5nTW91c2VFdmVudHMiOiB0cnVlLCAiY29sb3IiOiAiYmx1ZSIsICJkYXNoQXJyYXkiOiBudWxsLCAiZGFzaE9mZnNldCI6IG51bGwsICJmaWxsIjogdHJ1ZSwgImZpbGxDb2xvciI6ICIjMzE4NmNjIiwgImZpbGxPcGFjaXR5IjogMC43LCAiZmlsbFJ1bGUiOiAiZXZlbm9kZCIsICJsaW5lQ2FwIjogInJvdW5kIiwgImxpbmVKb2luIjogInJvdW5kIiwgIm9wYWNpdHkiOiAxLjAsICJyYWRpdXMiOiA1LCAic3Ryb2tlIjogdHJ1ZSwgIndlaWdodCI6IDN9CiAgICAgICAgICAgICkuYWRkVG8obWFwXzBlODFhZmZlMDRlMjRjZGJhYjJjNDc4NjFlNGVlM2NjKTsKICAgICAgICAKICAgIAogICAgICAgIHZhciBwb3B1cF9lMTE1Zjg0YjZkYWE0ZjVmOWE2ZTAzOWFiZjFiNTg5OCA9IEwucG9wdXAoeyJtYXhXaWR0aCI6ICIxMDAlIn0pOwoKICAgICAgICAKICAgICAgICAgICAgdmFyIGh0bWxfOWE4ODI5MmU4OTQ0NDQyNzhhNzliNzhlN2E3ZDUwZjUgPSAkKGA8ZGl2IGlkPSJodG1sXzlhODgyOTJlODk0NDQ0Mjc4YTc5Yjc4ZTdhN2Q1MGY1IiBzdHlsZT0id2lkdGg6IDEwMC4wJTsgaGVpZ2h0OiAxMDAuMCU7Ij5CdXJjaGFrPC9kaXY+YClbMF07CiAgICAgICAgICAgIHBvcHVwX2UxMTVmODRiNmRhYTRmNWY5YTZlMDM5YWJmMWI1ODk4LnNldENvbnRlbnQoaHRtbF85YTg4MjkyZTg5NDQ0NDI3OGE3OWI3OGU3YTdkNTBmNSk7CiAgICAgICAgCgogICAgICAgIGNpcmNsZV9tYXJrZXJfMGRmMGFlMmZlMWVmNDhjMGJkODZmNWMyMDAwMzU2NTQuYmluZFBvcHVwKHBvcHVwX2UxMTVmODRiNmRhYTRmNWY5YTZlMDM5YWJmMWI1ODk4KQogICAgICAgIDsKCiAgICAgICAgCiAgICAKICAgIAogICAgICAgICAgICB2YXIgY2lyY2xlX21hcmtlcl84OWIyMmI2MzZlMjM0NGNlYjA2ZjUyZjRlNTg2NjhkOCA9IEwuY2lyY2xlTWFya2VyKAogICAgICAgICAgICAgICAgWzUzLjkzMzAyNSwgMjcuNjUwOTZdLAogICAgICAgICAgICAgICAgeyJidWJibGluZ01vdXNlRXZlbnRzIjogdHJ1ZSwgImNvbG9yIjogImJsdWUiLCAiZGFzaEFycmF5IjogbnVsbCwgImRhc2hPZmZzZXQiOiBudWxsLCAiZmlsbCI6IHRydWUsICJmaWxsQ29sb3IiOiAiIzMxODZjYyIsICJmaWxsT3BhY2l0eSI6IDAuNywgImZpbGxSdWxlIjogImV2ZW5vZGQiLCAibGluZUNhcCI6ICJyb3VuZCIsICJsaW5lSm9pbiI6ICJyb3VuZCIsICJvcGFjaXR5IjogMS4wLCAicmFkaXVzIjogNSwgInN0cm9rZSI6IHRydWUsICJ3ZWlnaHQiOiAzfQogICAgICAgICAgICApLmFkZFRvKG1hcF8wZTgxYWZmZTA0ZTI0Y2RiYWIyYzQ3ODYxZTRlZTNjYyk7CiAgICAgICAgCiAgICAKICAgICAgICB2YXIgcG9wdXBfZTA3YmE5YjQ5ZTg5NDUyZjkxZTE2NGVjZGQ1NDg2ZjAgPSBMLnBvcHVwKHsibWF4V2lkdGgiOiAiMTAwJSJ9KTsKCiAgICAgICAgCiAgICAgICAgICAgIHZhciBodG1sX2FlYzM2ZmFhMGRhMTQ2NTNhMDNkNDg1M2NlZmMzMDc5ID0gJChgPGRpdiBpZD0iaHRtbF9hZWMzNmZhYTBkYTE0NjUzYTAzZDQ4NTNjZWZjMzA3OSIgc3R5bGU9IndpZHRoOiAxMDAuMCU7IGhlaWdodDogMTAwLjAlOyI+S3Vzb2NoZWsgU2NoYXN0JiMzOTtqYTwvZGl2PmApWzBdOwogICAgICAgICAgICBwb3B1cF9lMDdiYTliNDllODk0NTJmOTFlMTY0ZWNkZDU0ODZmMC5zZXRDb250ZW50KGh0bWxfYWVjMzZmYWEwZGExNDY1M2EwM2Q0ODUzY2VmYzMwNzkpOwogICAgICAgIAoKICAgICAgICBjaXJjbGVfbWFya2VyXzg5YjIyYjYzNmUyMzQ0Y2ViMDZmNTJmNGU1ODY2OGQ4LmJpbmRQb3B1cChwb3B1cF9lMDdiYTliNDllODk0NTJmOTFlMTY0ZWNkZDU0ODZmMCkKICAgICAgICA7CgogICAgICAgIAogICAgCiAgICAKICAgICAgICAgICAgdmFyIGNpcmNsZV9tYXJrZXJfYjcwMDI1OTgyYTNmNDlhNDkxYzRlNGZiYzE0MmM1NTQgPSBMLmNpcmNsZU1hcmtlcigKICAgICAgICAgICAgICAgIFs1My45MTIxNDg5Mjk4ODExNiwgMjcuNTY0MTk3MjA3MDUxMjA1XSwKICAgICAgICAgICAgICAgIHsiYnViYmxpbmdNb3VzZUV2ZW50cyI6IHRydWUsICJjb2xvciI6ICJibHVlIiwgImRhc2hBcnJheSI6IG51bGwsICJkYXNoT2Zmc2V0IjogbnVsbCwgImZpbGwiOiB0cnVlLCAiZmlsbENvbG9yIjogIiMzMTg2Y2MiLCAiZmlsbE9wYWNpdHkiOiAwLjcsICJmaWxsUnVsZSI6ICJldmVub2RkIiwgImxpbmVDYXAiOiAicm91bmQiLCAibGluZUpvaW4iOiAicm91bmQiLCAib3BhY2l0eSI6IDEuMCwgInJhZGl1cyI6IDUsICJzdHJva2UiOiB0cnVlLCAid2VpZ2h0IjogM30KICAgICAgICAgICAgKS5hZGRUbyhtYXBfMGU4MWFmZmUwNGUyNGNkYmFiMmM0Nzg2MWU0ZWUzY2MpOwogICAgICAgIAogICAgCiAgICAgICAgdmFyIHBvcHVwX2ZkMzU0ZDU1NGI1NzQ0M2U4ZGRiMDU3NDExODM0ZTk4ID0gTC5wb3B1cCh7Im1heFdpZHRoIjogIjEwMCUifSk7CgogICAgICAgIAogICAgICAgICAgICB2YXIgaHRtbF9lYzRkMzNmMmY2N2E0MTQxOWI2Y2EyYWNjYzFkMzZlYSA9ICQoYDxkaXYgaWQ9Imh0bWxfZWM0ZDMzZjJmNjdhNDE0MTliNmNhMmFjY2MxZDM2ZWEiIHN0eWxlPSJ3aWR0aDogMTAwLjAlOyBoZWlnaHQ6IDEwMC4wJTsiPlQmIzM5O2Vycmk8L2Rpdj5gKVswXTsKICAgICAgICAgICAgcG9wdXBfZmQzNTRkNTU0YjU3NDQzZThkZGIwNTc0MTE4MzRlOTguc2V0Q29udGVudChodG1sX2VjNGQzM2YyZjY3YTQxNDE5YjZjYTJhY2NjMWQzNmVhKTsKICAgICAgICAKCiAgICAgICAgY2lyY2xlX21hcmtlcl9iNzAwMjU5ODJhM2Y0OWE0OTFjNGU0ZmJjMTQyYzU1NC5iaW5kUG9wdXAocG9wdXBfZmQzNTRkNTU0YjU3NDQzZThkZGIwNTc0MTE4MzRlOTgpCiAgICAgICAgOwoKICAgICAgICAKICAgIAogICAgCiAgICAgICAgICAgIHZhciBjaXJjbGVfbWFya2VyXzUxNjFmY2JkNjQyNzRhNWViODMwOTgyOWViOWJjYmZkID0gTC5jaXJjbGVNYXJrZXIoCiAgICAgICAgICAgICAgICBbNTMuOTE5MzIsIDI3LjU4MDI4XSwKICAgICAgICAgICAgICAgIHsiYnViYmxpbmdNb3VzZUV2ZW50cyI6IHRydWUsICJjb2xvciI6ICJibHVlIiwgImRhc2hBcnJheSI6IG51bGwsICJkYXNoT2Zmc2V0IjogbnVsbCwgImZpbGwiOiB0cnVlLCAiZmlsbENvbG9yIjogIiMzMTg2Y2MiLCAiZmlsbE9wYWNpdHkiOiAwLjcsICJmaWxsUnVsZSI6ICJldmVub2RkIiwgImxpbmVDYXAiOiAicm91bmQiLCAibGluZUpvaW4iOiAicm91bmQiLCAib3BhY2l0eSI6IDEuMCwgInJhZGl1cyI6IDUsICJzdHJva2UiOiB0cnVlLCAid2VpZ2h0IjogM30KICAgICAgICAgICAgKS5hZGRUbyhtYXBfMGU4MWFmZmUwNGUyNGNkYmFiMmM0Nzg2MWU0ZWUzY2MpOwogICAgICAgIAogICAgCiAgICAgICAgdmFyIHBvcHVwXzVmZGEyNWM4YWE0NTRmY2RhZDc5NjdiNDlkOTI5ZjlhID0gTC5wb3B1cCh7Im1heFdpZHRoIjogIjEwMCUifSk7CgogICAgICAgIAogICAgICAgICAgICB2YXIgaHRtbF8zMmNlNzBmMzgyZTc0NWE1OTA3NDQ4ODEyN2RkZTFmOSA9ICQoYDxkaXYgaWQ9Imh0bWxfMzJjZTcwZjM4MmU3NDVhNTkwNzQ0ODgxMjdkZGUxZjkiIHN0eWxlPSJ3aWR0aDogMTAwLjAlOyBoZWlnaHQ6IDEwMC4wJTsiPlRyZGVsJiMzOTtuaWs8L2Rpdj5gKVswXTsKICAgICAgICAgICAgcG9wdXBfNWZkYTI1YzhhYTQ1NGZjZGFkNzk2N2I0OWQ5MjlmOWEuc2V0Q29udGVudChodG1sXzMyY2U3MGYzODJlNzQ1YTU5MDc0NDg4MTI3ZGRlMWY5KTsKICAgICAgICAKCiAgICAgICAgY2lyY2xlX21hcmtlcl81MTYxZmNiZDY0Mjc0YTVlYjgzMDk4MjllYjliY2JmZC5iaW5kUG9wdXAocG9wdXBfNWZkYTI1YzhhYTQ1NGZjZGFkNzk2N2I0OWQ5MjlmOWEpCiAgICAgICAgOwoKICAgICAgICAKICAgIAogICAgCiAgICAgICAgICAgIHZhciBjaXJjbGVfbWFya2VyXzZhZTA0OWY4NmM5YTQ5MTE4ODVlZjQ2MGFmNmMwOTlhID0gTC5jaXJjbGVNYXJrZXIoCiAgICAgICAgICAgICAgICBbNTMuOTE5ODA0LCAyNy41NzY4MzZdLAogICAgICAgICAgICAgICAgeyJidWJibGluZ01vdXNlRXZlbnRzIjogdHJ1ZSwgImNvbG9yIjogImJsdWUiLCAiZGFzaEFycmF5IjogbnVsbCwgImRhc2hPZmZzZXQiOiBudWxsLCAiZmlsbCI6IHRydWUsICJmaWxsQ29sb3IiOiAiIzMxODZjYyIsICJmaWxsT3BhY2l0eSI6IDAuNywgImZpbGxSdWxlIjogImV2ZW5vZGQiLCAibGluZUNhcCI6ICJyb3VuZCIsICJsaW5lSm9pbiI6ICJyb3VuZCIsICJvcGFjaXR5IjogMS4wLCAicmFkaXVzIjogNSwgInN0cm9rZSI6IHRydWUsICJ3ZWlnaHQiOiAzfQogICAgICAgICAgICApLmFkZFRvKG1hcF8wZTgxYWZmZTA0ZTI0Y2RiYWIyYzQ3ODYxZTRlZTNjYyk7CiAgICAgICAgCiAgICAKICAgICAgICB2YXIgcG9wdXBfOGRhM2Q4MjlkY2U5NDEwY2IwNWZlZGEwNjJiZjFiYTcgPSBMLnBvcHVwKHsibWF4V2lkdGgiOiAiMTAwJSJ9KTsKCiAgICAgICAgCiAgICAgICAgICAgIHZhciBodG1sXzcwMTQ1NTBkNGRmNjRlY2E4ZDBmMGQwODg5Y2E2ZThiID0gJChgPGRpdiBpZD0iaHRtbF83MDE0NTUwZDRkZjY0ZWNhOGQwZjBkMDg4OWNhNmU4YiIgc3R5bGU9IndpZHRoOiAxMDAuMCU7IGhlaWdodDogMTAwLjAlOyI+R3J1emluc2tpaiBVZ29sb2s8L2Rpdj5gKVswXTsKICAgICAgICAgICAgcG9wdXBfOGRhM2Q4MjlkY2U5NDEwY2IwNWZlZGEwNjJiZjFiYTcuc2V0Q29udGVudChodG1sXzcwMTQ1NTBkNGRmNjRlY2E4ZDBmMGQwODg5Y2E2ZThiKTsKICAgICAgICAKCiAgICAgICAgY2lyY2xlX21hcmtlcl82YWUwNDlmODZjOWE0OTExODg1ZWY0NjBhZjZjMDk5YS5iaW5kUG9wdXAocG9wdXBfOGRhM2Q4MjlkY2U5NDEwY2IwNWZlZGEwNjJiZjFiYTcpCiAgICAgICAgOwoKICAgICAgICAKICAgIAogICAgCiAgICAgICAgICAgIHZhciBjaXJjbGVfbWFya2VyX2E0ODFmMTgxMjkyYzQxODJiZGRmNzIxYTY1NDViZGU5ID0gTC5jaXJjbGVNYXJrZXIoCiAgICAgICAgICAgICAgICBbNTMuOTM3MTk0LCAyNy41OTQ0MjRdLAogICAgICAgICAgICAgICAgeyJidWJibGluZ01vdXNlRXZlbnRzIjogdHJ1ZSwgImNvbG9yIjogImJsdWUiLCAiZGFzaEFycmF5IjogbnVsbCwgImRhc2hPZmZzZXQiOiBudWxsLCAiZmlsbCI6IHRydWUsICJmaWxsQ29sb3IiOiAiIzMxODZjYyIsICJmaWxsT3BhY2l0eSI6IDAuNywgImZpbGxSdWxlIjogImV2ZW5vZGQiLCAibGluZUNhcCI6ICJyb3VuZCIsICJsaW5lSm9pbiI6ICJyb3VuZCIsICJvcGFjaXR5IjogMS4wLCAicmFkaXVzIjogNSwgInN0cm9rZSI6IHRydWUsICJ3ZWlnaHQiOiAzfQogICAgICAgICAgICApLmFkZFRvKG1hcF8wZTgxYWZmZTA0ZTI0Y2RiYWIyYzQ3ODYxZTRlZTNjYyk7CiAgICAgICAgCiAgICAKICAgICAgICB2YXIgcG9wdXBfMzZhYjc0ZmMxYWI5NDlkZGE5NjQ5MjcyOWI3MTdkMmQgPSBMLnBvcHVwKHsibWF4V2lkdGgiOiAiMTAwJSJ9KTsKCiAgICAgICAgCiAgICAgICAgICAgIHZhciBodG1sXzYyN2RkZjc3ZWMzNDQ0MzhhMDk1ZjA4MTQwMDkwZTIwID0gJChgPGRpdiBpZD0iaHRtbF82MjdkZGY3N2VjMzQ0NDM4YTA5NWYwODE0MDA5MGUyMCIgc3R5bGU9IndpZHRoOiAxMDAuMCU7IGhlaWdodDogMTAwLjAlOyI+TGEgQmFndWV0dGU8L2Rpdj5gKVswXTsKICAgICAgICAgICAgcG9wdXBfMzZhYjc0ZmMxYWI5NDlkZGE5NjQ5MjcyOWI3MTdkMmQuc2V0Q29udGVudChodG1sXzYyN2RkZjc3ZWMzNDQ0MzhhMDk1ZjA4MTQwMDkwZTIwKTsKICAgICAgICAKCiAgICAgICAgY2lyY2xlX21hcmtlcl9hNDgxZjE4MTI5MmM0MTgyYmRkZjcyMWE2NTQ1YmRlOS5iaW5kUG9wdXAocG9wdXBfMzZhYjc0ZmMxYWI5NDlkZGE5NjQ5MjcyOWI3MTdkMmQpCiAgICAgICAgOwoKICAgICAgICAKICAgIAogICAgCiAgICAgICAgICAgIHZhciBjaXJjbGVfbWFya2VyXzkyZTVlYzY4ODdiYjQ1NTNiNGI3NDE1ZTZhZWVjYjdmID0gTC5jaXJjbGVNYXJrZXIoCiAgICAgICAgICAgICAgICBbNTMuOTA4MzM2LCAyNy40MzA2ODNdLAogICAgICAgICAgICAgICAgeyJidWJibGluZ01vdXNlRXZlbnRzIjogdHJ1ZSwgImNvbG9yIjogImJsdWUiLCAiZGFzaEFycmF5IjogbnVsbCwgImRhc2hPZmZzZXQiOiBudWxsLCAiZmlsbCI6IHRydWUsICJmaWxsQ29sb3IiOiAiIzMxODZjYyIsICJmaWxsT3BhY2l0eSI6IDAuNywgImZpbGxSdWxlIjogImV2ZW5vZGQiLCAibGluZUNhcCI6ICJyb3VuZCIsICJsaW5lSm9pbiI6ICJyb3VuZCIsICJvcGFjaXR5IjogMS4wLCAicmFkaXVzIjogNSwgInN0cm9rZSI6IHRydWUsICJ3ZWlnaHQiOiAzfQogICAgICAgICAgICApLmFkZFRvKG1hcF8wZTgxYWZmZTA0ZTI0Y2RiYWIyYzQ3ODYxZTRlZTNjYyk7CiAgICAgICAgCiAgICAKICAgICAgICB2YXIgcG9wdXBfYjRhZThmNmJiYTg0NGRiZGE5NTEzMmY1NjkyZWQwMTUgPSBMLnBvcHVwKHsibWF4V2lkdGgiOiAiMTAwJSJ9KTsKCiAgICAgICAgCiAgICAgICAgICAgIHZhciBodG1sX2Y0MDQ3MzQzNWFjMDQ3MjJhYWUwOWIwZmUzOWM5ZTAyID0gJChgPGRpdiBpZD0iaHRtbF9mNDA0NzM0MzVhYzA0NzIyYWFlMDliMGZlMzljOWUwMiIgc3R5bGU9IndpZHRoOiAxMDAuMCU7IGhlaWdodDogMTAwLjAlOyI+Q2lubmFib248L2Rpdj5gKVswXTsKICAgICAgICAgICAgcG9wdXBfYjRhZThmNmJiYTg0NGRiZGE5NTEzMmY1NjkyZWQwMTUuc2V0Q29udGVudChodG1sX2Y0MDQ3MzQzNWFjMDQ3MjJhYWUwOWIwZmUzOWM5ZTAyKTsKICAgICAgICAKCiAgICAgICAgY2lyY2xlX21hcmtlcl85MmU1ZWM2ODg3YmI0NTUzYjRiNzQxNWU2YWVlY2I3Zi5iaW5kUG9wdXAocG9wdXBfYjRhZThmNmJiYTg0NGRiZGE5NTEzMmY1NjkyZWQwMTUpCiAgICAgICAgOwoKICAgICAgICAKICAgIAogICAgCiAgICAgICAgICAgIHZhciBjaXJjbGVfbWFya2VyXzBkYTRiYzNiYjU3NDQ2NTc5MTZmNGQ4NThmOWRhNTQ3ID0gTC5jaXJjbGVNYXJrZXIoCiAgICAgICAgICAgICAgICBbNTMuOTA4NTQyLCAyNy41NDg0MTZdLAogICAgICAgICAgICAgICAgeyJidWJibGluZ01vdXNlRXZlbnRzIjogdHJ1ZSwgImNvbG9yIjogImJsdWUiLCAiZGFzaEFycmF5IjogbnVsbCwgImRhc2hPZmZzZXQiOiBudWxsLCAiZmlsbCI6IHRydWUsICJmaWxsQ29sb3IiOiAiIzMxODZjYyIsICJmaWxsT3BhY2l0eSI6IDAuNywgImZpbGxSdWxlIjogImV2ZW5vZGQiLCAibGluZUNhcCI6ICJyb3VuZCIsICJsaW5lSm9pbiI6ICJyb3VuZCIsICJvcGFjaXR5IjogMS4wLCAicmFkaXVzIjogNSwgInN0cm9rZSI6IHRydWUsICJ3ZWlnaHQiOiAzfQogICAgICAgICAgICApLmFkZFRvKG1hcF8wZTgxYWZmZTA0ZTI0Y2RiYWIyYzQ3ODYxZTRlZTNjYyk7CiAgICAgICAgCiAgICAKICAgICAgICB2YXIgcG9wdXBfM2RhNjI3N2JiZDYzNDkxMWI1OGZiYzJmZDM5N2M4NGEgPSBMLnBvcHVwKHsibWF4V2lkdGgiOiAiMTAwJSJ9KTsKCiAgICAgICAgCiAgICAgICAgICAgIHZhciBodG1sXzIzMjI1NzU5NDg0MzQ1NTQ4MzVmNmM2N2U3ZmVlYjE0ID0gJChgPGRpdiBpZD0iaHRtbF8yMzIyNTc1OTQ4NDM0NTU0ODM1ZjZjNjdlN2ZlZWIxNCIgc3R5bGU9IndpZHRoOiAxMDAuMCU7IGhlaWdodDogMTAwLjAlOyI+VCYjMzk7ZXJyaTwvZGl2PmApWzBdOwogICAgICAgICAgICBwb3B1cF8zZGE2Mjc3YmJkNjM0OTExYjU4ZmJjMmZkMzk3Yzg0YS5zZXRDb250ZW50KGh0bWxfMjMyMjU3NTk0ODQzNDU1NDgzNWY2YzY3ZTdmZWViMTQpOwogICAgICAgIAoKICAgICAgICBjaXJjbGVfbWFya2VyXzBkYTRiYzNiYjU3NDQ2NTc5MTZmNGQ4NThmOWRhNTQ3LmJpbmRQb3B1cChwb3B1cF8zZGE2Mjc3YmJkNjM0OTExYjU4ZmJjMmZkMzk3Yzg0YSkKICAgICAgICA7CgogICAgICAgIAogICAgCiAgICAKICAgICAgICAgICAgdmFyIGNpcmNsZV9tYXJrZXJfZWM2OTg4ZWI5MDY5NDM1OWE3MWJlMjM2ZjhhMGQyZjcgPSBMLmNpcmNsZU1hcmtlcigKICAgICAgICAgICAgICAgIFs1My45NTIyNywgMjcuNjY1OTU1XSwKICAgICAgICAgICAgICAgIHsiYnViYmxpbmdNb3VzZUV2ZW50cyI6IHRydWUsICJjb2xvciI6ICJibHVlIiwgImRhc2hBcnJheSI6IG51bGwsICJkYXNoT2Zmc2V0IjogbnVsbCwgImZpbGwiOiB0cnVlLCAiZmlsbENvbG9yIjogIiMzMTg2Y2MiLCAiZmlsbE9wYWNpdHkiOiAwLjcsICJmaWxsUnVsZSI6ICJldmVub2RkIiwgImxpbmVDYXAiOiAicm91bmQiLCAibGluZUpvaW4iOiAicm91bmQiLCAib3BhY2l0eSI6IDEuMCwgInJhZGl1cyI6IDUsICJzdHJva2UiOiB0cnVlLCAid2VpZ2h0IjogM30KICAgICAgICAgICAgKS5hZGRUbyhtYXBfMGU4MWFmZmUwNGUyNGNkYmFiMmM0Nzg2MWU0ZWUzY2MpOwogICAgICAgIAogICAgCiAgICAgICAgdmFyIHBvcHVwXzAxN2VlMzUzY2I5YTQyMWFiZjhlYjI5YzYzMTZmNGEwID0gTC5wb3B1cCh7Im1heFdpZHRoIjogIjEwMCUifSk7CgogICAgICAgIAogICAgICAgICAgICB2YXIgaHRtbF84ZTZhYzYxYmIyM2U0M2ZmYmZkNzZjZjkwM2M3ZDhiNiA9ICQoYDxkaXYgaWQ9Imh0bWxfOGU2YWM2MWJiMjNlNDNmZmJmZDc2Y2Y5MDNjN2Q4YjYiIHN0eWxlPSJ3aWR0aDogMTAwLjAlOyBoZWlnaHQ6IDEwMC4wJTsiPkJyaW9jaGU8L2Rpdj5gKVswXTsKICAgICAgICAgICAgcG9wdXBfMDE3ZWUzNTNjYjlhNDIxYWJmOGViMjljNjMxNmY0YTAuc2V0Q29udGVudChodG1sXzhlNmFjNjFiYjIzZTQzZmZiZmQ3NmNmOTAzYzdkOGI2KTsKICAgICAgICAKCiAgICAgICAgY2lyY2xlX21hcmtlcl9lYzY5ODhlYjkwNjk0MzU5YTcxYmUyMzZmOGEwZDJmNy5iaW5kUG9wdXAocG9wdXBfMDE3ZWUzNTNjYjlhNDIxYWJmOGViMjljNjMxNmY0YTApCiAgICAgICAgOwoKICAgICAgICAKICAgIAogICAgCiAgICAgICAgICAgIHZhciBjaXJjbGVfbWFya2VyX2Q0NWMxODY0YzdhMjQ5ODJiMjQ4ODBhMDBiOGVlZTk2ID0gTC5jaXJjbGVNYXJrZXIoCiAgICAgICAgICAgICAgICBbNTMuOTE5MDkzLCAyNy41NzQ1MTJdLAogICAgICAgICAgICAgICAgeyJidWJibGluZ01vdXNlRXZlbnRzIjogdHJ1ZSwgImNvbG9yIjogImJsdWUiLCAiZGFzaEFycmF5IjogbnVsbCwgImRhc2hPZmZzZXQiOiBudWxsLCAiZmlsbCI6IHRydWUsICJmaWxsQ29sb3IiOiAiIzMxODZjYyIsICJmaWxsT3BhY2l0eSI6IDAuNywgImZpbGxSdWxlIjogImV2ZW5vZGQiLCAibGluZUNhcCI6ICJyb3VuZCIsICJsaW5lSm9pbiI6ICJyb3VuZCIsICJvcGFjaXR5IjogMS4wLCAicmFkaXVzIjogNSwgInN0cm9rZSI6IHRydWUsICJ3ZWlnaHQiOiAzfQogICAgICAgICAgICApLmFkZFRvKG1hcF8wZTgxYWZmZTA0ZTI0Y2RiYWIyYzQ3ODYxZTRlZTNjYyk7CiAgICAgICAgCiAgICAKICAgICAgICB2YXIgcG9wdXBfZGFiNTRiOTUyODY0NDkyYjg5MDQ3NTBhZGRkMjc3N2IgPSBMLnBvcHVwKHsibWF4V2lkdGgiOiAiMTAwJSJ9KTsKCiAgICAgICAgCiAgICAgICAgICAgIHZhciBodG1sXzQ1NjYxMjYzYTA0ZjQzNzk4NzE3YTZlNzdiMmEyMDRlID0gJChgPGRpdiBpZD0iaHRtbF80NTY2MTI2M2EwNGY0Mzc5ODcxN2E2ZTc3YjJhMjA0ZSIgc3R5bGU9IndpZHRoOiAxMDAuMCU7IGhlaWdodDogMTAwLjAlOyI+RmFqbnkgTNGWczwvZGl2PmApWzBdOwogICAgICAgICAgICBwb3B1cF9kYWI1NGI5NTI4NjQ0OTJiODkwNDc1MGFkZGQyNzc3Yi5zZXRDb250ZW50KGh0bWxfNDU2NjEyNjNhMDRmNDM3OTg3MTdhNmU3N2IyYTIwNGUpOwogICAgICAgIAoKICAgICAgICBjaXJjbGVfbWFya2VyX2Q0NWMxODY0YzdhMjQ5ODJiMjQ4ODBhMDBiOGVlZTk2LmJpbmRQb3B1cChwb3B1cF9kYWI1NGI5NTI4NjQ0OTJiODkwNDc1MGFkZGQyNzc3YikKICAgICAgICA7CgogICAgICAgIAogICAgCiAgICAKICAgICAgICAgICAgdmFyIGNpcmNsZV9tYXJrZXJfYTUwOGQxZDgyNmFkNGFjYTg1YmI1ZmVkNmJhODMxYmYgPSBMLmNpcmNsZU1hcmtlcigKICAgICAgICAgICAgICAgIFs1My45MTQ3MzQsIDI3LjU4M10sCiAgICAgICAgICAgICAgICB7ImJ1YmJsaW5nTW91c2VFdmVudHMiOiB0cnVlLCAiY29sb3IiOiAiYmx1ZSIsICJkYXNoQXJyYXkiOiBudWxsLCAiZGFzaE9mZnNldCI6IG51bGwsICJmaWxsIjogdHJ1ZSwgImZpbGxDb2xvciI6ICIjMzE4NmNjIiwgImZpbGxPcGFjaXR5IjogMC43LCAiZmlsbFJ1bGUiOiAiZXZlbm9kZCIsICJsaW5lQ2FwIjogInJvdW5kIiwgImxpbmVKb2luIjogInJvdW5kIiwgIm9wYWNpdHkiOiAxLjAsICJyYWRpdXMiOiA1LCAic3Ryb2tlIjogdHJ1ZSwgIndlaWdodCI6IDN9CiAgICAgICAgICAgICkuYWRkVG8obWFwXzBlODFhZmZlMDRlMjRjZGJhYjJjNDc4NjFlNGVlM2NjKTsKICAgICAgICAKICAgIAogICAgICAgIHZhciBwb3B1cF9hYTZhMGQ4ODY2ZDc0MmQwYmRmZGNiNzI1NzU1ZTExNyA9IEwucG9wdXAoeyJtYXhXaWR0aCI6ICIxMDAlIn0pOwoKICAgICAgICAKICAgICAgICAgICAgdmFyIGh0bWxfOTU3NjQ0NTllNmNlNDMyMGExYzJiMjY3YjZlYjdiZjEgPSAkKGA8ZGl2IGlkPSJodG1sXzk1NzY0NDU5ZTZjZTQzMjBhMWMyYjI2N2I2ZWI3YmYxIiBzdHlsZT0id2lkdGg6IDEwMC4wJTsgaGVpZ2h0OiAxMDAuMCU7Ij5QQVVMPC9kaXY+YClbMF07CiAgICAgICAgICAgIHBvcHVwX2FhNmEwZDg4NjZkNzQyZDBiZGZkY2I3MjU3NTVlMTE3LnNldENvbnRlbnQoaHRtbF85NTc2NDQ1OWU2Y2U0MzIwYTFjMmIyNjdiNmViN2JmMSk7CiAgICAgICAgCgogICAgICAgIGNpcmNsZV9tYXJrZXJfYTUwOGQxZDgyNmFkNGFjYTg1YmI1ZmVkNmJhODMxYmYuYmluZFBvcHVwKHBvcHVwX2FhNmEwZDg4NjZkNzQyZDBiZGZkY2I3MjU3NTVlMTE3KQogICAgICAgIDsKCiAgICAgICAgCiAgICAKICAgIAogICAgICAgICAgICB2YXIgY2lyY2xlX21hcmtlcl84ZGRlN2UxZWIyNWE0NDNjYmUwYzM0ZmM4YWQyNzc5NSA9IEwuY2lyY2xlTWFya2VyKAogICAgICAgICAgICAgICAgWzUzLjkyNzQ0LCAyNy42MDY1MjhdLAogICAgICAgICAgICAgICAgeyJidWJibGluZ01vdXNlRXZlbnRzIjogdHJ1ZSwgImNvbG9yIjogImJsdWUiLCAiZGFzaEFycmF5IjogbnVsbCwgImRhc2hPZmZzZXQiOiBudWxsLCAiZmlsbCI6IHRydWUsICJmaWxsQ29sb3IiOiAiIzMxODZjYyIsICJmaWxsT3BhY2l0eSI6IDAuNywgImZpbGxSdWxlIjogImV2ZW5vZGQiLCAibGluZUNhcCI6ICJyb3VuZCIsICJsaW5lSm9pbiI6ICJyb3VuZCIsICJvcGFjaXR5IjogMS4wLCAicmFkaXVzIjogNSwgInN0cm9rZSI6IHRydWUsICJ3ZWlnaHQiOiAzfQogICAgICAgICAgICApLmFkZFRvKG1hcF8wZTgxYWZmZTA0ZTI0Y2RiYWIyYzQ3ODYxZTRlZTNjYyk7CiAgICAgICAgCiAgICAKICAgICAgICB2YXIgcG9wdXBfODc2MDJiMzQxZDA4NDZiMWJmNzlkMmMxODBhNjkwYzEgPSBMLnBvcHVwKHsibWF4V2lkdGgiOiAiMTAwJSJ9KTsKCiAgICAgICAgCiAgICAgICAgICAgIHZhciBodG1sXzZiZmNmNTM5NjBkZTQ3ZjE5MjI5NWU4ZDNhMWNmYzQ2ID0gJChgPGRpdiBpZD0iaHRtbF82YmZjZjUzOTYwZGU0N2YxOTIyOTVlOGQzYTFjZmM0NiIgc3R5bGU9IndpZHRoOiAxMDAuMCU7IGhlaWdodDogMTAwLjAlOyI+VGVycml0b3JpamEgS29mZTwvZGl2PmApWzBdOwogICAgICAgICAgICBwb3B1cF84NzYwMmIzNDFkMDg0NmIxYmY3OWQyYzE4MGE2OTBjMS5zZXRDb250ZW50KGh0bWxfNmJmY2Y1Mzk2MGRlNDdmMTkyMjk1ZThkM2ExY2ZjNDYpOwogICAgICAgIAoKICAgICAgICBjaXJjbGVfbWFya2VyXzhkZGU3ZTFlYjI1YTQ0M2NiZTBjMzRmYzhhZDI3Nzk1LmJpbmRQb3B1cChwb3B1cF84NzYwMmIzNDFkMDg0NmIxYmY3OWQyYzE4MGE2OTBjMSkKICAgICAgICA7CgogICAgICAgIAogICAgCiAgICAKICAgICAgICAgICAgdmFyIGNpcmNsZV9tYXJrZXJfNDIzYTgwN2E5OWYwNGNlMjk5MGJlNzkxYTE1MTRmMTIgPSBMLmNpcmNsZU1hcmtlcigKICAgICAgICAgICAgICAgIFs1My45MDk1NzMsIDI3LjU5NzQzN10sCiAgICAgICAgICAgICAgICB7ImJ1YmJsaW5nTW91c2VFdmVudHMiOiB0cnVlLCAiY29sb3IiOiAiYmx1ZSIsICJkYXNoQXJyYXkiOiBudWxsLCAiZGFzaE9mZnNldCI6IG51bGwsICJmaWxsIjogdHJ1ZSwgImZpbGxDb2xvciI6ICIjMzE4NmNjIiwgImZpbGxPcGFjaXR5IjogMC43LCAiZmlsbFJ1bGUiOiAiZXZlbm9kZCIsICJsaW5lQ2FwIjogInJvdW5kIiwgImxpbmVKb2luIjogInJvdW5kIiwgIm9wYWNpdHkiOiAxLjAsICJyYWRpdXMiOiA1LCAic3Ryb2tlIjogdHJ1ZSwgIndlaWdodCI6IDN9CiAgICAgICAgICAgICkuYWRkVG8obWFwXzBlODFhZmZlMDRlMjRjZGJhYjJjNDc4NjFlNGVlM2NjKTsKICAgICAgICAKICAgIAogICAgICAgIHZhciBwb3B1cF81NDU3YjgwYmIyNmM0NmI3OWZkNjQ2ZDkxZTU0MDE5YiA9IEwucG9wdXAoeyJtYXhXaWR0aCI6ICIxMDAlIn0pOwoKICAgICAgICAKICAgICAgICAgICAgdmFyIGh0bWxfNmRkNDY1YzM2MjU2NDVjODk4ZGQxZjY1ZjhkMjc4MWUgPSAkKGA8ZGl2IGlkPSJodG1sXzZkZDQ2NWMzNjI1NjQ1Yzg5OGRkMWY2NWY4ZDI3ODFlIiBzdHlsZT0id2lkdGg6IDEwMC4wJTsgaGVpZ2h0OiAxMDAuMCU7Ij5QdGlmdXI8L2Rpdj5gKVswXTsKICAgICAgICAgICAgcG9wdXBfNTQ1N2I4MGJiMjZjNDZiNzlmZDY0NmQ5MWU1NDAxOWIuc2V0Q29udGVudChodG1sXzZkZDQ2NWMzNjI1NjQ1Yzg5OGRkMWY2NWY4ZDI3ODFlKTsKICAgICAgICAKCiAgICAgICAgY2lyY2xlX21hcmtlcl80MjNhODA3YTk5ZjA0Y2UyOTkwYmU3OTFhMTUxNGYxMi5iaW5kUG9wdXAocG9wdXBfNTQ1N2I4MGJiMjZjNDZiNzlmZDY0NmQ5MWU1NDAxOWIpCiAgICAgICAgOwoKICAgICAgICAKICAgIAogICAgCiAgICAgICAgICAgIHZhciBjaXJjbGVfbWFya2VyXzk1NmJhYWRhNTE4NjQxYmJhZDU5ZDU0NjMwOWM3NGU5ID0gTC5jaXJjbGVNYXJrZXIoCiAgICAgICAgICAgICAgICBbNTMuOTM3NjY3LCAyNy40NzM5MzRdLAogICAgICAgICAgICAgICAgeyJidWJibGluZ01vdXNlRXZlbnRzIjogdHJ1ZSwgImNvbG9yIjogImJsdWUiLCAiZGFzaEFycmF5IjogbnVsbCwgImRhc2hPZmZzZXQiOiBudWxsLCAiZmlsbCI6IHRydWUsICJmaWxsQ29sb3IiOiAiIzMxODZjYyIsICJmaWxsT3BhY2l0eSI6IDAuNywgImZpbGxSdWxlIjogImV2ZW5vZGQiLCAibGluZUNhcCI6ICJyb3VuZCIsICJsaW5lSm9pbiI6ICJyb3VuZCIsICJvcGFjaXR5IjogMS4wLCAicmFkaXVzIjogNSwgInN0cm9rZSI6IHRydWUsICJ3ZWlnaHQiOiAzfQogICAgICAgICAgICApLmFkZFRvKG1hcF8wZTgxYWZmZTA0ZTI0Y2RiYWIyYzQ3ODYxZTRlZTNjYyk7CiAgICAgICAgCiAgICAKICAgICAgICB2YXIgcG9wdXBfMWU0MDM5ZGEwOTQ0NGE2OThkYmVmZDUyMTJjNmYyZGQgPSBMLnBvcHVwKHsibWF4V2lkdGgiOiAiMTAwJSJ9KTsKCiAgICAgICAgCiAgICAgICAgICAgIHZhciBodG1sX2M1NjliZGEzMjI0NDQ1MzQ4NGY2OTYzNTU2NGYxMDA1ID0gJChgPGRpdiBpZD0iaHRtbF9jNTY5YmRhMzIyNDQ0NTM0ODRmNjk2MzU1NjRmMTAwNSIgc3R5bGU9IndpZHRoOiAxMDAuMCU7IGhlaWdodDogMTAwLjAlOyI+QnLDuCBCYWtlcnk8L2Rpdj5gKVswXTsKICAgICAgICAgICAgcG9wdXBfMWU0MDM5ZGEwOTQ0NGE2OThkYmVmZDUyMTJjNmYyZGQuc2V0Q29udGVudChodG1sX2M1NjliZGEzMjI0NDQ1MzQ4NGY2OTYzNTU2NGYxMDA1KTsKICAgICAgICAKCiAgICAgICAgY2lyY2xlX21hcmtlcl85NTZiYWFkYTUxODY0MWJiYWQ1OWQ1NDYzMDljNzRlOS5iaW5kUG9wdXAocG9wdXBfMWU0MDM5ZGEwOTQ0NGE2OThkYmVmZDUyMTJjNmYyZGQpCiAgICAgICAgOwoKICAgICAgICAKICAgIAo8L3NjcmlwdD4= onload=\"this.contentDocument.open();this.contentDocument.write(atob(this.getAttribute('data-html')));this.contentDocument.close();\" allowfullscreen webkitallowfullscreen mozallowfullscreen></iframe></div></div>"
      ],
      "text/plain": [
       "<folium.folium.Map at 0x2060c4f2d68>"
      ]
     },
     "execution_count": 142,
     "metadata": {},
     "output_type": "execute_result"
    }
   ],
   "source": [
    "map_minsk = folium.Map(location=[latitude, longitude], zoom_start=12) \n",
    "\n",
    "# add markers to map\n",
    "for lat, lng, name in zip(baker_df['lat'], baker_df['lng'], baker_df['latin_name']):\n",
    "    label = '{}'.format(name)\n",
    "    label = folium.Popup(label, parse_html=True)\n",
    "    folium.CircleMarker(\n",
    "        [lat, lng],\n",
    "        radius=5,\n",
    "        popup=label,\n",
    "        color='blue',\n",
    "        fill=True,\n",
    "        fill_color='#3186cc',\n",
    "        fill_opacity=0.7,\n",
    "        parse_html=False).add_to(map_minsk)  \n",
    "    \n",
    "map_minsk"
   ]
  },
  {
   "cell_type": "markdown",
   "metadata": {},
   "source": [
    "##### Add info about each bakery like 'rating', 'price','likes' etc."
   ]
  },
  {
   "cell_type": "code",
   "execution_count": 33,
   "metadata": {
    "ExecuteTime": {
     "end_time": "2020-07-08T11:32:32.806287Z",
     "start_time": "2020-07-08T11:31:57.979603Z"
    }
   },
   "outputs": [],
   "source": [
    "bakery_full = []\n",
    "for bakery_id in baker_df['id'].unique():\n",
    "    # if bakery_id not in bakery_full_df['id'].unique():\n",
    "    url = 'https://api.foursquare.com/v2/venues/{}?&client_id={}&client_secret={}&v={}'.format(\n",
    "    bakery_id,   \n",
    "    CLIENT_ID, \n",
    "    CLIENT_SECRET, \n",
    "    VERSION)\n",
    "    full_inf_bakeries = requests.get(url).json()   \n",
    "    item = full_inf_bakeries['response']['venue']\n",
    "    bakery_full.append({\n",
    "    'id': bakery_id,\n",
    "    'likes': item['likes']['count'],\n",
    "    'dislike': item['dislike'],\n",
    "    'rating': item['rating'] if 'rating' in item else '',        \n",
    "    'url': item['url'] if 'url' in item else '',\n",
    "    'price': item['price']['tier'] if 'price' in item else '',\n",
    "    'ok': item['ok'],\n",
    "    'ratingSignals': item['ratingSignals'] if 'ratingSignals' in item else '',\n",
    "    'specials': item['specials']['count'],\n",
    "    'tips': item['tips']['count'],\n",
    "    'listed': item['listed']['count']\n",
    "        }) "
   ]
  },
  {
   "cell_type": "code",
   "execution_count": 143,
   "metadata": {
    "ExecuteTime": {
     "end_time": "2020-07-08T13:48:25.604777Z",
     "start_time": "2020-07-08T13:48:25.550888Z"
    }
   },
   "outputs": [
    {
     "name": "stdout",
     "output_type": "stream",
     "text": [
      "(87, 21)\n"
     ]
    },
    {
     "data": {
      "text/html": [
       "<div>\n",
       "<style scoped>\n",
       "    .dataframe tbody tr th:only-of-type {\n",
       "        vertical-align: middle;\n",
       "    }\n",
       "\n",
       "    .dataframe tbody tr th {\n",
       "        vertical-align: top;\n",
       "    }\n",
       "\n",
       "    .dataframe thead th {\n",
       "        text-align: right;\n",
       "    }\n",
       "</style>\n",
       "<table border=\"1\" class=\"dataframe\">\n",
       "  <thead>\n",
       "    <tr style=\"text-align: right;\">\n",
       "      <th></th>\n",
       "      <th>id</th>\n",
       "      <th>likes</th>\n",
       "      <th>dislike</th>\n",
       "      <th>rating</th>\n",
       "      <th>url</th>\n",
       "      <th>price</th>\n",
       "      <th>ok</th>\n",
       "      <th>ratingSignals</th>\n",
       "      <th>specials</th>\n",
       "      <th>tips</th>\n",
       "      <th>...</th>\n",
       "      <th>district</th>\n",
       "      <th>summary</th>\n",
       "      <th>name</th>\n",
       "      <th>lat</th>\n",
       "      <th>lng</th>\n",
       "      <th>categories</th>\n",
       "      <th>dist_lat</th>\n",
       "      <th>dist_lng</th>\n",
       "      <th>distance</th>\n",
       "      <th>latin_name</th>\n",
       "    </tr>\n",
       "  </thead>\n",
       "  <tbody>\n",
       "    <tr>\n",
       "      <th>0</th>\n",
       "      <td>4bfcf7b58992a593595fabb0</td>\n",
       "      <td>399</td>\n",
       "      <td>False</td>\n",
       "      <td>7.6</td>\n",
       "      <td>http://cafe-bakery.relax.by</td>\n",
       "      <td>2</td>\n",
       "      <td>False</td>\n",
       "      <td>601</td>\n",
       "      <td>0</td>\n",
       "      <td>142</td>\n",
       "      <td>...</td>\n",
       "      <td>Октябрьский район</td>\n",
       "      <td>This spot is popular</td>\n",
       "      <td>Бейкери дю Солей</td>\n",
       "      <td>53.876255</td>\n",
       "      <td>27.553004</td>\n",
       "      <td>Bakery</td>\n",
       "      <td>53.858930</td>\n",
       "      <td>27.538223</td>\n",
       "      <td>2159.566939</td>\n",
       "      <td>Bejkeri dju Solej</td>\n",
       "    </tr>\n",
       "    <tr>\n",
       "      <th>1</th>\n",
       "      <td>4ccb0b9c54f0b1f77ce60cca</td>\n",
       "      <td>115</td>\n",
       "      <td>False</td>\n",
       "      <td>6.1</td>\n",
       "      <td>https://www.minskhleb.by</td>\n",
       "      <td>0</td>\n",
       "      <td>False</td>\n",
       "      <td>225</td>\n",
       "      <td>0</td>\n",
       "      <td>74</td>\n",
       "      <td>...</td>\n",
       "      <td>Партизанский район</td>\n",
       "      <td>This spot is popular</td>\n",
       "      <td>Каравай</td>\n",
       "      <td>53.908001</td>\n",
       "      <td>27.575787</td>\n",
       "      <td>Bakery</td>\n",
       "      <td>53.902873</td>\n",
       "      <td>27.634289</td>\n",
       "      <td>3887.107119</td>\n",
       "      <td>Karavaj</td>\n",
       "    </tr>\n",
       "    <tr>\n",
       "      <th>2</th>\n",
       "      <td>4d7ce981f260a093df7c42ba</td>\n",
       "      <td>8</td>\n",
       "      <td>False</td>\n",
       "      <td>6.1</td>\n",
       "      <td>http://www.minskhleb.by/shop/magaziny/kropotki...</td>\n",
       "      <td>0</td>\n",
       "      <td>False</td>\n",
       "      <td>17</td>\n",
       "      <td>0</td>\n",
       "      <td>6</td>\n",
       "      <td>...</td>\n",
       "      <td>Центральный район</td>\n",
       "      <td>This spot is popular</td>\n",
       "      <td>Хлебны куток</td>\n",
       "      <td>53.915259</td>\n",
       "      <td>27.553338</td>\n",
       "      <td>Bakery</td>\n",
       "      <td>53.935766</td>\n",
       "      <td>27.521649</td>\n",
       "      <td>3089.277533</td>\n",
       "      <td>Hlebny kutok</td>\n",
       "    </tr>\n",
       "    <tr>\n",
       "      <th>3</th>\n",
       "      <td>4da9b7ed5da3ba8a47785496</td>\n",
       "      <td>15</td>\n",
       "      <td>False</td>\n",
       "      <td>5.6</td>\n",
       "      <td>http://www.minskhleb.by/consumer/shops/hot_bre...</td>\n",
       "      <td>0</td>\n",
       "      <td>False</td>\n",
       "      <td>29</td>\n",
       "      <td>0</td>\n",
       "      <td>4</td>\n",
       "      <td>...</td>\n",
       "      <td>Московский район</td>\n",
       "      <td>This spot is popular</td>\n",
       "      <td>Горячий хлеб</td>\n",
       "      <td>53.880101</td>\n",
       "      <td>27.488984</td>\n",
       "      <td>Bakery</td>\n",
       "      <td>53.871021</td>\n",
       "      <td>27.492966</td>\n",
       "      <td>1043.970489</td>\n",
       "      <td>Gorjachij hleb</td>\n",
       "    </tr>\n",
       "    <tr>\n",
       "      <th>4</th>\n",
       "      <td>4df8955818385456c7f514e5</td>\n",
       "      <td>181</td>\n",
       "      <td>False</td>\n",
       "      <td>5.9</td>\n",
       "      <td>http://stolle.by</td>\n",
       "      <td>2</td>\n",
       "      <td>False</td>\n",
       "      <td>352</td>\n",
       "      <td>0</td>\n",
       "      <td>112</td>\n",
       "      <td>...</td>\n",
       "      <td>Советский район</td>\n",
       "      <td>This spot is popular</td>\n",
       "      <td>Штолле / Stolle</td>\n",
       "      <td>53.917542</td>\n",
       "      <td>27.586509</td>\n",
       "      <td>Bakery</td>\n",
       "      <td>53.940933</td>\n",
       "      <td>27.585951</td>\n",
       "      <td>2603.799832</td>\n",
       "      <td>Shtolle / Stolle</td>\n",
       "    </tr>\n",
       "  </tbody>\n",
       "</table>\n",
       "<p>5 rows × 21 columns</p>\n",
       "</div>"
      ],
      "text/plain": [
       "                         id  likes  dislike  rating  \\\n",
       "0  4bfcf7b58992a593595fabb0    399    False     7.6   \n",
       "1  4ccb0b9c54f0b1f77ce60cca    115    False     6.1   \n",
       "2  4d7ce981f260a093df7c42ba      8    False     6.1   \n",
       "3  4da9b7ed5da3ba8a47785496     15    False     5.6   \n",
       "4  4df8955818385456c7f514e5    181    False     5.9   \n",
       "\n",
       "                                                 url  price     ok  \\\n",
       "0                        http://cafe-bakery.relax.by      2  False   \n",
       "1                           https://www.minskhleb.by      0  False   \n",
       "2  http://www.minskhleb.by/shop/magaziny/kropotki...      0  False   \n",
       "3  http://www.minskhleb.by/consumer/shops/hot_bre...      0  False   \n",
       "4                                   http://stolle.by      2  False   \n",
       "\n",
       "   ratingSignals  specials  tips  ...            district  \\\n",
       "0            601         0   142  ...   Октябрьский район   \n",
       "1            225         0    74  ...  Партизанский район   \n",
       "2             17         0     6  ...   Центральный район   \n",
       "3             29         0     4  ...    Московский район   \n",
       "4            352         0   112  ...     Советский район   \n",
       "\n",
       "                summary              name        lat        lng  categories  \\\n",
       "0  This spot is popular  Бейкери дю Солей  53.876255  27.553004      Bakery   \n",
       "1  This spot is popular           Каравай  53.908001  27.575787      Bakery   \n",
       "2  This spot is popular      Хлебны куток  53.915259  27.553338      Bakery   \n",
       "3  This spot is popular      Горячий хлеб  53.880101  27.488984      Bakery   \n",
       "4  This spot is popular   Штолле / Stolle  53.917542  27.586509      Bakery   \n",
       "\n",
       "    dist_lat   dist_lng     distance         latin_name  \n",
       "0  53.858930  27.538223  2159.566939  Bejkeri dju Solej  \n",
       "1  53.902873  27.634289  3887.107119            Karavaj  \n",
       "2  53.935766  27.521649  3089.277533       Hlebny kutok  \n",
       "3  53.871021  27.492966  1043.970489     Gorjachij hleb  \n",
       "4  53.940933  27.585951  2603.799832   Shtolle / Stolle  \n",
       "\n",
       "[5 rows x 21 columns]"
      ]
     },
     "execution_count": 143,
     "metadata": {},
     "output_type": "execute_result"
    }
   ],
   "source": [
    "bakery_full_df = pd.DataFrame(bakery_full)\n",
    "bakery_full_df = bakery_full_df.join(baker_df.set_index('id'), on='id')\n",
    "bakery_full_df.replace(\"\", 0, inplace = True)\n",
    "print(bakery_full_df.shape)\n",
    "bakery_full_df.head()  "
   ]
  },
  {
   "attachments": {},
   "cell_type": "markdown",
   "metadata": {},
   "source": [
    "##### Looking at the part of df with some columns to analyze"
   ]
  },
  {
   "cell_type": "code",
   "execution_count": 174,
   "metadata": {
    "ExecuteTime": {
     "end_time": "2020-07-08T17:57:47.867689Z",
     "start_time": "2020-07-08T17:57:47.846753Z"
    }
   },
   "outputs": [
    {
     "data": {
      "text/html": [
       "<div>\n",
       "<style scoped>\n",
       "    .dataframe tbody tr th:only-of-type {\n",
       "        vertical-align: middle;\n",
       "    }\n",
       "\n",
       "    .dataframe tbody tr th {\n",
       "        vertical-align: top;\n",
       "    }\n",
       "\n",
       "    .dataframe thead th {\n",
       "        text-align: right;\n",
       "    }\n",
       "</style>\n",
       "<table border=\"1\" class=\"dataframe\">\n",
       "  <thead>\n",
       "    <tr style=\"text-align: right;\">\n",
       "      <th></th>\n",
       "      <th>name</th>\n",
       "      <th>district</th>\n",
       "      <th>categories</th>\n",
       "      <th>rating</th>\n",
       "      <th>price</th>\n",
       "      <th>tips</th>\n",
       "    </tr>\n",
       "  </thead>\n",
       "  <tbody>\n",
       "    <tr>\n",
       "      <th>0</th>\n",
       "      <td>Бейкери дю Солей</td>\n",
       "      <td>Октябрьский район</td>\n",
       "      <td>Bakery</td>\n",
       "      <td>7.6</td>\n",
       "      <td>2</td>\n",
       "      <td>142</td>\n",
       "    </tr>\n",
       "    <tr>\n",
       "      <th>1</th>\n",
       "      <td>Каравай</td>\n",
       "      <td>Партизанский район</td>\n",
       "      <td>Bakery</td>\n",
       "      <td>6.1</td>\n",
       "      <td>0</td>\n",
       "      <td>74</td>\n",
       "    </tr>\n",
       "    <tr>\n",
       "      <th>2</th>\n",
       "      <td>Хлебны куток</td>\n",
       "      <td>Центральный район</td>\n",
       "      <td>Bakery</td>\n",
       "      <td>6.1</td>\n",
       "      <td>0</td>\n",
       "      <td>6</td>\n",
       "    </tr>\n",
       "    <tr>\n",
       "      <th>3</th>\n",
       "      <td>Горячий хлеб</td>\n",
       "      <td>Московский район</td>\n",
       "      <td>Bakery</td>\n",
       "      <td>5.6</td>\n",
       "      <td>0</td>\n",
       "      <td>4</td>\n",
       "    </tr>\n",
       "    <tr>\n",
       "      <th>4</th>\n",
       "      <td>Штолле / Stolle</td>\n",
       "      <td>Советский район</td>\n",
       "      <td>Bakery</td>\n",
       "      <td>5.9</td>\n",
       "      <td>2</td>\n",
       "      <td>112</td>\n",
       "    </tr>\n",
       "    <tr>\n",
       "      <th>...</th>\n",
       "      <td>...</td>\n",
       "      <td>...</td>\n",
       "      <td>...</td>\n",
       "      <td>...</td>\n",
       "      <td>...</td>\n",
       "      <td>...</td>\n",
       "    </tr>\n",
       "    <tr>\n",
       "      <th>82</th>\n",
       "      <td>Файны Ліс</td>\n",
       "      <td>Советский район</td>\n",
       "      <td>Bakery</td>\n",
       "      <td>0.0</td>\n",
       "      <td>0</td>\n",
       "      <td>1</td>\n",
       "    </tr>\n",
       "    <tr>\n",
       "      <th>83</th>\n",
       "      <td>PAUL</td>\n",
       "      <td>Советский район</td>\n",
       "      <td>Bakery</td>\n",
       "      <td>6.1</td>\n",
       "      <td>0</td>\n",
       "      <td>4</td>\n",
       "    </tr>\n",
       "    <tr>\n",
       "      <th>84</th>\n",
       "      <td>Территория Кофе</td>\n",
       "      <td>Советский район</td>\n",
       "      <td>Coffee Shop</td>\n",
       "      <td>8.4</td>\n",
       "      <td>0</td>\n",
       "      <td>5</td>\n",
       "    </tr>\n",
       "    <tr>\n",
       "      <th>85</th>\n",
       "      <td>Птифур</td>\n",
       "      <td>Партизанский район</td>\n",
       "      <td>Bakery</td>\n",
       "      <td>0.0</td>\n",
       "      <td>0</td>\n",
       "      <td>0</td>\n",
       "    </tr>\n",
       "    <tr>\n",
       "      <th>86</th>\n",
       "      <td>Brø Bakery</td>\n",
       "      <td>Центральный район</td>\n",
       "      <td>Bakery</td>\n",
       "      <td>0.0</td>\n",
       "      <td>0</td>\n",
       "      <td>0</td>\n",
       "    </tr>\n",
       "  </tbody>\n",
       "</table>\n",
       "<p>87 rows × 6 columns</p>\n",
       "</div>"
      ],
      "text/plain": [
       "                name            district   categories  rating  price  tips\n",
       "0   Бейкери дю Солей   Октябрьский район       Bakery     7.6      2   142\n",
       "1            Каравай  Партизанский район       Bakery     6.1      0    74\n",
       "2       Хлебны куток   Центральный район       Bakery     6.1      0     6\n",
       "3       Горячий хлеб    Московский район       Bakery     5.6      0     4\n",
       "4    Штолле / Stolle     Советский район       Bakery     5.9      2   112\n",
       "..               ...                 ...          ...     ...    ...   ...\n",
       "82         Файны Ліс     Советский район       Bakery     0.0      0     1\n",
       "83              PAUL     Советский район       Bakery     6.1      0     4\n",
       "84   Территория Кофе     Советский район  Coffee Shop     8.4      0     5\n",
       "85            Птифур  Партизанский район       Bakery     0.0      0     0\n",
       "86        Brø Bakery   Центральный район       Bakery     0.0      0     0\n",
       "\n",
       "[87 rows x 6 columns]"
      ]
     },
     "execution_count": 174,
     "metadata": {},
     "output_type": "execute_result"
    }
   ],
   "source": [
    "bakery_full_df[['name','district','categories','rating','price','tips']]"
   ]
  },
  {
   "cell_type": "markdown",
   "metadata": {},
   "source": [
    "##### And now we're prepared our data to analyze"
   ]
  },
  {
   "cell_type": "markdown",
   "metadata": {},
   "source": [
    "Let's first look how many bakeries we have from each district and how many types of bakeries we have from each categories."
   ]
  },
  {
   "cell_type": "code",
   "execution_count": 97,
   "metadata": {
    "ExecuteTime": {
     "end_time": "2020-07-08T12:40:41.646440Z",
     "start_time": "2020-07-08T12:40:41.593557Z"
    },
    "cell_style": "split"
   },
   "outputs": [
    {
     "data": {
      "application/vnd.plotly.v1+json": {
       "config": {
        "plotlyServerURL": "https://plot.ly"
       },
       "data": [
        {
         "domain": {
          "x": [
           0,
           1
          ],
          "y": [
           0,
           1
          ]
         },
         "hovertemplate": "label=%{label}<br>value=%{value}<extra></extra>",
         "labels": [
          "Bakery",
          "Coffee Shop",
          "Dessert Shop",
          "Food Court"
         ],
         "legendgroup": "",
         "name": "",
         "showlegend": true,
         "type": "pie",
         "values": [
          81,
          3,
          2,
          1
         ]
        }
       ],
       "layout": {
        "legend": {
         "tracegroupgap": 0
        },
        "margin": {
         "t": 60
        },
        "piecolorway": [
         "rgb(247, 254, 174)",
         "rgb(183, 230, 165)",
         "rgb(124, 203, 162)",
         "rgb(70, 174, 160)",
         "rgb(8, 144, 153)",
         "rgb(0, 113, 139)",
         "rgb(4, 82, 117)"
        ],
        "template": {
         "data": {
          "bar": [
           {
            "error_x": {
             "color": "#2a3f5f"
            },
            "error_y": {
             "color": "#2a3f5f"
            },
            "marker": {
             "line": {
              "color": "#E5ECF6",
              "width": 0.5
             }
            },
            "type": "bar"
           }
          ],
          "barpolar": [
           {
            "marker": {
             "line": {
              "color": "#E5ECF6",
              "width": 0.5
             }
            },
            "type": "barpolar"
           }
          ],
          "carpet": [
           {
            "aaxis": {
             "endlinecolor": "#2a3f5f",
             "gridcolor": "white",
             "linecolor": "white",
             "minorgridcolor": "white",
             "startlinecolor": "#2a3f5f"
            },
            "baxis": {
             "endlinecolor": "#2a3f5f",
             "gridcolor": "white",
             "linecolor": "white",
             "minorgridcolor": "white",
             "startlinecolor": "#2a3f5f"
            },
            "type": "carpet"
           }
          ],
          "choropleth": [
           {
            "colorbar": {
             "outlinewidth": 0,
             "ticks": ""
            },
            "type": "choropleth"
           }
          ],
          "contour": [
           {
            "colorbar": {
             "outlinewidth": 0,
             "ticks": ""
            },
            "colorscale": [
             [
              0,
              "#0d0887"
             ],
             [
              0.1111111111111111,
              "#46039f"
             ],
             [
              0.2222222222222222,
              "#7201a8"
             ],
             [
              0.3333333333333333,
              "#9c179e"
             ],
             [
              0.4444444444444444,
              "#bd3786"
             ],
             [
              0.5555555555555556,
              "#d8576b"
             ],
             [
              0.6666666666666666,
              "#ed7953"
             ],
             [
              0.7777777777777778,
              "#fb9f3a"
             ],
             [
              0.8888888888888888,
              "#fdca26"
             ],
             [
              1,
              "#f0f921"
             ]
            ],
            "type": "contour"
           }
          ],
          "contourcarpet": [
           {
            "colorbar": {
             "outlinewidth": 0,
             "ticks": ""
            },
            "type": "contourcarpet"
           }
          ],
          "heatmap": [
           {
            "colorbar": {
             "outlinewidth": 0,
             "ticks": ""
            },
            "colorscale": [
             [
              0,
              "#0d0887"
             ],
             [
              0.1111111111111111,
              "#46039f"
             ],
             [
              0.2222222222222222,
              "#7201a8"
             ],
             [
              0.3333333333333333,
              "#9c179e"
             ],
             [
              0.4444444444444444,
              "#bd3786"
             ],
             [
              0.5555555555555556,
              "#d8576b"
             ],
             [
              0.6666666666666666,
              "#ed7953"
             ],
             [
              0.7777777777777778,
              "#fb9f3a"
             ],
             [
              0.8888888888888888,
              "#fdca26"
             ],
             [
              1,
              "#f0f921"
             ]
            ],
            "type": "heatmap"
           }
          ],
          "heatmapgl": [
           {
            "colorbar": {
             "outlinewidth": 0,
             "ticks": ""
            },
            "colorscale": [
             [
              0,
              "#0d0887"
             ],
             [
              0.1111111111111111,
              "#46039f"
             ],
             [
              0.2222222222222222,
              "#7201a8"
             ],
             [
              0.3333333333333333,
              "#9c179e"
             ],
             [
              0.4444444444444444,
              "#bd3786"
             ],
             [
              0.5555555555555556,
              "#d8576b"
             ],
             [
              0.6666666666666666,
              "#ed7953"
             ],
             [
              0.7777777777777778,
              "#fb9f3a"
             ],
             [
              0.8888888888888888,
              "#fdca26"
             ],
             [
              1,
              "#f0f921"
             ]
            ],
            "type": "heatmapgl"
           }
          ],
          "histogram": [
           {
            "marker": {
             "colorbar": {
              "outlinewidth": 0,
              "ticks": ""
             }
            },
            "type": "histogram"
           }
          ],
          "histogram2d": [
           {
            "colorbar": {
             "outlinewidth": 0,
             "ticks": ""
            },
            "colorscale": [
             [
              0,
              "#0d0887"
             ],
             [
              0.1111111111111111,
              "#46039f"
             ],
             [
              0.2222222222222222,
              "#7201a8"
             ],
             [
              0.3333333333333333,
              "#9c179e"
             ],
             [
              0.4444444444444444,
              "#bd3786"
             ],
             [
              0.5555555555555556,
              "#d8576b"
             ],
             [
              0.6666666666666666,
              "#ed7953"
             ],
             [
              0.7777777777777778,
              "#fb9f3a"
             ],
             [
              0.8888888888888888,
              "#fdca26"
             ],
             [
              1,
              "#f0f921"
             ]
            ],
            "type": "histogram2d"
           }
          ],
          "histogram2dcontour": [
           {
            "colorbar": {
             "outlinewidth": 0,
             "ticks": ""
            },
            "colorscale": [
             [
              0,
              "#0d0887"
             ],
             [
              0.1111111111111111,
              "#46039f"
             ],
             [
              0.2222222222222222,
              "#7201a8"
             ],
             [
              0.3333333333333333,
              "#9c179e"
             ],
             [
              0.4444444444444444,
              "#bd3786"
             ],
             [
              0.5555555555555556,
              "#d8576b"
             ],
             [
              0.6666666666666666,
              "#ed7953"
             ],
             [
              0.7777777777777778,
              "#fb9f3a"
             ],
             [
              0.8888888888888888,
              "#fdca26"
             ],
             [
              1,
              "#f0f921"
             ]
            ],
            "type": "histogram2dcontour"
           }
          ],
          "mesh3d": [
           {
            "colorbar": {
             "outlinewidth": 0,
             "ticks": ""
            },
            "type": "mesh3d"
           }
          ],
          "parcoords": [
           {
            "line": {
             "colorbar": {
              "outlinewidth": 0,
              "ticks": ""
             }
            },
            "type": "parcoords"
           }
          ],
          "pie": [
           {
            "automargin": true,
            "type": "pie"
           }
          ],
          "scatter": [
           {
            "marker": {
             "colorbar": {
              "outlinewidth": 0,
              "ticks": ""
             }
            },
            "type": "scatter"
           }
          ],
          "scatter3d": [
           {
            "line": {
             "colorbar": {
              "outlinewidth": 0,
              "ticks": ""
             }
            },
            "marker": {
             "colorbar": {
              "outlinewidth": 0,
              "ticks": ""
             }
            },
            "type": "scatter3d"
           }
          ],
          "scattercarpet": [
           {
            "marker": {
             "colorbar": {
              "outlinewidth": 0,
              "ticks": ""
             }
            },
            "type": "scattercarpet"
           }
          ],
          "scattergeo": [
           {
            "marker": {
             "colorbar": {
              "outlinewidth": 0,
              "ticks": ""
             }
            },
            "type": "scattergeo"
           }
          ],
          "scattergl": [
           {
            "marker": {
             "colorbar": {
              "outlinewidth": 0,
              "ticks": ""
             }
            },
            "type": "scattergl"
           }
          ],
          "scattermapbox": [
           {
            "marker": {
             "colorbar": {
              "outlinewidth": 0,
              "ticks": ""
             }
            },
            "type": "scattermapbox"
           }
          ],
          "scatterpolar": [
           {
            "marker": {
             "colorbar": {
              "outlinewidth": 0,
              "ticks": ""
             }
            },
            "type": "scatterpolar"
           }
          ],
          "scatterpolargl": [
           {
            "marker": {
             "colorbar": {
              "outlinewidth": 0,
              "ticks": ""
             }
            },
            "type": "scatterpolargl"
           }
          ],
          "scatterternary": [
           {
            "marker": {
             "colorbar": {
              "outlinewidth": 0,
              "ticks": ""
             }
            },
            "type": "scatterternary"
           }
          ],
          "surface": [
           {
            "colorbar": {
             "outlinewidth": 0,
             "ticks": ""
            },
            "colorscale": [
             [
              0,
              "#0d0887"
             ],
             [
              0.1111111111111111,
              "#46039f"
             ],
             [
              0.2222222222222222,
              "#7201a8"
             ],
             [
              0.3333333333333333,
              "#9c179e"
             ],
             [
              0.4444444444444444,
              "#bd3786"
             ],
             [
              0.5555555555555556,
              "#d8576b"
             ],
             [
              0.6666666666666666,
              "#ed7953"
             ],
             [
              0.7777777777777778,
              "#fb9f3a"
             ],
             [
              0.8888888888888888,
              "#fdca26"
             ],
             [
              1,
              "#f0f921"
             ]
            ],
            "type": "surface"
           }
          ],
          "table": [
           {
            "cells": {
             "fill": {
              "color": "#EBF0F8"
             },
             "line": {
              "color": "white"
             }
            },
            "header": {
             "fill": {
              "color": "#C8D4E3"
             },
             "line": {
              "color": "white"
             }
            },
            "type": "table"
           }
          ]
         },
         "layout": {
          "annotationdefaults": {
           "arrowcolor": "#2a3f5f",
           "arrowhead": 0,
           "arrowwidth": 1
          },
          "coloraxis": {
           "colorbar": {
            "outlinewidth": 0,
            "ticks": ""
           }
          },
          "colorscale": {
           "diverging": [
            [
             0,
             "#8e0152"
            ],
            [
             0.1,
             "#c51b7d"
            ],
            [
             0.2,
             "#de77ae"
            ],
            [
             0.3,
             "#f1b6da"
            ],
            [
             0.4,
             "#fde0ef"
            ],
            [
             0.5,
             "#f7f7f7"
            ],
            [
             0.6,
             "#e6f5d0"
            ],
            [
             0.7,
             "#b8e186"
            ],
            [
             0.8,
             "#7fbc41"
            ],
            [
             0.9,
             "#4d9221"
            ],
            [
             1,
             "#276419"
            ]
           ],
           "sequential": [
            [
             0,
             "#0d0887"
            ],
            [
             0.1111111111111111,
             "#46039f"
            ],
            [
             0.2222222222222222,
             "#7201a8"
            ],
            [
             0.3333333333333333,
             "#9c179e"
            ],
            [
             0.4444444444444444,
             "#bd3786"
            ],
            [
             0.5555555555555556,
             "#d8576b"
            ],
            [
             0.6666666666666666,
             "#ed7953"
            ],
            [
             0.7777777777777778,
             "#fb9f3a"
            ],
            [
             0.8888888888888888,
             "#fdca26"
            ],
            [
             1,
             "#f0f921"
            ]
           ],
           "sequentialminus": [
            [
             0,
             "#0d0887"
            ],
            [
             0.1111111111111111,
             "#46039f"
            ],
            [
             0.2222222222222222,
             "#7201a8"
            ],
            [
             0.3333333333333333,
             "#9c179e"
            ],
            [
             0.4444444444444444,
             "#bd3786"
            ],
            [
             0.5555555555555556,
             "#d8576b"
            ],
            [
             0.6666666666666666,
             "#ed7953"
            ],
            [
             0.7777777777777778,
             "#fb9f3a"
            ],
            [
             0.8888888888888888,
             "#fdca26"
            ],
            [
             1,
             "#f0f921"
            ]
           ]
          },
          "colorway": [
           "#636efa",
           "#EF553B",
           "#00cc96",
           "#ab63fa",
           "#FFA15A",
           "#19d3f3",
           "#FF6692",
           "#B6E880",
           "#FF97FF",
           "#FECB52"
          ],
          "font": {
           "color": "#2a3f5f"
          },
          "geo": {
           "bgcolor": "white",
           "lakecolor": "white",
           "landcolor": "#E5ECF6",
           "showlakes": true,
           "showland": true,
           "subunitcolor": "white"
          },
          "hoverlabel": {
           "align": "left"
          },
          "hovermode": "closest",
          "mapbox": {
           "style": "light"
          },
          "paper_bgcolor": "white",
          "plot_bgcolor": "#E5ECF6",
          "polar": {
           "angularaxis": {
            "gridcolor": "white",
            "linecolor": "white",
            "ticks": ""
           },
           "bgcolor": "#E5ECF6",
           "radialaxis": {
            "gridcolor": "white",
            "linecolor": "white",
            "ticks": ""
           }
          },
          "scene": {
           "xaxis": {
            "backgroundcolor": "#E5ECF6",
            "gridcolor": "white",
            "gridwidth": 2,
            "linecolor": "white",
            "showbackground": true,
            "ticks": "",
            "zerolinecolor": "white"
           },
           "yaxis": {
            "backgroundcolor": "#E5ECF6",
            "gridcolor": "white",
            "gridwidth": 2,
            "linecolor": "white",
            "showbackground": true,
            "ticks": "",
            "zerolinecolor": "white"
           },
           "zaxis": {
            "backgroundcolor": "#E5ECF6",
            "gridcolor": "white",
            "gridwidth": 2,
            "linecolor": "white",
            "showbackground": true,
            "ticks": "",
            "zerolinecolor": "white"
           }
          },
          "shapedefaults": {
           "line": {
            "color": "#2a3f5f"
           }
          },
          "ternary": {
           "aaxis": {
            "gridcolor": "white",
            "linecolor": "white",
            "ticks": ""
           },
           "baxis": {
            "gridcolor": "white",
            "linecolor": "white",
            "ticks": ""
           },
           "bgcolor": "#E5ECF6",
           "caxis": {
            "gridcolor": "white",
            "linecolor": "white",
            "ticks": ""
           }
          },
          "title": {
           "x": 0.05
          },
          "xaxis": {
           "automargin": true,
           "gridcolor": "white",
           "linecolor": "white",
           "ticks": "",
           "title": {
            "standoff": 15
           },
           "zerolinecolor": "white",
           "zerolinewidth": 2
          },
          "yaxis": {
           "automargin": true,
           "gridcolor": "white",
           "linecolor": "white",
           "ticks": "",
           "title": {
            "standoff": 15
           },
           "zerolinecolor": "white",
           "zerolinewidth": 2
          }
         }
        },
        "title": {
         "text": "Count of places by categories"
        }
       }
      },
      "text/html": [
       "<div>\n",
       "        \n",
       "        \n",
       "            <div id=\"07d93d4b-43d7-4c9c-a167-7257797536c0\" class=\"plotly-graph-div\" style=\"height:525px; width:100%;\"></div>\n",
       "            <script type=\"text/javascript\">\n",
       "                require([\"plotly\"], function(Plotly) {\n",
       "                    window.PLOTLYENV=window.PLOTLYENV || {};\n",
       "                    \n",
       "                if (document.getElementById(\"07d93d4b-43d7-4c9c-a167-7257797536c0\")) {\n",
       "                    Plotly.newPlot(\n",
       "                        '07d93d4b-43d7-4c9c-a167-7257797536c0',\n",
       "                        [{\"domain\": {\"x\": [0.0, 1.0], \"y\": [0.0, 1.0]}, \"hovertemplate\": \"label=%{label}<br>value=%{value}<extra></extra>\", \"labels\": [\"Bakery\", \"Coffee Shop\", \"Dessert Shop\", \"Food Court\"], \"legendgroup\": \"\", \"name\": \"\", \"showlegend\": true, \"type\": \"pie\", \"values\": [81, 3, 2, 1]}],\n",
       "                        {\"legend\": {\"tracegroupgap\": 0}, \"margin\": {\"t\": 60}, \"piecolorway\": [\"rgb(247, 254, 174)\", \"rgb(183, 230, 165)\", \"rgb(124, 203, 162)\", \"rgb(70, 174, 160)\", \"rgb(8, 144, 153)\", \"rgb(0, 113, 139)\", \"rgb(4, 82, 117)\"], \"template\": {\"data\": {\"bar\": [{\"error_x\": {\"color\": \"#2a3f5f\"}, \"error_y\": {\"color\": \"#2a3f5f\"}, \"marker\": {\"line\": {\"color\": \"#E5ECF6\", \"width\": 0.5}}, \"type\": \"bar\"}], \"barpolar\": [{\"marker\": {\"line\": {\"color\": \"#E5ECF6\", \"width\": 0.5}}, \"type\": \"barpolar\"}], \"carpet\": [{\"aaxis\": {\"endlinecolor\": \"#2a3f5f\", \"gridcolor\": \"white\", \"linecolor\": \"white\", \"minorgridcolor\": \"white\", \"startlinecolor\": \"#2a3f5f\"}, \"baxis\": {\"endlinecolor\": \"#2a3f5f\", \"gridcolor\": \"white\", \"linecolor\": \"white\", \"minorgridcolor\": \"white\", \"startlinecolor\": \"#2a3f5f\"}, \"type\": \"carpet\"}], \"choropleth\": [{\"colorbar\": {\"outlinewidth\": 0, \"ticks\": \"\"}, \"type\": \"choropleth\"}], \"contour\": [{\"colorbar\": {\"outlinewidth\": 0, \"ticks\": \"\"}, \"colorscale\": [[0.0, \"#0d0887\"], [0.1111111111111111, \"#46039f\"], [0.2222222222222222, \"#7201a8\"], [0.3333333333333333, \"#9c179e\"], [0.4444444444444444, \"#bd3786\"], [0.5555555555555556, \"#d8576b\"], [0.6666666666666666, \"#ed7953\"], [0.7777777777777778, \"#fb9f3a\"], [0.8888888888888888, \"#fdca26\"], [1.0, \"#f0f921\"]], \"type\": \"contour\"}], \"contourcarpet\": [{\"colorbar\": {\"outlinewidth\": 0, \"ticks\": \"\"}, \"type\": \"contourcarpet\"}], \"heatmap\": [{\"colorbar\": {\"outlinewidth\": 0, \"ticks\": \"\"}, \"colorscale\": [[0.0, \"#0d0887\"], [0.1111111111111111, \"#46039f\"], [0.2222222222222222, \"#7201a8\"], [0.3333333333333333, \"#9c179e\"], [0.4444444444444444, \"#bd3786\"], [0.5555555555555556, \"#d8576b\"], [0.6666666666666666, \"#ed7953\"], [0.7777777777777778, \"#fb9f3a\"], [0.8888888888888888, \"#fdca26\"], [1.0, \"#f0f921\"]], \"type\": \"heatmap\"}], \"heatmapgl\": [{\"colorbar\": {\"outlinewidth\": 0, \"ticks\": \"\"}, \"colorscale\": [[0.0, \"#0d0887\"], [0.1111111111111111, \"#46039f\"], [0.2222222222222222, \"#7201a8\"], [0.3333333333333333, \"#9c179e\"], [0.4444444444444444, \"#bd3786\"], [0.5555555555555556, \"#d8576b\"], [0.6666666666666666, \"#ed7953\"], [0.7777777777777778, \"#fb9f3a\"], [0.8888888888888888, \"#fdca26\"], [1.0, \"#f0f921\"]], \"type\": \"heatmapgl\"}], \"histogram\": [{\"marker\": {\"colorbar\": {\"outlinewidth\": 0, \"ticks\": \"\"}}, \"type\": \"histogram\"}], \"histogram2d\": [{\"colorbar\": {\"outlinewidth\": 0, \"ticks\": \"\"}, \"colorscale\": [[0.0, \"#0d0887\"], [0.1111111111111111, \"#46039f\"], [0.2222222222222222, \"#7201a8\"], [0.3333333333333333, \"#9c179e\"], [0.4444444444444444, \"#bd3786\"], [0.5555555555555556, \"#d8576b\"], [0.6666666666666666, \"#ed7953\"], [0.7777777777777778, \"#fb9f3a\"], [0.8888888888888888, \"#fdca26\"], [1.0, \"#f0f921\"]], \"type\": \"histogram2d\"}], \"histogram2dcontour\": [{\"colorbar\": {\"outlinewidth\": 0, \"ticks\": \"\"}, \"colorscale\": [[0.0, \"#0d0887\"], [0.1111111111111111, \"#46039f\"], [0.2222222222222222, \"#7201a8\"], [0.3333333333333333, \"#9c179e\"], [0.4444444444444444, \"#bd3786\"], [0.5555555555555556, \"#d8576b\"], [0.6666666666666666, \"#ed7953\"], [0.7777777777777778, \"#fb9f3a\"], [0.8888888888888888, \"#fdca26\"], [1.0, \"#f0f921\"]], \"type\": \"histogram2dcontour\"}], \"mesh3d\": [{\"colorbar\": {\"outlinewidth\": 0, \"ticks\": \"\"}, \"type\": \"mesh3d\"}], \"parcoords\": [{\"line\": {\"colorbar\": {\"outlinewidth\": 0, \"ticks\": \"\"}}, \"type\": \"parcoords\"}], \"pie\": [{\"automargin\": true, \"type\": \"pie\"}], \"scatter\": [{\"marker\": {\"colorbar\": {\"outlinewidth\": 0, \"ticks\": \"\"}}, \"type\": \"scatter\"}], \"scatter3d\": [{\"line\": {\"colorbar\": {\"outlinewidth\": 0, \"ticks\": \"\"}}, \"marker\": {\"colorbar\": {\"outlinewidth\": 0, \"ticks\": \"\"}}, \"type\": \"scatter3d\"}], \"scattercarpet\": [{\"marker\": {\"colorbar\": {\"outlinewidth\": 0, \"ticks\": \"\"}}, \"type\": \"scattercarpet\"}], \"scattergeo\": [{\"marker\": {\"colorbar\": {\"outlinewidth\": 0, \"ticks\": \"\"}}, \"type\": \"scattergeo\"}], \"scattergl\": [{\"marker\": {\"colorbar\": {\"outlinewidth\": 0, \"ticks\": \"\"}}, \"type\": \"scattergl\"}], \"scattermapbox\": [{\"marker\": {\"colorbar\": {\"outlinewidth\": 0, \"ticks\": \"\"}}, \"type\": \"scattermapbox\"}], \"scatterpolar\": [{\"marker\": {\"colorbar\": {\"outlinewidth\": 0, \"ticks\": \"\"}}, \"type\": \"scatterpolar\"}], \"scatterpolargl\": [{\"marker\": {\"colorbar\": {\"outlinewidth\": 0, \"ticks\": \"\"}}, \"type\": \"scatterpolargl\"}], \"scatterternary\": [{\"marker\": {\"colorbar\": {\"outlinewidth\": 0, \"ticks\": \"\"}}, \"type\": \"scatterternary\"}], \"surface\": [{\"colorbar\": {\"outlinewidth\": 0, \"ticks\": \"\"}, \"colorscale\": [[0.0, \"#0d0887\"], [0.1111111111111111, \"#46039f\"], [0.2222222222222222, \"#7201a8\"], [0.3333333333333333, \"#9c179e\"], [0.4444444444444444, \"#bd3786\"], [0.5555555555555556, \"#d8576b\"], [0.6666666666666666, \"#ed7953\"], [0.7777777777777778, \"#fb9f3a\"], [0.8888888888888888, \"#fdca26\"], [1.0, \"#f0f921\"]], \"type\": \"surface\"}], \"table\": [{\"cells\": {\"fill\": {\"color\": \"#EBF0F8\"}, \"line\": {\"color\": \"white\"}}, \"header\": {\"fill\": {\"color\": \"#C8D4E3\"}, \"line\": {\"color\": \"white\"}}, \"type\": \"table\"}]}, \"layout\": {\"annotationdefaults\": {\"arrowcolor\": \"#2a3f5f\", \"arrowhead\": 0, \"arrowwidth\": 1}, \"coloraxis\": {\"colorbar\": {\"outlinewidth\": 0, \"ticks\": \"\"}}, \"colorscale\": {\"diverging\": [[0, \"#8e0152\"], [0.1, \"#c51b7d\"], [0.2, \"#de77ae\"], [0.3, \"#f1b6da\"], [0.4, \"#fde0ef\"], [0.5, \"#f7f7f7\"], [0.6, \"#e6f5d0\"], [0.7, \"#b8e186\"], [0.8, \"#7fbc41\"], [0.9, \"#4d9221\"], [1, \"#276419\"]], \"sequential\": [[0.0, \"#0d0887\"], [0.1111111111111111, \"#46039f\"], [0.2222222222222222, \"#7201a8\"], [0.3333333333333333, \"#9c179e\"], [0.4444444444444444, \"#bd3786\"], [0.5555555555555556, \"#d8576b\"], [0.6666666666666666, \"#ed7953\"], [0.7777777777777778, \"#fb9f3a\"], [0.8888888888888888, \"#fdca26\"], [1.0, \"#f0f921\"]], \"sequentialminus\": [[0.0, \"#0d0887\"], [0.1111111111111111, \"#46039f\"], [0.2222222222222222, \"#7201a8\"], [0.3333333333333333, \"#9c179e\"], [0.4444444444444444, \"#bd3786\"], [0.5555555555555556, \"#d8576b\"], [0.6666666666666666, \"#ed7953\"], [0.7777777777777778, \"#fb9f3a\"], [0.8888888888888888, \"#fdca26\"], [1.0, \"#f0f921\"]]}, \"colorway\": [\"#636efa\", \"#EF553B\", \"#00cc96\", \"#ab63fa\", \"#FFA15A\", \"#19d3f3\", \"#FF6692\", \"#B6E880\", \"#FF97FF\", \"#FECB52\"], \"font\": {\"color\": \"#2a3f5f\"}, \"geo\": {\"bgcolor\": \"white\", \"lakecolor\": \"white\", \"landcolor\": \"#E5ECF6\", \"showlakes\": true, \"showland\": true, \"subunitcolor\": \"white\"}, \"hoverlabel\": {\"align\": \"left\"}, \"hovermode\": \"closest\", \"mapbox\": {\"style\": \"light\"}, \"paper_bgcolor\": \"white\", \"plot_bgcolor\": \"#E5ECF6\", \"polar\": {\"angularaxis\": {\"gridcolor\": \"white\", \"linecolor\": \"white\", \"ticks\": \"\"}, \"bgcolor\": \"#E5ECF6\", \"radialaxis\": {\"gridcolor\": \"white\", \"linecolor\": \"white\", \"ticks\": \"\"}}, \"scene\": {\"xaxis\": {\"backgroundcolor\": \"#E5ECF6\", \"gridcolor\": \"white\", \"gridwidth\": 2, \"linecolor\": \"white\", \"showbackground\": true, \"ticks\": \"\", \"zerolinecolor\": \"white\"}, \"yaxis\": {\"backgroundcolor\": \"#E5ECF6\", \"gridcolor\": \"white\", \"gridwidth\": 2, \"linecolor\": \"white\", \"showbackground\": true, \"ticks\": \"\", \"zerolinecolor\": \"white\"}, \"zaxis\": {\"backgroundcolor\": \"#E5ECF6\", \"gridcolor\": \"white\", \"gridwidth\": 2, \"linecolor\": \"white\", \"showbackground\": true, \"ticks\": \"\", \"zerolinecolor\": \"white\"}}, \"shapedefaults\": {\"line\": {\"color\": \"#2a3f5f\"}}, \"ternary\": {\"aaxis\": {\"gridcolor\": \"white\", \"linecolor\": \"white\", \"ticks\": \"\"}, \"baxis\": {\"gridcolor\": \"white\", \"linecolor\": \"white\", \"ticks\": \"\"}, \"bgcolor\": \"#E5ECF6\", \"caxis\": {\"gridcolor\": \"white\", \"linecolor\": \"white\", \"ticks\": \"\"}}, \"title\": {\"x\": 0.05}, \"xaxis\": {\"automargin\": true, \"gridcolor\": \"white\", \"linecolor\": \"white\", \"ticks\": \"\", \"title\": {\"standoff\": 15}, \"zerolinecolor\": \"white\", \"zerolinewidth\": 2}, \"yaxis\": {\"automargin\": true, \"gridcolor\": \"white\", \"linecolor\": \"white\", \"ticks\": \"\", \"title\": {\"standoff\": 15}, \"zerolinecolor\": \"white\", \"zerolinewidth\": 2}}}, \"title\": {\"text\": \"Count of places by categories\"}},\n",
       "                        {\"responsive\": true}\n",
       "                    ).then(function(){\n",
       "                            \n",
       "var gd = document.getElementById('07d93d4b-43d7-4c9c-a167-7257797536c0');\n",
       "var x = new MutationObserver(function (mutations, observer) {{\n",
       "        var display = window.getComputedStyle(gd).display;\n",
       "        if (!display || display === 'none') {{\n",
       "            console.log([gd, 'removed!']);\n",
       "            Plotly.purge(gd);\n",
       "            observer.disconnect();\n",
       "        }}\n",
       "}});\n",
       "\n",
       "// Listen for the removal of the full notebook cells\n",
       "var notebookContainer = gd.closest('#notebook-container');\n",
       "if (notebookContainer) {{\n",
       "    x.observe(notebookContainer, {childList: true});\n",
       "}}\n",
       "\n",
       "// Listen for the clearing of the current output cell\n",
       "var outputEl = gd.closest('.output');\n",
       "if (outputEl) {{\n",
       "    x.observe(outputEl, {childList: true});\n",
       "}}\n",
       "\n",
       "                        })\n",
       "                };\n",
       "                });\n",
       "            </script>\n",
       "        </div>"
      ]
     },
     "metadata": {},
     "output_type": "display_data"
    }
   ],
   "source": [
    "categories_labels = bakery_full_df['categories'].value_counts().index\n",
    "categories_values = bakery_full_df['categories'].value_counts().values\n",
    "\n",
    "fig = px.pie(bakery_full_df, values=categories_values, names=categories_labels,\n",
    "            color_discrete_sequence=px.colors.sequential.Bluyl)\n",
    "fig.update_layout(\n",
    "    title = 'Count of places by categories')\n",
    "fig.show()"
   ]
  },
  {
   "cell_type": "code",
   "execution_count": 98,
   "metadata": {
    "ExecuteTime": {
     "end_time": "2020-07-08T12:41:00.274663Z",
     "start_time": "2020-07-08T12:41:00.224798Z"
    },
    "cell_style": "split"
   },
   "outputs": [
    {
     "data": {
      "application/vnd.plotly.v1+json": {
       "config": {
        "plotlyServerURL": "https://plot.ly"
       },
       "data": [
        {
         "domain": {
          "x": [
           0,
           1
          ],
          "y": [
           0,
           1
          ]
         },
         "hovertemplate": "label=%{label}<br>value=%{value}<extra></extra>",
         "labels": [
          "Центральный район",
          "Советский район",
          "Партизанский район",
          "Первомайский район",
          "Октябрьский район",
          "Московский район",
          "Фрунзенский район",
          "Заводской район"
         ],
         "legendgroup": "",
         "name": "",
         "showlegend": true,
         "type": "pie",
         "values": [
          25,
          23,
          9,
          9,
          8,
          5,
          4,
          4
         ]
        }
       ],
       "layout": {
        "legend": {
         "tracegroupgap": 0
        },
        "margin": {
         "t": 60
        },
        "piecolorway": [
         "rgb(247, 254, 174)",
         "rgb(183, 230, 165)",
         "rgb(124, 203, 162)",
         "rgb(70, 174, 160)",
         "rgb(8, 144, 153)",
         "rgb(0, 113, 139)",
         "rgb(4, 82, 117)"
        ],
        "template": {
         "data": {
          "bar": [
           {
            "error_x": {
             "color": "#2a3f5f"
            },
            "error_y": {
             "color": "#2a3f5f"
            },
            "marker": {
             "line": {
              "color": "#E5ECF6",
              "width": 0.5
             }
            },
            "type": "bar"
           }
          ],
          "barpolar": [
           {
            "marker": {
             "line": {
              "color": "#E5ECF6",
              "width": 0.5
             }
            },
            "type": "barpolar"
           }
          ],
          "carpet": [
           {
            "aaxis": {
             "endlinecolor": "#2a3f5f",
             "gridcolor": "white",
             "linecolor": "white",
             "minorgridcolor": "white",
             "startlinecolor": "#2a3f5f"
            },
            "baxis": {
             "endlinecolor": "#2a3f5f",
             "gridcolor": "white",
             "linecolor": "white",
             "minorgridcolor": "white",
             "startlinecolor": "#2a3f5f"
            },
            "type": "carpet"
           }
          ],
          "choropleth": [
           {
            "colorbar": {
             "outlinewidth": 0,
             "ticks": ""
            },
            "type": "choropleth"
           }
          ],
          "contour": [
           {
            "colorbar": {
             "outlinewidth": 0,
             "ticks": ""
            },
            "colorscale": [
             [
              0,
              "#0d0887"
             ],
             [
              0.1111111111111111,
              "#46039f"
             ],
             [
              0.2222222222222222,
              "#7201a8"
             ],
             [
              0.3333333333333333,
              "#9c179e"
             ],
             [
              0.4444444444444444,
              "#bd3786"
             ],
             [
              0.5555555555555556,
              "#d8576b"
             ],
             [
              0.6666666666666666,
              "#ed7953"
             ],
             [
              0.7777777777777778,
              "#fb9f3a"
             ],
             [
              0.8888888888888888,
              "#fdca26"
             ],
             [
              1,
              "#f0f921"
             ]
            ],
            "type": "contour"
           }
          ],
          "contourcarpet": [
           {
            "colorbar": {
             "outlinewidth": 0,
             "ticks": ""
            },
            "type": "contourcarpet"
           }
          ],
          "heatmap": [
           {
            "colorbar": {
             "outlinewidth": 0,
             "ticks": ""
            },
            "colorscale": [
             [
              0,
              "#0d0887"
             ],
             [
              0.1111111111111111,
              "#46039f"
             ],
             [
              0.2222222222222222,
              "#7201a8"
             ],
             [
              0.3333333333333333,
              "#9c179e"
             ],
             [
              0.4444444444444444,
              "#bd3786"
             ],
             [
              0.5555555555555556,
              "#d8576b"
             ],
             [
              0.6666666666666666,
              "#ed7953"
             ],
             [
              0.7777777777777778,
              "#fb9f3a"
             ],
             [
              0.8888888888888888,
              "#fdca26"
             ],
             [
              1,
              "#f0f921"
             ]
            ],
            "type": "heatmap"
           }
          ],
          "heatmapgl": [
           {
            "colorbar": {
             "outlinewidth": 0,
             "ticks": ""
            },
            "colorscale": [
             [
              0,
              "#0d0887"
             ],
             [
              0.1111111111111111,
              "#46039f"
             ],
             [
              0.2222222222222222,
              "#7201a8"
             ],
             [
              0.3333333333333333,
              "#9c179e"
             ],
             [
              0.4444444444444444,
              "#bd3786"
             ],
             [
              0.5555555555555556,
              "#d8576b"
             ],
             [
              0.6666666666666666,
              "#ed7953"
             ],
             [
              0.7777777777777778,
              "#fb9f3a"
             ],
             [
              0.8888888888888888,
              "#fdca26"
             ],
             [
              1,
              "#f0f921"
             ]
            ],
            "type": "heatmapgl"
           }
          ],
          "histogram": [
           {
            "marker": {
             "colorbar": {
              "outlinewidth": 0,
              "ticks": ""
             }
            },
            "type": "histogram"
           }
          ],
          "histogram2d": [
           {
            "colorbar": {
             "outlinewidth": 0,
             "ticks": ""
            },
            "colorscale": [
             [
              0,
              "#0d0887"
             ],
             [
              0.1111111111111111,
              "#46039f"
             ],
             [
              0.2222222222222222,
              "#7201a8"
             ],
             [
              0.3333333333333333,
              "#9c179e"
             ],
             [
              0.4444444444444444,
              "#bd3786"
             ],
             [
              0.5555555555555556,
              "#d8576b"
             ],
             [
              0.6666666666666666,
              "#ed7953"
             ],
             [
              0.7777777777777778,
              "#fb9f3a"
             ],
             [
              0.8888888888888888,
              "#fdca26"
             ],
             [
              1,
              "#f0f921"
             ]
            ],
            "type": "histogram2d"
           }
          ],
          "histogram2dcontour": [
           {
            "colorbar": {
             "outlinewidth": 0,
             "ticks": ""
            },
            "colorscale": [
             [
              0,
              "#0d0887"
             ],
             [
              0.1111111111111111,
              "#46039f"
             ],
             [
              0.2222222222222222,
              "#7201a8"
             ],
             [
              0.3333333333333333,
              "#9c179e"
             ],
             [
              0.4444444444444444,
              "#bd3786"
             ],
             [
              0.5555555555555556,
              "#d8576b"
             ],
             [
              0.6666666666666666,
              "#ed7953"
             ],
             [
              0.7777777777777778,
              "#fb9f3a"
             ],
             [
              0.8888888888888888,
              "#fdca26"
             ],
             [
              1,
              "#f0f921"
             ]
            ],
            "type": "histogram2dcontour"
           }
          ],
          "mesh3d": [
           {
            "colorbar": {
             "outlinewidth": 0,
             "ticks": ""
            },
            "type": "mesh3d"
           }
          ],
          "parcoords": [
           {
            "line": {
             "colorbar": {
              "outlinewidth": 0,
              "ticks": ""
             }
            },
            "type": "parcoords"
           }
          ],
          "pie": [
           {
            "automargin": true,
            "type": "pie"
           }
          ],
          "scatter": [
           {
            "marker": {
             "colorbar": {
              "outlinewidth": 0,
              "ticks": ""
             }
            },
            "type": "scatter"
           }
          ],
          "scatter3d": [
           {
            "line": {
             "colorbar": {
              "outlinewidth": 0,
              "ticks": ""
             }
            },
            "marker": {
             "colorbar": {
              "outlinewidth": 0,
              "ticks": ""
             }
            },
            "type": "scatter3d"
           }
          ],
          "scattercarpet": [
           {
            "marker": {
             "colorbar": {
              "outlinewidth": 0,
              "ticks": ""
             }
            },
            "type": "scattercarpet"
           }
          ],
          "scattergeo": [
           {
            "marker": {
             "colorbar": {
              "outlinewidth": 0,
              "ticks": ""
             }
            },
            "type": "scattergeo"
           }
          ],
          "scattergl": [
           {
            "marker": {
             "colorbar": {
              "outlinewidth": 0,
              "ticks": ""
             }
            },
            "type": "scattergl"
           }
          ],
          "scattermapbox": [
           {
            "marker": {
             "colorbar": {
              "outlinewidth": 0,
              "ticks": ""
             }
            },
            "type": "scattermapbox"
           }
          ],
          "scatterpolar": [
           {
            "marker": {
             "colorbar": {
              "outlinewidth": 0,
              "ticks": ""
             }
            },
            "type": "scatterpolar"
           }
          ],
          "scatterpolargl": [
           {
            "marker": {
             "colorbar": {
              "outlinewidth": 0,
              "ticks": ""
             }
            },
            "type": "scatterpolargl"
           }
          ],
          "scatterternary": [
           {
            "marker": {
             "colorbar": {
              "outlinewidth": 0,
              "ticks": ""
             }
            },
            "type": "scatterternary"
           }
          ],
          "surface": [
           {
            "colorbar": {
             "outlinewidth": 0,
             "ticks": ""
            },
            "colorscale": [
             [
              0,
              "#0d0887"
             ],
             [
              0.1111111111111111,
              "#46039f"
             ],
             [
              0.2222222222222222,
              "#7201a8"
             ],
             [
              0.3333333333333333,
              "#9c179e"
             ],
             [
              0.4444444444444444,
              "#bd3786"
             ],
             [
              0.5555555555555556,
              "#d8576b"
             ],
             [
              0.6666666666666666,
              "#ed7953"
             ],
             [
              0.7777777777777778,
              "#fb9f3a"
             ],
             [
              0.8888888888888888,
              "#fdca26"
             ],
             [
              1,
              "#f0f921"
             ]
            ],
            "type": "surface"
           }
          ],
          "table": [
           {
            "cells": {
             "fill": {
              "color": "#EBF0F8"
             },
             "line": {
              "color": "white"
             }
            },
            "header": {
             "fill": {
              "color": "#C8D4E3"
             },
             "line": {
              "color": "white"
             }
            },
            "type": "table"
           }
          ]
         },
         "layout": {
          "annotationdefaults": {
           "arrowcolor": "#2a3f5f",
           "arrowhead": 0,
           "arrowwidth": 1
          },
          "coloraxis": {
           "colorbar": {
            "outlinewidth": 0,
            "ticks": ""
           }
          },
          "colorscale": {
           "diverging": [
            [
             0,
             "#8e0152"
            ],
            [
             0.1,
             "#c51b7d"
            ],
            [
             0.2,
             "#de77ae"
            ],
            [
             0.3,
             "#f1b6da"
            ],
            [
             0.4,
             "#fde0ef"
            ],
            [
             0.5,
             "#f7f7f7"
            ],
            [
             0.6,
             "#e6f5d0"
            ],
            [
             0.7,
             "#b8e186"
            ],
            [
             0.8,
             "#7fbc41"
            ],
            [
             0.9,
             "#4d9221"
            ],
            [
             1,
             "#276419"
            ]
           ],
           "sequential": [
            [
             0,
             "#0d0887"
            ],
            [
             0.1111111111111111,
             "#46039f"
            ],
            [
             0.2222222222222222,
             "#7201a8"
            ],
            [
             0.3333333333333333,
             "#9c179e"
            ],
            [
             0.4444444444444444,
             "#bd3786"
            ],
            [
             0.5555555555555556,
             "#d8576b"
            ],
            [
             0.6666666666666666,
             "#ed7953"
            ],
            [
             0.7777777777777778,
             "#fb9f3a"
            ],
            [
             0.8888888888888888,
             "#fdca26"
            ],
            [
             1,
             "#f0f921"
            ]
           ],
           "sequentialminus": [
            [
             0,
             "#0d0887"
            ],
            [
             0.1111111111111111,
             "#46039f"
            ],
            [
             0.2222222222222222,
             "#7201a8"
            ],
            [
             0.3333333333333333,
             "#9c179e"
            ],
            [
             0.4444444444444444,
             "#bd3786"
            ],
            [
             0.5555555555555556,
             "#d8576b"
            ],
            [
             0.6666666666666666,
             "#ed7953"
            ],
            [
             0.7777777777777778,
             "#fb9f3a"
            ],
            [
             0.8888888888888888,
             "#fdca26"
            ],
            [
             1,
             "#f0f921"
            ]
           ]
          },
          "colorway": [
           "#636efa",
           "#EF553B",
           "#00cc96",
           "#ab63fa",
           "#FFA15A",
           "#19d3f3",
           "#FF6692",
           "#B6E880",
           "#FF97FF",
           "#FECB52"
          ],
          "font": {
           "color": "#2a3f5f"
          },
          "geo": {
           "bgcolor": "white",
           "lakecolor": "white",
           "landcolor": "#E5ECF6",
           "showlakes": true,
           "showland": true,
           "subunitcolor": "white"
          },
          "hoverlabel": {
           "align": "left"
          },
          "hovermode": "closest",
          "mapbox": {
           "style": "light"
          },
          "paper_bgcolor": "white",
          "plot_bgcolor": "#E5ECF6",
          "polar": {
           "angularaxis": {
            "gridcolor": "white",
            "linecolor": "white",
            "ticks": ""
           },
           "bgcolor": "#E5ECF6",
           "radialaxis": {
            "gridcolor": "white",
            "linecolor": "white",
            "ticks": ""
           }
          },
          "scene": {
           "xaxis": {
            "backgroundcolor": "#E5ECF6",
            "gridcolor": "white",
            "gridwidth": 2,
            "linecolor": "white",
            "showbackground": true,
            "ticks": "",
            "zerolinecolor": "white"
           },
           "yaxis": {
            "backgroundcolor": "#E5ECF6",
            "gridcolor": "white",
            "gridwidth": 2,
            "linecolor": "white",
            "showbackground": true,
            "ticks": "",
            "zerolinecolor": "white"
           },
           "zaxis": {
            "backgroundcolor": "#E5ECF6",
            "gridcolor": "white",
            "gridwidth": 2,
            "linecolor": "white",
            "showbackground": true,
            "ticks": "",
            "zerolinecolor": "white"
           }
          },
          "shapedefaults": {
           "line": {
            "color": "#2a3f5f"
           }
          },
          "ternary": {
           "aaxis": {
            "gridcolor": "white",
            "linecolor": "white",
            "ticks": ""
           },
           "baxis": {
            "gridcolor": "white",
            "linecolor": "white",
            "ticks": ""
           },
           "bgcolor": "#E5ECF6",
           "caxis": {
            "gridcolor": "white",
            "linecolor": "white",
            "ticks": ""
           }
          },
          "title": {
           "x": 0.05
          },
          "xaxis": {
           "automargin": true,
           "gridcolor": "white",
           "linecolor": "white",
           "ticks": "",
           "title": {
            "standoff": 15
           },
           "zerolinecolor": "white",
           "zerolinewidth": 2
          },
          "yaxis": {
           "automargin": true,
           "gridcolor": "white",
           "linecolor": "white",
           "ticks": "",
           "title": {
            "standoff": 15
           },
           "zerolinecolor": "white",
           "zerolinewidth": 2
          }
         }
        },
        "title": {
         "text": "Count of places by district"
        }
       }
      },
      "text/html": [
       "<div>\n",
       "        \n",
       "        \n",
       "            <div id=\"68a30a8c-27c3-4b86-b39a-82afb8854bc1\" class=\"plotly-graph-div\" style=\"height:525px; width:100%;\"></div>\n",
       "            <script type=\"text/javascript\">\n",
       "                require([\"plotly\"], function(Plotly) {\n",
       "                    window.PLOTLYENV=window.PLOTLYENV || {};\n",
       "                    \n",
       "                if (document.getElementById(\"68a30a8c-27c3-4b86-b39a-82afb8854bc1\")) {\n",
       "                    Plotly.newPlot(\n",
       "                        '68a30a8c-27c3-4b86-b39a-82afb8854bc1',\n",
       "                        [{\"domain\": {\"x\": [0.0, 1.0], \"y\": [0.0, 1.0]}, \"hovertemplate\": \"label=%{label}<br>value=%{value}<extra></extra>\", \"labels\": [\"\\u0426\\u0435\\u043d\\u0442\\u0440\\u0430\\u043b\\u044c\\u043d\\u044b\\u0439 \\u0440\\u0430\\u0439\\u043e\\u043d\", \"\\u0421\\u043e\\u0432\\u0435\\u0442\\u0441\\u043a\\u0438\\u0439 \\u0440\\u0430\\u0439\\u043e\\u043d\", \"\\u041f\\u0430\\u0440\\u0442\\u0438\\u0437\\u0430\\u043d\\u0441\\u043a\\u0438\\u0439 \\u0440\\u0430\\u0439\\u043e\\u043d\", \"\\u041f\\u0435\\u0440\\u0432\\u043e\\u043c\\u0430\\u0439\\u0441\\u043a\\u0438\\u0439 \\u0440\\u0430\\u0439\\u043e\\u043d\", \"\\u041e\\u043a\\u0442\\u044f\\u0431\\u0440\\u044c\\u0441\\u043a\\u0438\\u0439 \\u0440\\u0430\\u0439\\u043e\\u043d\", \"\\u041c\\u043e\\u0441\\u043a\\u043e\\u0432\\u0441\\u043a\\u0438\\u0439 \\u0440\\u0430\\u0439\\u043e\\u043d\", \"\\u0424\\u0440\\u0443\\u043d\\u0437\\u0435\\u043d\\u0441\\u043a\\u0438\\u0439 \\u0440\\u0430\\u0439\\u043e\\u043d\", \"\\u0417\\u0430\\u0432\\u043e\\u0434\\u0441\\u043a\\u043e\\u0439 \\u0440\\u0430\\u0439\\u043e\\u043d\"], \"legendgroup\": \"\", \"name\": \"\", \"showlegend\": true, \"type\": \"pie\", \"values\": [25, 23, 9, 9, 8, 5, 4, 4]}],\n",
       "                        {\"legend\": {\"tracegroupgap\": 0}, \"margin\": {\"t\": 60}, \"piecolorway\": [\"rgb(247, 254, 174)\", \"rgb(183, 230, 165)\", \"rgb(124, 203, 162)\", \"rgb(70, 174, 160)\", \"rgb(8, 144, 153)\", \"rgb(0, 113, 139)\", \"rgb(4, 82, 117)\"], \"template\": {\"data\": {\"bar\": [{\"error_x\": {\"color\": \"#2a3f5f\"}, \"error_y\": {\"color\": \"#2a3f5f\"}, \"marker\": {\"line\": {\"color\": \"#E5ECF6\", \"width\": 0.5}}, \"type\": \"bar\"}], \"barpolar\": [{\"marker\": {\"line\": {\"color\": \"#E5ECF6\", \"width\": 0.5}}, \"type\": \"barpolar\"}], \"carpet\": [{\"aaxis\": {\"endlinecolor\": \"#2a3f5f\", \"gridcolor\": \"white\", \"linecolor\": \"white\", \"minorgridcolor\": \"white\", \"startlinecolor\": \"#2a3f5f\"}, \"baxis\": {\"endlinecolor\": \"#2a3f5f\", \"gridcolor\": \"white\", \"linecolor\": \"white\", \"minorgridcolor\": \"white\", \"startlinecolor\": \"#2a3f5f\"}, \"type\": \"carpet\"}], \"choropleth\": [{\"colorbar\": {\"outlinewidth\": 0, \"ticks\": \"\"}, \"type\": \"choropleth\"}], \"contour\": [{\"colorbar\": {\"outlinewidth\": 0, \"ticks\": \"\"}, \"colorscale\": [[0.0, \"#0d0887\"], [0.1111111111111111, \"#46039f\"], [0.2222222222222222, \"#7201a8\"], [0.3333333333333333, \"#9c179e\"], [0.4444444444444444, \"#bd3786\"], [0.5555555555555556, \"#d8576b\"], [0.6666666666666666, \"#ed7953\"], [0.7777777777777778, \"#fb9f3a\"], [0.8888888888888888, \"#fdca26\"], [1.0, \"#f0f921\"]], \"type\": \"contour\"}], \"contourcarpet\": [{\"colorbar\": {\"outlinewidth\": 0, \"ticks\": \"\"}, \"type\": \"contourcarpet\"}], \"heatmap\": [{\"colorbar\": {\"outlinewidth\": 0, \"ticks\": \"\"}, \"colorscale\": [[0.0, \"#0d0887\"], [0.1111111111111111, \"#46039f\"], [0.2222222222222222, \"#7201a8\"], [0.3333333333333333, \"#9c179e\"], [0.4444444444444444, \"#bd3786\"], [0.5555555555555556, \"#d8576b\"], [0.6666666666666666, \"#ed7953\"], [0.7777777777777778, \"#fb9f3a\"], [0.8888888888888888, \"#fdca26\"], [1.0, \"#f0f921\"]], \"type\": \"heatmap\"}], \"heatmapgl\": [{\"colorbar\": {\"outlinewidth\": 0, \"ticks\": \"\"}, \"colorscale\": [[0.0, \"#0d0887\"], [0.1111111111111111, \"#46039f\"], [0.2222222222222222, \"#7201a8\"], [0.3333333333333333, \"#9c179e\"], [0.4444444444444444, \"#bd3786\"], [0.5555555555555556, \"#d8576b\"], [0.6666666666666666, \"#ed7953\"], [0.7777777777777778, \"#fb9f3a\"], [0.8888888888888888, \"#fdca26\"], [1.0, \"#f0f921\"]], \"type\": \"heatmapgl\"}], \"histogram\": [{\"marker\": {\"colorbar\": {\"outlinewidth\": 0, \"ticks\": \"\"}}, \"type\": \"histogram\"}], \"histogram2d\": [{\"colorbar\": {\"outlinewidth\": 0, \"ticks\": \"\"}, \"colorscale\": [[0.0, \"#0d0887\"], [0.1111111111111111, \"#46039f\"], [0.2222222222222222, \"#7201a8\"], [0.3333333333333333, \"#9c179e\"], [0.4444444444444444, \"#bd3786\"], [0.5555555555555556, \"#d8576b\"], [0.6666666666666666, \"#ed7953\"], [0.7777777777777778, \"#fb9f3a\"], [0.8888888888888888, \"#fdca26\"], [1.0, \"#f0f921\"]], \"type\": \"histogram2d\"}], \"histogram2dcontour\": [{\"colorbar\": {\"outlinewidth\": 0, \"ticks\": \"\"}, \"colorscale\": [[0.0, \"#0d0887\"], [0.1111111111111111, \"#46039f\"], [0.2222222222222222, \"#7201a8\"], [0.3333333333333333, \"#9c179e\"], [0.4444444444444444, \"#bd3786\"], [0.5555555555555556, \"#d8576b\"], [0.6666666666666666, \"#ed7953\"], [0.7777777777777778, \"#fb9f3a\"], [0.8888888888888888, \"#fdca26\"], [1.0, \"#f0f921\"]], \"type\": \"histogram2dcontour\"}], \"mesh3d\": [{\"colorbar\": {\"outlinewidth\": 0, \"ticks\": \"\"}, \"type\": \"mesh3d\"}], \"parcoords\": [{\"line\": {\"colorbar\": {\"outlinewidth\": 0, \"ticks\": \"\"}}, \"type\": \"parcoords\"}], \"pie\": [{\"automargin\": true, \"type\": \"pie\"}], \"scatter\": [{\"marker\": {\"colorbar\": {\"outlinewidth\": 0, \"ticks\": \"\"}}, \"type\": \"scatter\"}], \"scatter3d\": [{\"line\": {\"colorbar\": {\"outlinewidth\": 0, \"ticks\": \"\"}}, \"marker\": {\"colorbar\": {\"outlinewidth\": 0, \"ticks\": \"\"}}, \"type\": \"scatter3d\"}], \"scattercarpet\": [{\"marker\": {\"colorbar\": {\"outlinewidth\": 0, \"ticks\": \"\"}}, \"type\": \"scattercarpet\"}], \"scattergeo\": [{\"marker\": {\"colorbar\": {\"outlinewidth\": 0, \"ticks\": \"\"}}, \"type\": \"scattergeo\"}], \"scattergl\": [{\"marker\": {\"colorbar\": {\"outlinewidth\": 0, \"ticks\": \"\"}}, \"type\": \"scattergl\"}], \"scattermapbox\": [{\"marker\": {\"colorbar\": {\"outlinewidth\": 0, \"ticks\": \"\"}}, \"type\": \"scattermapbox\"}], \"scatterpolar\": [{\"marker\": {\"colorbar\": {\"outlinewidth\": 0, \"ticks\": \"\"}}, \"type\": \"scatterpolar\"}], \"scatterpolargl\": [{\"marker\": {\"colorbar\": {\"outlinewidth\": 0, \"ticks\": \"\"}}, \"type\": \"scatterpolargl\"}], \"scatterternary\": [{\"marker\": {\"colorbar\": {\"outlinewidth\": 0, \"ticks\": \"\"}}, \"type\": \"scatterternary\"}], \"surface\": [{\"colorbar\": {\"outlinewidth\": 0, \"ticks\": \"\"}, \"colorscale\": [[0.0, \"#0d0887\"], [0.1111111111111111, \"#46039f\"], [0.2222222222222222, \"#7201a8\"], [0.3333333333333333, \"#9c179e\"], [0.4444444444444444, \"#bd3786\"], [0.5555555555555556, \"#d8576b\"], [0.6666666666666666, \"#ed7953\"], [0.7777777777777778, \"#fb9f3a\"], [0.8888888888888888, \"#fdca26\"], [1.0, \"#f0f921\"]], \"type\": \"surface\"}], \"table\": [{\"cells\": {\"fill\": {\"color\": \"#EBF0F8\"}, \"line\": {\"color\": \"white\"}}, \"header\": {\"fill\": {\"color\": \"#C8D4E3\"}, \"line\": {\"color\": \"white\"}}, \"type\": \"table\"}]}, \"layout\": {\"annotationdefaults\": {\"arrowcolor\": \"#2a3f5f\", \"arrowhead\": 0, \"arrowwidth\": 1}, \"coloraxis\": {\"colorbar\": {\"outlinewidth\": 0, \"ticks\": \"\"}}, \"colorscale\": {\"diverging\": [[0, \"#8e0152\"], [0.1, \"#c51b7d\"], [0.2, \"#de77ae\"], [0.3, \"#f1b6da\"], [0.4, \"#fde0ef\"], [0.5, \"#f7f7f7\"], [0.6, \"#e6f5d0\"], [0.7, \"#b8e186\"], [0.8, \"#7fbc41\"], [0.9, \"#4d9221\"], [1, \"#276419\"]], \"sequential\": [[0.0, \"#0d0887\"], [0.1111111111111111, \"#46039f\"], [0.2222222222222222, \"#7201a8\"], [0.3333333333333333, \"#9c179e\"], [0.4444444444444444, \"#bd3786\"], [0.5555555555555556, \"#d8576b\"], [0.6666666666666666, \"#ed7953\"], [0.7777777777777778, \"#fb9f3a\"], [0.8888888888888888, \"#fdca26\"], [1.0, \"#f0f921\"]], \"sequentialminus\": [[0.0, \"#0d0887\"], [0.1111111111111111, \"#46039f\"], [0.2222222222222222, \"#7201a8\"], [0.3333333333333333, \"#9c179e\"], [0.4444444444444444, \"#bd3786\"], [0.5555555555555556, \"#d8576b\"], [0.6666666666666666, \"#ed7953\"], [0.7777777777777778, \"#fb9f3a\"], [0.8888888888888888, \"#fdca26\"], [1.0, \"#f0f921\"]]}, \"colorway\": [\"#636efa\", \"#EF553B\", \"#00cc96\", \"#ab63fa\", \"#FFA15A\", \"#19d3f3\", \"#FF6692\", \"#B6E880\", \"#FF97FF\", \"#FECB52\"], \"font\": {\"color\": \"#2a3f5f\"}, \"geo\": {\"bgcolor\": \"white\", \"lakecolor\": \"white\", \"landcolor\": \"#E5ECF6\", \"showlakes\": true, \"showland\": true, \"subunitcolor\": \"white\"}, \"hoverlabel\": {\"align\": \"left\"}, \"hovermode\": \"closest\", \"mapbox\": {\"style\": \"light\"}, \"paper_bgcolor\": \"white\", \"plot_bgcolor\": \"#E5ECF6\", \"polar\": {\"angularaxis\": {\"gridcolor\": \"white\", \"linecolor\": \"white\", \"ticks\": \"\"}, \"bgcolor\": \"#E5ECF6\", \"radialaxis\": {\"gridcolor\": \"white\", \"linecolor\": \"white\", \"ticks\": \"\"}}, \"scene\": {\"xaxis\": {\"backgroundcolor\": \"#E5ECF6\", \"gridcolor\": \"white\", \"gridwidth\": 2, \"linecolor\": \"white\", \"showbackground\": true, \"ticks\": \"\", \"zerolinecolor\": \"white\"}, \"yaxis\": {\"backgroundcolor\": \"#E5ECF6\", \"gridcolor\": \"white\", \"gridwidth\": 2, \"linecolor\": \"white\", \"showbackground\": true, \"ticks\": \"\", \"zerolinecolor\": \"white\"}, \"zaxis\": {\"backgroundcolor\": \"#E5ECF6\", \"gridcolor\": \"white\", \"gridwidth\": 2, \"linecolor\": \"white\", \"showbackground\": true, \"ticks\": \"\", \"zerolinecolor\": \"white\"}}, \"shapedefaults\": {\"line\": {\"color\": \"#2a3f5f\"}}, \"ternary\": {\"aaxis\": {\"gridcolor\": \"white\", \"linecolor\": \"white\", \"ticks\": \"\"}, \"baxis\": {\"gridcolor\": \"white\", \"linecolor\": \"white\", \"ticks\": \"\"}, \"bgcolor\": \"#E5ECF6\", \"caxis\": {\"gridcolor\": \"white\", \"linecolor\": \"white\", \"ticks\": \"\"}}, \"title\": {\"x\": 0.05}, \"xaxis\": {\"automargin\": true, \"gridcolor\": \"white\", \"linecolor\": \"white\", \"ticks\": \"\", \"title\": {\"standoff\": 15}, \"zerolinecolor\": \"white\", \"zerolinewidth\": 2}, \"yaxis\": {\"automargin\": true, \"gridcolor\": \"white\", \"linecolor\": \"white\", \"ticks\": \"\", \"title\": {\"standoff\": 15}, \"zerolinecolor\": \"white\", \"zerolinewidth\": 2}}}, \"title\": {\"text\": \"Count of places by district\"}},\n",
       "                        {\"responsive\": true}\n",
       "                    ).then(function(){\n",
       "                            \n",
       "var gd = document.getElementById('68a30a8c-27c3-4b86-b39a-82afb8854bc1');\n",
       "var x = new MutationObserver(function (mutations, observer) {{\n",
       "        var display = window.getComputedStyle(gd).display;\n",
       "        if (!display || display === 'none') {{\n",
       "            console.log([gd, 'removed!']);\n",
       "            Plotly.purge(gd);\n",
       "            observer.disconnect();\n",
       "        }}\n",
       "}});\n",
       "\n",
       "// Listen for the removal of the full notebook cells\n",
       "var notebookContainer = gd.closest('#notebook-container');\n",
       "if (notebookContainer) {{\n",
       "    x.observe(notebookContainer, {childList: true});\n",
       "}}\n",
       "\n",
       "// Listen for the clearing of the current output cell\n",
       "var outputEl = gd.closest('.output');\n",
       "if (outputEl) {{\n",
       "    x.observe(outputEl, {childList: true});\n",
       "}}\n",
       "\n",
       "                        })\n",
       "                };\n",
       "                });\n",
       "            </script>\n",
       "        </div>"
      ]
     },
     "metadata": {},
     "output_type": "display_data"
    }
   ],
   "source": [
    "district_labels = bakery_full_df['district'].value_counts().index\n",
    "district_values = bakery_full_df['district'].value_counts().values\n",
    "\n",
    "fig = px.pie(bakery_full_df, values=district_values, names=district_labels,\n",
    "            color_discrete_sequence=px.colors.sequential.Bluyl)\n",
    "fig.update_layout(\n",
    "    title = 'Count of places by district')\n",
    "fig.show()"
   ]
  },
  {
   "cell_type": "code",
   "execution_count": 105,
   "metadata": {
    "ExecuteTime": {
     "end_time": "2020-07-08T13:05:46.385188Z",
     "start_time": "2020-07-08T13:05:46.357265Z"
    }
   },
   "outputs": [
    {
     "data": {
      "text/html": [
       "<div>\n",
       "<style scoped>\n",
       "    .dataframe tbody tr th:only-of-type {\n",
       "        vertical-align: middle;\n",
       "    }\n",
       "\n",
       "    .dataframe tbody tr th {\n",
       "        vertical-align: top;\n",
       "    }\n",
       "\n",
       "    .dataframe thead th {\n",
       "        text-align: right;\n",
       "    }\n",
       "</style>\n",
       "<table border=\"1\" class=\"dataframe\">\n",
       "  <thead>\n",
       "    <tr style=\"text-align: right;\">\n",
       "      <th></th>\n",
       "      <th>likes</th>\n",
       "      <th>dislike</th>\n",
       "      <th>rating</th>\n",
       "      <th>price</th>\n",
       "      <th>ok</th>\n",
       "      <th>ratingSignals</th>\n",
       "      <th>specials</th>\n",
       "      <th>tips</th>\n",
       "      <th>listed</th>\n",
       "      <th>lat</th>\n",
       "      <th>lng</th>\n",
       "      <th>dist_lat</th>\n",
       "      <th>dist_lng</th>\n",
       "      <th>distance</th>\n",
       "    </tr>\n",
       "    <tr>\n",
       "      <th>district</th>\n",
       "      <th></th>\n",
       "      <th></th>\n",
       "      <th></th>\n",
       "      <th></th>\n",
       "      <th></th>\n",
       "      <th></th>\n",
       "      <th></th>\n",
       "      <th></th>\n",
       "      <th></th>\n",
       "      <th></th>\n",
       "      <th></th>\n",
       "      <th></th>\n",
       "      <th></th>\n",
       "      <th></th>\n",
       "    </tr>\n",
       "  </thead>\n",
       "  <tbody>\n",
       "    <tr>\n",
       "      <th>Заводской район</th>\n",
       "      <td>8.000000</td>\n",
       "      <td>False</td>\n",
       "      <td>5.766667</td>\n",
       "      <td>NaN</td>\n",
       "      <td>False</td>\n",
       "      <td>19.000</td>\n",
       "      <td>0.0</td>\n",
       "      <td>3.500000</td>\n",
       "      <td>0.000000</td>\n",
       "      <td>53.866953</td>\n",
       "      <td>27.655436</td>\n",
       "      <td>53.869370</td>\n",
       "      <td>27.647405</td>\n",
       "      <td>1423.422825</td>\n",
       "    </tr>\n",
       "    <tr>\n",
       "      <th>Московский район</th>\n",
       "      <td>80.200000</td>\n",
       "      <td>False</td>\n",
       "      <td>7.575000</td>\n",
       "      <td>2.0</td>\n",
       "      <td>False</td>\n",
       "      <td>145.250</td>\n",
       "      <td>0.0</td>\n",
       "      <td>32.800000</td>\n",
       "      <td>17.600000</td>\n",
       "      <td>53.875364</td>\n",
       "      <td>27.499770</td>\n",
       "      <td>53.871021</td>\n",
       "      <td>27.492966</td>\n",
       "      <td>2769.710420</td>\n",
       "    </tr>\n",
       "    <tr>\n",
       "      <th>Октябрьский район</th>\n",
       "      <td>64.250000</td>\n",
       "      <td>False</td>\n",
       "      <td>7.375000</td>\n",
       "      <td>2.0</td>\n",
       "      <td>False</td>\n",
       "      <td>193.250</td>\n",
       "      <td>0.0</td>\n",
       "      <td>22.000000</td>\n",
       "      <td>14.000000</td>\n",
       "      <td>53.883407</td>\n",
       "      <td>27.543747</td>\n",
       "      <td>53.858930</td>\n",
       "      <td>27.538223</td>\n",
       "      <td>2869.849479</td>\n",
       "    </tr>\n",
       "    <tr>\n",
       "      <th>Партизанский район</th>\n",
       "      <td>85.222222</td>\n",
       "      <td>False</td>\n",
       "      <td>6.712500</td>\n",
       "      <td>2.0</td>\n",
       "      <td>False</td>\n",
       "      <td>166.125</td>\n",
       "      <td>0.0</td>\n",
       "      <td>34.222222</td>\n",
       "      <td>16.333333</td>\n",
       "      <td>53.909168</td>\n",
       "      <td>27.595053</td>\n",
       "      <td>53.902873</td>\n",
       "      <td>27.634289</td>\n",
       "      <td>3315.887513</td>\n",
       "    </tr>\n",
       "    <tr>\n",
       "      <th>Первомайский район</th>\n",
       "      <td>10.222222</td>\n",
       "      <td>False</td>\n",
       "      <td>6.616667</td>\n",
       "      <td>NaN</td>\n",
       "      <td>False</td>\n",
       "      <td>27.000</td>\n",
       "      <td>0.0</td>\n",
       "      <td>4.444444</td>\n",
       "      <td>0.666667</td>\n",
       "      <td>53.944241</td>\n",
       "      <td>27.653939</td>\n",
       "      <td>53.940165</td>\n",
       "      <td>27.646695</td>\n",
       "      <td>1718.138262</td>\n",
       "    </tr>\n",
       "    <tr>\n",
       "      <th>Советский район</th>\n",
       "      <td>59.347826</td>\n",
       "      <td>False</td>\n",
       "      <td>6.773333</td>\n",
       "      <td>2.0</td>\n",
       "      <td>False</td>\n",
       "      <td>144.600</td>\n",
       "      <td>0.0</td>\n",
       "      <td>24.130435</td>\n",
       "      <td>12.347826</td>\n",
       "      <td>53.924046</td>\n",
       "      <td>27.584748</td>\n",
       "      <td>53.940933</td>\n",
       "      <td>27.585951</td>\n",
       "      <td>2129.749178</td>\n",
       "    </tr>\n",
       "    <tr>\n",
       "      <th>Фрунзенский район</th>\n",
       "      <td>7.000000</td>\n",
       "      <td>False</td>\n",
       "      <td>7.000000</td>\n",
       "      <td>NaN</td>\n",
       "      <td>False</td>\n",
       "      <td>23.000</td>\n",
       "      <td>0.0</td>\n",
       "      <td>2.000000</td>\n",
       "      <td>1.500000</td>\n",
       "      <td>53.902638</td>\n",
       "      <td>27.459143</td>\n",
       "      <td>53.906236</td>\n",
       "      <td>27.453907</td>\n",
       "      <td>1959.875968</td>\n",
       "    </tr>\n",
       "    <tr>\n",
       "      <th>Центральный район</th>\n",
       "      <td>80.640000</td>\n",
       "      <td>False</td>\n",
       "      <td>6.656250</td>\n",
       "      <td>2.5</td>\n",
       "      <td>False</td>\n",
       "      <td>216.875</td>\n",
       "      <td>0.0</td>\n",
       "      <td>37.920000</td>\n",
       "      <td>17.040000</td>\n",
       "      <td>53.910615</td>\n",
       "      <td>27.542006</td>\n",
       "      <td>53.935766</td>\n",
       "      <td>27.521649</td>\n",
       "      <td>3529.984697</td>\n",
       "    </tr>\n",
       "  </tbody>\n",
       "</table>\n",
       "</div>"
      ],
      "text/plain": [
       "                        likes  dislike    rating  price     ok  ratingSignals  \\\n",
       "district                                                                        \n",
       "Заводской район      8.000000    False  5.766667    NaN  False         19.000   \n",
       "Московский район    80.200000    False  7.575000    2.0  False        145.250   \n",
       "Октябрьский район   64.250000    False  7.375000    2.0  False        193.250   \n",
       "Партизанский район  85.222222    False  6.712500    2.0  False        166.125   \n",
       "Первомайский район  10.222222    False  6.616667    NaN  False         27.000   \n",
       "Советский район     59.347826    False  6.773333    2.0  False        144.600   \n",
       "Фрунзенский район    7.000000    False  7.000000    NaN  False         23.000   \n",
       "Центральный район   80.640000    False  6.656250    2.5  False        216.875   \n",
       "\n",
       "                    specials       tips     listed        lat        lng  \\\n",
       "district                                                                   \n",
       "Заводской район          0.0   3.500000   0.000000  53.866953  27.655436   \n",
       "Московский район         0.0  32.800000  17.600000  53.875364  27.499770   \n",
       "Октябрьский район        0.0  22.000000  14.000000  53.883407  27.543747   \n",
       "Партизанский район       0.0  34.222222  16.333333  53.909168  27.595053   \n",
       "Первомайский район       0.0   4.444444   0.666667  53.944241  27.653939   \n",
       "Советский район          0.0  24.130435  12.347826  53.924046  27.584748   \n",
       "Фрунзенский район        0.0   2.000000   1.500000  53.902638  27.459143   \n",
       "Центральный район        0.0  37.920000  17.040000  53.910615  27.542006   \n",
       "\n",
       "                     dist_lat   dist_lng     distance  \n",
       "district                                               \n",
       "Заводской район     53.869370  27.647405  1423.422825  \n",
       "Московский район    53.871021  27.492966  2769.710420  \n",
       "Октябрьский район   53.858930  27.538223  2869.849479  \n",
       "Партизанский район  53.902873  27.634289  3315.887513  \n",
       "Первомайский район  53.940165  27.646695  1718.138262  \n",
       "Советский район     53.940933  27.585951  2129.749178  \n",
       "Фрунзенский район   53.906236  27.453907  1959.875968  \n",
       "Центральный район   53.935766  27.521649  3529.984697  "
      ]
     },
     "execution_count": 105,
     "metadata": {},
     "output_type": "execute_result"
    }
   ],
   "source": [
    "bakery_full_df.groupby('district').mean()"
   ]
  },
  {
   "cell_type": "markdown",
   "metadata": {},
   "source": [
    "Now let's look mean rating through by every district"
   ]
  },
  {
   "cell_type": "code",
   "execution_count": 113,
   "metadata": {
    "ExecuteTime": {
     "end_time": "2020-07-08T13:12:01.401298Z",
     "start_time": "2020-07-08T13:12:01.361404Z"
    }
   },
   "outputs": [
    {
     "data": {
      "application/vnd.plotly.v1+json": {
       "config": {
        "plotlyServerURL": "https://plot.ly"
       },
       "data": [
        {
         "marker": {
          "color": "SeaGreen"
         },
         "name": "Mean rating",
         "text": [
          "5.77",
          "7.58",
          "7.38",
          "6.71",
          "6.62",
          "6.77",
          "7.00",
          "6.66"
         ],
         "textposition": "auto",
         "type": "bar",
         "x": [
          "Центральный район",
          "Советский район",
          "Партизанский район",
          "Первомайский район",
          "Октябрьский район",
          "Московский район",
          "Фрунзенский район",
          "Заводской район"
         ],
         "y": [
          5.766666666666667,
          7.575,
          7.375,
          6.7125,
          6.616666666666666,
          6.773333333333334,
          7,
          6.656249999999999
         ]
        },
        {
         "marker": {
          "color": "Khaki"
         },
         "name": "Count places",
         "text": [
          "25.00",
          "23.00",
          "9.00",
          "9.00",
          "8.00",
          "5.00",
          "4.00",
          "4.00"
         ],
         "textposition": "auto",
         "type": "bar",
         "x": [
          "Центральный район",
          "Советский район",
          "Партизанский район",
          "Первомайский район",
          "Октябрьский район",
          "Московский район",
          "Фрунзенский район",
          "Заводской район"
         ],
         "y": [
          25,
          23,
          9,
          9,
          8,
          5,
          4,
          4
         ]
        }
       ],
       "layout": {
        "barmode": "group",
        "template": {
         "data": {
          "bar": [
           {
            "error_x": {
             "color": "#2a3f5f"
            },
            "error_y": {
             "color": "#2a3f5f"
            },
            "marker": {
             "line": {
              "color": "#E5ECF6",
              "width": 0.5
             }
            },
            "type": "bar"
           }
          ],
          "barpolar": [
           {
            "marker": {
             "line": {
              "color": "#E5ECF6",
              "width": 0.5
             }
            },
            "type": "barpolar"
           }
          ],
          "carpet": [
           {
            "aaxis": {
             "endlinecolor": "#2a3f5f",
             "gridcolor": "white",
             "linecolor": "white",
             "minorgridcolor": "white",
             "startlinecolor": "#2a3f5f"
            },
            "baxis": {
             "endlinecolor": "#2a3f5f",
             "gridcolor": "white",
             "linecolor": "white",
             "minorgridcolor": "white",
             "startlinecolor": "#2a3f5f"
            },
            "type": "carpet"
           }
          ],
          "choropleth": [
           {
            "colorbar": {
             "outlinewidth": 0,
             "ticks": ""
            },
            "type": "choropleth"
           }
          ],
          "contour": [
           {
            "colorbar": {
             "outlinewidth": 0,
             "ticks": ""
            },
            "colorscale": [
             [
              0,
              "#0d0887"
             ],
             [
              0.1111111111111111,
              "#46039f"
             ],
             [
              0.2222222222222222,
              "#7201a8"
             ],
             [
              0.3333333333333333,
              "#9c179e"
             ],
             [
              0.4444444444444444,
              "#bd3786"
             ],
             [
              0.5555555555555556,
              "#d8576b"
             ],
             [
              0.6666666666666666,
              "#ed7953"
             ],
             [
              0.7777777777777778,
              "#fb9f3a"
             ],
             [
              0.8888888888888888,
              "#fdca26"
             ],
             [
              1,
              "#f0f921"
             ]
            ],
            "type": "contour"
           }
          ],
          "contourcarpet": [
           {
            "colorbar": {
             "outlinewidth": 0,
             "ticks": ""
            },
            "type": "contourcarpet"
           }
          ],
          "heatmap": [
           {
            "colorbar": {
             "outlinewidth": 0,
             "ticks": ""
            },
            "colorscale": [
             [
              0,
              "#0d0887"
             ],
             [
              0.1111111111111111,
              "#46039f"
             ],
             [
              0.2222222222222222,
              "#7201a8"
             ],
             [
              0.3333333333333333,
              "#9c179e"
             ],
             [
              0.4444444444444444,
              "#bd3786"
             ],
             [
              0.5555555555555556,
              "#d8576b"
             ],
             [
              0.6666666666666666,
              "#ed7953"
             ],
             [
              0.7777777777777778,
              "#fb9f3a"
             ],
             [
              0.8888888888888888,
              "#fdca26"
             ],
             [
              1,
              "#f0f921"
             ]
            ],
            "type": "heatmap"
           }
          ],
          "heatmapgl": [
           {
            "colorbar": {
             "outlinewidth": 0,
             "ticks": ""
            },
            "colorscale": [
             [
              0,
              "#0d0887"
             ],
             [
              0.1111111111111111,
              "#46039f"
             ],
             [
              0.2222222222222222,
              "#7201a8"
             ],
             [
              0.3333333333333333,
              "#9c179e"
             ],
             [
              0.4444444444444444,
              "#bd3786"
             ],
             [
              0.5555555555555556,
              "#d8576b"
             ],
             [
              0.6666666666666666,
              "#ed7953"
             ],
             [
              0.7777777777777778,
              "#fb9f3a"
             ],
             [
              0.8888888888888888,
              "#fdca26"
             ],
             [
              1,
              "#f0f921"
             ]
            ],
            "type": "heatmapgl"
           }
          ],
          "histogram": [
           {
            "marker": {
             "colorbar": {
              "outlinewidth": 0,
              "ticks": ""
             }
            },
            "type": "histogram"
           }
          ],
          "histogram2d": [
           {
            "colorbar": {
             "outlinewidth": 0,
             "ticks": ""
            },
            "colorscale": [
             [
              0,
              "#0d0887"
             ],
             [
              0.1111111111111111,
              "#46039f"
             ],
             [
              0.2222222222222222,
              "#7201a8"
             ],
             [
              0.3333333333333333,
              "#9c179e"
             ],
             [
              0.4444444444444444,
              "#bd3786"
             ],
             [
              0.5555555555555556,
              "#d8576b"
             ],
             [
              0.6666666666666666,
              "#ed7953"
             ],
             [
              0.7777777777777778,
              "#fb9f3a"
             ],
             [
              0.8888888888888888,
              "#fdca26"
             ],
             [
              1,
              "#f0f921"
             ]
            ],
            "type": "histogram2d"
           }
          ],
          "histogram2dcontour": [
           {
            "colorbar": {
             "outlinewidth": 0,
             "ticks": ""
            },
            "colorscale": [
             [
              0,
              "#0d0887"
             ],
             [
              0.1111111111111111,
              "#46039f"
             ],
             [
              0.2222222222222222,
              "#7201a8"
             ],
             [
              0.3333333333333333,
              "#9c179e"
             ],
             [
              0.4444444444444444,
              "#bd3786"
             ],
             [
              0.5555555555555556,
              "#d8576b"
             ],
             [
              0.6666666666666666,
              "#ed7953"
             ],
             [
              0.7777777777777778,
              "#fb9f3a"
             ],
             [
              0.8888888888888888,
              "#fdca26"
             ],
             [
              1,
              "#f0f921"
             ]
            ],
            "type": "histogram2dcontour"
           }
          ],
          "mesh3d": [
           {
            "colorbar": {
             "outlinewidth": 0,
             "ticks": ""
            },
            "type": "mesh3d"
           }
          ],
          "parcoords": [
           {
            "line": {
             "colorbar": {
              "outlinewidth": 0,
              "ticks": ""
             }
            },
            "type": "parcoords"
           }
          ],
          "pie": [
           {
            "automargin": true,
            "type": "pie"
           }
          ],
          "scatter": [
           {
            "marker": {
             "colorbar": {
              "outlinewidth": 0,
              "ticks": ""
             }
            },
            "type": "scatter"
           }
          ],
          "scatter3d": [
           {
            "line": {
             "colorbar": {
              "outlinewidth": 0,
              "ticks": ""
             }
            },
            "marker": {
             "colorbar": {
              "outlinewidth": 0,
              "ticks": ""
             }
            },
            "type": "scatter3d"
           }
          ],
          "scattercarpet": [
           {
            "marker": {
             "colorbar": {
              "outlinewidth": 0,
              "ticks": ""
             }
            },
            "type": "scattercarpet"
           }
          ],
          "scattergeo": [
           {
            "marker": {
             "colorbar": {
              "outlinewidth": 0,
              "ticks": ""
             }
            },
            "type": "scattergeo"
           }
          ],
          "scattergl": [
           {
            "marker": {
             "colorbar": {
              "outlinewidth": 0,
              "ticks": ""
             }
            },
            "type": "scattergl"
           }
          ],
          "scattermapbox": [
           {
            "marker": {
             "colorbar": {
              "outlinewidth": 0,
              "ticks": ""
             }
            },
            "type": "scattermapbox"
           }
          ],
          "scatterpolar": [
           {
            "marker": {
             "colorbar": {
              "outlinewidth": 0,
              "ticks": ""
             }
            },
            "type": "scatterpolar"
           }
          ],
          "scatterpolargl": [
           {
            "marker": {
             "colorbar": {
              "outlinewidth": 0,
              "ticks": ""
             }
            },
            "type": "scatterpolargl"
           }
          ],
          "scatterternary": [
           {
            "marker": {
             "colorbar": {
              "outlinewidth": 0,
              "ticks": ""
             }
            },
            "type": "scatterternary"
           }
          ],
          "surface": [
           {
            "colorbar": {
             "outlinewidth": 0,
             "ticks": ""
            },
            "colorscale": [
             [
              0,
              "#0d0887"
             ],
             [
              0.1111111111111111,
              "#46039f"
             ],
             [
              0.2222222222222222,
              "#7201a8"
             ],
             [
              0.3333333333333333,
              "#9c179e"
             ],
             [
              0.4444444444444444,
              "#bd3786"
             ],
             [
              0.5555555555555556,
              "#d8576b"
             ],
             [
              0.6666666666666666,
              "#ed7953"
             ],
             [
              0.7777777777777778,
              "#fb9f3a"
             ],
             [
              0.8888888888888888,
              "#fdca26"
             ],
             [
              1,
              "#f0f921"
             ]
            ],
            "type": "surface"
           }
          ],
          "table": [
           {
            "cells": {
             "fill": {
              "color": "#EBF0F8"
             },
             "line": {
              "color": "white"
             }
            },
            "header": {
             "fill": {
              "color": "#C8D4E3"
             },
             "line": {
              "color": "white"
             }
            },
            "type": "table"
           }
          ]
         },
         "layout": {
          "annotationdefaults": {
           "arrowcolor": "#2a3f5f",
           "arrowhead": 0,
           "arrowwidth": 1
          },
          "coloraxis": {
           "colorbar": {
            "outlinewidth": 0,
            "ticks": ""
           }
          },
          "colorscale": {
           "diverging": [
            [
             0,
             "#8e0152"
            ],
            [
             0.1,
             "#c51b7d"
            ],
            [
             0.2,
             "#de77ae"
            ],
            [
             0.3,
             "#f1b6da"
            ],
            [
             0.4,
             "#fde0ef"
            ],
            [
             0.5,
             "#f7f7f7"
            ],
            [
             0.6,
             "#e6f5d0"
            ],
            [
             0.7,
             "#b8e186"
            ],
            [
             0.8,
             "#7fbc41"
            ],
            [
             0.9,
             "#4d9221"
            ],
            [
             1,
             "#276419"
            ]
           ],
           "sequential": [
            [
             0,
             "#0d0887"
            ],
            [
             0.1111111111111111,
             "#46039f"
            ],
            [
             0.2222222222222222,
             "#7201a8"
            ],
            [
             0.3333333333333333,
             "#9c179e"
            ],
            [
             0.4444444444444444,
             "#bd3786"
            ],
            [
             0.5555555555555556,
             "#d8576b"
            ],
            [
             0.6666666666666666,
             "#ed7953"
            ],
            [
             0.7777777777777778,
             "#fb9f3a"
            ],
            [
             0.8888888888888888,
             "#fdca26"
            ],
            [
             1,
             "#f0f921"
            ]
           ],
           "sequentialminus": [
            [
             0,
             "#0d0887"
            ],
            [
             0.1111111111111111,
             "#46039f"
            ],
            [
             0.2222222222222222,
             "#7201a8"
            ],
            [
             0.3333333333333333,
             "#9c179e"
            ],
            [
             0.4444444444444444,
             "#bd3786"
            ],
            [
             0.5555555555555556,
             "#d8576b"
            ],
            [
             0.6666666666666666,
             "#ed7953"
            ],
            [
             0.7777777777777778,
             "#fb9f3a"
            ],
            [
             0.8888888888888888,
             "#fdca26"
            ],
            [
             1,
             "#f0f921"
            ]
           ]
          },
          "colorway": [
           "#636efa",
           "#EF553B",
           "#00cc96",
           "#ab63fa",
           "#FFA15A",
           "#19d3f3",
           "#FF6692",
           "#B6E880",
           "#FF97FF",
           "#FECB52"
          ],
          "font": {
           "color": "#2a3f5f"
          },
          "geo": {
           "bgcolor": "white",
           "lakecolor": "white",
           "landcolor": "#E5ECF6",
           "showlakes": true,
           "showland": true,
           "subunitcolor": "white"
          },
          "hoverlabel": {
           "align": "left"
          },
          "hovermode": "closest",
          "mapbox": {
           "style": "light"
          },
          "paper_bgcolor": "white",
          "plot_bgcolor": "#E5ECF6",
          "polar": {
           "angularaxis": {
            "gridcolor": "white",
            "linecolor": "white",
            "ticks": ""
           },
           "bgcolor": "#E5ECF6",
           "radialaxis": {
            "gridcolor": "white",
            "linecolor": "white",
            "ticks": ""
           }
          },
          "scene": {
           "xaxis": {
            "backgroundcolor": "#E5ECF6",
            "gridcolor": "white",
            "gridwidth": 2,
            "linecolor": "white",
            "showbackground": true,
            "ticks": "",
            "zerolinecolor": "white"
           },
           "yaxis": {
            "backgroundcolor": "#E5ECF6",
            "gridcolor": "white",
            "gridwidth": 2,
            "linecolor": "white",
            "showbackground": true,
            "ticks": "",
            "zerolinecolor": "white"
           },
           "zaxis": {
            "backgroundcolor": "#E5ECF6",
            "gridcolor": "white",
            "gridwidth": 2,
            "linecolor": "white",
            "showbackground": true,
            "ticks": "",
            "zerolinecolor": "white"
           }
          },
          "shapedefaults": {
           "line": {
            "color": "#2a3f5f"
           }
          },
          "ternary": {
           "aaxis": {
            "gridcolor": "white",
            "linecolor": "white",
            "ticks": ""
           },
           "baxis": {
            "gridcolor": "white",
            "linecolor": "white",
            "ticks": ""
           },
           "bgcolor": "#E5ECF6",
           "caxis": {
            "gridcolor": "white",
            "linecolor": "white",
            "ticks": ""
           }
          },
          "title": {
           "x": 0.05
          },
          "xaxis": {
           "automargin": true,
           "gridcolor": "white",
           "linecolor": "white",
           "ticks": "",
           "title": {
            "standoff": 15
           },
           "zerolinecolor": "white",
           "zerolinewidth": 2
          },
          "yaxis": {
           "automargin": true,
           "gridcolor": "white",
           "linecolor": "white",
           "ticks": "",
           "title": {
            "standoff": 15
           },
           "zerolinecolor": "white",
           "zerolinewidth": 2
          }
         }
        },
        "title": {
         "text": "Mean rating and count likes of places by district"
        }
       }
      },
      "text/html": [
       "<div>\n",
       "        \n",
       "        \n",
       "            <div id=\"1ed5e5d6-769a-48b2-9b16-7e7995ceca43\" class=\"plotly-graph-div\" style=\"height:525px; width:100%;\"></div>\n",
       "            <script type=\"text/javascript\">\n",
       "                require([\"plotly\"], function(Plotly) {\n",
       "                    window.PLOTLYENV=window.PLOTLYENV || {};\n",
       "                    \n",
       "                if (document.getElementById(\"1ed5e5d6-769a-48b2-9b16-7e7995ceca43\")) {\n",
       "                    Plotly.newPlot(\n",
       "                        '1ed5e5d6-769a-48b2-9b16-7e7995ceca43',\n",
       "                        [{\"marker\": {\"color\": \"SeaGreen\"}, \"name\": \"Mean rating\", \"text\": [\"5.77\", \"7.58\", \"7.38\", \"6.71\", \"6.62\", \"6.77\", \"7.00\", \"6.66\"], \"textposition\": \"auto\", \"type\": \"bar\", \"x\": [\"\\u0426\\u0435\\u043d\\u0442\\u0440\\u0430\\u043b\\u044c\\u043d\\u044b\\u0439 \\u0440\\u0430\\u0439\\u043e\\u043d\", \"\\u0421\\u043e\\u0432\\u0435\\u0442\\u0441\\u043a\\u0438\\u0439 \\u0440\\u0430\\u0439\\u043e\\u043d\", \"\\u041f\\u0430\\u0440\\u0442\\u0438\\u0437\\u0430\\u043d\\u0441\\u043a\\u0438\\u0439 \\u0440\\u0430\\u0439\\u043e\\u043d\", \"\\u041f\\u0435\\u0440\\u0432\\u043e\\u043c\\u0430\\u0439\\u0441\\u043a\\u0438\\u0439 \\u0440\\u0430\\u0439\\u043e\\u043d\", \"\\u041e\\u043a\\u0442\\u044f\\u0431\\u0440\\u044c\\u0441\\u043a\\u0438\\u0439 \\u0440\\u0430\\u0439\\u043e\\u043d\", \"\\u041c\\u043e\\u0441\\u043a\\u043e\\u0432\\u0441\\u043a\\u0438\\u0439 \\u0440\\u0430\\u0439\\u043e\\u043d\", \"\\u0424\\u0440\\u0443\\u043d\\u0437\\u0435\\u043d\\u0441\\u043a\\u0438\\u0439 \\u0440\\u0430\\u0439\\u043e\\u043d\", \"\\u0417\\u0430\\u0432\\u043e\\u0434\\u0441\\u043a\\u043e\\u0439 \\u0440\\u0430\\u0439\\u043e\\u043d\"], \"y\": [5.766666666666667, 7.575, 7.375, 6.7125, 6.616666666666666, 6.773333333333334, 7.0, 6.656249999999999]}, {\"marker\": {\"color\": \"Khaki\"}, \"name\": \"Count places\", \"text\": [\"25.00\", \"23.00\", \"9.00\", \"9.00\", \"8.00\", \"5.00\", \"4.00\", \"4.00\"], \"textposition\": \"auto\", \"type\": \"bar\", \"x\": [\"\\u0426\\u0435\\u043d\\u0442\\u0440\\u0430\\u043b\\u044c\\u043d\\u044b\\u0439 \\u0440\\u0430\\u0439\\u043e\\u043d\", \"\\u0421\\u043e\\u0432\\u0435\\u0442\\u0441\\u043a\\u0438\\u0439 \\u0440\\u0430\\u0439\\u043e\\u043d\", \"\\u041f\\u0430\\u0440\\u0442\\u0438\\u0437\\u0430\\u043d\\u0441\\u043a\\u0438\\u0439 \\u0440\\u0430\\u0439\\u043e\\u043d\", \"\\u041f\\u0435\\u0440\\u0432\\u043e\\u043c\\u0430\\u0439\\u0441\\u043a\\u0438\\u0439 \\u0440\\u0430\\u0439\\u043e\\u043d\", \"\\u041e\\u043a\\u0442\\u044f\\u0431\\u0440\\u044c\\u0441\\u043a\\u0438\\u0439 \\u0440\\u0430\\u0439\\u043e\\u043d\", \"\\u041c\\u043e\\u0441\\u043a\\u043e\\u0432\\u0441\\u043a\\u0438\\u0439 \\u0440\\u0430\\u0439\\u043e\\u043d\", \"\\u0424\\u0440\\u0443\\u043d\\u0437\\u0435\\u043d\\u0441\\u043a\\u0438\\u0439 \\u0440\\u0430\\u0439\\u043e\\u043d\", \"\\u0417\\u0430\\u0432\\u043e\\u0434\\u0441\\u043a\\u043e\\u0439 \\u0440\\u0430\\u0439\\u043e\\u043d\"], \"y\": [25, 23, 9, 9, 8, 5, 4, 4]}],\n",
       "                        {\"barmode\": \"group\", \"template\": {\"data\": {\"bar\": [{\"error_x\": {\"color\": \"#2a3f5f\"}, \"error_y\": {\"color\": \"#2a3f5f\"}, \"marker\": {\"line\": {\"color\": \"#E5ECF6\", \"width\": 0.5}}, \"type\": \"bar\"}], \"barpolar\": [{\"marker\": {\"line\": {\"color\": \"#E5ECF6\", \"width\": 0.5}}, \"type\": \"barpolar\"}], \"carpet\": [{\"aaxis\": {\"endlinecolor\": \"#2a3f5f\", \"gridcolor\": \"white\", \"linecolor\": \"white\", \"minorgridcolor\": \"white\", \"startlinecolor\": \"#2a3f5f\"}, \"baxis\": {\"endlinecolor\": \"#2a3f5f\", \"gridcolor\": \"white\", \"linecolor\": \"white\", \"minorgridcolor\": \"white\", \"startlinecolor\": \"#2a3f5f\"}, \"type\": \"carpet\"}], \"choropleth\": [{\"colorbar\": {\"outlinewidth\": 0, \"ticks\": \"\"}, \"type\": \"choropleth\"}], \"contour\": [{\"colorbar\": {\"outlinewidth\": 0, \"ticks\": \"\"}, \"colorscale\": [[0.0, \"#0d0887\"], [0.1111111111111111, \"#46039f\"], [0.2222222222222222, \"#7201a8\"], [0.3333333333333333, \"#9c179e\"], [0.4444444444444444, \"#bd3786\"], [0.5555555555555556, \"#d8576b\"], [0.6666666666666666, \"#ed7953\"], [0.7777777777777778, \"#fb9f3a\"], [0.8888888888888888, \"#fdca26\"], [1.0, \"#f0f921\"]], \"type\": \"contour\"}], \"contourcarpet\": [{\"colorbar\": {\"outlinewidth\": 0, \"ticks\": \"\"}, \"type\": \"contourcarpet\"}], \"heatmap\": [{\"colorbar\": {\"outlinewidth\": 0, \"ticks\": \"\"}, \"colorscale\": [[0.0, \"#0d0887\"], [0.1111111111111111, \"#46039f\"], [0.2222222222222222, \"#7201a8\"], [0.3333333333333333, \"#9c179e\"], [0.4444444444444444, \"#bd3786\"], [0.5555555555555556, \"#d8576b\"], [0.6666666666666666, \"#ed7953\"], [0.7777777777777778, \"#fb9f3a\"], [0.8888888888888888, \"#fdca26\"], [1.0, \"#f0f921\"]], \"type\": \"heatmap\"}], \"heatmapgl\": [{\"colorbar\": {\"outlinewidth\": 0, \"ticks\": \"\"}, \"colorscale\": [[0.0, \"#0d0887\"], [0.1111111111111111, \"#46039f\"], [0.2222222222222222, \"#7201a8\"], [0.3333333333333333, \"#9c179e\"], [0.4444444444444444, \"#bd3786\"], [0.5555555555555556, \"#d8576b\"], [0.6666666666666666, \"#ed7953\"], [0.7777777777777778, \"#fb9f3a\"], [0.8888888888888888, \"#fdca26\"], [1.0, \"#f0f921\"]], \"type\": \"heatmapgl\"}], \"histogram\": [{\"marker\": {\"colorbar\": {\"outlinewidth\": 0, \"ticks\": \"\"}}, \"type\": \"histogram\"}], \"histogram2d\": [{\"colorbar\": {\"outlinewidth\": 0, \"ticks\": \"\"}, \"colorscale\": [[0.0, \"#0d0887\"], [0.1111111111111111, \"#46039f\"], [0.2222222222222222, \"#7201a8\"], [0.3333333333333333, \"#9c179e\"], [0.4444444444444444, \"#bd3786\"], [0.5555555555555556, \"#d8576b\"], [0.6666666666666666, \"#ed7953\"], [0.7777777777777778, \"#fb9f3a\"], [0.8888888888888888, \"#fdca26\"], [1.0, \"#f0f921\"]], \"type\": \"histogram2d\"}], \"histogram2dcontour\": [{\"colorbar\": {\"outlinewidth\": 0, \"ticks\": \"\"}, \"colorscale\": [[0.0, \"#0d0887\"], [0.1111111111111111, \"#46039f\"], [0.2222222222222222, \"#7201a8\"], [0.3333333333333333, \"#9c179e\"], [0.4444444444444444, \"#bd3786\"], [0.5555555555555556, \"#d8576b\"], [0.6666666666666666, \"#ed7953\"], [0.7777777777777778, \"#fb9f3a\"], [0.8888888888888888, \"#fdca26\"], [1.0, \"#f0f921\"]], \"type\": \"histogram2dcontour\"}], \"mesh3d\": [{\"colorbar\": {\"outlinewidth\": 0, \"ticks\": \"\"}, \"type\": \"mesh3d\"}], \"parcoords\": [{\"line\": {\"colorbar\": {\"outlinewidth\": 0, \"ticks\": \"\"}}, \"type\": \"parcoords\"}], \"pie\": [{\"automargin\": true, \"type\": \"pie\"}], \"scatter\": [{\"marker\": {\"colorbar\": {\"outlinewidth\": 0, \"ticks\": \"\"}}, \"type\": \"scatter\"}], \"scatter3d\": [{\"line\": {\"colorbar\": {\"outlinewidth\": 0, \"ticks\": \"\"}}, \"marker\": {\"colorbar\": {\"outlinewidth\": 0, \"ticks\": \"\"}}, \"type\": \"scatter3d\"}], \"scattercarpet\": [{\"marker\": {\"colorbar\": {\"outlinewidth\": 0, \"ticks\": \"\"}}, \"type\": \"scattercarpet\"}], \"scattergeo\": [{\"marker\": {\"colorbar\": {\"outlinewidth\": 0, \"ticks\": \"\"}}, \"type\": \"scattergeo\"}], \"scattergl\": [{\"marker\": {\"colorbar\": {\"outlinewidth\": 0, \"ticks\": \"\"}}, \"type\": \"scattergl\"}], \"scattermapbox\": [{\"marker\": {\"colorbar\": {\"outlinewidth\": 0, \"ticks\": \"\"}}, \"type\": \"scattermapbox\"}], \"scatterpolar\": [{\"marker\": {\"colorbar\": {\"outlinewidth\": 0, \"ticks\": \"\"}}, \"type\": \"scatterpolar\"}], \"scatterpolargl\": [{\"marker\": {\"colorbar\": {\"outlinewidth\": 0, \"ticks\": \"\"}}, \"type\": \"scatterpolargl\"}], \"scatterternary\": [{\"marker\": {\"colorbar\": {\"outlinewidth\": 0, \"ticks\": \"\"}}, \"type\": \"scatterternary\"}], \"surface\": [{\"colorbar\": {\"outlinewidth\": 0, \"ticks\": \"\"}, \"colorscale\": [[0.0, \"#0d0887\"], [0.1111111111111111, \"#46039f\"], [0.2222222222222222, \"#7201a8\"], [0.3333333333333333, \"#9c179e\"], [0.4444444444444444, \"#bd3786\"], [0.5555555555555556, \"#d8576b\"], [0.6666666666666666, \"#ed7953\"], [0.7777777777777778, \"#fb9f3a\"], [0.8888888888888888, \"#fdca26\"], [1.0, \"#f0f921\"]], \"type\": \"surface\"}], \"table\": [{\"cells\": {\"fill\": {\"color\": \"#EBF0F8\"}, \"line\": {\"color\": \"white\"}}, \"header\": {\"fill\": {\"color\": \"#C8D4E3\"}, \"line\": {\"color\": \"white\"}}, \"type\": \"table\"}]}, \"layout\": {\"annotationdefaults\": {\"arrowcolor\": \"#2a3f5f\", \"arrowhead\": 0, \"arrowwidth\": 1}, \"coloraxis\": {\"colorbar\": {\"outlinewidth\": 0, \"ticks\": \"\"}}, \"colorscale\": {\"diverging\": [[0, \"#8e0152\"], [0.1, \"#c51b7d\"], [0.2, \"#de77ae\"], [0.3, \"#f1b6da\"], [0.4, \"#fde0ef\"], [0.5, \"#f7f7f7\"], [0.6, \"#e6f5d0\"], [0.7, \"#b8e186\"], [0.8, \"#7fbc41\"], [0.9, \"#4d9221\"], [1, \"#276419\"]], \"sequential\": [[0.0, \"#0d0887\"], [0.1111111111111111, \"#46039f\"], [0.2222222222222222, \"#7201a8\"], [0.3333333333333333, \"#9c179e\"], [0.4444444444444444, \"#bd3786\"], [0.5555555555555556, \"#d8576b\"], [0.6666666666666666, \"#ed7953\"], [0.7777777777777778, \"#fb9f3a\"], [0.8888888888888888, \"#fdca26\"], [1.0, \"#f0f921\"]], \"sequentialminus\": [[0.0, \"#0d0887\"], [0.1111111111111111, \"#46039f\"], [0.2222222222222222, \"#7201a8\"], [0.3333333333333333, \"#9c179e\"], [0.4444444444444444, \"#bd3786\"], [0.5555555555555556, \"#d8576b\"], [0.6666666666666666, \"#ed7953\"], [0.7777777777777778, \"#fb9f3a\"], [0.8888888888888888, \"#fdca26\"], [1.0, \"#f0f921\"]]}, \"colorway\": [\"#636efa\", \"#EF553B\", \"#00cc96\", \"#ab63fa\", \"#FFA15A\", \"#19d3f3\", \"#FF6692\", \"#B6E880\", \"#FF97FF\", \"#FECB52\"], \"font\": {\"color\": \"#2a3f5f\"}, \"geo\": {\"bgcolor\": \"white\", \"lakecolor\": \"white\", \"landcolor\": \"#E5ECF6\", \"showlakes\": true, \"showland\": true, \"subunitcolor\": \"white\"}, \"hoverlabel\": {\"align\": \"left\"}, \"hovermode\": \"closest\", \"mapbox\": {\"style\": \"light\"}, \"paper_bgcolor\": \"white\", \"plot_bgcolor\": \"#E5ECF6\", \"polar\": {\"angularaxis\": {\"gridcolor\": \"white\", \"linecolor\": \"white\", \"ticks\": \"\"}, \"bgcolor\": \"#E5ECF6\", \"radialaxis\": {\"gridcolor\": \"white\", \"linecolor\": \"white\", \"ticks\": \"\"}}, \"scene\": {\"xaxis\": {\"backgroundcolor\": \"#E5ECF6\", \"gridcolor\": \"white\", \"gridwidth\": 2, \"linecolor\": \"white\", \"showbackground\": true, \"ticks\": \"\", \"zerolinecolor\": \"white\"}, \"yaxis\": {\"backgroundcolor\": \"#E5ECF6\", \"gridcolor\": \"white\", \"gridwidth\": 2, \"linecolor\": \"white\", \"showbackground\": true, \"ticks\": \"\", \"zerolinecolor\": \"white\"}, \"zaxis\": {\"backgroundcolor\": \"#E5ECF6\", \"gridcolor\": \"white\", \"gridwidth\": 2, \"linecolor\": \"white\", \"showbackground\": true, \"ticks\": \"\", \"zerolinecolor\": \"white\"}}, \"shapedefaults\": {\"line\": {\"color\": \"#2a3f5f\"}}, \"ternary\": {\"aaxis\": {\"gridcolor\": \"white\", \"linecolor\": \"white\", \"ticks\": \"\"}, \"baxis\": {\"gridcolor\": \"white\", \"linecolor\": \"white\", \"ticks\": \"\"}, \"bgcolor\": \"#E5ECF6\", \"caxis\": {\"gridcolor\": \"white\", \"linecolor\": \"white\", \"ticks\": \"\"}}, \"title\": {\"x\": 0.05}, \"xaxis\": {\"automargin\": true, \"gridcolor\": \"white\", \"linecolor\": \"white\", \"ticks\": \"\", \"title\": {\"standoff\": 15}, \"zerolinecolor\": \"white\", \"zerolinewidth\": 2}, \"yaxis\": {\"automargin\": true, \"gridcolor\": \"white\", \"linecolor\": \"white\", \"ticks\": \"\", \"title\": {\"standoff\": 15}, \"zerolinecolor\": \"white\", \"zerolinewidth\": 2}}}, \"title\": {\"text\": \"Mean rating and count likes of places by district\"}},\n",
       "                        {\"responsive\": true}\n",
       "                    ).then(function(){\n",
       "                            \n",
       "var gd = document.getElementById('1ed5e5d6-769a-48b2-9b16-7e7995ceca43');\n",
       "var x = new MutationObserver(function (mutations, observer) {{\n",
       "        var display = window.getComputedStyle(gd).display;\n",
       "        if (!display || display === 'none') {{\n",
       "            console.log([gd, 'removed!']);\n",
       "            Plotly.purge(gd);\n",
       "            observer.disconnect();\n",
       "        }}\n",
       "}});\n",
       "\n",
       "// Listen for the removal of the full notebook cells\n",
       "var notebookContainer = gd.closest('#notebook-container');\n",
       "if (notebookContainer) {{\n",
       "    x.observe(notebookContainer, {childList: true});\n",
       "}}\n",
       "\n",
       "// Listen for the clearing of the current output cell\n",
       "var outputEl = gd.closest('.output');\n",
       "if (outputEl) {{\n",
       "    x.observe(outputEl, {childList: true});\n",
       "}}\n",
       "\n",
       "                        })\n",
       "                };\n",
       "                });\n",
       "            </script>\n",
       "        </div>"
      ]
     },
     "metadata": {},
     "output_type": "display_data"
    }
   ],
   "source": [
    "import plotly.graph_objects as go\n",
    "labels = bakery_full_df['district'].value_counts().index\n",
    "values_rat = bakery_full_df.groupby('district').mean()['rating']\n",
    "values_likes = bakery_full_df.groupby('district').mean()['likes']\n",
    "count_places = bakery_full_df['district'].value_counts().values\n",
    "\n",
    "fig = go.Figure(data=[\n",
    "    go.Bar(name='Mean rating', x=labels, y=values_rat,text=list(map('{:.2f}'.format,values_rat)),\n",
    "           textposition='auto',\n",
    "           marker_color='SeaGreen'),\n",
    "    go.Bar(name='Count places', x=labels, y=count_places,\n",
    "           text=list(map('{:.2f}'.format,count_places)), textposition='auto',\n",
    "           marker_color='Khaki')\n",
    "])\n",
    "# Change the bar mode\n",
    "fig.update_layout(barmode='group', title = 'Mean rating and count likes of places by district')\n",
    "fig.show()"
   ]
  },
  {
   "cell_type": "markdown",
   "metadata": {},
   "source": [
    "##### As we've seen the plot higher:\n",
    "    1. 'Центральный район' has most of bakeries in Minsk.\n",
    "    2. 'Советский район' has highest rating bakeries in Minsk.\n"
   ]
  },
  {
   "cell_type": "markdown",
   "metadata": {},
   "source": [
    "##### And now let's clustering our bakeries using K-means algorithm."
   ]
  },
  {
   "cell_type": "code",
   "execution_count": 156,
   "metadata": {
    "ExecuteTime": {
     "end_time": "2020-07-08T13:56:39.718964Z",
     "start_time": "2020-07-08T13:56:39.683024Z"
    }
   },
   "outputs": [
    {
     "data": {
      "text/plain": [
       "array([4, 2, 0, 0, 2, 2, 0, 2, 3, 0])"
      ]
     },
     "execution_count": 156,
     "metadata": {},
     "output_type": "execute_result"
    }
   ],
   "source": [
    "kclusters = 5\n",
    "bakery_full_df_clustering = bakery_full_df[['likes','rating','price','ratingSignals','specials','tips','listed']]\n",
    "kmeans = KMeans(n_clusters=kclusters, random_state=0).fit(bakery_full_df_clustering)\n",
    "kmeans.labels_[0:10] "
   ]
  },
  {
   "cell_type": "markdown",
   "metadata": {},
   "source": [
    "##### And create new df join the fitted clusters and id of bakeries."
   ]
  },
  {
   "cell_type": "code",
   "execution_count": 176,
   "metadata": {
    "ExecuteTime": {
     "end_time": "2020-07-08T18:22:44.155025Z",
     "start_time": "2020-07-08T18:22:44.121112Z"
    }
   },
   "outputs": [
    {
     "data": {
      "text/html": [
       "<div>\n",
       "<style scoped>\n",
       "    .dataframe tbody tr th:only-of-type {\n",
       "        vertical-align: middle;\n",
       "    }\n",
       "\n",
       "    .dataframe tbody tr th {\n",
       "        vertical-align: top;\n",
       "    }\n",
       "\n",
       "    .dataframe thead th {\n",
       "        text-align: right;\n",
       "    }\n",
       "</style>\n",
       "<table border=\"1\" class=\"dataframe\">\n",
       "  <thead>\n",
       "    <tr style=\"text-align: right;\">\n",
       "      <th></th>\n",
       "      <th>id</th>\n",
       "      <th>likes</th>\n",
       "      <th>dislike</th>\n",
       "      <th>rating</th>\n",
       "      <th>url</th>\n",
       "      <th>price</th>\n",
       "      <th>ok</th>\n",
       "      <th>ratingSignals</th>\n",
       "      <th>specials</th>\n",
       "      <th>tips</th>\n",
       "      <th>...</th>\n",
       "      <th>summary</th>\n",
       "      <th>name</th>\n",
       "      <th>lat</th>\n",
       "      <th>lng</th>\n",
       "      <th>categories</th>\n",
       "      <th>dist_lat</th>\n",
       "      <th>dist_lng</th>\n",
       "      <th>distance</th>\n",
       "      <th>latin_name</th>\n",
       "      <th>cluster</th>\n",
       "    </tr>\n",
       "  </thead>\n",
       "  <tbody>\n",
       "    <tr>\n",
       "      <th>0</th>\n",
       "      <td>4bfcf7b58992a593595fabb0</td>\n",
       "      <td>399</td>\n",
       "      <td>False</td>\n",
       "      <td>7.6</td>\n",
       "      <td>http://cafe-bakery.relax.by</td>\n",
       "      <td>2</td>\n",
       "      <td>False</td>\n",
       "      <td>601</td>\n",
       "      <td>0</td>\n",
       "      <td>142</td>\n",
       "      <td>...</td>\n",
       "      <td>This spot is popular</td>\n",
       "      <td>Бейкери дю Солей</td>\n",
       "      <td>53.876255</td>\n",
       "      <td>27.553004</td>\n",
       "      <td>Bakery</td>\n",
       "      <td>53.858930</td>\n",
       "      <td>27.538223</td>\n",
       "      <td>2159.566939</td>\n",
       "      <td>Bejkeri dju Solej</td>\n",
       "      <td>4</td>\n",
       "    </tr>\n",
       "    <tr>\n",
       "      <th>1</th>\n",
       "      <td>4ccb0b9c54f0b1f77ce60cca</td>\n",
       "      <td>115</td>\n",
       "      <td>False</td>\n",
       "      <td>6.1</td>\n",
       "      <td>https://www.minskhleb.by</td>\n",
       "      <td>0</td>\n",
       "      <td>False</td>\n",
       "      <td>225</td>\n",
       "      <td>0</td>\n",
       "      <td>74</td>\n",
       "      <td>...</td>\n",
       "      <td>This spot is popular</td>\n",
       "      <td>Каравай</td>\n",
       "      <td>53.908001</td>\n",
       "      <td>27.575787</td>\n",
       "      <td>Bakery</td>\n",
       "      <td>53.902873</td>\n",
       "      <td>27.634289</td>\n",
       "      <td>3887.107119</td>\n",
       "      <td>Karavaj</td>\n",
       "      <td>2</td>\n",
       "    </tr>\n",
       "    <tr>\n",
       "      <th>2</th>\n",
       "      <td>4d7ce981f260a093df7c42ba</td>\n",
       "      <td>8</td>\n",
       "      <td>False</td>\n",
       "      <td>6.1</td>\n",
       "      <td>http://www.minskhleb.by/shop/magaziny/kropotki...</td>\n",
       "      <td>0</td>\n",
       "      <td>False</td>\n",
       "      <td>17</td>\n",
       "      <td>0</td>\n",
       "      <td>6</td>\n",
       "      <td>...</td>\n",
       "      <td>This spot is popular</td>\n",
       "      <td>Хлебны куток</td>\n",
       "      <td>53.915259</td>\n",
       "      <td>27.553338</td>\n",
       "      <td>Bakery</td>\n",
       "      <td>53.935766</td>\n",
       "      <td>27.521649</td>\n",
       "      <td>3089.277533</td>\n",
       "      <td>Hlebny kutok</td>\n",
       "      <td>0</td>\n",
       "    </tr>\n",
       "    <tr>\n",
       "      <th>3</th>\n",
       "      <td>4da9b7ed5da3ba8a47785496</td>\n",
       "      <td>15</td>\n",
       "      <td>False</td>\n",
       "      <td>5.6</td>\n",
       "      <td>http://www.minskhleb.by/consumer/shops/hot_bre...</td>\n",
       "      <td>0</td>\n",
       "      <td>False</td>\n",
       "      <td>29</td>\n",
       "      <td>0</td>\n",
       "      <td>4</td>\n",
       "      <td>...</td>\n",
       "      <td>This spot is popular</td>\n",
       "      <td>Горячий хлеб</td>\n",
       "      <td>53.880101</td>\n",
       "      <td>27.488984</td>\n",
       "      <td>Bakery</td>\n",
       "      <td>53.871021</td>\n",
       "      <td>27.492966</td>\n",
       "      <td>1043.970489</td>\n",
       "      <td>Gorjachij hleb</td>\n",
       "      <td>0</td>\n",
       "    </tr>\n",
       "    <tr>\n",
       "      <th>4</th>\n",
       "      <td>4df8955818385456c7f514e5</td>\n",
       "      <td>181</td>\n",
       "      <td>False</td>\n",
       "      <td>5.9</td>\n",
       "      <td>http://stolle.by</td>\n",
       "      <td>2</td>\n",
       "      <td>False</td>\n",
       "      <td>352</td>\n",
       "      <td>0</td>\n",
       "      <td>112</td>\n",
       "      <td>...</td>\n",
       "      <td>This spot is popular</td>\n",
       "      <td>Штолле / Stolle</td>\n",
       "      <td>53.917542</td>\n",
       "      <td>27.586509</td>\n",
       "      <td>Bakery</td>\n",
       "      <td>53.940933</td>\n",
       "      <td>27.585951</td>\n",
       "      <td>2603.799832</td>\n",
       "      <td>Shtolle / Stolle</td>\n",
       "      <td>2</td>\n",
       "    </tr>\n",
       "  </tbody>\n",
       "</table>\n",
       "<p>5 rows × 22 columns</p>\n",
       "</div>"
      ],
      "text/plain": [
       "                         id  likes  dislike  rating  \\\n",
       "0  4bfcf7b58992a593595fabb0    399    False     7.6   \n",
       "1  4ccb0b9c54f0b1f77ce60cca    115    False     6.1   \n",
       "2  4d7ce981f260a093df7c42ba      8    False     6.1   \n",
       "3  4da9b7ed5da3ba8a47785496     15    False     5.6   \n",
       "4  4df8955818385456c7f514e5    181    False     5.9   \n",
       "\n",
       "                                                 url  price     ok  \\\n",
       "0                        http://cafe-bakery.relax.by      2  False   \n",
       "1                           https://www.minskhleb.by      0  False   \n",
       "2  http://www.minskhleb.by/shop/magaziny/kropotki...      0  False   \n",
       "3  http://www.minskhleb.by/consumer/shops/hot_bre...      0  False   \n",
       "4                                   http://stolle.by      2  False   \n",
       "\n",
       "   ratingSignals  specials  tips  ...               summary              name  \\\n",
       "0            601         0   142  ...  This spot is popular  Бейкери дю Солей   \n",
       "1            225         0    74  ...  This spot is popular           Каравай   \n",
       "2             17         0     6  ...  This spot is popular      Хлебны куток   \n",
       "3             29         0     4  ...  This spot is popular      Горячий хлеб   \n",
       "4            352         0   112  ...  This spot is popular   Штолле / Stolle   \n",
       "\n",
       "         lat        lng  categories   dist_lat   dist_lng     distance  \\\n",
       "0  53.876255  27.553004      Bakery  53.858930  27.538223  2159.566939   \n",
       "1  53.908001  27.575787      Bakery  53.902873  27.634289  3887.107119   \n",
       "2  53.915259  27.553338      Bakery  53.935766  27.521649  3089.277533   \n",
       "3  53.880101  27.488984      Bakery  53.871021  27.492966  1043.970489   \n",
       "4  53.917542  27.586509      Bakery  53.940933  27.585951  2603.799832   \n",
       "\n",
       "          latin_name  cluster  \n",
       "0  Bejkeri dju Solej        4  \n",
       "1            Karavaj        2  \n",
       "2       Hlebny kutok        0  \n",
       "3     Gorjachij hleb        0  \n",
       "4   Shtolle / Stolle        2  \n",
       "\n",
       "[5 rows x 22 columns]"
      ]
     },
     "execution_count": 176,
     "metadata": {},
     "output_type": "execute_result"
    }
   ],
   "source": [
    "bakery_full_df['cluster'] = kmeans.labels_\n",
    "bakery_full_df.head()"
   ]
  },
  {
   "cell_type": "markdown",
   "metadata": {},
   "source": [
    "As we've seen our bakeries is separated by 5 different clusters and the best places in 3 and 4 cluster.\n",
    "I definatly going to visit this places because it has the best ratings and likes. "
   ]
  },
  {
   "cell_type": "code",
   "execution_count": 158,
   "metadata": {
    "ExecuteTime": {
     "end_time": "2020-07-08T13:56:50.374234Z",
     "start_time": "2020-07-08T13:56:50.349299Z"
    }
   },
   "outputs": [
    {
     "data": {
      "text/html": [
       "<div>\n",
       "<style scoped>\n",
       "    .dataframe tbody tr th:only-of-type {\n",
       "        vertical-align: middle;\n",
       "    }\n",
       "\n",
       "    .dataframe tbody tr th {\n",
       "        vertical-align: top;\n",
       "    }\n",
       "\n",
       "    .dataframe thead th {\n",
       "        text-align: right;\n",
       "    }\n",
       "</style>\n",
       "<table border=\"1\" class=\"dataframe\">\n",
       "  <thead>\n",
       "    <tr style=\"text-align: right;\">\n",
       "      <th></th>\n",
       "      <th>likes</th>\n",
       "      <th>dislike</th>\n",
       "      <th>rating</th>\n",
       "      <th>price</th>\n",
       "      <th>ok</th>\n",
       "      <th>ratingSignals</th>\n",
       "      <th>specials</th>\n",
       "      <th>tips</th>\n",
       "      <th>listed</th>\n",
       "      <th>lat</th>\n",
       "      <th>lng</th>\n",
       "      <th>dist_lat</th>\n",
       "      <th>dist_lng</th>\n",
       "      <th>distance</th>\n",
       "    </tr>\n",
       "    <tr>\n",
       "      <th>cluster</th>\n",
       "      <th></th>\n",
       "      <th></th>\n",
       "      <th></th>\n",
       "      <th></th>\n",
       "      <th></th>\n",
       "      <th></th>\n",
       "      <th></th>\n",
       "      <th></th>\n",
       "      <th></th>\n",
       "      <th></th>\n",
       "      <th></th>\n",
       "      <th></th>\n",
       "      <th></th>\n",
       "      <th></th>\n",
       "    </tr>\n",
       "  </thead>\n",
       "  <tbody>\n",
       "    <tr>\n",
       "      <th>0</th>\n",
       "      <td>12.208333</td>\n",
       "      <td>False</td>\n",
       "      <td>4.013889</td>\n",
       "      <td>0.000000</td>\n",
       "      <td>False</td>\n",
       "      <td>19.513889</td>\n",
       "      <td>0.0</td>\n",
       "      <td>5.250000</td>\n",
       "      <td>3.458333</td>\n",
       "      <td>53.912542</td>\n",
       "      <td>27.571516</td>\n",
       "      <td>53.919142</td>\n",
       "      <td>27.567098</td>\n",
       "      <td>2482.090797</td>\n",
       "    </tr>\n",
       "    <tr>\n",
       "      <th>1</th>\n",
       "      <td>436.000000</td>\n",
       "      <td>False</td>\n",
       "      <td>6.400000</td>\n",
       "      <td>1.000000</td>\n",
       "      <td>False</td>\n",
       "      <td>809.500000</td>\n",
       "      <td>0.0</td>\n",
       "      <td>235.000000</td>\n",
       "      <td>29.000000</td>\n",
       "      <td>53.903553</td>\n",
       "      <td>27.555421</td>\n",
       "      <td>53.935766</td>\n",
       "      <td>27.521649</td>\n",
       "      <td>4241.786574</td>\n",
       "    </tr>\n",
       "    <tr>\n",
       "      <th>2</th>\n",
       "      <td>154.222222</td>\n",
       "      <td>False</td>\n",
       "      <td>6.600000</td>\n",
       "      <td>0.555556</td>\n",
       "      <td>False</td>\n",
       "      <td>263.222222</td>\n",
       "      <td>0.0</td>\n",
       "      <td>70.222222</td>\n",
       "      <td>35.888889</td>\n",
       "      <td>53.907192</td>\n",
       "      <td>27.566023</td>\n",
       "      <td>53.925376</td>\n",
       "      <td>27.566340</td>\n",
       "      <td>3803.949240</td>\n",
       "    </tr>\n",
       "    <tr>\n",
       "      <th>3</th>\n",
       "      <td>1011.000000</td>\n",
       "      <td>False</td>\n",
       "      <td>8.000000</td>\n",
       "      <td>2.000000</td>\n",
       "      <td>False</td>\n",
       "      <td>1541.000000</td>\n",
       "      <td>0.0</td>\n",
       "      <td>357.000000</td>\n",
       "      <td>229.000000</td>\n",
       "      <td>53.912388</td>\n",
       "      <td>27.580818</td>\n",
       "      <td>53.940933</td>\n",
       "      <td>27.585951</td>\n",
       "      <td>3195.005240</td>\n",
       "    </tr>\n",
       "    <tr>\n",
       "      <th>4</th>\n",
       "      <td>355.000000</td>\n",
       "      <td>False</td>\n",
       "      <td>7.800000</td>\n",
       "      <td>2.000000</td>\n",
       "      <td>False</td>\n",
       "      <td>551.000000</td>\n",
       "      <td>0.0</td>\n",
       "      <td>125.333333</td>\n",
       "      <td>70.000000</td>\n",
       "      <td>53.878120</td>\n",
       "      <td>27.537466</td>\n",
       "      <td>53.877608</td>\n",
       "      <td>27.555159</td>\n",
       "      <td>2751.988208</td>\n",
       "    </tr>\n",
       "  </tbody>\n",
       "</table>\n",
       "</div>"
      ],
      "text/plain": [
       "               likes  dislike    rating     price     ok  ratingSignals  \\\n",
       "cluster                                                                   \n",
       "0          12.208333    False  4.013889  0.000000  False      19.513889   \n",
       "1         436.000000    False  6.400000  1.000000  False     809.500000   \n",
       "2         154.222222    False  6.600000  0.555556  False     263.222222   \n",
       "3        1011.000000    False  8.000000  2.000000  False    1541.000000   \n",
       "4         355.000000    False  7.800000  2.000000  False     551.000000   \n",
       "\n",
       "         specials        tips      listed        lat        lng   dist_lat  \\\n",
       "cluster                                                                      \n",
       "0             0.0    5.250000    3.458333  53.912542  27.571516  53.919142   \n",
       "1             0.0  235.000000   29.000000  53.903553  27.555421  53.935766   \n",
       "2             0.0   70.222222   35.888889  53.907192  27.566023  53.925376   \n",
       "3             0.0  357.000000  229.000000  53.912388  27.580818  53.940933   \n",
       "4             0.0  125.333333   70.000000  53.878120  27.537466  53.877608   \n",
       "\n",
       "          dist_lng     distance  \n",
       "cluster                          \n",
       "0        27.567098  2482.090797  \n",
       "1        27.521649  4241.786574  \n",
       "2        27.566340  3803.949240  \n",
       "3        27.585951  3195.005240  \n",
       "4        27.555159  2751.988208  "
      ]
     },
     "execution_count": 158,
     "metadata": {},
     "output_type": "execute_result"
    }
   ],
   "source": [
    "bakery_full_df.groupby('cluster').mean()"
   ]
  },
  {
   "cell_type": "code",
   "execution_count": 170,
   "metadata": {
    "ExecuteTime": {
     "end_time": "2020-07-08T16:47:00.197428Z",
     "start_time": "2020-07-08T16:47:00.163520Z"
    }
   },
   "outputs": [
    {
     "data": {
      "text/html": [
       "<div>\n",
       "<style scoped>\n",
       "    .dataframe tbody tr th:only-of-type {\n",
       "        vertical-align: middle;\n",
       "    }\n",
       "\n",
       "    .dataframe tbody tr th {\n",
       "        vertical-align: top;\n",
       "    }\n",
       "\n",
       "    .dataframe thead th {\n",
       "        text-align: right;\n",
       "    }\n",
       "</style>\n",
       "<table border=\"1\" class=\"dataframe\">\n",
       "  <thead>\n",
       "    <tr style=\"text-align: right;\">\n",
       "      <th></th>\n",
       "      <th>id</th>\n",
       "      <th>likes</th>\n",
       "      <th>dislike</th>\n",
       "      <th>rating</th>\n",
       "      <th>url</th>\n",
       "      <th>price</th>\n",
       "      <th>ok</th>\n",
       "      <th>ratingSignals</th>\n",
       "      <th>specials</th>\n",
       "      <th>tips</th>\n",
       "      <th>...</th>\n",
       "      <th>summary</th>\n",
       "      <th>name</th>\n",
       "      <th>lat</th>\n",
       "      <th>lng</th>\n",
       "      <th>categories</th>\n",
       "      <th>dist_lat</th>\n",
       "      <th>dist_lng</th>\n",
       "      <th>distance</th>\n",
       "      <th>latin_name</th>\n",
       "      <th>cluster</th>\n",
       "    </tr>\n",
       "  </thead>\n",
       "  <tbody>\n",
       "    <tr>\n",
       "      <th>1</th>\n",
       "      <td>4ccb0b9c54f0b1f77ce60cca</td>\n",
       "      <td>115</td>\n",
       "      <td>False</td>\n",
       "      <td>6.1</td>\n",
       "      <td>https://www.minskhleb.by</td>\n",
       "      <td>0</td>\n",
       "      <td>False</td>\n",
       "      <td>225</td>\n",
       "      <td>0</td>\n",
       "      <td>74</td>\n",
       "      <td>...</td>\n",
       "      <td>This spot is popular</td>\n",
       "      <td>Каравай</td>\n",
       "      <td>53.908001</td>\n",
       "      <td>27.575787</td>\n",
       "      <td>Bakery</td>\n",
       "      <td>53.902873</td>\n",
       "      <td>27.634289</td>\n",
       "      <td>3887.107119</td>\n",
       "      <td>Karavaj</td>\n",
       "      <td>2</td>\n",
       "    </tr>\n",
       "    <tr>\n",
       "      <th>4</th>\n",
       "      <td>4df8955818385456c7f514e5</td>\n",
       "      <td>181</td>\n",
       "      <td>False</td>\n",
       "      <td>5.9</td>\n",
       "      <td>http://stolle.by</td>\n",
       "      <td>2</td>\n",
       "      <td>False</td>\n",
       "      <td>352</td>\n",
       "      <td>0</td>\n",
       "      <td>112</td>\n",
       "      <td>...</td>\n",
       "      <td>This spot is popular</td>\n",
       "      <td>Штолле / Stolle</td>\n",
       "      <td>53.917542</td>\n",
       "      <td>27.586509</td>\n",
       "      <td>Bakery</td>\n",
       "      <td>53.940933</td>\n",
       "      <td>27.585951</td>\n",
       "      <td>2603.799832</td>\n",
       "      <td>Shtolle / Stolle</td>\n",
       "      <td>2</td>\n",
       "    </tr>\n",
       "    <tr>\n",
       "      <th>5</th>\n",
       "      <td>4e1056e6c65b4a49f303033d</td>\n",
       "      <td>226</td>\n",
       "      <td>False</td>\n",
       "      <td>6.8</td>\n",
       "      <td>http://stolle.by</td>\n",
       "      <td>0</td>\n",
       "      <td>False</td>\n",
       "      <td>380</td>\n",
       "      <td>0</td>\n",
       "      <td>120</td>\n",
       "      <td>...</td>\n",
       "      <td>This spot is popular</td>\n",
       "      <td>Штолле / Stolle</td>\n",
       "      <td>53.905094</td>\n",
       "      <td>27.546775</td>\n",
       "      <td>Bakery</td>\n",
       "      <td>53.935766</td>\n",
       "      <td>27.521649</td>\n",
       "      <td>3792.066272</td>\n",
       "      <td>Shtolle / Stolle</td>\n",
       "      <td>2</td>\n",
       "    </tr>\n",
       "    <tr>\n",
       "      <th>7</th>\n",
       "      <td>4f05bdf4e3002adb768a5731</td>\n",
       "      <td>86</td>\n",
       "      <td>False</td>\n",
       "      <td>6.0</td>\n",
       "      <td>http://stolle.by/%20</td>\n",
       "      <td>0</td>\n",
       "      <td>False</td>\n",
       "      <td>158</td>\n",
       "      <td>0</td>\n",
       "      <td>45</td>\n",
       "      <td>...</td>\n",
       "      <td>This spot is popular</td>\n",
       "      <td>Штолле / Stolle</td>\n",
       "      <td>53.907789</td>\n",
       "      <td>27.583579</td>\n",
       "      <td>Bakery</td>\n",
       "      <td>53.902873</td>\n",
       "      <td>27.634289</td>\n",
       "      <td>3377.477964</td>\n",
       "      <td>Shtolle / Stolle</td>\n",
       "      <td>2</td>\n",
       "    </tr>\n",
       "    <tr>\n",
       "      <th>18</th>\n",
       "      <td>50a7679fe4b041c065193a27</td>\n",
       "      <td>94</td>\n",
       "      <td>False</td>\n",
       "      <td>5.7</td>\n",
       "      <td>http://stolle.by</td>\n",
       "      <td>0</td>\n",
       "      <td>False</td>\n",
       "      <td>169</td>\n",
       "      <td>0</td>\n",
       "      <td>31</td>\n",
       "      <td>...</td>\n",
       "      <td>This spot is popular</td>\n",
       "      <td>Штолле / Stolle</td>\n",
       "      <td>53.903771</td>\n",
       "      <td>27.558714</td>\n",
       "      <td>Bakery</td>\n",
       "      <td>53.935766</td>\n",
       "      <td>27.521649</td>\n",
       "      <td>4314.167636</td>\n",
       "      <td>Shtolle / Stolle</td>\n",
       "      <td>2</td>\n",
       "    </tr>\n",
       "    <tr>\n",
       "      <th>24</th>\n",
       "      <td>528f768e498e55fd2ae00727</td>\n",
       "      <td>134</td>\n",
       "      <td>False</td>\n",
       "      <td>6.5</td>\n",
       "      <td>http://stolle.by</td>\n",
       "      <td>0</td>\n",
       "      <td>False</td>\n",
       "      <td>217</td>\n",
       "      <td>0</td>\n",
       "      <td>45</td>\n",
       "      <td>...</td>\n",
       "      <td>This spot is popular</td>\n",
       "      <td>Штолле / Stolle</td>\n",
       "      <td>53.907758</td>\n",
       "      <td>27.575317</td>\n",
       "      <td>Bakery</td>\n",
       "      <td>53.902873</td>\n",
       "      <td>27.634289</td>\n",
       "      <td>3913.855396</td>\n",
       "      <td>Shtolle / Stolle</td>\n",
       "      <td>2</td>\n",
       "    </tr>\n",
       "    <tr>\n",
       "      <th>35</th>\n",
       "      <td>559d1ed5498e914e9c52a64d</td>\n",
       "      <td>213</td>\n",
       "      <td>False</td>\n",
       "      <td>7.9</td>\n",
       "      <td>0</td>\n",
       "      <td>3</td>\n",
       "      <td>False</td>\n",
       "      <td>315</td>\n",
       "      <td>0</td>\n",
       "      <td>65</td>\n",
       "      <td>...</td>\n",
       "      <td>This spot is popular</td>\n",
       "      <td>BRIOCHE Paris</td>\n",
       "      <td>53.910180</td>\n",
       "      <td>27.556638</td>\n",
       "      <td>Dessert Shop</td>\n",
       "      <td>53.935766</td>\n",
       "      <td>27.521649</td>\n",
       "      <td>3659.748357</td>\n",
       "      <td>BRIOCHE Paris</td>\n",
       "      <td>2</td>\n",
       "    </tr>\n",
       "    <tr>\n",
       "      <th>55</th>\n",
       "      <td>58ba97964bc2f1632a353e04</td>\n",
       "      <td>203</td>\n",
       "      <td>False</td>\n",
       "      <td>8.4</td>\n",
       "      <td>0</td>\n",
       "      <td>0</td>\n",
       "      <td>False</td>\n",
       "      <td>300</td>\n",
       "      <td>0</td>\n",
       "      <td>81</td>\n",
       "      <td>...</td>\n",
       "      <td>This spot is popular</td>\n",
       "      <td>Stories</td>\n",
       "      <td>53.900877</td>\n",
       "      <td>27.552514</td>\n",
       "      <td>Bakery</td>\n",
       "      <td>53.935766</td>\n",
       "      <td>27.521649</td>\n",
       "      <td>4380.909637</td>\n",
       "      <td>Stories</td>\n",
       "      <td>2</td>\n",
       "    </tr>\n",
       "    <tr>\n",
       "      <th>56</th>\n",
       "      <td>58c2d2476ad5a14069506f76</td>\n",
       "      <td>136</td>\n",
       "      <td>False</td>\n",
       "      <td>6.1</td>\n",
       "      <td>https://uhg.by/restaurants/kafe-pekarnya-paul/</td>\n",
       "      <td>0</td>\n",
       "      <td>False</td>\n",
       "      <td>253</td>\n",
       "      <td>0</td>\n",
       "      <td>59</td>\n",
       "      <td>...</td>\n",
       "      <td>This spot is popular</td>\n",
       "      <td>PAUL</td>\n",
       "      <td>53.903717</td>\n",
       "      <td>27.558369</td>\n",
       "      <td>Bakery</td>\n",
       "      <td>53.935766</td>\n",
       "      <td>27.521649</td>\n",
       "      <td>4306.410946</td>\n",
       "      <td>PAUL</td>\n",
       "      <td>2</td>\n",
       "    </tr>\n",
       "  </tbody>\n",
       "</table>\n",
       "<p>9 rows × 22 columns</p>\n",
       "</div>"
      ],
      "text/plain": [
       "                          id  likes  dislike  rating  \\\n",
       "1   4ccb0b9c54f0b1f77ce60cca    115    False     6.1   \n",
       "4   4df8955818385456c7f514e5    181    False     5.9   \n",
       "5   4e1056e6c65b4a49f303033d    226    False     6.8   \n",
       "7   4f05bdf4e3002adb768a5731     86    False     6.0   \n",
       "18  50a7679fe4b041c065193a27     94    False     5.7   \n",
       "24  528f768e498e55fd2ae00727    134    False     6.5   \n",
       "35  559d1ed5498e914e9c52a64d    213    False     7.9   \n",
       "55  58ba97964bc2f1632a353e04    203    False     8.4   \n",
       "56  58c2d2476ad5a14069506f76    136    False     6.1   \n",
       "\n",
       "                                               url  price     ok  \\\n",
       "1                         https://www.minskhleb.by      0  False   \n",
       "4                                 http://stolle.by      2  False   \n",
       "5                                 http://stolle.by      0  False   \n",
       "7                             http://stolle.by/%20      0  False   \n",
       "18                                http://stolle.by      0  False   \n",
       "24                                http://stolle.by      0  False   \n",
       "35                                               0      3  False   \n",
       "55                                               0      0  False   \n",
       "56  https://uhg.by/restaurants/kafe-pekarnya-paul/      0  False   \n",
       "\n",
       "    ratingSignals  specials  tips  ...               summary             name  \\\n",
       "1             225         0    74  ...  This spot is popular          Каравай   \n",
       "4             352         0   112  ...  This spot is popular  Штолле / Stolle   \n",
       "5             380         0   120  ...  This spot is popular  Штолле / Stolle   \n",
       "7             158         0    45  ...  This spot is popular  Штолле / Stolle   \n",
       "18            169         0    31  ...  This spot is popular  Штолле / Stolle   \n",
       "24            217         0    45  ...  This spot is popular  Штолле / Stolle   \n",
       "35            315         0    65  ...  This spot is popular    BRIOCHE Paris   \n",
       "55            300         0    81  ...  This spot is popular          Stories   \n",
       "56            253         0    59  ...  This spot is popular             PAUL   \n",
       "\n",
       "          lat        lng    categories   dist_lat   dist_lng     distance  \\\n",
       "1   53.908001  27.575787        Bakery  53.902873  27.634289  3887.107119   \n",
       "4   53.917542  27.586509        Bakery  53.940933  27.585951  2603.799832   \n",
       "5   53.905094  27.546775        Bakery  53.935766  27.521649  3792.066272   \n",
       "7   53.907789  27.583579        Bakery  53.902873  27.634289  3377.477964   \n",
       "18  53.903771  27.558714        Bakery  53.935766  27.521649  4314.167636   \n",
       "24  53.907758  27.575317        Bakery  53.902873  27.634289  3913.855396   \n",
       "35  53.910180  27.556638  Dessert Shop  53.935766  27.521649  3659.748357   \n",
       "55  53.900877  27.552514        Bakery  53.935766  27.521649  4380.909637   \n",
       "56  53.903717  27.558369        Bakery  53.935766  27.521649  4306.410946   \n",
       "\n",
       "          latin_name  cluster  \n",
       "1            Karavaj        2  \n",
       "4   Shtolle / Stolle        2  \n",
       "5   Shtolle / Stolle        2  \n",
       "7   Shtolle / Stolle        2  \n",
       "18  Shtolle / Stolle        2  \n",
       "24  Shtolle / Stolle        2  \n",
       "35     BRIOCHE Paris        2  \n",
       "55           Stories        2  \n",
       "56              PAUL        2  \n",
       "\n",
       "[9 rows x 22 columns]"
      ]
     },
     "execution_count": 170,
     "metadata": {},
     "output_type": "execute_result"
    }
   ],
   "source": [
    "bakery_full_df[bakery_full_df['cluster'] == 2]"
   ]
  },
  {
   "cell_type": "code",
   "execution_count": 159,
   "metadata": {
    "ExecuteTime": {
     "end_time": "2020-07-08T13:56:56.485853Z",
     "start_time": "2020-07-08T13:56:56.451945Z"
    }
   },
   "outputs": [
    {
     "data": {
      "text/html": [
       "<div>\n",
       "<style scoped>\n",
       "    .dataframe tbody tr th:only-of-type {\n",
       "        vertical-align: middle;\n",
       "    }\n",
       "\n",
       "    .dataframe tbody tr th {\n",
       "        vertical-align: top;\n",
       "    }\n",
       "\n",
       "    .dataframe thead th {\n",
       "        text-align: right;\n",
       "    }\n",
       "</style>\n",
       "<table border=\"1\" class=\"dataframe\">\n",
       "  <thead>\n",
       "    <tr style=\"text-align: right;\">\n",
       "      <th></th>\n",
       "      <th>id</th>\n",
       "      <th>likes</th>\n",
       "      <th>dislike</th>\n",
       "      <th>rating</th>\n",
       "      <th>url</th>\n",
       "      <th>price</th>\n",
       "      <th>ok</th>\n",
       "      <th>ratingSignals</th>\n",
       "      <th>specials</th>\n",
       "      <th>tips</th>\n",
       "      <th>...</th>\n",
       "      <th>summary</th>\n",
       "      <th>name</th>\n",
       "      <th>lat</th>\n",
       "      <th>lng</th>\n",
       "      <th>categories</th>\n",
       "      <th>dist_lat</th>\n",
       "      <th>dist_lng</th>\n",
       "      <th>distance</th>\n",
       "      <th>latin_name</th>\n",
       "      <th>cluster</th>\n",
       "    </tr>\n",
       "  </thead>\n",
       "  <tbody>\n",
       "    <tr>\n",
       "      <th>8</th>\n",
       "      <td>4f7afb6ae4b02579039ddc3f</td>\n",
       "      <td>1011</td>\n",
       "      <td>False</td>\n",
       "      <td>8.0</td>\n",
       "      <td>http://cafezerno.by</td>\n",
       "      <td>2</td>\n",
       "      <td>False</td>\n",
       "      <td>1541</td>\n",
       "      <td>0</td>\n",
       "      <td>357</td>\n",
       "      <td>...</td>\n",
       "      <td>This spot is popular</td>\n",
       "      <td>Зерно</td>\n",
       "      <td>53.912388</td>\n",
       "      <td>27.580818</td>\n",
       "      <td>Bakery</td>\n",
       "      <td>53.940933</td>\n",
       "      <td>27.585951</td>\n",
       "      <td>3195.00524</td>\n",
       "      <td>Zerno</td>\n",
       "      <td>3</td>\n",
       "    </tr>\n",
       "  </tbody>\n",
       "</table>\n",
       "<p>1 rows × 22 columns</p>\n",
       "</div>"
      ],
      "text/plain": [
       "                         id  likes  dislike  rating                  url  \\\n",
       "8  4f7afb6ae4b02579039ddc3f   1011    False     8.0  http://cafezerno.by   \n",
       "\n",
       "   price     ok  ratingSignals  specials  tips  ...               summary  \\\n",
       "8      2  False           1541         0   357  ...  This spot is popular   \n",
       "\n",
       "    name        lat        lng  categories   dist_lat   dist_lng    distance  \\\n",
       "8  Зерно  53.912388  27.580818      Bakery  53.940933  27.585951  3195.00524   \n",
       "\n",
       "   latin_name  cluster  \n",
       "8       Zerno        3  \n",
       "\n",
       "[1 rows x 22 columns]"
      ]
     },
     "execution_count": 159,
     "metadata": {},
     "output_type": "execute_result"
    }
   ],
   "source": [
    "bakery_full_df[bakery_full_df['cluster'] == 3]"
   ]
  },
  {
   "cell_type": "code",
   "execution_count": 160,
   "metadata": {
    "ExecuteTime": {
     "end_time": "2020-07-08T13:57:00.838855Z",
     "start_time": "2020-07-08T13:57:00.805971Z"
    }
   },
   "outputs": [
    {
     "data": {
      "text/html": [
       "<div>\n",
       "<style scoped>\n",
       "    .dataframe tbody tr th:only-of-type {\n",
       "        vertical-align: middle;\n",
       "    }\n",
       "\n",
       "    .dataframe tbody tr th {\n",
       "        vertical-align: top;\n",
       "    }\n",
       "\n",
       "    .dataframe thead th {\n",
       "        text-align: right;\n",
       "    }\n",
       "</style>\n",
       "<table border=\"1\" class=\"dataframe\">\n",
       "  <thead>\n",
       "    <tr style=\"text-align: right;\">\n",
       "      <th></th>\n",
       "      <th>id</th>\n",
       "      <th>likes</th>\n",
       "      <th>dislike</th>\n",
       "      <th>rating</th>\n",
       "      <th>url</th>\n",
       "      <th>price</th>\n",
       "      <th>ok</th>\n",
       "      <th>ratingSignals</th>\n",
       "      <th>specials</th>\n",
       "      <th>tips</th>\n",
       "      <th>...</th>\n",
       "      <th>summary</th>\n",
       "      <th>name</th>\n",
       "      <th>lat</th>\n",
       "      <th>lng</th>\n",
       "      <th>categories</th>\n",
       "      <th>dist_lat</th>\n",
       "      <th>dist_lng</th>\n",
       "      <th>distance</th>\n",
       "      <th>latin_name</th>\n",
       "      <th>cluster</th>\n",
       "    </tr>\n",
       "  </thead>\n",
       "  <tbody>\n",
       "    <tr>\n",
       "      <th>0</th>\n",
       "      <td>4bfcf7b58992a593595fabb0</td>\n",
       "      <td>399</td>\n",
       "      <td>False</td>\n",
       "      <td>7.6</td>\n",
       "      <td>http://cafe-bakery.relax.by</td>\n",
       "      <td>2</td>\n",
       "      <td>False</td>\n",
       "      <td>601</td>\n",
       "      <td>0</td>\n",
       "      <td>142</td>\n",
       "      <td>...</td>\n",
       "      <td>This spot is popular</td>\n",
       "      <td>Бейкери дю Солей</td>\n",
       "      <td>53.876255</td>\n",
       "      <td>27.553004</td>\n",
       "      <td>Bakery</td>\n",
       "      <td>53.858930</td>\n",
       "      <td>27.538223</td>\n",
       "      <td>2159.566939</td>\n",
       "      <td>Bejkeri dju Solej</td>\n",
       "      <td>4</td>\n",
       "    </tr>\n",
       "    <tr>\n",
       "      <th>19</th>\n",
       "      <td>50f17208e4b08ef910e45079</td>\n",
       "      <td>326</td>\n",
       "      <td>False</td>\n",
       "      <td>8.8</td>\n",
       "      <td>http://moulin.relax.by</td>\n",
       "      <td>2</td>\n",
       "      <td>False</td>\n",
       "      <td>464</td>\n",
       "      <td>0</td>\n",
       "      <td>131</td>\n",
       "      <td>...</td>\n",
       "      <td>This spot is popular</td>\n",
       "      <td>Moulin</td>\n",
       "      <td>53.849716</td>\n",
       "      <td>27.477960</td>\n",
       "      <td>Bakery</td>\n",
       "      <td>53.871021</td>\n",
       "      <td>27.492966</td>\n",
       "      <td>2568.628695</td>\n",
       "      <td>Moulin</td>\n",
       "      <td>4</td>\n",
       "    </tr>\n",
       "    <tr>\n",
       "      <th>33</th>\n",
       "      <td>54fee005498e8e467263436b</td>\n",
       "      <td>340</td>\n",
       "      <td>False</td>\n",
       "      <td>7.0</td>\n",
       "      <td>http://www.cafezerno.by</td>\n",
       "      <td>2</td>\n",
       "      <td>False</td>\n",
       "      <td>588</td>\n",
       "      <td>0</td>\n",
       "      <td>103</td>\n",
       "      <td>...</td>\n",
       "      <td>This spot is popular</td>\n",
       "      <td>Зерно</td>\n",
       "      <td>53.908389</td>\n",
       "      <td>27.581433</td>\n",
       "      <td>Coffee Shop</td>\n",
       "      <td>53.902873</td>\n",
       "      <td>27.634289</td>\n",
       "      <td>3527.768989</td>\n",
       "      <td>Zerno</td>\n",
       "      <td>4</td>\n",
       "    </tr>\n",
       "  </tbody>\n",
       "</table>\n",
       "<p>3 rows × 22 columns</p>\n",
       "</div>"
      ],
      "text/plain": [
       "                          id  likes  dislike  rating  \\\n",
       "0   4bfcf7b58992a593595fabb0    399    False     7.6   \n",
       "19  50f17208e4b08ef910e45079    326    False     8.8   \n",
       "33  54fee005498e8e467263436b    340    False     7.0   \n",
       "\n",
       "                            url  price     ok  ratingSignals  specials  tips  \\\n",
       "0   http://cafe-bakery.relax.by      2  False            601         0   142   \n",
       "19       http://moulin.relax.by      2  False            464         0   131   \n",
       "33      http://www.cafezerno.by      2  False            588         0   103   \n",
       "\n",
       "    ...               summary              name        lat        lng  \\\n",
       "0   ...  This spot is popular  Бейкери дю Солей  53.876255  27.553004   \n",
       "19  ...  This spot is popular            Moulin  53.849716  27.477960   \n",
       "33  ...  This spot is popular             Зерно  53.908389  27.581433   \n",
       "\n",
       "     categories   dist_lat   dist_lng     distance         latin_name  cluster  \n",
       "0        Bakery  53.858930  27.538223  2159.566939  Bejkeri dju Solej        4  \n",
       "19       Bakery  53.871021  27.492966  2568.628695             Moulin        4  \n",
       "33  Coffee Shop  53.902873  27.634289  3527.768989              Zerno        4  \n",
       "\n",
       "[3 rows x 22 columns]"
      ]
     },
     "execution_count": 160,
     "metadata": {},
     "output_type": "execute_result"
    }
   ],
   "source": [
    "bakery_full_df[bakery_full_df['cluster'] == 4]"
   ]
  },
  {
   "cell_type": "code",
   "execution_count": 147,
   "metadata": {
    "ExecuteTime": {
     "end_time": "2020-07-08T13:49:27.172915Z",
     "start_time": "2020-07-08T13:49:27.056188Z"
    }
   },
   "outputs": [
    {
     "data": {
      "text/html": [
       "<div style=\"width:100%;\"><div style=\"position:relative;width:100%;height:0;padding-bottom:60%;\"><span style=\"color:#565656\">Make this Notebook Trusted to load map: File -> Trust Notebook</span><iframe src=\"about:blank\" style=\"position:absolute;width:100%;height:100%;left:0;top:0;border:none !important;\" data-html=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 onload=\"this.contentDocument.open();this.contentDocument.write(atob(this.getAttribute('data-html')));this.contentDocument.close();\" allowfullscreen webkitallowfullscreen mozallowfullscreen></iframe></div></div>"
      ],
      "text/plain": [
       "<folium.folium.Map at 0x2060e27a630>"
      ]
     },
     "execution_count": 147,
     "metadata": {},
     "output_type": "execute_result"
    }
   ],
   "source": [
    "map_minsk = folium.Map(location=[latitude, longitude], zoom_start=12) \n",
    "\n",
    "x = np.arange(kclusters)\n",
    "ys = [i + x + (i*x)**2 for i in range(kclusters)]\n",
    "colors_array = cm.rainbow(np.linspace(0, 1, len(ys)))\n",
    "rainbow = [colors.rgb2hex(i) for i in colors_array]\n",
    "\n",
    "markers_colors = []\n",
    "for lat, lng, name, cluster in zip(bakery_full_df['lat'],\n",
    "                                   bakery_full_df['lng'],\n",
    "                                   bakery_full_df['latin_name'],\n",
    "                                   bakery_full_df['cluster']):\n",
    "    label = folium.Popup(str(name) + ' Cluster ' + str(cluster), parse_html=True)\n",
    "    folium.CircleMarker(\n",
    "        [lat, lng],\n",
    "        radius=5,\n",
    "        popup=label,\n",
    "        color=rainbow[cluster-1],\n",
    "        fill=True,\n",
    "        fill_color=rainbow[cluster-1],\n",
    "        fill_opacity=0.7).add_to(map_minsk)  \n",
    "    \n",
    "map_minsk"
   ]
  },
  {
   "cell_type": "markdown",
   "metadata": {},
   "source": [
    "### Result and discussion section"
   ]
  },
  {
   "attachments": {},
   "cell_type": "markdown",
   "metadata": {},
   "source": [
    "    Answering to the question 'Which Minsk district really need more bakeries?' I should notice that most count of bakeries belong to the center of city and central district. And it's okay because most of cultural and evening life are using there, all European cities has the same statistic. But according to my question - bakery for me, it's firstly the morning coffee and croissant. And I defiantly recommend to open bakeries not in the center of city, but in the new districts far from the center. Really great example we can see at 'Moulin' bakeries which is according to the high 4 cluster. From all 87 Minsk's bakeries just 3 from it has 4 cluster and it place is situated to new district."
   ]
  },
  {
   "cell_type": "code",
   "execution_count": null,
   "metadata": {},
   "outputs": [],
   "source": []
  }
 ],
 "metadata": {
  "kernelspec": {
   "display_name": "Python 3",
   "language": "python",
   "name": "python3"
  },
  "language_info": {
   "codemirror_mode": {
    "name": "ipython",
    "version": 3
   },
   "file_extension": ".py",
   "mimetype": "text/x-python",
   "name": "python",
   "nbconvert_exporter": "python",
   "pygments_lexer": "ipython3",
   "version": "3.6.8"
  },
  "toc": {
   "base_numbering": 1,
   "nav_menu": {},
   "number_sections": true,
   "sideBar": true,
   "skip_h1_title": false,
   "title_cell": "Table of Contents",
   "title_sidebar": "Contents",
   "toc_cell": false,
   "toc_position": {},
   "toc_section_display": true,
   "toc_window_display": false
  }
 },
 "nbformat": 4,
 "nbformat_minor": 4
}
